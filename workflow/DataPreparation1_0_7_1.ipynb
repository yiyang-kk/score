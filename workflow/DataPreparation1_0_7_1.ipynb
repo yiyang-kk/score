{
 "cells": [
  {
   "cell_type": "markdown",
   "metadata": {},
   "source": [
    "# Import Libraries"
   ]
  },
  {
   "cell_type": "code",
   "execution_count": null,
   "metadata": {},
   "outputs": [],
   "source": [
    "import numpy as np\n",
    "import pandas as pd\n",
    "import gc\n",
    "import os\n",
    "\n",
    "import sys\n",
    "sys.path.insert(0, '../')\n",
    "import scoring\n",
    "#import importlib\n",
    "#importlib.reload(scoring.data_exploration)"
   ]
  },
  {
   "cell_type": "markdown",
   "metadata": {},
   "source": [
    "# Import Datasets"
   ]
  },
  {
   "cell_type": "markdown",
   "metadata": {},
   "source": [
    "## Static Datasets"
   ]
  },
  {
   "cell_type": "code",
   "execution_count": null,
   "metadata": {},
   "outputs": [],
   "source": [
    "df_main = pd.read_csv('demo_data/DemoVct_base.csv', sep = ',', decimal = '.', encoding = 'utf-8',\n",
    "                      low_memory=False, keep_default_na=False, na_values = [''])"
   ]
  },
  {
   "cell_type": "code",
   "execution_count": null,
   "metadata": {},
   "outputs": [],
   "source": [
    "df_static = pd.read_csv('demo_data/DemoVct_static.csv', sep = ',', decimal = '.', encoding = 'utf-8',\n",
    "                            low_memory=False, keep_default_na=False, na_values = [''])"
   ]
  },
  {
   "cell_type": "markdown",
   "metadata": {},
   "source": [
    "## Dynamic Datasets"
   ]
  },
  {
   "cell_type": "code",
   "execution_count": null,
   "metadata": {},
   "outputs": [],
   "source": [
    "df_persons_level1 = pd.read_csv('demo_data/DemoVct_persons.csv', sep=',', decimal='.', encoding='utf-8',\n",
    "                               low_memory=False, keep_default_na=False, na_values=[''])"
   ]
  },
  {
   "cell_type": "code",
   "execution_count": null,
   "metadata": {},
   "outputs": [],
   "source": [
    "df_prevappl_level1 = pd.read_csv('demo_data/DemoVct_prevAppl.csv', sep=',', decimal='.', encoding='utf-8',\n",
    "                                low_memory=False, keep_default_na=False, na_values=[''])"
   ]
  },
  {
   "cell_type": "markdown",
   "metadata": {},
   "source": [
    "### Example of Loading Datasets with Multiple Parts"
   ]
  },
  {
   "cell_type": "code",
   "execution_count": null,
   "metadata": {},
   "outputs": [],
   "source": [
    "df_documents_level1_part1 = pd.read_csv('demo_data/DemoVct_documents_p1.csv', sep=',', decimal='.', encoding='utf-8',\n",
    "                                       low_memory=False, keep_default_na=False, na_values=[''])\n",
    "df_documents_level1_part2 = pd.read_csv('demo_data/DemoVct_documents_p2.csv', sep=',', decimal='.', encoding='utf-8',\n",
    "                                       low_memory=False, keep_default_na=False, na_values=[''])\n",
    "df_documents_level1_part3 = pd.read_csv('demo_data/DemoVct_documents_p3.csv', sep=',', decimal='.', encoding='utf-8',\n",
    "                                       low_memory=False, keep_default_na=False, na_values=[''])"
   ]
  },
  {
   "cell_type": "code",
   "execution_count": null,
   "metadata": {},
   "outputs": [],
   "source": [
    "dataframes_concat = [df_documents_level1_part1, \n",
    "                     df_documents_level1_part2, \n",
    "                     df_documents_level1_part3]"
   ]
  },
  {
   "cell_type": "code",
   "execution_count": null,
   "metadata": {},
   "outputs": [],
   "source": [
    "df_documents_level1 = pd.concat(dataframes_concat)"
   ]
  },
  {
   "cell_type": "code",
   "execution_count": null,
   "metadata": {},
   "outputs": [],
   "source": [
    "for dfc in dataframes_concat:\n",
    "    del dfc\n",
    "gc.collect()"
   ]
  },
  {
   "cell_type": "markdown",
   "metadata": {},
   "source": [
    "## Dictionaries of All Datasets"
   ]
  },
  {
   "cell_type": "code",
   "execution_count": null,
   "metadata": {},
   "outputs": [],
   "source": [
    "dataframes_static = {'df_main': df_main, \n",
    "                     'df_static': df_static,\n",
    "                    }\n",
    "dataframes_dynamic = {'df_persons_level1': df_persons_level1,\n",
    "                      'df_prevappl_level1': df_prevappl_level1,\n",
    "                      'df_documents_level1': df_documents_level1,\n",
    "                     }\n",
    "dataframes_all = dict(dataframes_static, **dataframes_dynamic)"
   ]
  },
  {
   "cell_type": "markdown",
   "metadata": {},
   "source": [
    "# Missing and Distinct Values"
   ]
  },
  {
   "cell_type": "code",
   "execution_count": null,
   "metadata": {},
   "outputs": [],
   "source": [
    "from scoring.data_exploration import metadata_table\n",
    "dq_missing_distinct = pd.DataFrame()\n",
    "\n",
    "for df_name, dataframe in dataframes_all.items():\n",
    "    partial_result = metadata_table(dataframe)\n",
    "    partial_result['dataframe'] = df_name\n",
    "    dq_missing_distinct = pd.concat([dq_missing_distinct, partial_result]).reset_index(drop=True)"
   ]
  },
  {
   "cell_type": "code",
   "execution_count": null,
   "metadata": {},
   "outputs": [],
   "source": [
    "dq_missing_distinct.to_csv('dq_missing_distinct.csv', encoding='utf-8')\n",
    "display(dq_missing_distinct)"
   ]
  },
  {
   "cell_type": "markdown",
   "metadata": {},
   "source": [
    "# Deleting Variables"
   ]
  },
  {
   "cell_type": "markdown",
   "metadata": {},
   "source": [
    "## Set Variables not to Delete"
   ]
  },
  {
   "cell_type": "code",
   "execution_count": null,
   "metadata": {},
   "outputs": [],
   "source": [
    "metadata_variables = ['SKP_APPLICATION',\n",
    "                      'SKP_CREDIT_CASE',\n",
    "                      'SKP_CLIENT',\n",
    "                      'DATE_DECISION',\n",
    "                      'FLAG_FPD_30',\n",
    "                      'FLAG_SPD_30',\n",
    "                      'NUM_GROUP_POSITION',]"
   ]
  },
  {
   "cell_type": "code",
   "execution_count": null,
   "metadata": {},
   "outputs": [],
   "source": [
    "date_variables = ['DATE_BIRTH',\n",
    "                  'APPL_DATE',\n",
    "                  'SELLERPLACEDATECREATE']"
   ]
  },
  {
   "cell_type": "markdown",
   "metadata": {},
   "source": [
    "## Too Many Missing Values"
   ]
  },
  {
   "cell_type": "code",
   "execution_count": null,
   "metadata": {},
   "outputs": [],
   "source": [
    "min_fill_percentage = 5"
   ]
  },
  {
   "cell_type": "code",
   "execution_count": null,
   "metadata": {},
   "outputs": [],
   "source": [
    "for _, entry in dq_missing_distinct.iterrows():\n",
    "    if entry['name'] not in metadata_variables:\n",
    "        if entry['fill pct'] < min_fill_percentage:\n",
    "            if entry['name'] in dataframes_all[entry['dataframe']].columns:\n",
    "                dataframes_all[entry['dataframe']].drop(entry['name'], axis=1, inplace=True)\n",
    "                print('Table '+entry['dataframe']+': column '+entry['name']+' dropped.')"
   ]
  },
  {
   "cell_type": "markdown",
   "metadata": {},
   "source": [
    "## Not Enough Distinct Values"
   ]
  },
  {
   "cell_type": "code",
   "execution_count": null,
   "metadata": {},
   "outputs": [],
   "source": [
    "min_distinct_values = 2"
   ]
  },
  {
   "cell_type": "code",
   "execution_count": null,
   "metadata": {},
   "outputs": [],
   "source": [
    "for _, entry in dq_missing_distinct.iterrows():\n",
    "    if entry['name'] not in metadata_variables:\n",
    "        if entry['nunique'] < min_distinct_values:\n",
    "            if entry['name'] in dataframes_all[entry['dataframe']].columns:\n",
    "                dataframes_all[entry['dataframe']].drop(entry['name'], axis=1, inplace=True)\n",
    "                print('Table '+entry['dataframe']+': column '+entry['name']+' dropped.')"
   ]
  },
  {
   "cell_type": "markdown",
   "metadata": {},
   "source": [
    "## Too Many Distinct Values (Categorical)"
   ]
  },
  {
   "cell_type": "code",
   "execution_count": null,
   "metadata": {},
   "outputs": [],
   "source": [
    "max_distinct_categories = 20"
   ]
  },
  {
   "cell_type": "code",
   "execution_count": null,
   "metadata": {},
   "outputs": [],
   "source": [
    "for _, entry in dq_missing_distinct.iterrows():\n",
    "    if (entry['name'] not in metadata_variables) \\\n",
    "    and (entry['name'] not in date_variables) \\\n",
    "    and (entry['type'] in ('object', 'str', 'category')):\n",
    "        if entry['nunique'] > max_distinct_categories:\n",
    "            if entry['name'] in dataframes_all[entry['dataframe']].columns:\n",
    "                dataframes_all[entry['dataframe']].drop(entry['name'], axis=1, inplace=True)\n",
    "                print('Table '+entry['dataframe']+': column '+entry['name']+' dropped.')"
   ]
  },
  {
   "cell_type": "markdown",
   "metadata": {},
   "source": [
    "# NaN by Date"
   ]
  },
  {
   "cell_type": "markdown",
   "metadata": {},
   "source": [
    "## Create Month Column From Date in Main Table"
   ]
  },
  {
   "cell_type": "code",
   "execution_count": null,
   "metadata": {},
   "outputs": [],
   "source": [
    "date_column = 'DATE_DECISION'\n",
    "month_column = 'MONTH_DECISION'\n",
    "date_source_table = dataframes_all['df_main']\n",
    "date_column_format = '%Y-%m-%d'"
   ]
  },
  {
   "cell_type": "code",
   "execution_count": null,
   "metadata": {},
   "outputs": [],
   "source": [
    "date_source_table.loc[:,month_column] = pd.to_numeric(\n",
    "    pd.to_datetime(date_source_table[date_column], format=date_column_format).dt.strftime('%Y%m')\n",
    ")"
   ]
  },
  {
   "cell_type": "markdown",
   "metadata": {},
   "source": [
    "## NaN by Month Analysis"
   ]
  },
  {
   "cell_type": "code",
   "execution_count": null,
   "metadata": {},
   "outputs": [],
   "source": [
    "join_on_column = 'SKP_CREDIT_CASE'"
   ]
  },
  {
   "cell_type": "code",
   "execution_count": null,
   "metadata": {},
   "outputs": [],
   "source": [
    "from scoring.data_exploration import nan_share_development\n",
    "dq_nan_by_month = pd.DataFrame()\n",
    "\n",
    "for df_name, dataframe in dataframes_all.items():\n",
    "    if not os.path.exists(df_name):\n",
    "        os.makedirs(df_name)\n",
    "    if not dataframe.equals(date_source_table):\n",
    "        dataframe = pd.merge(dataframe, date_source_table[[join_on_column, month_column]],\n",
    "                              on=join_on_column, how='outer')\n",
    "    partial_result = nan_share_development(dataframe, month_column, make_images=True, show_images=False,\n",
    "                                           output_path = df_name+'/')\n",
    "    partial_result['dataframe'] = df_name\n",
    "    partial_result['column'] = partial_result.index\n",
    "    dq_nan_by_month = pd.concat([dq_nan_by_month, partial_result]).reset_index(drop=True)"
   ]
  },
  {
   "cell_type": "code",
   "execution_count": null,
   "metadata": {},
   "outputs": [],
   "source": [
    "dq_nan_by_month.to_csv('dq_nan_by_month.csv', encoding='utf-8')\n",
    "display(dq_nan_by_month)"
   ]
  },
  {
   "cell_type": "markdown",
   "metadata": {},
   "source": [
    "# Unique Values per Application"
   ]
  },
  {
   "cell_type": "code",
   "execution_count": null,
   "metadata": {},
   "outputs": [],
   "source": [
    "id_column = 'SKP_CREDIT_CASE'"
   ]
  },
  {
   "cell_type": "code",
   "execution_count": null,
   "metadata": {},
   "outputs": [],
   "source": [
    "from scoring.data_exploration import dynamic_diversity\n",
    "dq_dynamic_diversity = pd.DataFrame()\n",
    "\n",
    "for df_name, dataframe in dataframes_dynamic.items():\n",
    "    partial_result = dynamic_diversity(dataframe, id_column)\n",
    "    partial_result['dataframe'] = df_name\n",
    "    partial_result['column'] = partial_result.index\n",
    "    dq_dynamic_diversity = pd.concat([dq_dynamic_diversity, partial_result]).reset_index(drop=True)"
   ]
  },
  {
   "cell_type": "code",
   "execution_count": null,
   "metadata": {},
   "outputs": [],
   "source": [
    "dq_dynamic_diversity.to_csv('dq_dynamic_diversity.csv', encoding='utf-8')\n",
    "display(dq_dynamic_diversity)"
   ]
  },
  {
   "cell_type": "markdown",
   "metadata": {},
   "source": [
    "# Export Data"
   ]
  },
  {
   "cell_type": "code",
   "execution_count": null,
   "metadata": {},
   "outputs": [],
   "source": [
    "for df_name, dataframe in dataframes_all.items():\n",
    "    dataframe.to_csv('demo_data/prep1_'+df_name+'.csv', encoding='utf-8', index=False)"
   ]
  }
 ],
 "metadata": {
  "kernelspec": {
   "display_name": "Python 3",
   "language": "python",
   "name": "python3"
  },
  "language_info": {
   "codemirror_mode": {
    "name": "ipython",
    "version": 3
   },
   "file_extension": ".py",
   "mimetype": "text/x-python",
   "name": "python",
   "nbconvert_exporter": "python",
   "pygments_lexer": "ipython3",
   "version": "3.6.7"
  },
  "toc": {
   "base_numbering": 1,
   "nav_menu": {},
   "number_sections": true,
   "sideBar": true,
   "skip_h1_title": false,
   "title_cell": "Table of Contents",
   "title_sidebar": "Contents",
   "toc_cell": false,
   "toc_position": {},
   "toc_section_display": true,
   "toc_window_display": true
  },
  "varInspector": {
   "cols": {
    "lenName": 16,
    "lenType": 16,
    "lenVar": 40
   },
   "kernels_config": {
    "python": {
     "delete_cmd_postfix": "",
     "delete_cmd_prefix": "del ",
     "library": "var_list.py",
     "varRefreshCmd": "print(var_dic_list())"
    },
    "r": {
     "delete_cmd_postfix": ") ",
     "delete_cmd_prefix": "rm(",
     "library": "var_list.r",
     "varRefreshCmd": "cat(var_dic_list()) "
    }
   },
   "types_to_exclude": [
    "module",
    "function",
    "builtin_function_or_method",
    "instance",
    "_Feature"
   ],
   "window_display": false
  }
 },
 "nbformat": 4,
 "nbformat_minor": 2
}
