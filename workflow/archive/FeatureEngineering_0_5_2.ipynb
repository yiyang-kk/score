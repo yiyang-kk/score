{
 "cells": [
  {
   "cell_type": "code",
   "execution_count": null,
   "metadata": {},
   "outputs": [],
   "source": [
    "import numpy as np\n",
    "import pandas as pd\n",
    "pd.options.display.max_rows = 30\n",
    "pd.options.display.max_columns = 100"
   ]
  },
  {
   "cell_type": "code",
   "execution_count": null,
   "metadata": {},
   "outputs": [],
   "source": [
    "rawdata = pd.read_csv('rawsim2.csv',sep=',',decimal='.',encoding='ANSI',keep_default_na = False, na_values = [''])\n",
    "\n",
    "slicemeta = pd.read_csv('slicemeta2.csv',sep=',',decimal='.',encoding='ANSI')\n",
    "\n",
    "metadata = pd.read_csv('aggregations_metadata4.csv',sep=',',decimal='.',encoding='ANSI')\n",
    "agglist = pd.read_csv('aggregations_agglist5.csv',sep=',',decimal='.',encoding='ANSI')\n",
    "varcomb = pd.read_csv('varcomb2.csv',sep=',',decimal='.',encoding='ANSI')\n",
    "\n",
    "metadataR = pd.read_csv('aggregations_metadataR.csv',sep=',',decimal='.',encoding='ANSI')\n",
    "agglistR = pd.read_csv('aggregations_agglistR.csv',sep=',',decimal='.',encoding='ANSI')\n",
    "seglistR = pd.read_csv('aggregations_segmlist.csv',sep=',',decimal='.',encoding='ANSI')\n",
    "\n",
    "timesincemeta = pd.read_csv('timesincemeta2.csv',sep=',',decimal='.',encoding='ANSI')\n",
    "\n",
    "issomemeta = pd.read_csv('issomemeta.csv',sep=',',decimal='.',encoding='ANSI')\n",
    "\n",
    "intermeta = pd.read_csv('intermeta.csv',sep=',',decimal='.',encoding='ANSI')\n",
    "\n",
    "catmeta = pd.read_csv('catmeta.csv',sep=',',decimal='.',encoding='ANSI')\n",
    "catmetab = pd.read_csv('catmetab.csv',sep=',',decimal='.',encoding='ANSI')"
   ]
  },
  {
   "cell_type": "code",
   "execution_count": null,
   "metadata": {},
   "outputs": [],
   "source": [
    "import sys\n",
    "sys.path.insert(0, '../..')\n",
    "import scoring\n",
    "import scoring.feature_engineering"
   ]
  },
  {
   "cell_type": "code",
   "execution_count": null,
   "metadata": {},
   "outputs": [],
   "source": [
    "### RELOADING MODULE FOR TESTING PURPOSES\n",
    "#import importlib\n",
    "#importlib.reload(scoring)\n",
    "#importlib.reload(scoring.feature_engineering_files.feature_engineering_from_slice)\n",
    "#importlib.reload(scoring.feature_engineering_files.categorical_features)\n",
    "#importlib.reload(scoring.feature_engineering_files.interactions)\n",
    "#importlib.reload(scoring.feature_engineering_files.is_something)\n",
    "#importlib.reload(scoring.feature_engineering_files.slicer_order_assigner)\n",
    "#importlib.reload(scoring.feature_engineering_files.time_since_calc)\n",
    "#importlib.reload(scoring.feature_engineering_files.utils)\n",
    "#importlib.reload(scoring.feature_engineering)"
   ]
  },
  {
   "cell_type": "code",
   "execution_count": null,
   "metadata": {},
   "outputs": [],
   "source": [
    "display(rawdata)"
   ]
  },
  {
   "cell_type": "code",
   "execution_count": null,
   "metadata": {},
   "outputs": [],
   "source": [
    "from scoring.feature_engineering import OrderAssigner\n",
    "\n",
    "oa = OrderAssigner(time_name = 'TIME', \n",
    "                   time_max_name = 'TIME_APPLICATION',\n",
    "                   time_granularity = 'months',\n",
    "                   history_length = 6,\n",
    "                   time_format = '%Y-%m-%d %H:%M:%S',\n",
    "                   partition_name = None)\n",
    "oa.fit(rawdata)\n",
    "orderdata = oa.transform(rawdata)"
   ]
  },
  {
   "cell_type": "code",
   "execution_count": null,
   "metadata": {},
   "outputs": [],
   "source": [
    "print(oa.strsql_)\n",
    "display(orderdata)"
   ]
  },
  {
   "cell_type": "code",
   "execution_count": null,
   "metadata": {},
   "outputs": [],
   "source": [
    "from scoring.feature_engineering import FeatureEngineeringFromSlice\n",
    "\n",
    "fe1 = FeatureEngineeringFromSlice(id_name = 'ID_APPLICATION',\n",
    "                                  time_name = 'TIME_ORDER',\n",
    "                                  metadata = metadataR,\n",
    "                                  agglist = agglistR, \n",
    "                                  varcomb = None,\n",
    "                                  segm = seglistR,\n",
    "                                  max_time = 6,\n",
    "                                  min_fill_share = 0)\n",
    "fe1.fit(orderdata)\n",
    "transrawdata = fe1.transform(orderdata)"
   ]
  },
  {
   "cell_type": "code",
   "execution_count": null,
   "metadata": {},
   "outputs": [],
   "source": [
    "print(fe1.strsql_)\n",
    "display(transrawdata)"
   ]
  },
  {
   "cell_type": "code",
   "execution_count": null,
   "metadata": {},
   "outputs": [],
   "source": [
    "from scoring.feature_engineering import Slicer\n",
    "\n",
    "sl = Slicer(id_name = 'ID_APPLICATION',\n",
    "            time_name = 'TIME',\n",
    "            time_max_name = 'TIME_APPLICATION',\n",
    "            slicemeta = slicemeta,\n",
    "            time_granularity = 'months',\n",
    "            history_length = 6,\n",
    "            time_format = '%Y-%m-%d %H:%M:%S')\n",
    "sl.fit(rawdata)\n",
    "newdata = sl.transform(rawdata)"
   ]
  },
  {
   "cell_type": "code",
   "execution_count": null,
   "metadata": {},
   "outputs": [],
   "source": [
    "print(sl.strsql_)\n",
    "display(newdata)"
   ]
  },
  {
   "cell_type": "code",
   "execution_count": null,
   "metadata": {},
   "outputs": [],
   "source": [
    "from scoring.feature_engineering import FeatureEngineeringFromSlice\n",
    "\n",
    "fe2 = FeatureEngineeringFromSlice(id_name = 'ID_APPLICATION',\n",
    "                                  time_name = 'TIME_ORDER',\n",
    "                                  metadata = metadata,\n",
    "                                  agglist = agglist,\n",
    "                                  varcomb = varcomb,\n",
    "                                  segm = None,\n",
    "                                  max_time = 6,\n",
    "                                  min_fill_share = 0)\n",
    "fe2.fit(newdata)\n",
    "transdata = fe2.transform(newdata)"
   ]
  },
  {
   "cell_type": "code",
   "execution_count": null,
   "metadata": {},
   "outputs": [],
   "source": [
    "print(fe2.strsql_)\n",
    "display(transdata)"
   ]
  },
  {
   "cell_type": "code",
   "execution_count": null,
   "metadata": {},
   "outputs": [],
   "source": [
    "from scoring.feature_engineering import TimeSinceCalc\n",
    "\n",
    "tsc = TimeSinceCalc(id_name = 'ID_APPLICATION',\n",
    "                    time_name = 'TIME',\n",
    "                    time_max_name = 'TIME_APPLICATION',\n",
    "                    timesincemeta = timesincemeta,\n",
    "                    time_format='%Y-%m-%d %H:%M:%S',\n",
    "                    keyword='entry')\n",
    "tsc.fit(rawdata)\n",
    "ds = tsc.transform(rawdata)"
   ]
  },
  {
   "cell_type": "code",
   "execution_count": null,
   "metadata": {},
   "outputs": [],
   "source": [
    "print(tsc.strsql_)\n",
    "display(ds)"
   ]
  },
  {
   "cell_type": "code",
   "execution_count": null,
   "metadata": {},
   "outputs": [],
   "source": [
    "from scoring.feature_engineering import IsSomething\n",
    "\n",
    "iss = IsSomething(id_name = 'ID_APPLICATION',\n",
    "                  time_name = 'TIME_ORDER',\n",
    "                  issomemeta = issomemeta,\n",
    "                  max_time = np.inf)\n",
    "iss.fit(newdata)\n",
    "issomedata = iss.transform(newdata)"
   ]
  },
  {
   "cell_type": "code",
   "execution_count": null,
   "metadata": {},
   "outputs": [],
   "source": [
    "print(iss.strsql_)\n",
    "display(issomedata)"
   ]
  },
  {
   "cell_type": "code",
   "execution_count": null,
   "metadata": {},
   "outputs": [],
   "source": [
    "from scoring.feature_engineering import CategoricalFeatures\n",
    "\n",
    "ct = CategoricalFeatures(id_name = 'ID_APPLICATION', \n",
    "                         from_type = 'raw', \n",
    "                         catmeta = catmeta,\n",
    "                         slice_name = 'TIME_ORDER',\n",
    "                         time_name = 'TIME',\n",
    "                         time_max_name = 'TIME_APPLICATION',\n",
    "                         time_format = '%Y-%m-%d %H:%M:%S')\n",
    "ct.fit(orderdata)\n",
    "catdata = ct.transform(orderdata)"
   ]
  },
  {
   "cell_type": "code",
   "execution_count": null,
   "metadata": {},
   "outputs": [],
   "source": [
    "print(ct.strsql_)\n",
    "display(catdata)"
   ]
  },
  {
   "cell_type": "code",
   "execution_count": null,
   "metadata": {},
   "outputs": [],
   "source": [
    "from scoring.feature_engineering import CategoricalFeatures\n",
    "\n",
    "ctb = CategoricalFeatures(id_name = 'ID_APPLICATION', \n",
    "                          from_type = 'slice', \n",
    "                          catmeta = catmetab, \n",
    "                          slice_name = 'TIME_ORDER',\n",
    "                          time_name = None,\n",
    "                          time_max_name = None,\n",
    "                          time_format = '%Y-%m-%d %H:%M:%S')\n",
    "ctb.fit(newdata)\n",
    "catdatab = ctb.transform(newdata)"
   ]
  },
  {
   "cell_type": "code",
   "execution_count": null,
   "metadata": {},
   "outputs": [],
   "source": [
    "print(ctb.strsql_)\n",
    "display(catdatab)"
   ]
  },
  {
   "cell_type": "code",
   "execution_count": null,
   "metadata": {},
   "outputs": [],
   "source": [
    "from scoring.feature_engineering import Interactions\n",
    "\n",
    "itr = Interactions(id_name = 'ID_APPLICATION',\n",
    "                   intermeta = intermeta)\n",
    "itr.fit(rawdata)\n",
    "itrdata = itr.transform(rawdata)"
   ]
  },
  {
   "cell_type": "code",
   "execution_count": null,
   "metadata": {},
   "outputs": [],
   "source": [
    "print(itr.strsql_)\n",
    "display(itrdata)"
   ]
  },
  {
   "cell_type": "code",
   "execution_count": null,
   "metadata": {},
   "outputs": [],
   "source": []
  }
 ],
 "metadata": {
  "kernelspec": {
   "display_name": "Python 3",
   "language": "python",
   "name": "python3"
  },
  "language_info": {
   "codemirror_mode": {
    "name": "ipython",
    "version": 3
   },
   "file_extension": ".py",
   "mimetype": "text/x-python",
   "name": "python",
   "nbconvert_exporter": "python",
   "pygments_lexer": "ipython3",
   "version": "3.6.5"
  },
  "toc": {
   "base_numbering": 1,
   "nav_menu": {},
   "number_sections": true,
   "sideBar": true,
   "skip_h1_title": false,
   "title_cell": "Table of Contents",
   "title_sidebar": "Contents",
   "toc_cell": false,
   "toc_position": {},
   "toc_section_display": true,
   "toc_window_display": false
  },
  "varInspector": {
   "cols": {
    "lenName": 16,
    "lenType": 16,
    "lenVar": 40
   },
   "kernels_config": {
    "python": {
     "delete_cmd_postfix": "",
     "delete_cmd_prefix": "del ",
     "library": "var_list.py",
     "varRefreshCmd": "print(var_dic_list())"
    },
    "r": {
     "delete_cmd_postfix": ") ",
     "delete_cmd_prefix": "rm(",
     "library": "var_list.r",
     "varRefreshCmd": "cat(var_dic_list()) "
    }
   },
   "position": {
    "height": "596px",
    "left": "1535px",
    "right": "20px",
    "top": "73px",
    "width": "350px"
   },
   "types_to_exclude": [
    "module",
    "function",
    "builtin_function_or_method",
    "instance",
    "_Feature"
   ],
   "window_display": true
  }
 },
 "nbformat": 4,
 "nbformat_minor": 2
}
