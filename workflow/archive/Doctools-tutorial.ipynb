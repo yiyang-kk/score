{
 "cells": [
  {
   "cell_type": "code",
   "execution_count": null,
   "metadata": {},
   "outputs": [],
   "source": [
    "import doctools as d\n",
    "import pandas as pd\n",
    "import numpy as np"
   ]
  },
  {
   "cell_type": "markdown",
   "metadata": {},
   "source": [
    "# Preparing the data"
   ]
  },
  {
   "cell_type": "code",
   "execution_count": null,
   "metadata": {},
   "outputs": [],
   "source": [
    "cd Desktop"
   ]
  },
  {
   "cell_type": "code",
   "execution_count": null,
   "metadata": {},
   "outputs": [],
   "source": [
    "df = pd.read_csv('exported_acl_data_for_Vitek2.csv')\n",
    "df = df.rename(columns={'PROPOSED_SCORE':'HCPAY_GEN1',\n",
    "                        'GEN3_V1_SCORE':'ACL_GEN3',\n",
    "                       u'A45_m_ratio_cnt_partner_Loan_Imbank_all_wcl_14pd30_bin_woe': u'A45_m_ratio_cnt_partner_Loan_Imbank_all_woe',\n",
    "                       'A45_i_freq_riskrank_2_30day_acl_1pd30_bin_woe': 'A45_i_freq_riskrank_2_30day_woe',\n",
    "                        u'A45_i_ratio_cnt_partner_Loan_con_all_acl_1pd30_bin_woe': u'A45_i_ratio_cnt_partner_Loan_con_all_woe',\n",
    "                        'A42_ZM_SCORE_acl_on_14pd30_bin_woe2': 'A42_ZM_SCORE_woe2'\n",
    "                       })"
   ]
  },
  {
   "cell_type": "code",
   "execution_count": null,
   "metadata": {},
   "outputs": [],
   "source": [
    "def a45_m_ratio(x):\n",
    "    if np.abs((x - 0.450050))<=0.001:\n",
    "        return 'x < 0.6567 or x is missing'\n",
    "    else:\n",
    "        return 'x >= 0.6567'\n",
    "    \n",
    "def a45_i_freq(x):\n",
    "    if np.abs((x- 0.905324))<=0.001:\n",
    "        return 'x is missing'\n",
    "    else:\n",
    "        return 'x is not missing'    \n",
    "    \n",
    "def a45_i_ratio(x):\n",
    "    if np.abs((x -(-0.222326)))<=0.001:\n",
    "        return 'x < 0.35855 or x is missing'\n",
    "    else:\n",
    "        return 'x >= 0.35855'    \n",
    "    \n",
    "def zh(x):\n",
    "    if x==0:\n",
    "        return 'x is missing'\n",
    "    if np.abs(x - (-0.102122)) <=0.001:\n",
    "        return 'x < 650'\n",
    "    else:\n",
    "        return 'x >= 650'    "
   ]
  },
  {
   "cell_type": "code",
   "execution_count": null,
   "metadata": {},
   "outputs": [],
   "source": [
    "df[u'A45_m_ratio_cnt_partner_Loan_Imbank_all_grp'] = df[u'A45_m_ratio_cnt_partner_Loan_Imbank_all_woe'].apply(a45_m_ratio)\n",
    "df[u'A45_i_freq_riskrank_2_30day_grp'] = df[u'A45_i_freq_riskrank_2_30day_woe'].apply(a45_i_freq)\n",
    "df[u'A45_i_ratio_cnt_partner_Loan_con_all_grp'] = df[u'A45_i_ratio_cnt_partner_Loan_con_all_woe'].apply(a45_i_ratio)\n",
    "df[u'A42_ZM_SCORE_grp'] = df['A42_ZM_SCORE_woe2'].apply(zh)"
   ]
  },
  {
   "cell_type": "code",
   "execution_count": null,
   "metadata": {},
   "outputs": [],
   "source": [
    "for sample in [df]:\n",
    "    sample['DATE_DECISION'] = pd.to_datetime(sample['DATE_DECISION'], format='%Y-%m-%d')\n",
    "    sample['WEEK_DECISION'] = sample['DATE_DECISION'].apply(lambda x: str(x.year*100+x.week))\n",
    "    sample['MONTH_DECISION'] = sample['DATE_DECISION'].apply(lambda x: str(x.year*100+x.month))"
   ]
  },
  {
   "cell_type": "code",
   "execution_count": null,
   "metadata": {},
   "outputs": [],
   "source": [
    "acl_train = df[df['acl_on_type']=='train']\n",
    "acl_test = df[df['acl_on_type']=='test']\n",
    "acl_oot= df[df['acl_on_type']=='oot']"
   ]
  },
  {
   "cell_type": "markdown",
   "metadata": {},
   "source": [
    "# 1. Setting up the project"
   ]
  },
  {
   "cell_type": "code",
   "execution_count": null,
   "metadata": {},
   "outputs": [],
   "source": [
    "# initializing the documentatino project configuration\n",
    "pp = d.ProjectParameters()\n",
    "\n",
    "pp.sample_dict = {\n",
    "               'ACL_TRAIN': acl_train,\n",
    "               'ACL_TEST': acl_test,\n",
    "                'ACL_OOT': acl_oot\n",
    "              }\n",
    "pp.sample_ordering = ['ACL_TRAIN','ACL_TEST','ACL_OOT']\n",
    "\n",
    "\n",
    "pp.targets = [\n",
    "                 ('FSTQPD30', 'FSTQPD30_AGR'),\n",
    "                 ('N1PD30','N1PD30_AGR')\n",
    "]\n",
    "\n",
    "pp.scores = ['HCPAY_GEN1','ACL_GEN3']\n",
    "\n",
    "pp.predictors_continuous = ['CM_SCORE_LOGSCORE', 'UMENG_LARGE_LOGSCORE', 'PBOC_GEN4_LOGSCORE2', u'A8_FINALSCORE']\n",
    "\n",
    "pp.predictors_grouped = [u'A45_m_ratio_cnt_partner_Loan_Imbank_all_grp',\n",
    "                         'A45_i_freq_riskrank_2_30day_grp',\n",
    "                         u'A45_i_ratio_cnt_partner_Loan_con_all_grp',\n",
    "                        'A42_ZM_SCORE_grp']\n",
    "\n",
    "pp.predictors_woe = [u'A45_m_ratio_cnt_partner_Loan_Imbank_all_woe',\n",
    "                         'A45_i_freq_riskrank_2_30day_woe',\n",
    "                         u'A45_i_ratio_cnt_partner_Loan_con_all_woe',\n",
    "                        'A42_ZM_SCORE_woe2']\n",
    "\n",
    "pp.rowid_variable = 'SKP_CREDIT_CASE'\n",
    "pp.time_variable = 'MONTH_DECISION'\n",
    "\n",
    "pd.options.display.max_columns = 100\n",
    "pd.options.mode.chained_assignment = None"
   ]
  },
  {
   "cell_type": "code",
   "execution_count": null,
   "metadata": {},
   "outputs": [],
   "source": [
    "pd.options.display.max_columns = 100\n",
    "pd.options.mode.chained_assignment = None"
   ]
  },
  {
   "cell_type": "markdown",
   "metadata": {},
   "source": [
    "#"
   ]
  },
  {
   "cell_type": "markdown",
   "metadata": {},
   "source": [
    "# 2. Ad-hoc use"
   ]
  },
  {
   "cell_type": "markdown",
   "metadata": {},
   "source": [
    "## 2.1 Sample description"
   ]
  },
  {
   "cell_type": "code",
   "execution_count": null,
   "metadata": {},
   "outputs": [],
   "source": [
    "sdc = d.SampleDescriptionCalculator(pp)"
   ]
  },
  {
   "cell_type": "code",
   "execution_count": null,
   "metadata": {},
   "outputs": [],
   "source": [
    "sdc = sdc.s([(acl_train,'ACL_TRAIN')]).calculate()"
   ]
  },
  {
   "cell_type": "code",
   "execution_count": null,
   "metadata": {},
   "outputs": [],
   "source": [
    "sdc.get_description()"
   ]
  },
  {
   "cell_type": "code",
   "execution_count": null,
   "metadata": {},
   "outputs": [],
   "source": [
    "sdc.get_table()"
   ]
  },
  {
   "cell_type": "markdown",
   "metadata": {},
   "source": [
    "## 2.2 Evaluation of grouped predictors"
   ]
  },
  {
   "cell_type": "code",
   "execution_count": null,
   "metadata": {},
   "outputs": [],
   "source": [
    "gec = d.GroupingEvaluationCalculator(pp)\n",
    "gec = gec.s([(acl_train,'ACL_TRAIN')]).p(['A42_ZM_SCORE_grp']).t([('FSTQPD30','FSTQPD30_AGR')]).calculate()"
   ]
  },
  {
   "cell_type": "code",
   "execution_count": null,
   "metadata": {},
   "outputs": [],
   "source": [
    "gec.get_description()"
   ]
  },
  {
   "cell_type": "code",
   "execution_count": null,
   "metadata": {},
   "outputs": [],
   "source": [
    "gec.get_visualization().get_table()"
   ]
  },
  {
   "cell_type": "markdown",
   "metadata": {},
   "source": [
    "## 2.3 Evaluation of continuous predictors"
   ]
  },
  {
   "cell_type": "code",
   "execution_count": null,
   "metadata": {},
   "outputs": [],
   "source": [
    "cec = d.ContinuousEvaluationCalculator(pp)\n",
    "cec = cec.s([(acl_train,'ACL_TRAIN')]).p(['CM_SCORE_LOGSCORE']).t([('FSTQPD30','FSTQPD30_AGR')]).calculate()"
   ]
  },
  {
   "cell_type": "code",
   "execution_count": null,
   "metadata": {},
   "outputs": [],
   "source": [
    "cec.get_visualization().get_table()"
   ]
  },
  {
   "cell_type": "markdown",
   "metadata": {},
   "source": [
    "## 2.4.a Score comparison"
   ]
  },
  {
   "cell_type": "code",
   "execution_count": null,
   "metadata": {},
   "outputs": [],
   "source": [
    "scc = d.ScoreComparisonCalculator(pp)\n",
    "scc = scc.s([(acl_train,'ACL_TRAIN')]).p(['ACL_GEN3','HCPAY_GEN1','A42_ZM_SCORE']).t([('FSTQPD30','FSTQPD30_AGR')]).calculate()"
   ]
  },
  {
   "cell_type": "code",
   "execution_count": null,
   "metadata": {},
   "outputs": [],
   "source": [
    "scc.get_description()"
   ]
  },
  {
   "cell_type": "code",
   "execution_count": null,
   "metadata": {},
   "outputs": [],
   "source": [
    "scc.get_visualization().get_table()"
   ]
  },
  {
   "cell_type": "markdown",
   "metadata": {},
   "source": [
    "## 2.4.b Gini performance of m"
   ]
  },
  {
   "cell_type": "markdown",
   "metadata": {},
   "source": [
    "#### Multiple predictors on single target"
   ]
  },
  {
   "cell_type": "code",
   "execution_count": null,
   "metadata": {},
   "outputs": [],
   "source": [
    "pgt = d.PredictorGiniInTimeCalculator(pp)\n",
    "pgt = pgt.s([(acl_train,'ACL_TRAIN')]).p(['ACL_GEN3','HCPAY_GEN1','A42_ZM_SCORE']).t([('FSTQPD30','FSTQPD30_AGR')]).calculate()"
   ]
  },
  {
   "cell_type": "code",
   "execution_count": null,
   "metadata": {},
   "outputs": [],
   "source": [
    "pgt.get_description()"
   ]
  },
  {
   "cell_type": "code",
   "execution_count": null,
   "metadata": {},
   "outputs": [],
   "source": [
    "pgt.get_visualization().get_table()"
   ]
  },
  {
   "cell_type": "markdown",
   "metadata": {},
   "source": [
    "#### Single predictor on multiple targets"
   ]
  },
  {
   "cell_type": "code",
   "execution_count": null,
   "metadata": {},
   "outputs": [],
   "source": [
    "pgt = d.PredictorGiniInTimeCalculator(pp)\n",
    "pgt = pgt.s([(acl_train,'ACL_TRAIN')]).p(['ACL_GEN3']).t([('FSTQPD30','FSTQPD30_AGR'),('N1PD30','N1PD30_AGR')]).calculate()"
   ]
  },
  {
   "cell_type": "code",
   "execution_count": null,
   "metadata": {},
   "outputs": [],
   "source": [
    "pgt.get_visualization().get_table()"
   ]
  },
  {
   "cell_type": "markdown",
   "metadata": {},
   "source": [
    "#### Multiple predictors on multiple targets"
   ]
  },
  {
   "cell_type": "code",
   "execution_count": null,
   "metadata": {},
   "outputs": [],
   "source": [
    "pgt = d.PredictorGiniInTimeCalculator(pp)\n",
    "pgt = pgt.s([(acl_train,'ACL_TRAIN')]).p(['ACL_GEN3','HCPAY_GEN1','A42_ZM_SCORE']).t([('FSTQPD30','FSTQPD30_AGR'),('N1PD30','N1PD30_AGR')]).calculate()"
   ]
  },
  {
   "cell_type": "code",
   "execution_count": null,
   "metadata": {},
   "outputs": [],
   "source": [
    "pgt.get_visualization().get_table()"
   ]
  },
  {
   "cell_type": "markdown",
   "metadata": {},
   "source": [
    "\n",
    "## 2.5 Marginal contributions"
   ]
  },
  {
   "cell_type": "code",
   "execution_count": null,
   "metadata": {},
   "outputs": [],
   "source": [
    "predictors = pp.predictors_continuous + pp.predictors_woe\n",
    "current_score = pp.scores[0]"
   ]
  },
  {
   "cell_type": "code",
   "execution_count": null,
   "metadata": {},
   "outputs": [],
   "source": [
    "predictors = pp.predictors_continuous + pp.predictors_woe\n",
    "current_score = pp.scores[0]\n",
    "\n",
    "mcc = d.MarginalContributionsCalculator(pp)\n",
    "mcc = mcc.s([(pp.sample_dict[sample], sample) for sample in pp.sample_ordering]).t(pp.targets).p(predictors).sc([current_score])\n",
    "mcc.calculate().get_table()"
   ]
  },
  {
   "cell_type": "markdown",
   "metadata": {},
   "source": [
    "## 2.6 Transition matrix"
   ]
  },
  {
   "cell_type": "code",
   "execution_count": null,
   "metadata": {},
   "outputs": [],
   "source": [
    "tc = d.TransitionCalculator(pp)\n",
    "tc = tc.s([(acl_train,'ACL_TRAIN')]).sc(pp.scores)\n",
    "tc.calculate().get_table()"
   ]
  },
  {
   "cell_type": "markdown",
   "metadata": {},
   "source": [
    "## 2.7 Correlation matrix"
   ]
  },
  {
   "cell_type": "code",
   "execution_count": null,
   "metadata": {},
   "outputs": [],
   "source": [
    "predictors = pp.predictors_continuous + pp.predictors_woe\n",
    "\n",
    "cc = d.CorrelationCalculator(pp)\n",
    "cc = cc.s([(acl_train,'ACL_TRAIN')]).p(predictors)\n",
    "cc.calculate().get_table()"
   ]
  },
  {
   "cell_type": "markdown",
   "metadata": {},
   "source": [
    "# "
   ]
  },
  {
   "cell_type": "markdown",
   "metadata": {},
   "source": [
    "# "
   ]
  },
  {
   "cell_type": "markdown",
   "metadata": {},
   "source": [
    "# 3. Automated use"
   ]
  },
  {
   "cell_type": "code",
   "execution_count": null,
   "metadata": {},
   "outputs": [],
   "source": [
    "ep = d.StandardExecutionPlan(pp)"
   ]
  },
  {
   "cell_type": "code",
   "execution_count": null,
   "metadata": {},
   "outputs": [],
   "source": [
    "ep.calculate()"
   ]
  },
  {
   "cell_type": "code",
   "execution_count": null,
   "metadata": {},
   "outputs": [],
   "source": [
    "ep.print_title('HCPAY GEN1 SCORECARD DOCUMENTATION')\n",
    "ep.print_summary()\n",
    "ep.print_documentation()"
   ]
  },
  {
   "cell_type": "markdown",
   "metadata": {},
   "source": [
    "#  4. Exporting results"
   ]
  },
  {
   "cell_type": "code",
   "execution_count": null,
   "metadata": {},
   "outputs": [],
   "source": [
    "%%javascript\n",
    "IPython.notebook.kernel.execute('nb_name = ' + '\"' + IPython.notebook.notebook_name + '\"')"
   ]
  },
  {
   "cell_type": "code",
   "execution_count": null,
   "metadata": {},
   "outputs": [],
   "source": [
    "e = d.Exporter()\n",
    "e.export(nb_name)"
   ]
  },
  {
   "cell_type": "code",
   "execution_count": null,
   "metadata": {},
   "outputs": [],
   "source": []
  }
 ],
 "metadata": {
  "anaconda-cloud": {},
  "kernelspec": {
   "display_name": "Python 3",
   "language": "python",
   "name": "python3"
  },
  "language_info": {
   "codemirror_mode": {
    "name": "ipython",
    "version": 3
   },
   "file_extension": ".py",
   "mimetype": "text/x-python",
   "name": "python",
   "nbconvert_exporter": "python",
   "pygments_lexer": "ipython3",
   "version": "3.5.3"
  }
 },
 "nbformat": 4,
 "nbformat_minor": 2
}
