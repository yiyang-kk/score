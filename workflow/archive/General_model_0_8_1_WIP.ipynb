{
 "cells": [
  {
   "cell_type": "markdown",
   "metadata": {},
   "source": [
    "<span style=\"font-size:30pt;font-weight:bold\">General Model Workflow</font>\n",
    "\n",
    "**Copyright:**\n",
    "\n",
    "© 2017-2020, Pavel Sůva, Marek Teller, Martin Kotek, Jan Zeller, Marek Mukenšnabl, Kirill Odintsov, Jan Hynek, Elena Kuchina and Home Credit & Finance Bank Limited Liability Company, Moscow, Russia – all rights reserved\n",
    "\n",
    "Licensed under the Apache License, Version 2.0 (the \"License\");\n",
    "you may not use this file except in compliance with the [License](http://www.apache.org/licenses/LICENSE-2.0)\n",
    "\n",
    "Unless required by applicable law or agreed to in writing, software\n",
    "distributed under the License is distributed on an \"AS IS\" BASIS,\n",
    "WITHOUT WARRANTIES OR CONDITIONS OF ANY KIND, either express or implied.\n",
    "See the License for the specific language governing permissions and\n",
    "limitations under the License.\n",
    "\n",
    "For list of contributors see [Gitlab page](https://git.homecredit.net/risk/python-scoring-workflow) "
   ]
  },
  {
   "cell_type": "markdown",
   "metadata": {},
   "source": [
    "# Import packages, configure environment\n",
    "\n",
    "For this workflow to work, you need to install some non-standard python packages that are not in standard Anaconda distribution - mainly widgets for GUI of some parts of this workflow:\n",
    "\n",
    "`conda install ipywidgets`\n",
    "\n",
    "`jupyter nbextension enable --py --sys-prefix widgetsnbextension`\n",
    "\n",
    "`conda config --add channels conda-forge`\n",
    "\n",
    "`conda install qgrid` \n",
    "\n",
    "`jupyter nbextension enable --py --sys-prefix qgrid`\n",
    "\n",
    "`conda install tqdm`"
   ]
  },
  {
   "cell_type": "code",
   "execution_count": 1,
   "metadata": {
    "ExecuteTime": {
     "end_time": "2020-09-09T06:20:10.965089Z",
     "start_time": "2020-09-09T06:20:09.877897Z"
    }
   },
   "outputs": [],
   "source": [
    "import time\n",
    "import datetime\n",
    "import math\n",
    "import random\n",
    "import numpy as np\n",
    "import pandas as pd\n",
    "import sklearn\n",
    "import matplotlib\n",
    "import matplotlib.pyplot as plt\n",
    "import seaborn as sns\n",
    "import os.path\n",
    "import pickle\n",
    "import gc\n",
    "from tqdm import tqdm_notebook as tqdm\n",
    "import sys\n",
    "import warnings\n",
    "\n",
    "sys.path.insert(0, '..')\n",
    "import scoring\n",
    "\n",
    "from scipy.special import logit, expit\n",
    "from sklearn.metrics import roc_auc_score\n",
    "from sklearn.model_selection import StratifiedKFold\n",
    "from sklearn.linear_model import LogisticRegression"
   ]
  },
  {
   "cell_type": "code",
   "execution_count": 2,
   "metadata": {
    "ExecuteTime": {
     "end_time": "2020-09-09T06:20:10.993524Z",
     "start_time": "2020-09-09T06:20:10.965089Z"
    }
   },
   "outputs": [
    {
     "data": {
      "text/html": [
       "<div class=\"alert alert-block alert-danger\">    <b>WARNING</b>: <br />Your pandas module is version 1.1.0. PSW requires exactly 0.25.3</div>"
      ],
      "text/plain": [
       "<IPython.core.display.HTML object>"
      ]
     },
     "metadata": {},
     "output_type": "display_data"
    }
   ],
   "source": [
    "sns.set()\n",
    "%matplotlib inline\n",
    "%config InlineBackend.close_figures=True\n",
    "from IPython.display import display, Markdown\n",
    "pd.options.display.max_columns = None\n",
    "pd.options.display.max_rows = 15\n",
    "output_folder = 'documentation'\n",
    "\n",
    "if not os.path.exists(output_folder): os.makedirs(output_folder)\n",
    "if not os.path.exists(output_folder+'/performance'): os.makedirs(output_folder+'/performance')\n",
    "if not os.path.exists(output_folder+'/predictors'): os.makedirs(output_folder+'/predictors')\n",
    "if not os.path.exists(output_folder+'/stability'): os.makedirs(output_folder+'/stability')\n",
    "if not os.path.exists(output_folder+'/stability_short'): os.makedirs(output_folder+'/stability_short')\n",
    "if not os.path.exists(output_folder+'/analysis'): os.makedirs(output_folder+'/analysis')\n",
    "if not os.path.exists(output_folder+'/model'): os.makedirs(output_folder+'/model')\n",
    "if not os.path.exists(output_folder+'/nan_share'): os.makedirs(output_folder+'/nan_share')\n",
    "scoring.check_version('0.8.0')"
   ]
  },
  {
   "cell_type": "code",
   "execution_count": 3,
   "metadata": {
    "ExecuteTime": {
     "end_time": "2020-09-09T06:20:10.998510Z",
     "start_time": "2020-09-09T06:20:10.994521Z"
    }
   },
   "outputs": [],
   "source": [
    "# import importlib\n",
    "# importlib.reload(scoring.doctools.calculators)\n",
    "# importlib.reload(scoring.doctools)\n",
    "# importlib.reload(scoring)\n",
    "# import scoring"
   ]
  },
  {
   "cell_type": "code",
   "execution_count": 4,
   "metadata": {
    "ExecuteTime": {
     "end_time": "2020-09-09T06:20:11.439838Z",
     "start_time": "2020-09-09T06:20:10.999509Z"
    }
   },
   "outputs": [],
   "source": [
    "from scoring import doctools\n",
    "\n",
    "documentation = doctools.ProjectParameters()"
   ]
  },
  {
   "cell_type": "markdown",
   "metadata": {},
   "source": [
    "# Input data\n",
    "\n",
    "## Import data\n",
    "\n",
    "Importing data from a CSV file. It is important to set the following parameters:\n",
    "\n",
    "encoding: usually 'utf-8' or windows-xxxx on Windows machines, where xxxx is 1250 for Central Europe, 1251 for Cyrilic etc.\n",
    "sep: separator of columns in the file\n",
    "decimal: decimal dot or coma\n",
    "index_col: which columns is used as index - should be the unique credit case identifier\n",
    "\n",
    "**Defining NA values:** In different datasets, there can be different values to be considered *N/A*. By default, we set only blank fields to be considered *N/A*, however you might want to change it and add values like *'NA'*, *'NAN'*, *'null'* to be also considered *N/A*. User parameter `na_values` for this.\n",
    "\n",
    "The data need to have **index column which has unique value per each row**. If not, it will cause problems later."
   ]
  },
  {
   "cell_type": "code",
   "execution_count": 5,
   "metadata": {
    "ExecuteTime": {
     "end_time": "2020-09-09T06:20:11.585851Z",
     "start_time": "2020-09-09T06:20:11.440844Z"
    }
   },
   "outputs": [
    {
     "name": "stdout",
     "output_type": "stream",
     "text": [
      "Data loaded on 2020-09-09 08:20:11\n"
     ]
    }
   ],
   "source": [
    "from scoring import db\n",
    "data = db.read_csv(r'demo_data\\gmdata.CSV', sep = ',', decimal = '.',\n",
    "                   optimize_types=True, encoding = 'utf-8', low_memory = False,\n",
    "                   keep_default_na = False, na_values = [''])\n",
    "print('Data loaded on',datetime.datetime.fromtimestamp(time.time()).strftime('%Y-%m-%d %H:%M:%S'))"
   ]
  },
  {
   "cell_type": "code",
   "execution_count": 6,
   "metadata": {
    "ExecuteTime": {
     "end_time": "2020-09-09T06:20:11.590840Z",
     "start_time": "2020-09-09T06:20:11.586803Z"
    }
   },
   "outputs": [
    {
     "name": "stdout",
     "output_type": "stream",
     "text": [
      "Number of rows: 19976\n",
      "Number of columns: 12\n"
     ]
    }
   ],
   "source": [
    "print('Number of rows:',data.shape[0])\n",
    "print('Number of columns:',data.shape[1])"
   ]
  },
  {
   "cell_type": "code",
   "execution_count": 7,
   "metadata": {
    "ExecuteTime": {
     "end_time": "2020-09-09T06:20:11.612722Z",
     "start_time": "2020-09-09T06:20:11.591778Z"
    }
   },
   "outputs": [
    {
     "data": {
      "text/html": [
       "<div>\n",
       "<style scoped>\n",
       "    .dataframe tbody tr th:only-of-type {\n",
       "        vertical-align: middle;\n",
       "    }\n",
       "\n",
       "    .dataframe tbody tr th {\n",
       "        vertical-align: top;\n",
       "    }\n",
       "\n",
       "    .dataframe thead th {\n",
       "        text-align: right;\n",
       "    }\n",
       "</style>\n",
       "<table border=\"1\" class=\"dataframe\">\n",
       "  <thead>\n",
       "    <tr style=\"text-align: right;\">\n",
       "      <th></th>\n",
       "      <th>ID</th>\n",
       "      <th>DATETIME</th>\n",
       "      <th>INTERNAL</th>\n",
       "      <th>TELCO_A</th>\n",
       "      <th>TELCO_B</th>\n",
       "      <th>BUREAU_X</th>\n",
       "      <th>BUREAU_Y</th>\n",
       "      <th>BUREAU_Y_STATUS</th>\n",
       "      <th>UTILITY</th>\n",
       "      <th>DEVICE</th>\n",
       "      <th>APPROVED</th>\n",
       "      <th>FPD30</th>\n",
       "    </tr>\n",
       "  </thead>\n",
       "  <tbody>\n",
       "    <tr>\n",
       "      <th>0</th>\n",
       "      <td>100001</td>\n",
       "      <td>2017-01-01 00:16:26</td>\n",
       "      <td>5.206850</td>\n",
       "      <td>NaN</td>\n",
       "      <td>60.0</td>\n",
       "      <td>-2.0</td>\n",
       "      <td>NaN</td>\n",
       "      <td>NO-ASK</td>\n",
       "      <td>GOOD</td>\n",
       "      <td>NaN</td>\n",
       "      <td>1.0</td>\n",
       "      <td>0.0</td>\n",
       "    </tr>\n",
       "    <tr>\n",
       "      <th>1</th>\n",
       "      <td>100002</td>\n",
       "      <td>2017-01-01 00:21:21</td>\n",
       "      <td>3.128133</td>\n",
       "      <td>0.065593</td>\n",
       "      <td>NaN</td>\n",
       "      <td>NaN</td>\n",
       "      <td>NaN</td>\n",
       "      <td>NO-ASK</td>\n",
       "      <td>DEBTOR</td>\n",
       "      <td>NaN</td>\n",
       "      <td>1.0</td>\n",
       "      <td>0.0</td>\n",
       "    </tr>\n",
       "    <tr>\n",
       "      <th>2</th>\n",
       "      <td>100003</td>\n",
       "      <td>2017-01-01 00:28:48</td>\n",
       "      <td>3.407969</td>\n",
       "      <td>NaN</td>\n",
       "      <td>60.0</td>\n",
       "      <td>301.0</td>\n",
       "      <td>0.912895</td>\n",
       "      <td>HIT</td>\n",
       "      <td>DEBTOR</td>\n",
       "      <td>NaN</td>\n",
       "      <td>1.0</td>\n",
       "      <td>1.0</td>\n",
       "    </tr>\n",
       "    <tr>\n",
       "      <th>3</th>\n",
       "      <td>100004</td>\n",
       "      <td>2017-01-01 00:37:40</td>\n",
       "      <td>3.003826</td>\n",
       "      <td>0.114979</td>\n",
       "      <td>NaN</td>\n",
       "      <td>298.0</td>\n",
       "      <td>0.895788</td>\n",
       "      <td>HIT</td>\n",
       "      <td>N/A</td>\n",
       "      <td>NaN</td>\n",
       "      <td>0.0</td>\n",
       "      <td>NaN</td>\n",
       "    </tr>\n",
       "    <tr>\n",
       "      <th>4</th>\n",
       "      <td>100005</td>\n",
       "      <td>2017-01-01 00:41:02</td>\n",
       "      <td>3.151118</td>\n",
       "      <td>NaN</td>\n",
       "      <td>62.0</td>\n",
       "      <td>NaN</td>\n",
       "      <td>0.940414</td>\n",
       "      <td>HIT</td>\n",
       "      <td>ERROR</td>\n",
       "      <td>NaN</td>\n",
       "      <td>1.0</td>\n",
       "      <td>0.0</td>\n",
       "    </tr>\n",
       "  </tbody>\n",
       "</table>\n",
       "</div>"
      ],
      "text/plain": [
       "       ID             DATETIME  INTERNAL   TELCO_A  TELCO_B  BUREAU_X  \\\n",
       "0  100001  2017-01-01 00:16:26  5.206850       NaN     60.0      -2.0   \n",
       "1  100002  2017-01-01 00:21:21  3.128133  0.065593      NaN       NaN   \n",
       "2  100003  2017-01-01 00:28:48  3.407969       NaN     60.0     301.0   \n",
       "3  100004  2017-01-01 00:37:40  3.003826  0.114979      NaN     298.0   \n",
       "4  100005  2017-01-01 00:41:02  3.151118       NaN     62.0       NaN   \n",
       "\n",
       "   BUREAU_Y BUREAU_Y_STATUS UTILITY  DEVICE  APPROVED  FPD30  \n",
       "0       NaN          NO-ASK    GOOD     NaN       1.0    0.0  \n",
       "1       NaN          NO-ASK  DEBTOR     NaN       1.0    0.0  \n",
       "2  0.912895             HIT  DEBTOR     NaN       1.0    1.0  \n",
       "3  0.895788             HIT     N/A     NaN       0.0    NaN  \n",
       "4  0.940414             HIT   ERROR     NaN       1.0    0.0  "
      ]
     },
     "execution_count": 7,
     "metadata": {},
     "output_type": "execute_result"
    }
   ],
   "source": [
    "data.head()"
   ]
  },
  {
   "cell_type": "markdown",
   "metadata": {},
   "source": [
    "## Metadata definition\n",
    "\n",
    "Assigning target column, time column and ID column (observation identifier) which have to exist within the dataset.\n",
    "\n",
    "All the rest (i.e. base which tells where the target is observable, month and day which are derived from the time, and weight which gives weight - importance - to each row individually) are created automatically later if they don't exist at this moment."
   ]
  },
  {
   "cell_type": "code",
   "execution_count": 8,
   "metadata": {
    "ExecuteTime": {
     "end_time": "2020-09-09T06:20:11.618706Z",
     "start_time": "2020-09-09T06:20:11.614717Z"
    }
   },
   "outputs": [],
   "source": [
    "### THESE COLUMNS MUST BE INCLUDED IN THE DATA SET ###\n",
    "#name of the target column\n",
    "col_target = \"FPD30\"\n",
    "#name of the time column\n",
    "col_time = \"DATETIME\"\n",
    "#name of ID column\n",
    "col_id = \"ID\"\n",
    "\n",
    "### THESE COLUMNS DON'T HAVE TO BE INCLUDED IN THE DATA SET AND ARE CREATED AUTOMATICALLY LATER ###\n",
    "#name of the base column\n",
    "col_base = \"APPROVED\"\n",
    "#name of the month column\n",
    "col_month = \"MONTH\"\n",
    "#name of the day column\n",
    "col_day = \"DAY\"\n",
    "#name of the weight column \n",
    "col_weight = 'WEIGHT'"
   ]
  },
  {
   "cell_type": "code",
   "execution_count": 9,
   "metadata": {
    "ExecuteTime": {
     "end_time": "2020-09-09T06:20:11.626715Z",
     "start_time": "2020-09-09T06:20:11.620701Z"
    }
   },
   "outputs": [],
   "source": [
    "documentation.targets = [(col_target, col_base)]\n",
    "documentation.time_variable = col_month\n",
    "documentation.weight = col_weight"
   ]
  },
  {
   "cell_type": "code",
   "execution_count": 10,
   "metadata": {
    "ExecuteTime": {
     "end_time": "2020-09-09T06:20:11.632686Z",
     "start_time": "2020-09-09T06:20:11.627709Z"
    }
   },
   "outputs": [],
   "source": [
    "documentation.rowid_variable = col_id"
   ]
  },
  {
   "cell_type": "code",
   "execution_count": 11,
   "metadata": {
    "ExecuteTime": {
     "end_time": "2020-09-09T06:20:11.678583Z",
     "start_time": "2020-09-09T06:20:11.633688Z"
    }
   },
   "outputs": [],
   "source": [
    "pd.DataFrame.from_records([['col_time',col_time],['col_month',col_month],['col_day',col_day],['col_target',col_target],['col_base',col_base]]) \\\n",
    ".to_csv(output_folder+'/model/metadata.csv',index=0,header=None)\n",
    "\n",
    "data[col_target] = data[col_target].astype(np.float)"
   ]
  },
  {
   "cell_type": "markdown",
   "metadata": {},
   "source": [
    "If you don't have base column in your data set, the following code adds it (based on if target is filled)."
   ]
  },
  {
   "cell_type": "code",
   "execution_count": 12,
   "metadata": {
    "ExecuteTime": {
     "end_time": "2020-09-09T06:20:11.684530Z",
     "start_time": "2020-09-09T06:20:11.679544Z"
    }
   },
   "outputs": [
    {
     "name": "stdout",
     "output_type": "stream",
     "text": [
      "Column APPROVED already exists.\n"
     ]
    }
   ],
   "source": [
    "if col_base not in data:\n",
    "    data[col_base] = 0\n",
    "    data.loc[data[col_target]==0,col_base] = 1\n",
    "    data.loc[data[col_target]==1,col_base] = 1\n",
    "    print('Column',col_base,'added/modified. Number of columns:',data.shape[1])\n",
    "else:\n",
    "    print('Column',col_base,'already exists.')"
   ]
  },
  {
   "cell_type": "markdown",
   "metadata": {},
   "source": [
    "If you don't have weight column in your data set, the following code adds it, with value = 1 for each row."
   ]
  },
  {
   "cell_type": "code",
   "execution_count": 13,
   "metadata": {
    "ExecuteTime": {
     "end_time": "2020-09-09T06:20:11.692509Z",
     "start_time": "2020-09-09T06:20:11.685527Z"
    }
   },
   "outputs": [
    {
     "name": "stdout",
     "output_type": "stream",
     "text": [
      "Column WEIGHT added/modified. Number of columns: 13\n"
     ]
    }
   ],
   "source": [
    "if col_weight not in data:\n",
    "    data[col_weight] = 1\n",
    "    print('Column',col_weight,'added/modified. Number of columns:',data.shape[1])\n",
    "else:\n",
    "    print('Column',col_weight,'already exists.')"
   ]
  },
  {
   "cell_type": "markdown",
   "metadata": {},
   "source": [
    "Create the month and day column from the time column is doing the following\n",
    "- take the time column and tell in which format the time is saved in - **you need to specify this in variable *dtime_input_format*** (see https://docs.python.org/3/library/time.html#time.strftime for reference)\n",
    "- strip the format just to year, month, day string\n",
    "- convert the string to number\n",
    "- the new column will be added to the dataset as day\n",
    "- truncate this column to just year and month and add it to dataset as month"
   ]
  },
  {
   "cell_type": "code",
   "execution_count": 14,
   "metadata": {
    "ExecuteTime": {
     "end_time": "2020-09-09T06:20:11.697495Z",
     "start_time": "2020-09-09T06:20:11.693506Z"
    }
   },
   "outputs": [],
   "source": [
    "dtime_input_format = '%Y-%m-%d %H:%M:%S'"
   ]
  },
  {
   "cell_type": "code",
   "execution_count": 15,
   "metadata": {
    "ExecuteTime": {
     "end_time": "2020-09-09T06:20:11.853111Z",
     "start_time": "2020-09-09T06:20:11.698492Z"
    }
   },
   "outputs": [
    {
     "name": "stdout",
     "output_type": "stream",
     "text": [
      "Columns DAY and MONTH added/modified. Number of columns: 15\n"
     ]
    }
   ],
   "source": [
    "data[col_day] = pd.to_numeric(pd.to_datetime(data[col_time], format=dtime_input_format).dt.strftime('%Y%m%d'))\n",
    "data[col_month] = data[col_day].apply(lambda x: math.trunc(x/100))\n",
    "print('Columns',col_day,'and',col_month,'added/modified. Number of columns:',data.shape[1])"
   ]
  },
  {
   "cell_type": "code",
   "execution_count": 16,
   "metadata": {
    "ExecuteTime": {
     "end_time": "2020-09-09T06:20:11.869039Z",
     "start_time": "2020-09-09T06:20:11.854077Z"
    }
   },
   "outputs": [
    {
     "data": {
      "text/html": [
       "<div>\n",
       "<style scoped>\n",
       "    .dataframe tbody tr th:only-of-type {\n",
       "        vertical-align: middle;\n",
       "    }\n",
       "\n",
       "    .dataframe tbody tr th {\n",
       "        vertical-align: top;\n",
       "    }\n",
       "\n",
       "    .dataframe thead th {\n",
       "        text-align: right;\n",
       "    }\n",
       "</style>\n",
       "<table border=\"1\" class=\"dataframe\">\n",
       "  <thead>\n",
       "    <tr style=\"text-align: right;\">\n",
       "      <th></th>\n",
       "      <th>ID</th>\n",
       "      <th>DATETIME</th>\n",
       "      <th>INTERNAL</th>\n",
       "      <th>TELCO_A</th>\n",
       "      <th>TELCO_B</th>\n",
       "      <th>BUREAU_X</th>\n",
       "      <th>BUREAU_Y</th>\n",
       "      <th>BUREAU_Y_STATUS</th>\n",
       "      <th>UTILITY</th>\n",
       "      <th>DEVICE</th>\n",
       "      <th>APPROVED</th>\n",
       "      <th>FPD30</th>\n",
       "      <th>WEIGHT</th>\n",
       "      <th>DAY</th>\n",
       "      <th>MONTH</th>\n",
       "    </tr>\n",
       "  </thead>\n",
       "  <tbody>\n",
       "    <tr>\n",
       "      <th>0</th>\n",
       "      <td>100001</td>\n",
       "      <td>2017-01-01 00:16:26</td>\n",
       "      <td>5.206850</td>\n",
       "      <td>NaN</td>\n",
       "      <td>60.0</td>\n",
       "      <td>-2.0</td>\n",
       "      <td>NaN</td>\n",
       "      <td>NO-ASK</td>\n",
       "      <td>GOOD</td>\n",
       "      <td>NaN</td>\n",
       "      <td>1.0</td>\n",
       "      <td>0.0</td>\n",
       "      <td>1</td>\n",
       "      <td>20170101</td>\n",
       "      <td>201701</td>\n",
       "    </tr>\n",
       "    <tr>\n",
       "      <th>1</th>\n",
       "      <td>100002</td>\n",
       "      <td>2017-01-01 00:21:21</td>\n",
       "      <td>3.128133</td>\n",
       "      <td>0.065593</td>\n",
       "      <td>NaN</td>\n",
       "      <td>NaN</td>\n",
       "      <td>NaN</td>\n",
       "      <td>NO-ASK</td>\n",
       "      <td>DEBTOR</td>\n",
       "      <td>NaN</td>\n",
       "      <td>1.0</td>\n",
       "      <td>0.0</td>\n",
       "      <td>1</td>\n",
       "      <td>20170101</td>\n",
       "      <td>201701</td>\n",
       "    </tr>\n",
       "    <tr>\n",
       "      <th>2</th>\n",
       "      <td>100003</td>\n",
       "      <td>2017-01-01 00:28:48</td>\n",
       "      <td>3.407969</td>\n",
       "      <td>NaN</td>\n",
       "      <td>60.0</td>\n",
       "      <td>301.0</td>\n",
       "      <td>0.912895</td>\n",
       "      <td>HIT</td>\n",
       "      <td>DEBTOR</td>\n",
       "      <td>NaN</td>\n",
       "      <td>1.0</td>\n",
       "      <td>1.0</td>\n",
       "      <td>1</td>\n",
       "      <td>20170101</td>\n",
       "      <td>201701</td>\n",
       "    </tr>\n",
       "    <tr>\n",
       "      <th>3</th>\n",
       "      <td>100004</td>\n",
       "      <td>2017-01-01 00:37:40</td>\n",
       "      <td>3.003826</td>\n",
       "      <td>0.114979</td>\n",
       "      <td>NaN</td>\n",
       "      <td>298.0</td>\n",
       "      <td>0.895788</td>\n",
       "      <td>HIT</td>\n",
       "      <td>N/A</td>\n",
       "      <td>NaN</td>\n",
       "      <td>0.0</td>\n",
       "      <td>NaN</td>\n",
       "      <td>1</td>\n",
       "      <td>20170101</td>\n",
       "      <td>201701</td>\n",
       "    </tr>\n",
       "    <tr>\n",
       "      <th>4</th>\n",
       "      <td>100005</td>\n",
       "      <td>2017-01-01 00:41:02</td>\n",
       "      <td>3.151118</td>\n",
       "      <td>NaN</td>\n",
       "      <td>62.0</td>\n",
       "      <td>NaN</td>\n",
       "      <td>0.940414</td>\n",
       "      <td>HIT</td>\n",
       "      <td>ERROR</td>\n",
       "      <td>NaN</td>\n",
       "      <td>1.0</td>\n",
       "      <td>0.0</td>\n",
       "      <td>1</td>\n",
       "      <td>20170101</td>\n",
       "      <td>201701</td>\n",
       "    </tr>\n",
       "  </tbody>\n",
       "</table>\n",
       "</div>"
      ],
      "text/plain": [
       "       ID             DATETIME  INTERNAL   TELCO_A  TELCO_B  BUREAU_X  \\\n",
       "0  100001  2017-01-01 00:16:26  5.206850       NaN     60.0      -2.0   \n",
       "1  100002  2017-01-01 00:21:21  3.128133  0.065593      NaN       NaN   \n",
       "2  100003  2017-01-01 00:28:48  3.407969       NaN     60.0     301.0   \n",
       "3  100004  2017-01-01 00:37:40  3.003826  0.114979      NaN     298.0   \n",
       "4  100005  2017-01-01 00:41:02  3.151118       NaN     62.0       NaN   \n",
       "\n",
       "   BUREAU_Y BUREAU_Y_STATUS UTILITY  DEVICE  APPROVED  FPD30  WEIGHT  \\\n",
       "0       NaN          NO-ASK    GOOD     NaN       1.0    0.0       1   \n",
       "1       NaN          NO-ASK  DEBTOR     NaN       1.0    0.0       1   \n",
       "2  0.912895             HIT  DEBTOR     NaN       1.0    1.0       1   \n",
       "3  0.895788             HIT     N/A     NaN       0.0    NaN       1   \n",
       "4  0.940414             HIT   ERROR     NaN       1.0    0.0       1   \n",
       "\n",
       "        DAY   MONTH  \n",
       "0  20170101  201701  \n",
       "1  20170101  201701  \n",
       "2  20170101  201701  \n",
       "3  20170101  201701  \n",
       "4  20170101  201701  "
      ]
     },
     "execution_count": 16,
     "metadata": {},
     "output_type": "execute_result"
    }
   ],
   "source": [
    "data.head(5)"
   ]
  },
  {
   "cell_type": "markdown",
   "metadata": {},
   "source": [
    "Set of predictor (subscores) to be analyzed. These are the potential elements of the final General Model score."
   ]
  },
  {
   "cell_type": "code",
   "execution_count": 17,
   "metadata": {
    "ExecuteTime": {
     "end_time": "2020-09-09T06:20:11.877030Z",
     "start_time": "2020-09-09T06:20:11.870036Z"
    }
   },
   "outputs": [],
   "source": [
    "cols_pred = [\n",
    "    'INTERNAL',\n",
    "    'TELCO_A',\n",
    "    'TELCO_B',\n",
    "    'BUREAU_X',\n",
    "    'BUREAU_Y',\n",
    "    'UTILITY',\n",
    "    'DEVICE',\n",
    "]"
   ]
  },
  {
   "cell_type": "markdown",
   "metadata": {},
   "source": [
    "## Data exploration"
   ]
  },
  {
   "cell_type": "code",
   "execution_count": 18,
   "metadata": {
    "ExecuteTime": {
     "end_time": "2020-09-09T06:20:11.922932Z",
     "start_time": "2020-09-09T06:20:11.878035Z"
    }
   },
   "outputs": [
    {
     "data": {
      "text/html": [
       "<div>\n",
       "<style scoped>\n",
       "    .dataframe tbody tr th:only-of-type {\n",
       "        vertical-align: middle;\n",
       "    }\n",
       "\n",
       "    .dataframe tbody tr th {\n",
       "        vertical-align: top;\n",
       "    }\n",
       "\n",
       "    .dataframe thead th {\n",
       "        text-align: right;\n",
       "    }\n",
       "</style>\n",
       "<table border=\"1\" class=\"dataframe\">\n",
       "  <thead>\n",
       "    <tr style=\"text-align: right;\">\n",
       "      <th></th>\n",
       "      <th>count</th>\n",
       "      <th>unique</th>\n",
       "      <th>top</th>\n",
       "      <th>freq</th>\n",
       "      <th>mean</th>\n",
       "      <th>std</th>\n",
       "      <th>min</th>\n",
       "      <th>25%</th>\n",
       "      <th>50%</th>\n",
       "      <th>75%</th>\n",
       "      <th>max</th>\n",
       "    </tr>\n",
       "  </thead>\n",
       "  <tbody>\n",
       "    <tr>\n",
       "      <th>ID</th>\n",
       "      <td>19976</td>\n",
       "      <td>NaN</td>\n",
       "      <td>NaN</td>\n",
       "      <td>NaN</td>\n",
       "      <td>112722</td>\n",
       "      <td>9826.92</td>\n",
       "      <td>100001</td>\n",
       "      <td>104995</td>\n",
       "      <td>109988</td>\n",
       "      <td>125902</td>\n",
       "      <td>130896</td>\n",
       "    </tr>\n",
       "    <tr>\n",
       "      <th>DATETIME</th>\n",
       "      <td>19976</td>\n",
       "      <td>19960</td>\n",
       "      <td>2017-06-06 20:18:38</td>\n",
       "      <td>2</td>\n",
       "      <td>NaN</td>\n",
       "      <td>NaN</td>\n",
       "      <td>NaN</td>\n",
       "      <td>NaN</td>\n",
       "      <td>NaN</td>\n",
       "      <td>NaN</td>\n",
       "      <td>NaN</td>\n",
       "    </tr>\n",
       "    <tr>\n",
       "      <th>INTERNAL</th>\n",
       "      <td>19976</td>\n",
       "      <td>NaN</td>\n",
       "      <td>NaN</td>\n",
       "      <td>NaN</td>\n",
       "      <td>2.50194</td>\n",
       "      <td>1.00587</td>\n",
       "      <td>-1.41988</td>\n",
       "      <td>1.81886</td>\n",
       "      <td>2.503</td>\n",
       "      <td>3.17725</td>\n",
       "      <td>7.15196</td>\n",
       "    </tr>\n",
       "    <tr>\n",
       "      <th>TELCO_A</th>\n",
       "      <td>5484</td>\n",
       "      <td>NaN</td>\n",
       "      <td>NaN</td>\n",
       "      <td>NaN</td>\n",
       "      <td>0.0831296</td>\n",
       "      <td>0.0380225</td>\n",
       "      <td>0.0143291</td>\n",
       "      <td>0.0554773</td>\n",
       "      <td>0.0761857</td>\n",
       "      <td>0.102664</td>\n",
       "      <td>0.349384</td>\n",
       "    </tr>\n",
       "    <tr>\n",
       "      <th>TELCO_B</th>\n",
       "      <td>7966</td>\n",
       "      <td>NaN</td>\n",
       "      <td>NaN</td>\n",
       "      <td>NaN</td>\n",
       "      <td>62.0254</td>\n",
       "      <td>2.52587</td>\n",
       "      <td>52</td>\n",
       "      <td>60</td>\n",
       "      <td>62</td>\n",
       "      <td>64</td>\n",
       "      <td>71</td>\n",
       "    </tr>\n",
       "    <tr>\n",
       "      <th>BUREAU_X</th>\n",
       "      <td>8340</td>\n",
       "      <td>NaN</td>\n",
       "      <td>NaN</td>\n",
       "      <td>NaN</td>\n",
       "      <td>165.001</td>\n",
       "      <td>154.232</td>\n",
       "      <td>-2</td>\n",
       "      <td>-2</td>\n",
       "      <td>293</td>\n",
       "      <td>308</td>\n",
       "      <td>338</td>\n",
       "    </tr>\n",
       "    <tr>\n",
       "      <th>BUREAU_Y</th>\n",
       "      <td>5887</td>\n",
       "      <td>NaN</td>\n",
       "      <td>NaN</td>\n",
       "      <td>NaN</td>\n",
       "      <td>0.915938</td>\n",
       "      <td>0.0390964</td>\n",
       "      <td>0.625791</td>\n",
       "      <td>0.895876</td>\n",
       "      <td>0.923401</td>\n",
       "      <td>0.944401</td>\n",
       "      <td>0.984886</td>\n",
       "    </tr>\n",
       "    <tr>\n",
       "      <th>BUREAU_Y_STATUS</th>\n",
       "      <td>19976</td>\n",
       "      <td>3</td>\n",
       "      <td>NO-ASK</td>\n",
       "      <td>12611</td>\n",
       "      <td>NaN</td>\n",
       "      <td>NaN</td>\n",
       "      <td>NaN</td>\n",
       "      <td>NaN</td>\n",
       "      <td>NaN</td>\n",
       "      <td>NaN</td>\n",
       "      <td>NaN</td>\n",
       "    </tr>\n",
       "    <tr>\n",
       "      <th>UTILITY</th>\n",
       "      <td>14976</td>\n",
       "      <td>5</td>\n",
       "      <td>N/A</td>\n",
       "      <td>5595</td>\n",
       "      <td>NaN</td>\n",
       "      <td>NaN</td>\n",
       "      <td>NaN</td>\n",
       "      <td>NaN</td>\n",
       "      <td>NaN</td>\n",
       "      <td>NaN</td>\n",
       "      <td>NaN</td>\n",
       "    </tr>\n",
       "    <tr>\n",
       "      <th>DEVICE</th>\n",
       "      <td>5000</td>\n",
       "      <td>NaN</td>\n",
       "      <td>NaN</td>\n",
       "      <td>NaN</td>\n",
       "      <td>0.917344</td>\n",
       "      <td>0.0388667</td>\n",
       "      <td>0.674121</td>\n",
       "      <td>0.897919</td>\n",
       "      <td>0.924751</td>\n",
       "      <td>0.945081</td>\n",
       "      <td>0.986543</td>\n",
       "    </tr>\n",
       "    <tr>\n",
       "      <th>APPROVED</th>\n",
       "      <td>19976</td>\n",
       "      <td>NaN</td>\n",
       "      <td>NaN</td>\n",
       "      <td>NaN</td>\n",
       "      <td>0.738887</td>\n",
       "      <td>0.439253</td>\n",
       "      <td>0</td>\n",
       "      <td>0</td>\n",
       "      <td>1</td>\n",
       "      <td>1</td>\n",
       "      <td>1</td>\n",
       "    </tr>\n",
       "    <tr>\n",
       "      <th>FPD30</th>\n",
       "      <td>14760</td>\n",
       "      <td>NaN</td>\n",
       "      <td>NaN</td>\n",
       "      <td>NaN</td>\n",
       "      <td>0.0931572</td>\n",
       "      <td>0.290662</td>\n",
       "      <td>0</td>\n",
       "      <td>0</td>\n",
       "      <td>0</td>\n",
       "      <td>0</td>\n",
       "      <td>1</td>\n",
       "    </tr>\n",
       "    <tr>\n",
       "      <th>WEIGHT</th>\n",
       "      <td>19976</td>\n",
       "      <td>NaN</td>\n",
       "      <td>NaN</td>\n",
       "      <td>NaN</td>\n",
       "      <td>1</td>\n",
       "      <td>0</td>\n",
       "      <td>1</td>\n",
       "      <td>1</td>\n",
       "      <td>1</td>\n",
       "      <td>1</td>\n",
       "      <td>1</td>\n",
       "    </tr>\n",
       "    <tr>\n",
       "      <th>DAY</th>\n",
       "      <td>19976</td>\n",
       "      <td>NaN</td>\n",
       "      <td>NaN</td>\n",
       "      <td>NaN</td>\n",
       "      <td>2.01703e+07</td>\n",
       "      <td>187.594</td>\n",
       "      <td>2.01701e+07</td>\n",
       "      <td>2.01701e+07</td>\n",
       "      <td>2.01703e+07</td>\n",
       "      <td>2.01705e+07</td>\n",
       "      <td>2.01706e+07</td>\n",
       "    </tr>\n",
       "    <tr>\n",
       "      <th>MONTH</th>\n",
       "      <td>19976</td>\n",
       "      <td>NaN</td>\n",
       "      <td>NaN</td>\n",
       "      <td>NaN</td>\n",
       "      <td>201703</td>\n",
       "      <td>1.87423</td>\n",
       "      <td>201701</td>\n",
       "      <td>201701</td>\n",
       "      <td>201703</td>\n",
       "      <td>201705</td>\n",
       "      <td>201706</td>\n",
       "    </tr>\n",
       "  </tbody>\n",
       "</table>\n",
       "</div>"
      ],
      "text/plain": [
       "                 count unique                  top   freq         mean  \\\n",
       "ID               19976    NaN                  NaN    NaN       112722   \n",
       "DATETIME         19976  19960  2017-06-06 20:18:38      2          NaN   \n",
       "INTERNAL         19976    NaN                  NaN    NaN      2.50194   \n",
       "TELCO_A           5484    NaN                  NaN    NaN    0.0831296   \n",
       "TELCO_B           7966    NaN                  NaN    NaN      62.0254   \n",
       "BUREAU_X          8340    NaN                  NaN    NaN      165.001   \n",
       "BUREAU_Y          5887    NaN                  NaN    NaN     0.915938   \n",
       "BUREAU_Y_STATUS  19976      3               NO-ASK  12611          NaN   \n",
       "UTILITY          14976      5                  N/A   5595          NaN   \n",
       "DEVICE            5000    NaN                  NaN    NaN     0.917344   \n",
       "APPROVED         19976    NaN                  NaN    NaN     0.738887   \n",
       "FPD30            14760    NaN                  NaN    NaN    0.0931572   \n",
       "WEIGHT           19976    NaN                  NaN    NaN            1   \n",
       "DAY              19976    NaN                  NaN    NaN  2.01703e+07   \n",
       "MONTH            19976    NaN                  NaN    NaN       201703   \n",
       "\n",
       "                       std          min          25%          50%  \\\n",
       "ID                 9826.92       100001       104995       109988   \n",
       "DATETIME               NaN          NaN          NaN          NaN   \n",
       "INTERNAL           1.00587     -1.41988      1.81886        2.503   \n",
       "TELCO_A          0.0380225    0.0143291    0.0554773    0.0761857   \n",
       "TELCO_B            2.52587           52           60           62   \n",
       "BUREAU_X           154.232           -2           -2          293   \n",
       "BUREAU_Y         0.0390964     0.625791     0.895876     0.923401   \n",
       "BUREAU_Y_STATUS        NaN          NaN          NaN          NaN   \n",
       "UTILITY                NaN          NaN          NaN          NaN   \n",
       "DEVICE           0.0388667     0.674121     0.897919     0.924751   \n",
       "APPROVED          0.439253            0            0            1   \n",
       "FPD30             0.290662            0            0            0   \n",
       "WEIGHT                   0            1            1            1   \n",
       "DAY                187.594  2.01701e+07  2.01701e+07  2.01703e+07   \n",
       "MONTH              1.87423       201701       201701       201703   \n",
       "\n",
       "                         75%          max  \n",
       "ID                    125902       130896  \n",
       "DATETIME                 NaN          NaN  \n",
       "INTERNAL             3.17725      7.15196  \n",
       "TELCO_A             0.102664     0.349384  \n",
       "TELCO_B                   64           71  \n",
       "BUREAU_X                 308          338  \n",
       "BUREAU_Y            0.944401     0.984886  \n",
       "BUREAU_Y_STATUS          NaN          NaN  \n",
       "UTILITY                  NaN          NaN  \n",
       "DEVICE              0.945081     0.986543  \n",
       "APPROVED                   1            1  \n",
       "FPD30                      0            1  \n",
       "WEIGHT                     1            1  \n",
       "DAY              2.01705e+07  2.01706e+07  \n",
       "MONTH                 201705       201706  "
      ]
     },
     "metadata": {},
     "output_type": "display_data"
    }
   ],
   "source": [
    "descrip = data.describe(include='all').transpose()\n",
    "pd.options.display.max_rows = 1000\n",
    "display(descrip)\n",
    "pd.options.display.max_rows = 15"
   ]
  },
  {
   "cell_type": "markdown",
   "metadata": {},
   "source": [
    "**Default rate in time**: Simple visualisation of observation count and default rate in time"
   ]
  },
  {
   "cell_type": "code",
   "execution_count": 19,
   "metadata": {
    "ExecuteTime": {
     "end_time": "2020-09-09T06:20:11.927880Z",
     "start_time": "2020-09-09T06:20:11.923891Z"
    }
   },
   "outputs": [],
   "source": [
    "observable_mask = data[col_base] == 1\n",
    "\n",
    "documentation.sample_dict = {\n",
    "    \"Observable\": observable_mask}"
   ]
  },
  {
   "cell_type": "code",
   "execution_count": 20,
   "metadata": {
    "ExecuteTime": {
     "end_time": "2020-09-09T06:20:12.601533Z",
     "start_time": "2020-09-09T06:20:11.928876Z"
    }
   },
   "outputs": [],
   "source": [
    "documentation.PlotDataset(\n",
    "    data,\n",
    "    sample=\"Observable\",\n",
    "    target=col_target,\n",
    "    segment_col=None,\n",
    "    output_folder=os.path.join(output_folder, \"analysis\"),\n",
    "    use_weight=True,\n",
    ")"
   ]
  },
  {
   "cell_type": "markdown",
   "metadata": {},
   "source": [
    "**NaN share by month** for each variable in dataset:"
   ]
  },
  {
   "cell_type": "code",
   "execution_count": 21,
   "metadata": {
    "ExecuteTime": {
     "end_time": "2020-09-09T06:20:14.321023Z",
     "start_time": "2020-09-09T06:20:12.602503Z"
    }
   },
   "outputs": [
    {
     "data": {
      "image/png": "[encoded data removed]",
      "text/plain": [
       "<Figure size 432x288 with 1 Axes>"
      ]
     },
     "metadata": {
      "needs_background": "light"
     },
     "output_type": "display_data"
    },
    {
     "data": {
      "image/png": "[encoded data removed]",
      "text/plain": [
       "<Figure size 432x288 with 1 Axes>"
      ]
     },
     "metadata": {
      "needs_background": "light"
     },
     "output_type": "display_data"
    },
    {
     "data": {
      "image/png": "[encoded data removed]",
      "text/plain": [
       "<Figure size 432x288 with 1 Axes>"
      ]
     },
     "metadata": {
      "needs_background": "light"
     },
     "output_type": "display_data"
    },
    {
     "data": {
      "image/png": "[encoded data removed]",
      "text/plain": [
       "<Figure size 432x288 with 1 Axes>"
      ]
     },
     "metadata": {
      "needs_background": "light"
     },
     "output_type": "display_data"
    },
    {
     "data": {
      "image/png": "[encoded data removed]",
      "text/plain": [
       "<Figure size 432x288 with 1 Axes>"
      ]
     },
     "metadata": {
      "needs_background": "light"
     },
     "output_type": "display_data"
    },
    {
     "data": {
      "image/png": "[encoded data removed]",
      "text/plain": [
       "<Figure size 432x288 with 1 Axes>"
      ]
     },
     "metadata": {
      "needs_background": "light"
     },
     "output_type": "display_data"
    },
    {
     "data": {
      "image/png": "[encoded data removed]",
      "text/plain": [
       "<Figure size 432x288 with 1 Axes>"
      ]
     },
     "metadata": {
      "needs_background": "light"
     },
     "output_type": "display_data"
    },
    {
     "data": {
      "text/html": [
       "<div>\n",
       "<style scoped>\n",
       "    .dataframe tbody tr th:only-of-type {\n",
       "        vertical-align: middle;\n",
       "    }\n",
       "\n",
       "    .dataframe tbody tr th {\n",
       "        vertical-align: top;\n",
       "    }\n",
       "\n",
       "    .dataframe thead th {\n",
       "        text-align: right;\n",
       "    }\n",
       "</style>\n",
       "<table border=\"1\" class=\"dataframe\">\n",
       "  <thead>\n",
       "    <tr style=\"text-align: right;\">\n",
       "      <th>MONTH</th>\n",
       "      <th>201701</th>\n",
       "      <th>201702</th>\n",
       "      <th>201703</th>\n",
       "      <th>201705</th>\n",
       "      <th>201706</th>\n",
       "    </tr>\n",
       "    <tr>\n",
       "      <th>predictor</th>\n",
       "      <th></th>\n",
       "      <th></th>\n",
       "      <th></th>\n",
       "      <th></th>\n",
       "      <th></th>\n",
       "    </tr>\n",
       "  </thead>\n",
       "  <tbody>\n",
       "    <tr>\n",
       "      <th>BUREAU_X</th>\n",
       "      <td>0.443884</td>\n",
       "      <td>0.444574</td>\n",
       "      <td>0.440021</td>\n",
       "      <td>1.0</td>\n",
       "      <td>1.0</td>\n",
       "    </tr>\n",
       "    <tr>\n",
       "      <th>BUREAU_Y</th>\n",
       "      <td>0.606262</td>\n",
       "      <td>0.600350</td>\n",
       "      <td>0.607808</td>\n",
       "      <td>1.0</td>\n",
       "      <td>1.0</td>\n",
       "    </tr>\n",
       "    <tr>\n",
       "      <th>DEVICE</th>\n",
       "      <td>1.000000</td>\n",
       "      <td>1.000000</td>\n",
       "      <td>1.000000</td>\n",
       "      <td>0.0</td>\n",
       "      <td>0.0</td>\n",
       "    </tr>\n",
       "    <tr>\n",
       "      <th>INTERNAL</th>\n",
       "      <td>0.000000</td>\n",
       "      <td>0.000000</td>\n",
       "      <td>0.000000</td>\n",
       "      <td>0.0</td>\n",
       "      <td>0.0</td>\n",
       "    </tr>\n",
       "    <tr>\n",
       "      <th>TELCO_A</th>\n",
       "      <td>0.645264</td>\n",
       "      <td>0.621062</td>\n",
       "      <td>0.633402</td>\n",
       "      <td>1.0</td>\n",
       "      <td>1.0</td>\n",
       "    </tr>\n",
       "    <tr>\n",
       "      <th>TELCO_B</th>\n",
       "      <td>0.456354</td>\n",
       "      <td>0.474329</td>\n",
       "      <td>0.472337</td>\n",
       "      <td>1.0</td>\n",
       "      <td>1.0</td>\n",
       "    </tr>\n",
       "    <tr>\n",
       "      <th>UTILITY</th>\n",
       "      <td>0.000000</td>\n",
       "      <td>0.000000</td>\n",
       "      <td>0.000000</td>\n",
       "      <td>1.0</td>\n",
       "      <td>1.0</td>\n",
       "    </tr>\n",
       "  </tbody>\n",
       "</table>\n",
       "</div>"
      ],
      "text/plain": [
       "MONTH        201701    201702    201703  201705  201706\n",
       "predictor                                              \n",
       "BUREAU_X   0.443884  0.444574  0.440021     1.0     1.0\n",
       "BUREAU_Y   0.606262  0.600350  0.607808     1.0     1.0\n",
       "DEVICE     1.000000  1.000000  1.000000     0.0     0.0\n",
       "INTERNAL   0.000000  0.000000  0.000000     0.0     0.0\n",
       "TELCO_A    0.645264  0.621062  0.633402     1.0     1.0\n",
       "TELCO_B    0.456354  0.474329  0.472337     1.0     1.0\n",
       "UTILITY    0.000000  0.000000  0.000000     1.0     1.0"
      ]
     },
     "execution_count": 21,
     "metadata": {},
     "output_type": "execute_result"
    }
   ],
   "source": [
    "documentation.EmptyInTime(data,\n",
    "                          sample=\"Observable\",\n",
    "                          predictors=cols_pred,\n",
    "                          empty_representations=[np.nan],\n",
    "                          use_weight=False,\n",
    "                          show_plot=True,\n",
    "                          output_folder=output_folder + \"/nan_share/\",\n",
    "                         )"
   ]
  },
  {
   "cell_type": "markdown",
   "metadata": {},
   "source": [
    "## Mask definitions"
   ]
  },
  {
   "cell_type": "markdown",
   "metadata": {},
   "source": [
    "### Split to samples\n",
    "\n",
    "Split data into five parts (training and validation). GM model is usually trained on small and time-limited sample, so test and out of time samples are usually not created.\n",
    "\n",
    "This will add a new column indicating to which part the observations belong.\n",
    "\n",
    "- The *splitting_points* (first date of train and first date of out of time sample) can be adjusted (there can be any number of such splitting points) - it should correspond to values of column specified by *time_column* parameter. If empty list is used, no time splits will be done.\n",
    "- For each time interval, you can create multiple random splits (i.e. train/valid/test), the ratio of sizes of these splits is set by parameter *sample_sizes*. In our case we have just one time interval, so only one list of sample sizes.\n",
    "- The random splits can be stratified by multiple variables, which are specified in a list - argument to *stratify_by_columns* parameter\n",
    "- Set the random seed so the results are replicable\n",
    "\n",
    "**Before you run data split, make sure that index in your dataset in unique!** If not, you need to create new unique index."
   ]
  },
  {
   "cell_type": "code",
   "execution_count": 22,
   "metadata": {
    "ExecuteTime": {
     "end_time": "2020-09-09T06:20:14.335884Z",
     "start_time": "2020-09-09T06:20:14.321023Z"
    }
   },
   "outputs": [],
   "source": [
    "# data['INDEX_ORIGINAL'] = data.index\n",
    "# data.reset_index(inplace=True)"
   ]
  },
  {
   "cell_type": "code",
   "execution_count": 23,
   "metadata": {
    "ExecuteTime": {
     "end_time": "2020-09-09T06:20:14.398750Z",
     "start_time": "2020-09-09T06:20:14.338876Z"
    }
   },
   "outputs": [
    {
     "name": "stdout",
     "output_type": "stream",
     "text": [
      "train   9,988 rows\n",
      "valid   9,988 rows\n"
     ]
    }
   ],
   "source": [
    "from scoring.data_manipulation import data_sample_time_split\n",
    "\n",
    "data['data_type'] = data_sample_time_split(data, \n",
    "                           time_column = col_month,\n",
    "                           splitting_points = [],\n",
    "                           sample_sizes = [[ 0.5   , 0.5   ]],\n",
    "                           sample_names = [['train','valid']],\n",
    "                           stratify_by_columns = [col_month,col_target],\n",
    "                           random_seed = 1234)"
   ]
  },
  {
   "cell_type": "markdown",
   "metadata": {},
   "source": [
    "Masks: boolean vectors corresponding to rows in the datasets. True if an row is observable and its data type belongs to given sample.\n",
    "\n",
    "`observable_mask` is mask where all observable rows are included (i.e. valid observations from all the samples)\n",
    "\n",
    "`everything_mask` is mask which is True for all rows."
   ]
  },
  {
   "cell_type": "code",
   "execution_count": 24,
   "metadata": {
    "ExecuteTime": {
     "end_time": "2020-09-09T06:20:14.407725Z",
     "start_time": "2020-09-09T06:20:14.400743Z"
    }
   },
   "outputs": [],
   "source": [
    "train_mask = (data['data_type'] == 'train') & (data[col_base] == 1) \n",
    "valid_mask = (data['data_type'] == 'valid') & (data[col_base] == 1) \n",
    "observable_mask = data[col_base] == 1\n",
    "everything_mask = pd.notnull(data['data_type'])"
   ]
  },
  {
   "cell_type": "markdown",
   "metadata": {},
   "source": [
    "Add masks to _documentation_ object."
   ]
  },
  {
   "cell_type": "code",
   "execution_count": 25,
   "metadata": {
    "ExecuteTime": {
     "end_time": "2020-09-09T06:20:14.413701Z",
     "start_time": "2020-09-09T06:20:14.408689Z"
    }
   },
   "outputs": [],
   "source": [
    "documentation.sample_dict = {\n",
    "    \"Train\": train_mask,\n",
    "    \"Valid\": valid_mask,\n",
    "    \"Observable\": observable_mask,\n",
    "    \"Everything\": everything_mask,\n",
    "}"
   ]
  },
  {
   "cell_type": "markdown",
   "metadata": {},
   "source": [
    "Data summary (number of defaults, number in base, number of observations, default rate) by month and by sample"
   ]
  },
  {
   "cell_type": "code",
   "execution_count": 26,
   "metadata": {
    "ExecuteTime": {
     "end_time": "2020-09-09T06:20:14.448619Z",
     "start_time": "2020-09-09T06:20:14.414673Z"
    }
   },
   "outputs": [
    {
     "data": {
      "text/html": [
       "<div>\n",
       "<style scoped>\n",
       "    .dataframe tbody tr th:only-of-type {\n",
       "        vertical-align: middle;\n",
       "    }\n",
       "\n",
       "    .dataframe tbody tr th {\n",
       "        vertical-align: top;\n",
       "    }\n",
       "\n",
       "    .dataframe thead th {\n",
       "        text-align: right;\n",
       "    }\n",
       "</style>\n",
       "<table border=\"1\" class=\"dataframe\">\n",
       "  <thead>\n",
       "    <tr style=\"text-align: right;\">\n",
       "      <th></th>\n",
       "      <th></th>\n",
       "      <th>FPD30</th>\n",
       "      <th>APPROVED</th>\n",
       "      <th>Rows</th>\n",
       "      <th>FPD30 rate</th>\n",
       "    </tr>\n",
       "    <tr>\n",
       "      <th>MONTH</th>\n",
       "      <th>data_type</th>\n",
       "      <th></th>\n",
       "      <th></th>\n",
       "      <th></th>\n",
       "      <th></th>\n",
       "    </tr>\n",
       "  </thead>\n",
       "  <tbody>\n",
       "    <tr>\n",
       "      <th rowspan=\"2\" valign=\"top\">201701</th>\n",
       "      <th>train</th>\n",
       "      <td>169.0</td>\n",
       "      <td>1884.0</td>\n",
       "      <td>2569</td>\n",
       "      <td>0.089703</td>\n",
       "    </tr>\n",
       "    <tr>\n",
       "      <th>valid</th>\n",
       "      <td>169.0</td>\n",
       "      <td>1885.0</td>\n",
       "      <td>2571</td>\n",
       "      <td>0.089655</td>\n",
       "    </tr>\n",
       "    <tr>\n",
       "      <th rowspan=\"2\" valign=\"top\">201702</th>\n",
       "      <th>train</th>\n",
       "      <td>150.0</td>\n",
       "      <td>1714.0</td>\n",
       "      <td>2321</td>\n",
       "      <td>0.087515</td>\n",
       "    </tr>\n",
       "    <tr>\n",
       "      <th>valid</th>\n",
       "      <td>150.0</td>\n",
       "      <td>1714.0</td>\n",
       "      <td>2321</td>\n",
       "      <td>0.087515</td>\n",
       "    </tr>\n",
       "    <tr>\n",
       "      <th rowspan=\"2\" valign=\"top\">201703</th>\n",
       "      <th>train</th>\n",
       "      <td>187.0</td>\n",
       "      <td>1935.0</td>\n",
       "      <td>2598</td>\n",
       "      <td>0.096641</td>\n",
       "    </tr>\n",
       "    <tr>\n",
       "      <th>valid</th>\n",
       "      <td>186.0</td>\n",
       "      <td>1933.0</td>\n",
       "      <td>2596</td>\n",
       "      <td>0.096223</td>\n",
       "    </tr>\n",
       "    <tr>\n",
       "      <th rowspan=\"2\" valign=\"top\">201705</th>\n",
       "      <th>train</th>\n",
       "      <td>0.0</td>\n",
       "      <td>2.0</td>\n",
       "      <td>4</td>\n",
       "      <td>0.000000</td>\n",
       "    </tr>\n",
       "    <tr>\n",
       "      <th>valid</th>\n",
       "      <td>0.0</td>\n",
       "      <td>2.0</td>\n",
       "      <td>3</td>\n",
       "      <td>0.000000</td>\n",
       "    </tr>\n",
       "    <tr>\n",
       "      <th rowspan=\"2\" valign=\"top\">201706</th>\n",
       "      <th>train</th>\n",
       "      <td>182.0</td>\n",
       "      <td>1845.0</td>\n",
       "      <td>2496</td>\n",
       "      <td>0.098645</td>\n",
       "    </tr>\n",
       "    <tr>\n",
       "      <th>valid</th>\n",
       "      <td>182.0</td>\n",
       "      <td>1846.0</td>\n",
       "      <td>2497</td>\n",
       "      <td>0.098592</td>\n",
       "    </tr>\n",
       "  </tbody>\n",
       "</table>\n",
       "</div>"
      ],
      "text/plain": [
       "                  FPD30  APPROVED  Rows  FPD30 rate\n",
       "MONTH  data_type                                   \n",
       "201701 train      169.0    1884.0  2569    0.089703\n",
       "       valid      169.0    1885.0  2571    0.089655\n",
       "201702 train      150.0    1714.0  2321    0.087515\n",
       "       valid      150.0    1714.0  2321    0.087515\n",
       "201703 train      187.0    1935.0  2598    0.096641\n",
       "       valid      186.0    1933.0  2596    0.096223\n",
       "201705 train        0.0       2.0     4    0.000000\n",
       "       valid        0.0       2.0     3    0.000000\n",
       "201706 train      182.0    1845.0  2496    0.098645\n",
       "       valid      182.0    1846.0  2497    0.098592"
      ]
     },
     "metadata": {},
     "output_type": "display_data"
    },
    {
     "data": {
      "text/html": [
       "<div>\n",
       "<style scoped>\n",
       "    .dataframe tbody tr th:only-of-type {\n",
       "        vertical-align: middle;\n",
       "    }\n",
       "\n",
       "    .dataframe tbody tr th {\n",
       "        vertical-align: top;\n",
       "    }\n",
       "\n",
       "    .dataframe thead tr th {\n",
       "        text-align: left;\n",
       "    }\n",
       "\n",
       "    .dataframe thead tr:last-of-type th {\n",
       "        text-align: right;\n",
       "    }\n",
       "</style>\n",
       "<table border=\"1\" class=\"dataframe\">\n",
       "  <thead>\n",
       "    <tr>\n",
       "      <th></th>\n",
       "      <th colspan=\"2\" halign=\"left\">FPD30</th>\n",
       "      <th colspan=\"2\" halign=\"left\">APPROVED</th>\n",
       "      <th colspan=\"2\" halign=\"left\">Rows</th>\n",
       "      <th colspan=\"2\" halign=\"left\">FPD30 rate</th>\n",
       "    </tr>\n",
       "    <tr>\n",
       "      <th>data_type</th>\n",
       "      <th>train</th>\n",
       "      <th>valid</th>\n",
       "      <th>train</th>\n",
       "      <th>valid</th>\n",
       "      <th>train</th>\n",
       "      <th>valid</th>\n",
       "      <th>train</th>\n",
       "      <th>valid</th>\n",
       "    </tr>\n",
       "    <tr>\n",
       "      <th>MONTH</th>\n",
       "      <th></th>\n",
       "      <th></th>\n",
       "      <th></th>\n",
       "      <th></th>\n",
       "      <th></th>\n",
       "      <th></th>\n",
       "      <th></th>\n",
       "      <th></th>\n",
       "    </tr>\n",
       "  </thead>\n",
       "  <tbody>\n",
       "    <tr>\n",
       "      <th>201701</th>\n",
       "      <td>169.0</td>\n",
       "      <td>169.0</td>\n",
       "      <td>1884.0</td>\n",
       "      <td>1885.0</td>\n",
       "      <td>2569</td>\n",
       "      <td>2571</td>\n",
       "      <td>0.089703</td>\n",
       "      <td>0.089655</td>\n",
       "    </tr>\n",
       "    <tr>\n",
       "      <th>201702</th>\n",
       "      <td>150.0</td>\n",
       "      <td>150.0</td>\n",
       "      <td>1714.0</td>\n",
       "      <td>1714.0</td>\n",
       "      <td>2321</td>\n",
       "      <td>2321</td>\n",
       "      <td>0.087515</td>\n",
       "      <td>0.087515</td>\n",
       "    </tr>\n",
       "    <tr>\n",
       "      <th>201703</th>\n",
       "      <td>187.0</td>\n",
       "      <td>186.0</td>\n",
       "      <td>1935.0</td>\n",
       "      <td>1933.0</td>\n",
       "      <td>2598</td>\n",
       "      <td>2596</td>\n",
       "      <td>0.096641</td>\n",
       "      <td>0.096223</td>\n",
       "    </tr>\n",
       "    <tr>\n",
       "      <th>201705</th>\n",
       "      <td>0.0</td>\n",
       "      <td>0.0</td>\n",
       "      <td>2.0</td>\n",
       "      <td>2.0</td>\n",
       "      <td>4</td>\n",
       "      <td>3</td>\n",
       "      <td>0.000000</td>\n",
       "      <td>0.000000</td>\n",
       "    </tr>\n",
       "    <tr>\n",
       "      <th>201706</th>\n",
       "      <td>182.0</td>\n",
       "      <td>182.0</td>\n",
       "      <td>1845.0</td>\n",
       "      <td>1846.0</td>\n",
       "      <td>2496</td>\n",
       "      <td>2497</td>\n",
       "      <td>0.098645</td>\n",
       "      <td>0.098592</td>\n",
       "    </tr>\n",
       "  </tbody>\n",
       "</table>\n",
       "</div>"
      ],
      "text/plain": [
       "           FPD30        APPROVED          Rows       FPD30 rate          \n",
       "data_type  train  valid    train   valid train valid      train     valid\n",
       "MONTH                                                                    \n",
       "201701     169.0  169.0   1884.0  1885.0  2569  2571   0.089703  0.089655\n",
       "201702     150.0  150.0   1714.0  1714.0  2321  2321   0.087515  0.087515\n",
       "201703     187.0  186.0   1935.0  1933.0  2598  2596   0.096641  0.096223\n",
       "201705       0.0    0.0      2.0     2.0     4     3   0.000000  0.000000\n",
       "201706     182.0  182.0   1845.0  1846.0  2496  2497   0.098645  0.098592"
      ]
     },
     "metadata": {},
     "output_type": "display_data"
    }
   ],
   "source": [
    "data_summary = data.groupby([col_month,'data_type']).aggregate({\n",
    "    col_target:'sum',col_base:['sum','count']\n",
    "})\n",
    "data_summary.columns = [col_target,col_base,'Rows']\n",
    "data_summary[col_target+' rate'] = data_summary[col_target]/data_summary[col_base]\n",
    "display(data_summary)\n",
    "\n",
    "data_summary = data_summary.reset_index(level='data_type').pivot(columns='data_type')\n",
    "display(data_summary)\n",
    "data_summary.to_csv(output_folder+'/analysis/summary.csv')"
   ]
  },
  {
   "cell_type": "markdown",
   "metadata": {},
   "source": [
    "# Reweighting\n",
    "\n",
    "This part serves to set weights based on hit rates of each score (data source).\n",
    "\n",
    "If we have only limited number of observations for each score, but in production, we expect different hit rates, we can assign weights to each observation to give it such importance that it reflects the expected hit rates.\n",
    "\n",
    "E.g. if we have only 25% of hits in the development population for certain data source, but we expect it to be 50% in production, we assign weight=3 to this hit population, so now the non-hit population and hit population have the same sum of weights."
   ]
  },
  {
   "cell_type": "markdown",
   "metadata": {},
   "source": [
    "## Hit rates\n",
    "\n",
    "Calculates hit rates for each data source in our development data"
   ]
  },
  {
   "cell_type": "code",
   "execution_count": 27,
   "metadata": {
    "ExecuteTime": {
     "end_time": "2020-09-09T06:20:14.457558Z",
     "start_time": "2020-09-09T06:20:14.449580Z"
    }
   },
   "outputs": [],
   "source": [
    "hit_flags = data[[col_weight, col_month]].copy()\n",
    "for col in cols_pred:\n",
    "    hit_flags[col] = data[col].notnull()"
   ]
  },
  {
   "cell_type": "markdown",
   "metadata": {},
   "source": [
    "### Hits by score"
   ]
  },
  {
   "cell_type": "code",
   "execution_count": 28,
   "metadata": {
    "ExecuteTime": {
     "end_time": "2020-09-09T06:20:14.480497Z",
     "start_time": "2020-09-09T06:20:14.458556Z"
    }
   },
   "outputs": [
    {
     "data": {
      "text/html": [
       "<div>\n",
       "<style scoped>\n",
       "    .dataframe tbody tr th:only-of-type {\n",
       "        vertical-align: middle;\n",
       "    }\n",
       "\n",
       "    .dataframe tbody tr th {\n",
       "        vertical-align: top;\n",
       "    }\n",
       "\n",
       "    .dataframe thead th {\n",
       "        text-align: right;\n",
       "    }\n",
       "</style>\n",
       "<table border=\"1\" class=\"dataframe\">\n",
       "  <thead>\n",
       "    <tr style=\"text-align: right;\">\n",
       "      <th></th>\n",
       "      <th>Weighted hit rate %</th>\n",
       "    </tr>\n",
       "    <tr>\n",
       "      <th>Variable</th>\n",
       "      <th></th>\n",
       "    </tr>\n",
       "  </thead>\n",
       "  <tbody>\n",
       "    <tr>\n",
       "      <th>INTERNAL</th>\n",
       "      <td>100.000000</td>\n",
       "    </tr>\n",
       "    <tr>\n",
       "      <th>TELCO_A</th>\n",
       "      <td>27.466125</td>\n",
       "    </tr>\n",
       "    <tr>\n",
       "      <th>TELCO_B</th>\n",
       "      <td>39.918699</td>\n",
       "    </tr>\n",
       "    <tr>\n",
       "      <th>BUREAU_X</th>\n",
       "      <td>41.775068</td>\n",
       "    </tr>\n",
       "    <tr>\n",
       "      <th>BUREAU_Y</th>\n",
       "      <td>29.613821</td>\n",
       "    </tr>\n",
       "    <tr>\n",
       "      <th>UTILITY</th>\n",
       "      <td>74.966125</td>\n",
       "    </tr>\n",
       "    <tr>\n",
       "      <th>DEVICE</th>\n",
       "      <td>25.033875</td>\n",
       "    </tr>\n",
       "  </tbody>\n",
       "</table>\n",
       "</div>"
      ],
      "text/plain": [
       "          Weighted hit rate %\n",
       "Variable                     \n",
       "INTERNAL           100.000000\n",
       "TELCO_A             27.466125\n",
       "TELCO_B             39.918699\n",
       "BUREAU_X            41.775068\n",
       "BUREAU_Y            29.613821\n",
       "UTILITY             74.966125\n",
       "DEVICE              25.033875"
      ]
     },
     "metadata": {},
     "output_type": "display_data"
    }
   ],
   "source": [
    "hit_rates = []\n",
    "for col in cols_pred:\n",
    "    hit_rates.append({'Variable': col,\n",
    "                     'Weighted hit rate %': hit_flags[observable_mask & hit_flags[col]][col_weight].sum()*100 /\n",
    "                                      hit_flags[observable_mask][col_weight].sum(),\n",
    "                     })\n",
    "hit_rates = pd.DataFrame(hit_rates).set_index('Variable')\n",
    "display(hit_rates)\n",
    "hit_rates.to_csv(output_folder+'/predictors/hit_rates_unweighted.csv')"
   ]
  },
  {
   "cell_type": "markdown",
   "metadata": {},
   "source": [
    "### Hits by score in time"
   ]
  },
  {
   "cell_type": "code",
   "execution_count": 29,
   "metadata": {
    "ExecuteTime": {
     "end_time": "2020-09-09T06:20:14.545324Z",
     "start_time": "2020-09-09T06:20:14.481495Z"
    }
   },
   "outputs": [
    {
     "data": {
      "text/html": [
       "<div>\n",
       "<style scoped>\n",
       "    .dataframe tbody tr th:only-of-type {\n",
       "        vertical-align: middle;\n",
       "    }\n",
       "\n",
       "    .dataframe tbody tr th {\n",
       "        vertical-align: top;\n",
       "    }\n",
       "\n",
       "    .dataframe thead th {\n",
       "        text-align: right;\n",
       "    }\n",
       "</style>\n",
       "<table border=\"1\" class=\"dataframe\">\n",
       "  <thead>\n",
       "    <tr style=\"text-align: right;\">\n",
       "      <th>Month</th>\n",
       "      <th>201701</th>\n",
       "      <th>201702</th>\n",
       "      <th>201703</th>\n",
       "      <th>201705</th>\n",
       "      <th>201706</th>\n",
       "    </tr>\n",
       "    <tr>\n",
       "      <th>Variable</th>\n",
       "      <th></th>\n",
       "      <th></th>\n",
       "      <th></th>\n",
       "      <th></th>\n",
       "      <th></th>\n",
       "    </tr>\n",
       "  </thead>\n",
       "  <tbody>\n",
       "    <tr>\n",
       "      <th>INTERNAL</th>\n",
       "      <td>100.000000</td>\n",
       "      <td>100.000000</td>\n",
       "      <td>100.000000</td>\n",
       "      <td>100.0</td>\n",
       "      <td>100.0</td>\n",
       "    </tr>\n",
       "    <tr>\n",
       "      <th>TELCO_A</th>\n",
       "      <td>35.473600</td>\n",
       "      <td>37.893816</td>\n",
       "      <td>36.659772</td>\n",
       "      <td>0.0</td>\n",
       "      <td>0.0</td>\n",
       "    </tr>\n",
       "    <tr>\n",
       "      <th>TELCO_B</th>\n",
       "      <td>54.364553</td>\n",
       "      <td>52.567095</td>\n",
       "      <td>52.766287</td>\n",
       "      <td>0.0</td>\n",
       "      <td>0.0</td>\n",
       "    </tr>\n",
       "    <tr>\n",
       "      <th>BUREAU_X</th>\n",
       "      <td>55.611568</td>\n",
       "      <td>55.542590</td>\n",
       "      <td>55.997932</td>\n",
       "      <td>0.0</td>\n",
       "      <td>0.0</td>\n",
       "    </tr>\n",
       "    <tr>\n",
       "      <th>BUREAU_Y</th>\n",
       "      <td>39.373839</td>\n",
       "      <td>39.964994</td>\n",
       "      <td>39.219235</td>\n",
       "      <td>0.0</td>\n",
       "      <td>0.0</td>\n",
       "    </tr>\n",
       "    <tr>\n",
       "      <th>UTILITY</th>\n",
       "      <td>100.000000</td>\n",
       "      <td>100.000000</td>\n",
       "      <td>100.000000</td>\n",
       "      <td>0.0</td>\n",
       "      <td>0.0</td>\n",
       "    </tr>\n",
       "    <tr>\n",
       "      <th>DEVICE</th>\n",
       "      <td>0.000000</td>\n",
       "      <td>0.000000</td>\n",
       "      <td>0.000000</td>\n",
       "      <td>100.0</td>\n",
       "      <td>100.0</td>\n",
       "    </tr>\n",
       "  </tbody>\n",
       "</table>\n",
       "</div>"
      ],
      "text/plain": [
       "Month         201701      201702      201703  201705  201706\n",
       "Variable                                                    \n",
       "INTERNAL  100.000000  100.000000  100.000000   100.0   100.0\n",
       "TELCO_A    35.473600   37.893816   36.659772     0.0     0.0\n",
       "TELCO_B    54.364553   52.567095   52.766287     0.0     0.0\n",
       "BUREAU_X   55.611568   55.542590   55.997932     0.0     0.0\n",
       "BUREAU_Y   39.373839   39.964994   39.219235     0.0     0.0\n",
       "UTILITY   100.000000  100.000000  100.000000     0.0     0.0\n",
       "DEVICE      0.000000    0.000000    0.000000   100.0   100.0"
      ]
     },
     "metadata": {},
     "output_type": "display_data"
    }
   ],
   "source": [
    "hit_rates_time = []\n",
    "for col in cols_pred:\n",
    "    for month in hit_flags[col_month].unique():\n",
    "        hit_rates_time.append({'Variable': col,\n",
    "                               'Month': month,\n",
    "                               'Weighted hit rate %': hit_flags[observable_mask & hit_flags[col] & (hit_flags[col_month]==month)][col_weight].sum()*100 /\n",
    "                                                hit_flags[observable_mask & (hit_flags[col_month]==month)][col_weight].sum(),\n",
    "                              })\n",
    "hit_rates_time = pd.DataFrame(hit_rates_time).pivot(index='Variable', columns='Month', values='Weighted hit rate %').reindex(cols_pred)\n",
    "display(hit_rates_time)\n",
    "hit_rates_time.to_csv(output_folder+'/predictors/hit_rate_time.csv')"
   ]
  },
  {
   "cell_type": "markdown",
   "metadata": {},
   "source": [
    "### Combined hits\n",
    "\n",
    "Caluclate hit rate interactions, i.e. what are the shares of various data source hits."
   ]
  },
  {
   "cell_type": "code",
   "execution_count": 30,
   "metadata": {
    "ExecuteTime": {
     "end_time": "2020-09-09T06:20:14.572252Z",
     "start_time": "2020-09-09T06:20:14.546321Z"
    }
   },
   "outputs": [
    {
     "data": {
      "text/html": [
       "<div>\n",
       "<style scoped>\n",
       "    .dataframe tbody tr th:only-of-type {\n",
       "        vertical-align: middle;\n",
       "    }\n",
       "\n",
       "    .dataframe tbody tr th {\n",
       "        vertical-align: top;\n",
       "    }\n",
       "\n",
       "    .dataframe thead th {\n",
       "        text-align: right;\n",
       "    }\n",
       "</style>\n",
       "<table border=\"1\" class=\"dataframe\">\n",
       "  <thead>\n",
       "    <tr style=\"text-align: right;\">\n",
       "      <th></th>\n",
       "      <th></th>\n",
       "      <th></th>\n",
       "      <th></th>\n",
       "      <th></th>\n",
       "      <th></th>\n",
       "      <th></th>\n",
       "      <th>Weighted obs %</th>\n",
       "    </tr>\n",
       "    <tr>\n",
       "      <th>INTERNAL</th>\n",
       "      <th>TELCO_A</th>\n",
       "      <th>TELCO_B</th>\n",
       "      <th>BUREAU_X</th>\n",
       "      <th>BUREAU_Y</th>\n",
       "      <th>UTILITY</th>\n",
       "      <th>DEVICE</th>\n",
       "      <th></th>\n",
       "    </tr>\n",
       "  </thead>\n",
       "  <tbody>\n",
       "    <tr>\n",
       "      <th rowspan=\"13\" valign=\"top\">True</th>\n",
       "      <th rowspan=\"9\" valign=\"top\">False</th>\n",
       "      <th rowspan=\"5\" valign=\"top\">False</th>\n",
       "      <th rowspan=\"3\" valign=\"top\">False</th>\n",
       "      <th rowspan=\"2\" valign=\"top\">False</th>\n",
       "      <th>False</th>\n",
       "      <th>True</th>\n",
       "      <td>25.033875</td>\n",
       "    </tr>\n",
       "    <tr>\n",
       "      <th>True</th>\n",
       "      <th>False</th>\n",
       "      <td>2.093496</td>\n",
       "    </tr>\n",
       "    <tr>\n",
       "      <th>True</th>\n",
       "      <th>True</th>\n",
       "      <th>False</th>\n",
       "      <td>1.253388</td>\n",
       "    </tr>\n",
       "    <tr>\n",
       "      <th rowspan=\"2\" valign=\"top\">True</th>\n",
       "      <th>False</th>\n",
       "      <th>True</th>\n",
       "      <th>False</th>\n",
       "      <td>2.682927</td>\n",
       "    </tr>\n",
       "    <tr>\n",
       "      <th>True</th>\n",
       "      <th>True</th>\n",
       "      <th>False</th>\n",
       "      <td>1.551491</td>\n",
       "    </tr>\n",
       "    <tr>\n",
       "      <th rowspan=\"4\" valign=\"top\">True</th>\n",
       "      <th rowspan=\"2\" valign=\"top\">False</th>\n",
       "      <th>False</th>\n",
       "      <th>True</th>\n",
       "      <th>False</th>\n",
       "      <td>10.365854</td>\n",
       "    </tr>\n",
       "    <tr>\n",
       "      <th>True</th>\n",
       "      <th>True</th>\n",
       "      <th>False</th>\n",
       "      <td>7.025745</td>\n",
       "    </tr>\n",
       "    <tr>\n",
       "      <th rowspan=\"2\" valign=\"top\">True</th>\n",
       "      <th>False</th>\n",
       "      <th>True</th>\n",
       "      <th>False</th>\n",
       "      <td>13.482385</td>\n",
       "    </tr>\n",
       "    <tr>\n",
       "      <th>True</th>\n",
       "      <th>True</th>\n",
       "      <th>False</th>\n",
       "      <td>9.044715</td>\n",
       "    </tr>\n",
       "    <tr>\n",
       "      <th rowspan=\"4\" valign=\"top\">True</th>\n",
       "      <th rowspan=\"4\" valign=\"top\">False</th>\n",
       "      <th rowspan=\"2\" valign=\"top\">False</th>\n",
       "      <th>False</th>\n",
       "      <th>True</th>\n",
       "      <th>False</th>\n",
       "      <td>7.567751</td>\n",
       "    </tr>\n",
       "    <tr>\n",
       "      <th>True</th>\n",
       "      <th>True</th>\n",
       "      <th>False</th>\n",
       "      <td>4.884824</td>\n",
       "    </tr>\n",
       "    <tr>\n",
       "      <th rowspan=\"2\" valign=\"top\">True</th>\n",
       "      <th>False</th>\n",
       "      <th>True</th>\n",
       "      <th>False</th>\n",
       "      <td>9.159892</td>\n",
       "    </tr>\n",
       "    <tr>\n",
       "      <th>True</th>\n",
       "      <th>True</th>\n",
       "      <th>False</th>\n",
       "      <td>5.853659</td>\n",
       "    </tr>\n",
       "  </tbody>\n",
       "</table>\n",
       "</div>"
      ],
      "text/plain": [
       "                                                           Weighted obs %\n",
       "INTERNAL TELCO_A TELCO_B BUREAU_X BUREAU_Y UTILITY DEVICE                \n",
       "True     False   False   False    False    False   True         25.033875\n",
       "                                           True    False         2.093496\n",
       "                                  True     True    False         1.253388\n",
       "                         True     False    True    False         2.682927\n",
       "                                  True     True    False         1.551491\n",
       "                 True    False    False    True    False        10.365854\n",
       "                                  True     True    False         7.025745\n",
       "                         True     False    True    False        13.482385\n",
       "                                  True     True    False         9.044715\n",
       "         True    False   False    False    True    False         7.567751\n",
       "                                  True     True    False         4.884824\n",
       "                         True     False    True    False         9.159892\n",
       "                                  True     True    False         5.853659"
      ]
     },
     "metadata": {},
     "output_type": "display_data"
    }
   ],
   "source": [
    "hit_rates_comb = pd.DataFrame(hit_flags[observable_mask].groupby(cols_pred)[col_weight].sum()*100 /\n",
    "                              hit_flags[observable_mask][col_weight].sum()).rename(columns={col_weight:'Weighted obs %'})\n",
    "display(hit_rates_comb)\n",
    "hit_rates_comb.to_csv(output_folder+'/predictors/hit_rate_interactions.csv')"
   ]
  },
  {
   "cell_type": "markdown",
   "metadata": {},
   "source": [
    "## Setting desired situation\n",
    "\n",
    "Now we set what are the hit rates that we expect, i.e. what will be the situation in production."
   ]
  },
  {
   "cell_type": "code",
   "execution_count": 31,
   "metadata": {
    "ExecuteTime": {
     "end_time": "2020-09-09T06:20:14.577238Z",
     "start_time": "2020-09-09T06:20:14.573249Z"
    }
   },
   "outputs": [],
   "source": [
    "hit_desired = hit_rates.copy()\n",
    "hit_desired['Desired hit rate %'] = np.nan"
   ]
  },
  {
   "cell_type": "markdown",
   "metadata": {},
   "source": [
    "### Setting desired hit rates in code\n",
    "\n",
    "Either we can hardcode these numbers into the dataframe with desired hit rates..."
   ]
  },
  {
   "cell_type": "code",
   "execution_count": 32,
   "metadata": {
    "ExecuteTime": {
     "end_time": "2020-09-09T06:20:14.585216Z",
     "start_time": "2020-09-09T06:20:14.578236Z"
    }
   },
   "outputs": [],
   "source": [
    "hit_desired.loc['INTERNAL','Desired hit rate %'] = 100\n",
    "hit_desired.loc['TELCO_A','Desired hit rate %'] = 50\n",
    "hit_desired.loc['TELCO_B','Desired hit rate %'] = 50\n",
    "hit_desired.loc['BUREAU_X','Desired hit rate %'] = 40\n",
    "hit_desired.loc['BUREAU_Y','Desired hit rate %'] = 40\n",
    "hit_desired.loc['UTILITY','Desired hit rate %'] = 65\n",
    "hit_desired.loc['DEVICE','Desired hit rate %'] = 50"
   ]
  },
  {
   "cell_type": "markdown",
   "metadata": {},
   "source": [
    "### Interactive tool\n",
    "\n",
    "...or we can use interactive qgrid table to set it in nicer GUI. **Don't forget to run the piece of code under the table which saves the changed values into the dataframe.**"
   ]
  },
  {
   "cell_type": "code",
   "execution_count": 33,
   "metadata": {
    "ExecuteTime": {
     "end_time": "2020-09-09T06:20:14.618951Z",
     "start_time": "2020-09-09T06:20:14.587213Z"
    }
   },
   "outputs": [
    {
     "data": {
      "application/vnd.jupyter.widget-view+json": {
       "model_id": "11539380bf8041638148d4f93b5d2667",
       "version_major": 2,
       "version_minor": 0
      },
      "text/plain": [
       "QgridWidget(grid_options={'fullWidthRows': True, 'syncColumnCellResize': True, 'forceFitColumns': True, 'defau…"
      ]
     },
     "metadata": {},
     "output_type": "display_data"
    }
   ],
   "source": [
    "import qgrid\n",
    "\n",
    "hit_widget = qgrid.show_grid(hit_desired, \n",
    "                             column_options={'editable':False}, \n",
    "                             column_definitions={'Desired hit rate %':{'editable':True}},\n",
    "                            )\n",
    "hit_widget"
   ]
  },
  {
   "cell_type": "markdown",
   "metadata": {},
   "source": [
    "Save the changed values:"
   ]
  },
  {
   "cell_type": "code",
   "execution_count": 34,
   "metadata": {
    "ExecuteTime": {
     "end_time": "2020-09-09T06:20:14.623937Z",
     "start_time": "2020-09-09T06:20:14.619949Z"
    }
   },
   "outputs": [],
   "source": [
    "hit_desired = hit_widget.get_changed_df()"
   ]
  },
  {
   "cell_type": "markdown",
   "metadata": {},
   "source": [
    "## Assign weights to reflect desired situation\n",
    "\n",
    "The weights are caluclated, so the weighted hit rates (i.e. hit rates when each observation's importance is multiplied by the newly calculated weights) reflect the desired (expected production) hit rates from `hit_desired` dataframe.\n",
    "\n",
    "**Assumptions:** Hit rates of individual scores are mutually independent and time consistent."
   ]
  },
  {
   "cell_type": "code",
   "execution_count": 35,
   "metadata": {
    "ExecuteTime": {
     "end_time": "2020-09-09T06:20:14.629921Z",
     "start_time": "2020-09-09T06:20:14.624935Z"
    }
   },
   "outputs": [],
   "source": [
    "# data[col_weight] = 1"
   ]
  },
  {
   "cell_type": "code",
   "execution_count": 36,
   "metadata": {
    "ExecuteTime": {
     "end_time": "2020-09-09T06:20:14.654788Z",
     "start_time": "2020-09-09T06:20:14.630918Z"
    }
   },
   "outputs": [],
   "source": [
    "for var_name, hit_row in hit_desired.iterrows():\n",
    "    if (hit_row['Desired hit rate %'] == 100) or (hit_row['Weighted hit rate %'] == 100):\n",
    "        coef = 1\n",
    "    else:\n",
    "        coef = (hit_row['Desired hit rate %'] * data.loc[observable_mask & pd.isnull(data[var_name]), col_weight].sum()) /\\\n",
    "               ((100-hit_row['Desired hit rate %']) * data.loc[observable_mask & pd.notnull(data[var_name]), col_weight].sum())\n",
    "    data.loc[pd.notnull(data[var_name]), col_weight] = \\\n",
    "        data.loc[pd.notnull(data[var_name]), col_weight] * coef\n",
    "weight_calib_coef = data[col_weight].count() / data[col_weight].sum()\n",
    "data[col_weight] = data[col_weight] * weight_calib_coef"
   ]
  },
  {
   "cell_type": "code",
   "execution_count": 37,
   "metadata": {
    "ExecuteTime": {
     "end_time": "2020-09-09T06:20:14.683711Z",
     "start_time": "2020-09-09T06:20:14.655786Z"
    }
   },
   "outputs": [
    {
     "data": {
      "text/html": [
       "<div>\n",
       "<style scoped>\n",
       "    .dataframe tbody tr th:only-of-type {\n",
       "        vertical-align: middle;\n",
       "    }\n",
       "\n",
       "    .dataframe tbody tr th {\n",
       "        vertical-align: top;\n",
       "    }\n",
       "\n",
       "    .dataframe thead th {\n",
       "        text-align: right;\n",
       "    }\n",
       "</style>\n",
       "<table border=\"1\" class=\"dataframe\">\n",
       "  <thead>\n",
       "    <tr style=\"text-align: right;\">\n",
       "      <th></th>\n",
       "      <th>Weighted hit rate %</th>\n",
       "    </tr>\n",
       "    <tr>\n",
       "      <th>Variable</th>\n",
       "      <th></th>\n",
       "    </tr>\n",
       "  </thead>\n",
       "  <tbody>\n",
       "    <tr>\n",
       "      <th>INTERNAL</th>\n",
       "      <td>100.000000</td>\n",
       "    </tr>\n",
       "    <tr>\n",
       "      <th>TELCO_A</th>\n",
       "      <td>19.623555</td>\n",
       "    </tr>\n",
       "    <tr>\n",
       "      <th>TELCO_B</th>\n",
       "      <td>28.345226</td>\n",
       "    </tr>\n",
       "    <tr>\n",
       "      <th>BUREAU_X</th>\n",
       "      <td>23.255337</td>\n",
       "    </tr>\n",
       "    <tr>\n",
       "      <th>BUREAU_Y</th>\n",
       "      <td>22.929610</td>\n",
       "    </tr>\n",
       "    <tr>\n",
       "      <th>UTILITY</th>\n",
       "      <td>50.000000</td>\n",
       "    </tr>\n",
       "    <tr>\n",
       "      <th>DEVICE</th>\n",
       "      <td>50.000000</td>\n",
       "    </tr>\n",
       "  </tbody>\n",
       "</table>\n",
       "</div>"
      ],
      "text/plain": [
       "          Weighted hit rate %\n",
       "Variable                     \n",
       "INTERNAL           100.000000\n",
       "TELCO_A             19.623555\n",
       "TELCO_B             28.345226\n",
       "BUREAU_X            23.255337\n",
       "BUREAU_Y            22.929610\n",
       "UTILITY             50.000000\n",
       "DEVICE              50.000000"
      ]
     },
     "metadata": {},
     "output_type": "display_data"
    }
   ],
   "source": [
    "hit_flags = data[[col_weight, col_month]].copy()\n",
    "for col in cols_pred:\n",
    "    hit_flags[col] = data[col].notnull()\n",
    "\n",
    "hit_rates_w = []\n",
    "for col in cols_pred:\n",
    "    hit_rates_w.append({'Variable': col,\n",
    "                     'Weighted hit rate %': hit_flags[observable_mask & hit_flags[col]][col_weight].sum()*100 /\n",
    "                                      hit_flags[observable_mask][col_weight].sum(),\n",
    "                     })\n",
    "hit_rates_w = pd.DataFrame(hit_rates_w).set_index('Variable')\n",
    "display(hit_rates_w)\n",
    "hit_rates_w.to_csv(output_folder+'/predictors/hit_rates_weighted.csv')"
   ]
  },
  {
   "cell_type": "markdown",
   "metadata": {},
   "source": [
    "*In the demo data that we have here, the assumptions of independence and time consistency are not fullfiled. Variable DEVICE is observable only in a month when no other variable is observable. This means that the final weights are not able to mimick the desired hit rates*"
   ]
  },
  {
   "cell_type": "markdown",
   "metadata": {},
   "source": [
    "# Datasources analysis\n",
    "\n",
    "We will analyze each score which can potentially enter the General Model. These scores were defined in list `cols_pred` above."
   ]
  },
  {
   "cell_type": "markdown",
   "metadata": {},
   "source": [
    "## Univariate power of raw scores\n",
    "\n",
    "For each score, we calculate its Gini on such subset, where the target is observable and that particular score is not null. We then see what is the power of the score when we have it (i.e. on its *\"hit\" population*, where hit means that the datasource which returns the score was queried and valid score was returned)"
   ]
  },
  {
   "cell_type": "code",
   "execution_count": 38,
   "metadata": {
    "ExecuteTime": {
     "end_time": "2020-09-09T06:20:14.734607Z",
     "start_time": "2020-09-09T06:20:14.684709Z"
    }
   },
   "outputs": [
    {
     "data": {
      "text/html": [
       "<div>\n",
       "<style scoped>\n",
       "    .dataframe tbody tr th:only-of-type {\n",
       "        vertical-align: middle;\n",
       "    }\n",
       "\n",
       "    .dataframe tbody tr th {\n",
       "        vertical-align: top;\n",
       "    }\n",
       "\n",
       "    .dataframe thead th {\n",
       "        text-align: right;\n",
       "    }\n",
       "</style>\n",
       "<table border=\"1\" class=\"dataframe\">\n",
       "  <thead>\n",
       "    <tr style=\"text-align: right;\">\n",
       "      <th></th>\n",
       "      <th>Variable</th>\n",
       "      <th>Gini</th>\n",
       "    </tr>\n",
       "  </thead>\n",
       "  <tbody>\n",
       "    <tr>\n",
       "      <th>0</th>\n",
       "      <td>INTERNAL</td>\n",
       "      <td>0.352798</td>\n",
       "    </tr>\n",
       "    <tr>\n",
       "      <th>1</th>\n",
       "      <td>TELCO_A</td>\n",
       "      <td>0.119879</td>\n",
       "    </tr>\n",
       "    <tr>\n",
       "      <th>2</th>\n",
       "      <td>TELCO_B</td>\n",
       "      <td>0.182054</td>\n",
       "    </tr>\n",
       "    <tr>\n",
       "      <th>3</th>\n",
       "      <td>BUREAU_X</td>\n",
       "      <td>0.066478</td>\n",
       "    </tr>\n",
       "    <tr>\n",
       "      <th>4</th>\n",
       "      <td>BUREAU_Y</td>\n",
       "      <td>0.161644</td>\n",
       "    </tr>\n",
       "    <tr>\n",
       "      <th>5</th>\n",
       "      <td>DEVICE</td>\n",
       "      <td>0.194205</td>\n",
       "    </tr>\n",
       "  </tbody>\n",
       "</table>\n",
       "</div>"
      ],
      "text/plain": [
       "   Variable      Gini\n",
       "0  INTERNAL  0.352798\n",
       "1   TELCO_A  0.119879\n",
       "2   TELCO_B  0.182054\n",
       "3  BUREAU_X  0.066478\n",
       "4  BUREAU_Y  0.161644\n",
       "5    DEVICE  0.194205"
      ]
     },
     "metadata": {},
     "output_type": "display_data"
    }
   ],
   "source": [
    "from scoring.metrics import gini\n",
    "\n",
    "uni_ginis = []\n",
    "for col in cols_pred:\n",
    "    if pd.api.types.is_numeric_dtype(data[col].dtype):\n",
    "        col_gini = np.abs(gini(data[pd.notnull(data[col]) & observable_mask][col_target],\n",
    "                               data[pd.notnull(data[col]) & observable_mask][col],\n",
    "                               data[pd.notnull(data[col]) & observable_mask][col_weight]))\n",
    "        uni_ginis.append({'Variable':col,\n",
    "                          'Gini': col_gini,\n",
    "                        })\n",
    "uni_ginis = pd.DataFrame(uni_ginis)[['Variable','Gini']]\n",
    "display(uni_ginis)\n",
    "uni_ginis.to_csv(output_folder+'/predictors/univariate_gini.csv')"
   ]
  },
  {
   "cell_type": "markdown",
   "metadata": {},
   "source": [
    "## Score transformation\n",
    "\n",
    "Each datasource can return score in a different format. \n",
    "- Sometimes it is probability of default or non-default (and these can have various definitions for each source).\n",
    "- Sometimes it is logit, i.e. real number which after expit transformation becomes the probability.\n",
    "- Sometimes it is logit, but linearly transformed to fit into a specific scale.\n",
    "- Sometimes the logic is not known but the score is somehow correlated with defaults.\n",
    "- Sometimes there are specific \"special values\" which are out of standard score scale and which are telling us that something non-standard occured (e.g. error codes)."
   ]
  },
  {
   "cell_type": "markdown",
   "metadata": {},
   "source": [
    "### Inverted logit to logit\n",
    "\n",
    "`logit(Probability of default) = -logit(Probability of non-default)`"
   ]
  },
  {
   "cell_type": "code",
   "execution_count": 39,
   "metadata": {
    "ExecuteTime": {
     "end_time": "2020-09-09T06:20:14.739562Z",
     "start_time": "2020-09-09T06:20:14.735572Z"
    }
   },
   "outputs": [],
   "source": [
    "for col in [\n",
    "    'INTERNAL'\n",
    "]:\n",
    "    data[col+'_LIN'] = -data[col]"
   ]
  },
  {
   "cell_type": "markdown",
   "metadata": {},
   "source": [
    "### Logit from PD"
   ]
  },
  {
   "cell_type": "code",
   "execution_count": 40,
   "metadata": {
    "ExecuteTime": {
     "end_time": "2020-09-09T06:20:14.745570Z",
     "start_time": "2020-09-09T06:20:14.740586Z"
    }
   },
   "outputs": [],
   "source": [
    "for col in [\n",
    "    'TELCO_A',\n",
    "]:\n",
    "    data[col+'_LIN'] = logit(data[col])"
   ]
  },
  {
   "cell_type": "markdown",
   "metadata": {},
   "source": [
    "### Logit from inverted PD"
   ]
  },
  {
   "cell_type": "code",
   "execution_count": 41,
   "metadata": {
    "ExecuteTime": {
     "end_time": "2020-09-09T06:20:14.753524Z",
     "start_time": "2020-09-09T06:20:14.746558Z"
    }
   },
   "outputs": [],
   "source": [
    "for col in [\n",
    "    'BUREAU_Y',\n",
    "    'DEVICE',\n",
    "]:\n",
    "    data[col+'_LIN'] = logit(1-data[col])"
   ]
  },
  {
   "cell_type": "markdown",
   "metadata": {},
   "source": [
    "### Logit by linear scaling\n",
    "\n",
    "when the score is logit of PD, but linearly shifted, we run logistic regression with just this score as sole predictor to calculate proper intercept and slope to shift it back to calibrate it to our default"
   ]
  },
  {
   "cell_type": "code",
   "execution_count": 42,
   "metadata": {
    "ExecuteTime": {
     "end_time": "2020-09-09T06:20:14.773503Z",
     "start_time": "2020-09-09T06:20:14.754522Z"
    }
   },
   "outputs": [
    {
     "name": "stdout",
     "output_type": "stream",
     "text": [
      "Intercept: 5.77010615757194, Slope: -0.13059660273979498\n"
     ]
    }
   ],
   "source": [
    "for col in [\n",
    "    'TELCO_B',\n",
    "]:\n",
    "    telco_b_scaler = LogisticRegression(penalty = 'l2', C = 1000, solver='liblinear')\n",
    "    telco_b_scaler.fit(data[(data[col].notnull()) & observable_mask][[col]],\n",
    "                       data[(data[col].notnull()) & observable_mask][col_target])\n",
    "    print(f'Intercept: {telco_b_scaler.intercept_[0]}, Slope: {telco_b_scaler.coef_[0][0]}')\n",
    "    data[col+'_LIN'] = telco_b_scaler.intercept_[0] + telco_b_scaler.coef_[0][0] * data[col]"
   ]
  },
  {
   "cell_type": "markdown",
   "metadata": {},
   "source": [
    "### WOE for unknown scale and categorical\n",
    "\n",
    "If the score has unknown scale or is categorical, we can calculate Weight of Evidence as with common predictors. We will use the Interactive grouping for this.\n",
    "\n",
    "A new instance of **InteractiveGrouping** class is created. There are two important parameters:\n",
    " - *colums*: list of numerical columns to be grouped\n",
    " - *cat_columns*: list of categorical columns to be grouped\n",
    " - *group_count*: (maximal) number of final groups of each variable\n",
    " - *min_samples*: minimal number of observations in each group of each numerical variable\n",
    " - *min_samples_cat*: minimal number of observations in each group of each categorical variable\n",
    "\n",
    "Then you open the interactive environment using **display** method. The important parameters are:\n",
    " - *train_t*: training dataset the grouping should be based on\n",
    " - *colums*: list of numerical columns to be grouped and displayed\n",
    " - *cat_columns*: list of categorical columns to be grouped and displayed\n",
    " - *target_column*: as the grouping is supervised and calculates WOE values, you need to specify the target column name\n",
    " - *w_column*: vector of weights of obervation (if not filled, grouping behaves as there are equal weights)\n",
    " - *filename*: use only if you want to load a grouping that you created and saved previously\n",
    " - *group_count*: (maximal) number of final groups of each variable\n",
    " - *min_samples*: minimal number of observations in each group of each numerical variable\n",
    " - *min_samples_cat*: minimal number of observations in each group of each categorical variable\n",
    "\n",
    "In the interactive environment, you can see four sections. From top to bottom:\n",
    "- **Chart section**: \n",
    " - For **numerical variables**, there is chart with equifrequncy fine classing (observations as bars, default rate as line), equidistant fine classing and the final groups.\n",
    " - For **categorical varibles** there is chart with each of the original categorical values and a chart with the final groups.\n",
    "- **Variable section**: here you can choose tab with varible which you want to edit. \n",
    " - For **numerical variables**, the tab contains of the borders of the final groups. You can edit these borders, add new with [+] button and remove them with [-] button. You can also manually set WOE for nulls. There is also a button to perform automatic grouping on the selected variable.\n",
    " - For **categorical variables**, the tab contains of two tables. In the top table, you can see some statistics for each of the categorical values. In the rightmost column, there is the number of group which is assigned to the category. You can edit this value (doubleclick on it) to change the grouping. In the bottom table you can see statistics for the groups. It is not editable. There is also a button to perform automatic grouping on the selected variable.\n",
    "- **Save section**: here you can save the grouping. Edit the file name and click the [Apply and Save] button.\n",
    "- **Settings section**: If you perform automatic grouping on some varible, the grouping algorithm uses some parameters. These parameters can be set here. You can set how many final groups do you want to have and what is their minimal size."
   ]
  },
  {
   "cell_type": "code",
   "execution_count": 43,
   "metadata": {
    "ExecuteTime": {
     "end_time": "2020-09-09T06:20:15.814137Z",
     "start_time": "2020-09-09T06:20:14.774471Z"
    }
   },
   "outputs": [
    {
     "data": {
      "text/html": [
       "\n",
       "        <style>\n",
       "        .output_wrapper button.btn.btn-default,\n",
       "        .output_wrapper .ui-dialog-titlebar {\n",
       "          display: none;\n",
       "        }\n",
       "        </style>"
      ],
      "text/plain": [
       "<IPython.core.display.HTML object>"
      ]
     },
     "metadata": {},
     "output_type": "display_data"
    },
    {
     "data": {
      "application/javascript": [
       "/* Put everything inside the global mpl namespace */\n",
       "window.mpl = {};\n",
       "\n",
       "\n",
       "mpl.get_websocket_type = function() {\n",
       "    if (typeof(WebSocket) !== 'undefined') {\n",
       "        return WebSocket;\n",
       "    } else if (typeof(MozWebSocket) !== 'undefined') {\n",
       "        return MozWebSocket;\n",
       "    } else {\n",
       "        alert('Your browser does not have WebSocket support. ' +\n",
       "              'Please try Chrome, Safari or Firefox ≥ 6. ' +\n",
       "              'Firefox 4 and 5 are also supported but you ' +\n",
       "              'have to enable WebSockets in about:config.');\n",
       "    };\n",
       "}\n",
       "\n",
       "mpl.figure = function(figure_id, websocket, ondownload, parent_element) {\n",
       "    this.id = figure_id;\n",
       "\n",
       "    this.ws = websocket;\n",
       "\n",
       "    this.supports_binary = (this.ws.binaryType != undefined);\n",
       "\n",
       "    if (!this.supports_binary) {\n",
       "        var warnings = document.getElementById(\"mpl-warnings\");\n",
       "        if (warnings) {\n",
       "            warnings.style.display = 'block';\n",
       "            warnings.textContent = (\n",
       "                \"This browser does not support binary websocket messages. \" +\n",
       "                    \"Performance may be slow.\");\n",
       "        }\n",
       "    }\n",
       "\n",
       "    this.imageObj = new Image();\n",
       "\n",
       "    this.context = undefined;\n",
       "    this.message = undefined;\n",
       "    this.canvas = undefined;\n",
       "    this.rubberband_canvas = undefined;\n",
       "    this.rubberband_context = undefined;\n",
       "    this.format_dropdown = undefined;\n",
       "\n",
       "    this.image_mode = 'full';\n",
       "\n",
       "    this.root = $('<div/>');\n",
       "    this._root_extra_style(this.root)\n",
       "    this.root.attr('style', 'display: inline-block');\n",
       "\n",
       "    $(parent_element).append(this.root);\n",
       "\n",
       "    this._init_header(this);\n",
       "    this._init_canvas(this);\n",
       "    this._init_toolbar(this);\n",
       "\n",
       "    var fig = this;\n",
       "\n",
       "    this.waiting = false;\n",
       "\n",
       "    this.ws.onopen =  function () {\n",
       "            fig.send_message(\"supports_binary\", {value: fig.supports_binary});\n",
       "            fig.send_message(\"send_image_mode\", {});\n",
       "            if (mpl.ratio != 1) {\n",
       "                fig.send_message(\"set_dpi_ratio\", {'dpi_ratio': mpl.ratio});\n",
       "            }\n",
       "            fig.send_message(\"refresh\", {});\n",
       "        }\n",
       "\n",
       "    this.imageObj.onload = function() {\n",
       "            if (fig.image_mode == 'full') {\n",
       "                // Full images could contain transparency (where diff images\n",
       "                // almost always do), so we need to clear the canvas so that\n",
       "                // there is no ghosting.\n",
       "                fig.context.clearRect(0, 0, fig.canvas.width, fig.canvas.height);\n",
       "            }\n",
       "            fig.context.drawImage(fig.imageObj, 0, 0);\n",
       "        };\n",
       "\n",
       "    this.imageObj.onunload = function() {\n",
       "        fig.ws.close();\n",
       "    }\n",
       "\n",
       "    this.ws.onmessage = this._make_on_message_function(this);\n",
       "\n",
       "    this.ondownload = ondownload;\n",
       "}\n",
       "\n",
       "mpl.figure.prototype._init_header = function() {\n",
       "    var titlebar = $(\n",
       "        '<div class=\"ui-dialog-titlebar ui-widget-header ui-corner-all ' +\n",
       "        'ui-helper-clearfix\"/>');\n",
       "    var titletext = $(\n",
       "        '<div class=\"ui-dialog-title\" style=\"width: 100%; ' +\n",
       "        'text-align: center; padding: 3px;\"/>');\n",
       "    titlebar.append(titletext)\n",
       "    this.root.append(titlebar);\n",
       "    this.header = titletext[0];\n",
       "}\n",
       "\n",
       "\n",
       "\n",
       "mpl.figure.prototype._canvas_extra_style = function(canvas_div) {\n",
       "\n",
       "}\n",
       "\n",
       "\n",
       "mpl.figure.prototype._root_extra_style = function(canvas_div) {\n",
       "\n",
       "}\n",
       "\n",
       "mpl.figure.prototype._init_canvas = function() {\n",
       "    var fig = this;\n",
       "\n",
       "    var canvas_div = $('<div/>');\n",
       "\n",
       "    canvas_div.attr('style', 'position: relative; clear: both; outline: 0');\n",
       "\n",
       "    function canvas_keyboard_event(event) {\n",
       "        return fig.key_event(event, event['data']);\n",
       "    }\n",
       "\n",
       "    canvas_div.keydown('key_press', canvas_keyboard_event);\n",
       "    canvas_div.keyup('key_release', canvas_keyboard_event);\n",
       "    this.canvas_div = canvas_div\n",
       "    this._canvas_extra_style(canvas_div)\n",
       "    this.root.append(canvas_div);\n",
       "\n",
       "    var canvas = $('<canvas/>');\n",
       "    canvas.addClass('mpl-canvas');\n",
       "    canvas.attr('style', \"left: 0; top: 0; z-index: 0; outline: 0\")\n",
       "\n",
       "    this.canvas = canvas[0];\n",
       "    this.context = canvas[0].getContext(\"2d\");\n",
       "\n",
       "    var backingStore = this.context.backingStorePixelRatio ||\n",
       "\tthis.context.webkitBackingStorePixelRatio ||\n",
       "\tthis.context.mozBackingStorePixelRatio ||\n",
       "\tthis.context.msBackingStorePixelRatio ||\n",
       "\tthis.context.oBackingStorePixelRatio ||\n",
       "\tthis.context.backingStorePixelRatio || 1;\n",
       "\n",
       "    mpl.ratio = (window.devicePixelRatio || 1) / backingStore;\n",
       "\n",
       "    var rubberband = $('<canvas/>');\n",
       "    rubberband.attr('style', \"position: absolute; left: 0; top: 0; z-index: 1;\")\n",
       "\n",
       "    var pass_mouse_events = true;\n",
       "\n",
       "    canvas_div.resizable({\n",
       "        start: function(event, ui) {\n",
       "            pass_mouse_events = false;\n",
       "        },\n",
       "        resize: function(event, ui) {\n",
       "            fig.request_resize(ui.size.width, ui.size.height);\n",
       "        },\n",
       "        stop: function(event, ui) {\n",
       "            pass_mouse_events = true;\n",
       "            fig.request_resize(ui.size.width, ui.size.height);\n",
       "        },\n",
       "    });\n",
       "\n",
       "    function mouse_event_fn(event) {\n",
       "        if (pass_mouse_events)\n",
       "            return fig.mouse_event(event, event['data']);\n",
       "    }\n",
       "\n",
       "    rubberband.mousedown('button_press', mouse_event_fn);\n",
       "    rubberband.mouseup('button_release', mouse_event_fn);\n",
       "    // Throttle sequential mouse events to 1 every 20ms.\n",
       "    rubberband.mousemove('motion_notify', mouse_event_fn);\n",
       "\n",
       "    rubberband.mouseenter('figure_enter', mouse_event_fn);\n",
       "    rubberband.mouseleave('figure_leave', mouse_event_fn);\n",
       "\n",
       "    canvas_div.on(\"wheel\", function (event) {\n",
       "        event = event.originalEvent;\n",
       "        event['data'] = 'scroll'\n",
       "        if (event.deltaY < 0) {\n",
       "            event.step = 1;\n",
       "        } else {\n",
       "            event.step = -1;\n",
       "        }\n",
       "        mouse_event_fn(event);\n",
       "    });\n",
       "\n",
       "    canvas_div.append(canvas);\n",
       "    canvas_div.append(rubberband);\n",
       "\n",
       "    this.rubberband = rubberband;\n",
       "    this.rubberband_canvas = rubberband[0];\n",
       "    this.rubberband_context = rubberband[0].getContext(\"2d\");\n",
       "    this.rubberband_context.strokeStyle = \"#000000\";\n",
       "\n",
       "    this._resize_canvas = function(width, height) {\n",
       "        // Keep the size of the canvas, canvas container, and rubber band\n",
       "        // canvas in synch.\n",
       "        canvas_div.css('width', width)\n",
       "        canvas_div.css('height', height)\n",
       "\n",
       "        canvas.attr('width', width * mpl.ratio);\n",
       "        canvas.attr('height', height * mpl.ratio);\n",
       "        canvas.attr('style', 'width: ' + width + 'px; height: ' + height + 'px;');\n",
       "\n",
       "        rubberband.attr('width', width);\n",
       "        rubberband.attr('height', height);\n",
       "    }\n",
       "\n",
       "    // Set the figure to an initial 600x600px, this will subsequently be updated\n",
       "    // upon first draw.\n",
       "    this._resize_canvas(600, 600);\n",
       "\n",
       "    // Disable right mouse context menu.\n",
       "    $(this.rubberband_canvas).bind(\"contextmenu\",function(e){\n",
       "        return false;\n",
       "    });\n",
       "\n",
       "    function set_focus () {\n",
       "        canvas.focus();\n",
       "        canvas_div.focus();\n",
       "    }\n",
       "\n",
       "    window.setTimeout(set_focus, 100);\n",
       "}\n",
       "\n",
       "mpl.figure.prototype._init_toolbar = function() {\n",
       "    var fig = this;\n",
       "\n",
       "    var nav_element = $('<div/>');\n",
       "    nav_element.attr('style', 'width: 100%');\n",
       "    this.root.append(nav_element);\n",
       "\n",
       "    // Define a callback function for later on.\n",
       "    function toolbar_event(event) {\n",
       "        return fig.toolbar_button_onclick(event['data']);\n",
       "    }\n",
       "    function toolbar_mouse_event(event) {\n",
       "        return fig.toolbar_button_onmouseover(event['data']);\n",
       "    }\n",
       "\n",
       "    for(var toolbar_ind in mpl.toolbar_items) {\n",
       "        var name = mpl.toolbar_items[toolbar_ind][0];\n",
       "        var tooltip = mpl.toolbar_items[toolbar_ind][1];\n",
       "        var image = mpl.toolbar_items[toolbar_ind][2];\n",
       "        var method_name = mpl.toolbar_items[toolbar_ind][3];\n",
       "\n",
       "        if (!name) {\n",
       "            // put a spacer in here.\n",
       "            continue;\n",
       "        }\n",
       "        var button = $('<button/>');\n",
       "        button.addClass('ui-button ui-widget ui-state-default ui-corner-all ' +\n",
       "                        'ui-button-icon-only');\n",
       "        button.attr('role', 'button');\n",
       "        button.attr('aria-disabled', 'false');\n",
       "        button.click(method_name, toolbar_event);\n",
       "        button.mouseover(tooltip, toolbar_mouse_event);\n",
       "\n",
       "        var icon_img = $('<span/>');\n",
       "        icon_img.addClass('ui-button-icon-primary ui-icon');\n",
       "        icon_img.addClass(image);\n",
       "        icon_img.addClass('ui-corner-all');\n",
       "\n",
       "        var tooltip_span = $('<span/>');\n",
       "        tooltip_span.addClass('ui-button-text');\n",
       "        tooltip_span.html(tooltip);\n",
       "\n",
       "        button.append(icon_img);\n",
       "        button.append(tooltip_span);\n",
       "\n",
       "        nav_element.append(button);\n",
       "    }\n",
       "\n",
       "    var fmt_picker_span = $('<span/>');\n",
       "\n",
       "    var fmt_picker = $('<select/>');\n",
       "    fmt_picker.addClass('mpl-toolbar-option ui-widget ui-widget-content');\n",
       "    fmt_picker_span.append(fmt_picker);\n",
       "    nav_element.append(fmt_picker_span);\n",
       "    this.format_dropdown = fmt_picker[0];\n",
       "\n",
       "    for (var ind in mpl.extensions) {\n",
       "        var fmt = mpl.extensions[ind];\n",
       "        var option = $(\n",
       "            '<option/>', {selected: fmt === mpl.default_extension}).html(fmt);\n",
       "        fmt_picker.append(option);\n",
       "    }\n",
       "\n",
       "    // Add hover states to the ui-buttons\n",
       "    $( \".ui-button\" ).hover(\n",
       "        function() { $(this).addClass(\"ui-state-hover\");},\n",
       "        function() { $(this).removeClass(\"ui-state-hover\");}\n",
       "    );\n",
       "\n",
       "    var status_bar = $('<span class=\"mpl-message\"/>');\n",
       "    nav_element.append(status_bar);\n",
       "    this.message = status_bar[0];\n",
       "}\n",
       "\n",
       "mpl.figure.prototype.request_resize = function(x_pixels, y_pixels) {\n",
       "    // Request matplotlib to resize the figure. Matplotlib will then trigger a resize in the client,\n",
       "    // which will in turn request a refresh of the image.\n",
       "    this.send_message('resize', {'width': x_pixels, 'height': y_pixels});\n",
       "}\n",
       "\n",
       "mpl.figure.prototype.send_message = function(type, properties) {\n",
       "    properties['type'] = type;\n",
       "    properties['figure_id'] = this.id;\n",
       "    this.ws.send(JSON.stringify(properties));\n",
       "}\n",
       "\n",
       "mpl.figure.prototype.send_draw_message = function() {\n",
       "    if (!this.waiting) {\n",
       "        this.waiting = true;\n",
       "        this.ws.send(JSON.stringify({type: \"draw\", figure_id: this.id}));\n",
       "    }\n",
       "}\n",
       "\n",
       "\n",
       "mpl.figure.prototype.handle_save = function(fig, msg) {\n",
       "    var format_dropdown = fig.format_dropdown;\n",
       "    var format = format_dropdown.options[format_dropdown.selectedIndex].value;\n",
       "    fig.ondownload(fig, format);\n",
       "}\n",
       "\n",
       "\n",
       "mpl.figure.prototype.handle_resize = function(fig, msg) {\n",
       "    var size = msg['size'];\n",
       "    if (size[0] != fig.canvas.width || size[1] != fig.canvas.height) {\n",
       "        fig._resize_canvas(size[0], size[1]);\n",
       "        fig.send_message(\"refresh\", {});\n",
       "    };\n",
       "}\n",
       "\n",
       "mpl.figure.prototype.handle_rubberband = function(fig, msg) {\n",
       "    var x0 = msg['x0'] / mpl.ratio;\n",
       "    var y0 = (fig.canvas.height - msg['y0']) / mpl.ratio;\n",
       "    var x1 = msg['x1'] / mpl.ratio;\n",
       "    var y1 = (fig.canvas.height - msg['y1']) / mpl.ratio;\n",
       "    x0 = Math.floor(x0) + 0.5;\n",
       "    y0 = Math.floor(y0) + 0.5;\n",
       "    x1 = Math.floor(x1) + 0.5;\n",
       "    y1 = Math.floor(y1) + 0.5;\n",
       "    var min_x = Math.min(x0, x1);\n",
       "    var min_y = Math.min(y0, y1);\n",
       "    var width = Math.abs(x1 - x0);\n",
       "    var height = Math.abs(y1 - y0);\n",
       "\n",
       "    fig.rubberband_context.clearRect(\n",
       "        0, 0, fig.canvas.width / mpl.ratio, fig.canvas.height / mpl.ratio);\n",
       "\n",
       "    fig.rubberband_context.strokeRect(min_x, min_y, width, height);\n",
       "}\n",
       "\n",
       "mpl.figure.prototype.handle_figure_label = function(fig, msg) {\n",
       "    // Updates the figure title.\n",
       "    fig.header.textContent = msg['label'];\n",
       "}\n",
       "\n",
       "mpl.figure.prototype.handle_cursor = function(fig, msg) {\n",
       "    var cursor = msg['cursor'];\n",
       "    switch(cursor)\n",
       "    {\n",
       "    case 0:\n",
       "        cursor = 'pointer';\n",
       "        break;\n",
       "    case 1:\n",
       "        cursor = 'default';\n",
       "        break;\n",
       "    case 2:\n",
       "        cursor = 'crosshair';\n",
       "        break;\n",
       "    case 3:\n",
       "        cursor = 'move';\n",
       "        break;\n",
       "    }\n",
       "    fig.rubberband_canvas.style.cursor = cursor;\n",
       "}\n",
       "\n",
       "mpl.figure.prototype.handle_message = function(fig, msg) {\n",
       "    fig.message.textContent = msg['message'];\n",
       "}\n",
       "\n",
       "mpl.figure.prototype.handle_draw = function(fig, msg) {\n",
       "    // Request the server to send over a new figure.\n",
       "    fig.send_draw_message();\n",
       "}\n",
       "\n",
       "mpl.figure.prototype.handle_image_mode = function(fig, msg) {\n",
       "    fig.image_mode = msg['mode'];\n",
       "}\n",
       "\n",
       "mpl.figure.prototype.updated_canvas_event = function() {\n",
       "    // Called whenever the canvas gets updated.\n",
       "    this.send_message(\"ack\", {});\n",
       "}\n",
       "\n",
       "// A function to construct a web socket function for onmessage handling.\n",
       "// Called in the figure constructor.\n",
       "mpl.figure.prototype._make_on_message_function = function(fig) {\n",
       "    return function socket_on_message(evt) {\n",
       "        if (evt.data instanceof Blob) {\n",
       "            /* FIXME: We get \"Resource interpreted as Image but\n",
       "             * transferred with MIME type text/plain:\" errors on\n",
       "             * Chrome.  But how to set the MIME type?  It doesn't seem\n",
       "             * to be part of the websocket stream */\n",
       "            evt.data.type = \"image/png\";\n",
       "\n",
       "            /* Free the memory for the previous frames */\n",
       "            if (fig.imageObj.src) {\n",
       "                (window.URL || window.webkitURL).revokeObjectURL(\n",
       "                    fig.imageObj.src);\n",
       "            }\n",
       "\n",
       "            fig.imageObj.src = (window.URL || window.webkitURL).createObjectURL(\n",
       "                evt.data);\n",
       "            fig.updated_canvas_event();\n",
       "            fig.waiting = false;\n",
       "            return;\n",
       "        }\n",
       "        else if (typeof evt.data === 'string' && evt.data.slice(0, 21) == \"data:image/png;base64\") {\n",
       "            fig.imageObj.src = evt.data;\n",
       "            fig.updated_canvas_event();\n",
       "            fig.waiting = false;\n",
       "            return;\n",
       "        }\n",
       "\n",
       "        var msg = JSON.parse(evt.data);\n",
       "        var msg_type = msg['type'];\n",
       "\n",
       "        // Call the  \"handle_{type}\" callback, which takes\n",
       "        // the figure and JSON message as its only arguments.\n",
       "        try {\n",
       "            var callback = fig[\"handle_\" + msg_type];\n",
       "        } catch (e) {\n",
       "            console.log(\"No handler for the '\" + msg_type + \"' message type: \", msg);\n",
       "            return;\n",
       "        }\n",
       "\n",
       "        if (callback) {\n",
       "            try {\n",
       "                // console.log(\"Handling '\" + msg_type + \"' message: \", msg);\n",
       "                callback(fig, msg);\n",
       "            } catch (e) {\n",
       "                console.log(\"Exception inside the 'handler_\" + msg_type + \"' callback:\", e, e.stack, msg);\n",
       "            }\n",
       "        }\n",
       "    };\n",
       "}\n",
       "\n",
       "// from http://stackoverflow.com/questions/1114465/getting-mouse-location-in-canvas\n",
       "mpl.findpos = function(e) {\n",
       "    //this section is from http://www.quirksmode.org/js/events_properties.html\n",
       "    var targ;\n",
       "    if (!e)\n",
       "        e = window.event;\n",
       "    if (e.target)\n",
       "        targ = e.target;\n",
       "    else if (e.srcElement)\n",
       "        targ = e.srcElement;\n",
       "    if (targ.nodeType == 3) // defeat Safari bug\n",
       "        targ = targ.parentNode;\n",
       "\n",
       "    // jQuery normalizes the pageX and pageY\n",
       "    // pageX,Y are the mouse positions relative to the document\n",
       "    // offset() returns the position of the element relative to the document\n",
       "    var x = e.pageX - $(targ).offset().left;\n",
       "    var y = e.pageY - $(targ).offset().top;\n",
       "\n",
       "    return {\"x\": x, \"y\": y};\n",
       "};\n",
       "\n",
       "/*\n",
       " * return a copy of an object with only non-object keys\n",
       " * we need this to avoid circular references\n",
       " * http://stackoverflow.com/a/24161582/3208463\n",
       " */\n",
       "function simpleKeys (original) {\n",
       "  return Object.keys(original).reduce(function (obj, key) {\n",
       "    if (typeof original[key] !== 'object')\n",
       "        obj[key] = original[key]\n",
       "    return obj;\n",
       "  }, {});\n",
       "}\n",
       "\n",
       "mpl.figure.prototype.mouse_event = function(event, name) {\n",
       "    var canvas_pos = mpl.findpos(event)\n",
       "\n",
       "    if (name === 'button_press')\n",
       "    {\n",
       "        this.canvas.focus();\n",
       "        this.canvas_div.focus();\n",
       "    }\n",
       "\n",
       "    var x = canvas_pos.x * mpl.ratio;\n",
       "    var y = canvas_pos.y * mpl.ratio;\n",
       "\n",
       "    this.send_message(name, {x: x, y: y, button: event.button,\n",
       "                             step: event.step,\n",
       "                             guiEvent: simpleKeys(event)});\n",
       "\n",
       "    /* This prevents the web browser from automatically changing to\n",
       "     * the text insertion cursor when the button is pressed.  We want\n",
       "     * to control all of the cursor setting manually through the\n",
       "     * 'cursor' event from matplotlib */\n",
       "    event.preventDefault();\n",
       "    return false;\n",
       "}\n",
       "\n",
       "mpl.figure.prototype._key_event_extra = function(event, name) {\n",
       "    // Handle any extra behaviour associated with a key event\n",
       "}\n",
       "\n",
       "mpl.figure.prototype.key_event = function(event, name) {\n",
       "\n",
       "    // Prevent repeat events\n",
       "    if (name == 'key_press')\n",
       "    {\n",
       "        if (event.which === this._key)\n",
       "            return;\n",
       "        else\n",
       "            this._key = event.which;\n",
       "    }\n",
       "    if (name == 'key_release')\n",
       "        this._key = null;\n",
       "\n",
       "    var value = '';\n",
       "    if (event.ctrlKey && event.which != 17)\n",
       "        value += \"ctrl+\";\n",
       "    if (event.altKey && event.which != 18)\n",
       "        value += \"alt+\";\n",
       "    if (event.shiftKey && event.which != 16)\n",
       "        value += \"shift+\";\n",
       "\n",
       "    value += 'k';\n",
       "    value += event.which.toString();\n",
       "\n",
       "    this._key_event_extra(event, name);\n",
       "\n",
       "    this.send_message(name, {key: value,\n",
       "                             guiEvent: simpleKeys(event)});\n",
       "    return false;\n",
       "}\n",
       "\n",
       "mpl.figure.prototype.toolbar_button_onclick = function(name) {\n",
       "    if (name == 'download') {\n",
       "        this.handle_save(this, null);\n",
       "    } else {\n",
       "        this.send_message(\"toolbar_button\", {name: name});\n",
       "    }\n",
       "};\n",
       "\n",
       "mpl.figure.prototype.toolbar_button_onmouseover = function(tooltip) {\n",
       "    this.message.textContent = tooltip;\n",
       "};\n",
       "mpl.toolbar_items = [[\"Home\", \"Reset original view\", \"fa fa-home icon-home\", \"home\"], [\"Back\", \"Back to previous view\", \"fa fa-arrow-left icon-arrow-left\", \"back\"], [\"Forward\", \"Forward to next view\", \"fa fa-arrow-right icon-arrow-right\", \"forward\"], [\"\", \"\", \"\", \"\"], [\"Pan\", \"Pan axes with left mouse, zoom with right\", \"fa fa-arrows icon-move\", \"pan\"], [\"Zoom\", \"Zoom to rectangle\", \"fa fa-square-o icon-check-empty\", \"zoom\"], [\"\", \"\", \"\", \"\"], [\"Download\", \"Download plot\", \"fa fa-floppy-o icon-save\", \"download\"]];\n",
       "\n",
       "mpl.extensions = [\"eps\", \"jpeg\", \"pdf\", \"png\", \"ps\", \"raw\", \"svg\", \"tif\"];\n",
       "\n",
       "mpl.default_extension = \"png\";var comm_websocket_adapter = function(comm) {\n",
       "    // Create a \"websocket\"-like object which calls the given IPython comm\n",
       "    // object with the appropriate methods. Currently this is a non binary\n",
       "    // socket, so there is still some room for performance tuning.\n",
       "    var ws = {};\n",
       "\n",
       "    ws.close = function() {\n",
       "        comm.close()\n",
       "    };\n",
       "    ws.send = function(m) {\n",
       "        //console.log('sending', m);\n",
       "        comm.send(m);\n",
       "    };\n",
       "    // Register the callback with on_msg.\n",
       "    comm.on_msg(function(msg) {\n",
       "        //console.log('receiving', msg['content']['data'], msg);\n",
       "        // Pass the mpl event to the overridden (by mpl) onmessage function.\n",
       "        ws.onmessage(msg['content']['data'])\n",
       "    });\n",
       "    return ws;\n",
       "}\n",
       "\n",
       "mpl.mpl_figure_comm = function(comm, msg) {\n",
       "    // This is the function which gets called when the mpl process\n",
       "    // starts-up an IPython Comm through the \"matplotlib\" channel.\n",
       "\n",
       "    var id = msg.content.data.id;\n",
       "    // Get hold of the div created by the display call when the Comm\n",
       "    // socket was opened in Python.\n",
       "    var element = $(\"#\" + id);\n",
       "    var ws_proxy = comm_websocket_adapter(comm)\n",
       "\n",
       "    function ondownload(figure, format) {\n",
       "        window.open(figure.imageObj.src);\n",
       "    }\n",
       "\n",
       "    var fig = new mpl.figure(id, ws_proxy,\n",
       "                           ondownload,\n",
       "                           element.get(0));\n",
       "\n",
       "    // Call onopen now - mpl needs it, as it is assuming we've passed it a real\n",
       "    // web socket which is closed, not our websocket->open comm proxy.\n",
       "    ws_proxy.onopen();\n",
       "\n",
       "    fig.parent_element = element.get(0);\n",
       "    fig.cell_info = mpl.find_output_cell(\"<div id='\" + id + \"'></div>\");\n",
       "    if (!fig.cell_info) {\n",
       "        console.error(\"Failed to find cell for figure\", id, fig);\n",
       "        return;\n",
       "    }\n",
       "\n",
       "    var output_index = fig.cell_info[2]\n",
       "    var cell = fig.cell_info[0];\n",
       "\n",
       "};\n",
       "\n",
       "mpl.figure.prototype.handle_close = function(fig, msg) {\n",
       "    var width = fig.canvas.width/mpl.ratio\n",
       "    fig.root.unbind('remove')\n",
       "\n",
       "    // Update the output cell to use the data from the current canvas.\n",
       "    fig.push_to_output();\n",
       "    var dataURL = fig.canvas.toDataURL();\n",
       "    // Re-enable the keyboard manager in IPython - without this line, in FF,\n",
       "    // the notebook keyboard shortcuts fail.\n",
       "    IPython.keyboard_manager.enable()\n",
       "    $(fig.parent_element).html('<img src=\"' + dataURL + '\" width=\"' + width + '\">');\n",
       "    fig.close_ws(fig, msg);\n",
       "}\n",
       "\n",
       "mpl.figure.prototype.close_ws = function(fig, msg){\n",
       "    fig.send_message('closing', msg);\n",
       "    // fig.ws.close()\n",
       "}\n",
       "\n",
       "mpl.figure.prototype.push_to_output = function(remove_interactive) {\n",
       "    // Turn the data on the canvas into data in the output cell.\n",
       "    var width = this.canvas.width/mpl.ratio\n",
       "    var dataURL = this.canvas.toDataURL();\n",
       "    this.cell_info[1]['text/html'] = '<img src=\"' + dataURL + '\" width=\"' + width + '\">';\n",
       "}\n",
       "\n",
       "mpl.figure.prototype.updated_canvas_event = function() {\n",
       "    // Tell IPython that the notebook contents must change.\n",
       "    IPython.notebook.set_dirty(true);\n",
       "    this.send_message(\"ack\", {});\n",
       "    var fig = this;\n",
       "    // Wait a second, then push the new image to the DOM so\n",
       "    // that it is saved nicely (might be nice to debounce this).\n",
       "    setTimeout(function () { fig.push_to_output() }, 1000);\n",
       "}\n",
       "\n",
       "mpl.figure.prototype._init_toolbar = function() {\n",
       "    var fig = this;\n",
       "\n",
       "    var nav_element = $('<div/>');\n",
       "    nav_element.attr('style', 'width: 100%');\n",
       "    this.root.append(nav_element);\n",
       "\n",
       "    // Define a callback function for later on.\n",
       "    function toolbar_event(event) {\n",
       "        return fig.toolbar_button_onclick(event['data']);\n",
       "    }\n",
       "    function toolbar_mouse_event(event) {\n",
       "        return fig.toolbar_button_onmouseover(event['data']);\n",
       "    }\n",
       "\n",
       "    for(var toolbar_ind in mpl.toolbar_items){\n",
       "        var name = mpl.toolbar_items[toolbar_ind][0];\n",
       "        var tooltip = mpl.toolbar_items[toolbar_ind][1];\n",
       "        var image = mpl.toolbar_items[toolbar_ind][2];\n",
       "        var method_name = mpl.toolbar_items[toolbar_ind][3];\n",
       "\n",
       "        if (!name) { continue; };\n",
       "\n",
       "        var button = $('<button class=\"btn btn-default\" href=\"#\" title=\"' + name + '\"><i class=\"fa ' + image + ' fa-lg\"></i></button>');\n",
       "        button.click(method_name, toolbar_event);\n",
       "        button.mouseover(tooltip, toolbar_mouse_event);\n",
       "        nav_element.append(button);\n",
       "    }\n",
       "\n",
       "    // Add the status bar.\n",
       "    var status_bar = $('<span class=\"mpl-message\" style=\"text-align:right; float: right;\"/>');\n",
       "    nav_element.append(status_bar);\n",
       "    this.message = status_bar[0];\n",
       "\n",
       "    // Add the close button to the window.\n",
       "    var buttongrp = $('<div class=\"btn-group inline pull-right\"></div>');\n",
       "    var button = $('<button class=\"btn btn-mini btn-primary\" href=\"#\" title=\"Stop Interaction\"><i class=\"fa fa-power-off icon-remove icon-large\"></i></button>');\n",
       "    button.click(function (evt) { fig.handle_close(fig, {}); } );\n",
       "    button.mouseover('Stop Interaction', toolbar_mouse_event);\n",
       "    buttongrp.append(button);\n",
       "    var titlebar = this.root.find($('.ui-dialog-titlebar'));\n",
       "    titlebar.prepend(buttongrp);\n",
       "}\n",
       "\n",
       "mpl.figure.prototype._root_extra_style = function(el){\n",
       "    var fig = this\n",
       "    el.on(\"remove\", function(){\n",
       "\tfig.close_ws(fig, {});\n",
       "    });\n",
       "}\n",
       "\n",
       "mpl.figure.prototype._canvas_extra_style = function(el){\n",
       "    // this is important to make the div 'focusable\n",
       "    el.attr('tabindex', 0)\n",
       "    // reach out to IPython and tell the keyboard manager to turn it's self\n",
       "    // off when our div gets focus\n",
       "\n",
       "    // location in version 3\n",
       "    if (IPython.notebook.keyboard_manager) {\n",
       "        IPython.notebook.keyboard_manager.register_events(el);\n",
       "    }\n",
       "    else {\n",
       "        // location in version 2\n",
       "        IPython.keyboard_manager.register_events(el);\n",
       "    }\n",
       "\n",
       "}\n",
       "\n",
       "mpl.figure.prototype._key_event_extra = function(event, name) {\n",
       "    var manager = IPython.notebook.keyboard_manager;\n",
       "    if (!manager)\n",
       "        manager = IPython.keyboard_manager;\n",
       "\n",
       "    // Check for shift+enter\n",
       "    if (event.shiftKey && event.which == 13) {\n",
       "        this.canvas_div.blur();\n",
       "        // select the cell after this one\n",
       "        var index = IPython.notebook.find_cell_index(this.cell_info[0]);\n",
       "        IPython.notebook.select(index + 1);\n",
       "    }\n",
       "}\n",
       "\n",
       "mpl.figure.prototype.handle_save = function(fig, msg) {\n",
       "    fig.ondownload(fig, null);\n",
       "}\n",
       "\n",
       "\n",
       "mpl.find_output_cell = function(html_output) {\n",
       "    // Return the cell and output element which can be found *uniquely* in the notebook.\n",
       "    // Note - this is a bit hacky, but it is done because the \"notebook_saving.Notebook\"\n",
       "    // IPython event is triggered only after the cells have been serialised, which for\n",
       "    // our purposes (turning an active figure into a static one), is too late.\n",
       "    var cells = IPython.notebook.get_cells();\n",
       "    var ncells = cells.length;\n",
       "    for (var i=0; i<ncells; i++) {\n",
       "        var cell = cells[i];\n",
       "        if (cell.cell_type === 'code'){\n",
       "            for (var j=0; j<cell.output_area.outputs.length; j++) {\n",
       "                var data = cell.output_area.outputs[j];\n",
       "                if (data.data) {\n",
       "                    // IPython >= 3 moved mimebundle to data attribute of output\n",
       "                    data = data.data;\n",
       "                }\n",
       "                if (data['text/html'] == html_output) {\n",
       "                    return [cell, data, j];\n",
       "                }\n",
       "            }\n",
       "        }\n",
       "    }\n",
       "}\n",
       "\n",
       "// Register the function which deals with the matplotlib target/channel.\n",
       "// The kernel may be null if the page has been refreshed.\n",
       "if (IPython.notebook.kernel != null) {\n",
       "    IPython.notebook.kernel.comm_manager.register_target('matplotlib', mpl.mpl_figure_comm);\n",
       "}\n"
      ],
      "text/plain": [
       "<IPython.core.display.Javascript object>"
      ]
     },
     "metadata": {},
     "output_type": "display_data"
    },
    {
     "data": {
      "text/html": [
       "<img src=\"data:image/png;base64,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\" width=\"684\">"
      ],
      "text/plain": [
       "<IPython.core.display.HTML object>"
      ]
     },
     "metadata": {},
     "output_type": "display_data"
    },
    {
     "data": {
      "text/html": [
       "\n",
       "            <style>\n",
       "            .widget-valid-readout.widget-readout {\n",
       "                max-width: 450px\n",
       "            }\n",
       "            </style>\n",
       "            "
      ],
      "text/plain": [
       "<IPython.core.display.HTML object>"
      ]
     },
     "metadata": {},
     "output_type": "display_data"
    },
    {
     "data": {
      "application/vnd.jupyter.widget-view+json": {
       "model_id": "93a5ddd47cac4893a8cac263eee95809",
       "version_major": 2,
       "version_minor": 0
      },
      "text/plain": [
       "VBox(children=(Dropdown(options={'BUREAU_X': 0, 'UTILITY': 1}, value=0), Tab(children=(VBox(children=(Text(val…"
      ]
     },
     "metadata": {},
     "output_type": "display_data"
    }
   ],
   "source": [
    "from scoring.grouping import Grouping, InteractiveGrouping\n",
    "\n",
    "cols_togroup_num = [\n",
    "                       'BUREAU_X',\n",
    "]\n",
    "cols_togroup_cat = [\n",
    "                       'UTILITY',\n",
    "]\n",
    "\n",
    "grouping = InteractiveGrouping(columns = cols_togroup_num,\n",
    "                               cat_columns = cols_togroup_cat,\n",
    "                               group_count=5,\n",
    "                               min_samples=100, \n",
    "                               min_samples_cat=100,\n",
    "                               woe_smooth_coef=0.001)\n",
    "\n",
    "sns.reset_orig()\n",
    "%matplotlib notebook\n",
    "%config InlineBackend.close_figures=False\n",
    "\n",
    "grouping.display(#train_t = data[train_mask][cols_togroup_num+cols_togroup_cat+[col_target]],\n",
    "                 train_t = data[train_mask][cols_togroup_num+cols_togroup_cat+[col_target]+[col_weight]], #for call with weight\n",
    "                 columns = cols_togroup_num,\n",
    "                 cat_columns = cols_togroup_cat,\n",
    "                 target_column = col_target,\n",
    "                 w_column = col_weight,\n",
    "                 #filename = 'myIntGrouping',\n",
    "                 bin_count=20,\n",
    "                 woe_smooth_coef=0.001,\n",
    "                 group_count=5,\n",
    "                 min_samples=100,\n",
    "                 min_samples_cat=100)"
   ]
  },
  {
   "cell_type": "markdown",
   "metadata": {},
   "source": [
    "Don't forget to *Apply and Save* your changes."
   ]
  },
  {
   "cell_type": "code",
   "execution_count": 44,
   "metadata": {
    "ExecuteTime": {
     "end_time": "2020-09-09T06:20:15.827134Z",
     "start_time": "2020-09-09T06:20:15.815134Z"
    }
   },
   "outputs": [],
   "source": [
    "#reset the graphical environment to be used by the normal non-interactive charts\n",
    "sns.set()\n",
    "%matplotlib inline\n",
    "%config InlineBackend.close_figures=True"
   ]
  },
  {
   "cell_type": "markdown",
   "metadata": {},
   "source": [
    "Load the grouping from a file (don't forget to set the right filename) and add the WOE columns to the original dataset."
   ]
  },
  {
   "cell_type": "code",
   "execution_count": 45,
   "metadata": {
    "ExecuteTime": {
     "end_time": "2020-09-09T06:20:15.838072Z",
     "start_time": "2020-09-09T06:20:15.828136Z"
    }
   },
   "outputs": [],
   "source": [
    "# from scoring.grouping import Grouping\n",
    "# grouping = Grouping(columns = cols_togroup_num,\n",
    "#                     cat_columns = cols_togroup_cat,\n",
    "#                     group_count=5, \n",
    "#                     min_samples=100, \n",
    "#                     min_samples_cat=100,\n",
    "#                     woe_smooth_coef=0.001) \n",
    "# g_filename = 'myIntGrouping'\n",
    "# grouping.load(g_filename)"
   ]
  },
  {
   "cell_type": "markdown",
   "metadata": {},
   "source": [
    "Apply the grouping to the data. *Grouping.transform()* method now automatically renames columns with proper suffix. If you need to transform just subset of columns use parameter *columns_to_transform=\\[...\\]*."
   ]
  },
  {
   "cell_type": "code",
   "execution_count": 46,
   "metadata": {
    "ExecuteTime": {
     "end_time": "2020-09-09T06:20:15.873010Z",
     "start_time": "2020-09-09T06:20:15.839102Z"
    }
   },
   "outputs": [
    {
     "data": {
      "application/vnd.jupyter.widget-view+json": {
       "model_id": "1737801604be42198f38e02d7077cc9e",
       "version_major": 2,
       "version_minor": 0
      },
      "text/plain": [
       "HBox(children=(FloatProgress(value=0.0, max=2.0), HTML(value='')))"
      ]
     },
     "metadata": {},
     "output_type": "display_data"
    },
    {
     "name": "stdout",
     "output_type": "stream",
     "text": [
      "\n"
     ]
    }
   ],
   "source": [
    "data_woe = grouping.transform(data, transform_to='woe', progress_bar=True)"
   ]
  },
  {
   "cell_type": "markdown",
   "metadata": {},
   "source": [
    "Add WOE variabes to the data set."
   ]
  },
  {
   "cell_type": "code",
   "execution_count": 47,
   "metadata": {
    "ExecuteTime": {
     "end_time": "2020-09-09T06:20:15.938843Z",
     "start_time": "2020-09-09T06:20:15.874020Z"
    }
   },
   "outputs": [
    {
     "name": "stdout",
     "output_type": "stream",
     "text": [
      "Added WOE variables. Number of columns: 23\n"
     ]
    }
   ],
   "source": [
    "woe_columns_to_replace = list()\n",
    "for column in data_woe.columns:\n",
    "    if column in data:\n",
    "        woe_columns_to_replace.append(column)\n",
    "        print('Column', column ,'dropped as it already existed in the data set.')\n",
    "data = data.drop(woe_columns_to_replace, axis='columns')\n",
    "data = data.join(data_woe)\n",
    "\n",
    "del data_woe\n",
    "gc.collect()\n",
    "\n",
    "print('Added WOE variables. Number of columns:',data.shape[1])\n",
    "cols_woe = [s + '_WOE' for s in cols_pred]"
   ]
  },
  {
   "cell_type": "markdown",
   "metadata": {},
   "source": [
    "## Score distribution and calibration\n",
    "\n",
    "Once we transformed all the scores to form which is after expit transformation linearly dependent on default rate, we can draw charts of its distribution and also compare the predicted probability in each quantile with predicted default rate."
   ]
  },
  {
   "cell_type": "code",
   "execution_count": 48,
   "metadata": {
    "ExecuteTime": {
     "end_time": "2020-09-09T06:20:15.954761Z",
     "start_time": "2020-09-09T06:20:15.951769Z"
    }
   },
   "outputs": [],
   "source": [
    "from scoring.plot import score_calibration"
   ]
  },
  {
   "cell_type": "markdown",
   "metadata": {},
   "source": [
    "List of *transformed* scores (i.e. each score must be in its logit form)."
   ]
  },
  {
   "cell_type": "code",
   "execution_count": 49,
   "metadata": {
    "ExecuteTime": {
     "end_time": "2020-09-09T06:20:15.962740Z",
     "start_time": "2020-09-09T06:20:15.955759Z"
    }
   },
   "outputs": [],
   "source": [
    "cols_pred_transformed = [\n",
    "    'INTERNAL_LIN',\n",
    "    'TELCO_A_LIN',\n",
    "    'TELCO_B_LIN',\n",
    "    'BUREAU_X_WOE',\n",
    "    'BUREAU_Y_LIN',\n",
    "    'UTILITY_WOE',\n",
    "    'DEVICE_LIN',\n",
    "]"
   ]
  },
  {
   "cell_type": "markdown",
   "metadata": {},
   "source": [
    "Each of the following charts consists of:\n",
    "- red columns: histogram of score - number of observations in each quantile, tied to the left y axis\n",
    "- black dashed line: predicted probability of default (i.e. `exp(x)/1+exp(x)`) of x axis\n",
    "- blue line: acutal default rate in each quantile, tied to the right y axis, should correspond to the black dashed line\n",
    "- green dashed line: actual default rate of observations where the score is null, tied to the right y axis\n",
    "\n",
    "The numbers under each chart are:\n",
    "- average predicted default rate (i.e. average of values of black dashed line of the whole population where the score is not null)\n",
    "- average hit default rate (i.e. average of values of blue line of the whole population where the score is not null)\n",
    "- average non-hit default rate (i.e. value of the green dashed line)\n",
    "- hit gini (metric of quality of prediction for population where the score is not null)"
   ]
  },
  {
   "cell_type": "code",
   "execution_count": 50,
   "metadata": {
    "ExecuteTime": {
     "end_time": "2020-09-09T06:20:21.214328Z",
     "start_time": "2020-09-09T06:20:15.963765Z"
    }
   },
   "outputs": [],
   "source": [
    "for col in cols_pred_transformed:\n",
    "    if col[-3:] == 'WOE':\n",
    "        shift, scale = np.log(data[observable_mask][col_target].sum() / (1-data[observable_mask][col_target]).sum()), -1\n",
    "    else:\n",
    "        shift, scale = 0, 1\n",
    "    documentation.CalibrationDistribution(\n",
    "        data=data,\n",
    "        sample=\"Observable\",\n",
    "        target=col_target,\n",
    "        score=col,\n",
    "        shift=shift,\n",
    "        scale=scale,\n",
    "        apply_logit=False,\n",
    "        empty_representations=[np.nan],\n",
    "        use_weight=True,\n",
    "        bins=30,\n",
    "        vertical_lines=None,\n",
    "        output_folder=output_folder+'/predictors/'\n",
    "    )"
   ]
  },
  {
   "cell_type": "markdown",
   "metadata": {},
   "source": [
    "# Building the model step by step\n",
    "\n",
    "In this part, we will build the model step by setp, so after transformation all variables to logit, we have to:\n",
    "- impute the missing values of the subscores by valid numbers. These numbers should be based on relationship of score and default from the observations where the score is known\n",
    "- fit the model using these imputed variables"
   ]
  },
  {
   "cell_type": "markdown",
   "metadata": {},
   "source": [
    "## Missing value imputation"
   ]
  },
  {
   "cell_type": "markdown",
   "metadata": {},
   "source": [
    "### Imputation based on missing\n",
    "\n",
    "In case we have a certain data source available only for certain observations, we need to fill the data source's score with some placeholder values to be able to fit the regression model correctly.\n",
    "\n",
    "This placeholder value should correspond to the average default rate of this group in such way that there is the same relationship between default rate and score as the observations where the score is known.\n",
    "\n",
    "After each imputation, we draw a chart of the score distribution with a vertical reference line corresponding to the imputed value as a sanity check whether the makes sense to us."
   ]
  },
  {
   "cell_type": "markdown",
   "metadata": {},
   "source": [
    "#### Basic imputation assuming linear dependency of score expit and target\n",
    "\n",
    "Calculates imputation value for score that is missing for some observations. Based on default rate in hit sample, average score in hit sample and default rate in no-hit sample, it caluclates score for no-hit sample (using simple proportion formula - \"trojčlenka\"). The score is taken in its logit form, then converted to probability of default and then the calculation is done (or, if parameter `ispd=True`, it is assumed that score already is in probability of default form).\n",
    "\n",
    "$$\\text{Imputation score (PD)} = \\frac{ \\text{Avg non-hit default rate}}{\\text{Avg hit default rate}}\\times\\text{Avg hit score (PD)}$$"
   ]
  },
  {
   "cell_type": "code",
   "execution_count": 51,
   "metadata": {
    "ExecuteTime": {
     "end_time": "2020-09-09T06:20:21.222135Z",
     "start_time": "2020-09-09T06:20:21.214328Z"
    }
   },
   "outputs": [],
   "source": [
    "from scoring.score_imputation import missing_value"
   ]
  },
  {
   "cell_type": "code",
   "execution_count": 52,
   "metadata": {
    "ExecuteTime": {
     "end_time": "2020-09-09T06:20:21.477501Z",
     "start_time": "2020-09-09T06:20:21.224130Z"
    }
   },
   "outputs": [
    {
     "name": "stdout",
     "output_type": "stream",
     "text": [
      "Imputation value: -2.3519333353072334\n"
     ]
    }
   ],
   "source": [
    "fill_val = missing_value(sample_hit = data[train_mask & ~np.isnan(data[\"TELCO_A_LIN\"])],\n",
    "                        sample_nohit = data[train_mask & np.isnan(data[\"TELCO_A_LIN\"])],\n",
    "                        score = \"TELCO_A_LIN\",\n",
    "                        target = col_target,\n",
    "                        weight = col_weight,\n",
    "                        ispd = False)\n",
    "print(f'Imputation value: {fill_val}')\n",
    "\n",
    "data[\"TELCO_A_LIN_MV\"] = data[\"TELCO_A_LIN\"].copy()\n",
    "data.loc[np.isnan(data[\"TELCO_A_LIN\"]), \"TELCO_A_LIN_MV\"] = fill_val\n",
    "\n",
    "documentation.CalibrationDistribution(\n",
    "        data=data,\n",
    "        sample=\"Train\",\n",
    "        target=col_target,\n",
    "        score=\"TELCO_A_LIN\",\n",
    "        shift=0,\n",
    "        scale=1,\n",
    "        apply_logit=False,\n",
    "        empty_representations=[np.nan],\n",
    "        use_weight=True,\n",
    "        bins=30,\n",
    "        vertical_lines=fill_val,\n",
    "    )"
   ]
  },
  {
   "cell_type": "code",
   "execution_count": 53,
   "metadata": {
    "ExecuteTime": {
     "end_time": "2020-09-09T06:20:21.705451Z",
     "start_time": "2020-09-09T06:20:21.478452Z"
    }
   },
   "outputs": [
    {
     "name": "stdout",
     "output_type": "stream",
     "text": [
      "-2.2351497604649975\n"
     ]
    }
   ],
   "source": [
    "fill_val = missing_value(sample_hit = data[train_mask & ~np.isnan(data[\"TELCO_B_LIN\"])],\n",
    "                        sample_nohit = data[train_mask & np.isnan(data[\"TELCO_B_LIN\"])],\n",
    "                        score = \"TELCO_B_LIN\",\n",
    "                        target = col_target,\n",
    "                        ispd = False)\n",
    "print(fill_val)\n",
    "\n",
    "data[\"TELCO_B_LIN_MV\"] = data[\"TELCO_B_LIN\"].copy()\n",
    "data.loc[np.isnan(data[\"TELCO_B_LIN\"]), \"TELCO_B_LIN_MV\"] = fill_val\n",
    "\n",
    "documentation.CalibrationDistribution(\n",
    "        data=data,\n",
    "        sample=\"Train\",\n",
    "        target=col_target,\n",
    "        score=\"TELCO_B_LIN\",\n",
    "        shift=0,\n",
    "        scale=1,\n",
    "        apply_logit=False,\n",
    "        empty_representations=[np.nan],\n",
    "        use_weight=True,\n",
    "        bins=30,\n",
    "        vertical_lines=fill_val,\n",
    "    )"
   ]
  },
  {
   "cell_type": "code",
   "execution_count": 54,
   "metadata": {
    "ExecuteTime": {
     "end_time": "2020-09-09T06:20:21.949830Z",
     "start_time": "2020-09-09T06:20:21.706450Z"
    }
   },
   "outputs": [
    {
     "name": "stdout",
     "output_type": "stream",
     "text": [
      "-2.55626405580476\n"
     ]
    }
   ],
   "source": [
    "fill_val = missing_value(sample_hit = data[train_mask & ~np.isnan(data[\"DEVICE_LIN\"])],\n",
    "                        sample_nohit = data[train_mask & np.isnan(data[\"DEVICE_LIN\"])],\n",
    "                        score = \"DEVICE_LIN\",\n",
    "                        target = col_target,\n",
    "                        weight = col_weight,\n",
    "                        ispd = False)\n",
    "print(fill_val)\n",
    "\n",
    "data[\"DEVICE_LIN_MV\"] = data[\"DEVICE_LIN\"].copy()\n",
    "data.loc[np.isnan(data[\"DEVICE_LIN\"]), \"DEVICE_LIN_MV\"] = fill_val\n",
    "\n",
    "documentation.CalibrationDistribution(\n",
    "        data=data,\n",
    "        sample=\"Train\",\n",
    "        target=col_target,\n",
    "        score=\"DEVICE_LIN\",\n",
    "        shift=0,\n",
    "        scale=1,\n",
    "        apply_logit=False,\n",
    "        empty_representations=[np.nan],\n",
    "        use_weight=True,\n",
    "        bins=30,\n",
    "        vertical_lines=fill_val,\n",
    "    )"
   ]
  },
  {
   "cell_type": "markdown",
   "metadata": {},
   "source": [
    "#### Alternative imputer using not assuming linear dependence of score expit and target\n",
    "\n",
    "Calculates imputation value for score that is missing for some observations. It divides hit sample into certain number of quantiles (sorted by score) and smoothens them (by joining neighbors together) to be monotonic in average default rate. Then, it finds the quantile whose average target value is closest to average target of no-hit sample. Average score of this quantile is then used as imputation value.\n",
    "```   \n",
    "Imputation score = Avg score of quantile which is argmin(|Avg default in quantile - default of non-hits|)\n",
    "```"
   ]
  },
  {
   "cell_type": "code",
   "execution_count": 55,
   "metadata": {
    "ExecuteTime": {
     "end_time": "2020-09-09T06:20:21.953805Z",
     "start_time": "2020-09-09T06:20:21.950782Z"
    }
   },
   "outputs": [],
   "source": [
    "from scoring.score_imputation import quantile_imputer"
   ]
  },
  {
   "cell_type": "code",
   "execution_count": 56,
   "metadata": {
    "ExecuteTime": {
     "end_time": "2020-09-09T06:20:22.378724Z",
     "start_time": "2020-09-09T06:20:21.954804Z"
    }
   },
   "outputs": [
    {
     "name": "stdout",
     "output_type": "stream",
     "text": [
      "-2.4374047518972146\n"
     ]
    }
   ],
   "source": [
    "fill_val = quantile_imputer(sample_hit = data[train_mask & ~np.isnan(data[\"TELCO_A_LIN\"])],\n",
    "                        sample_nohit = data[train_mask & np.isnan(data[\"TELCO_A_LIN\"])],\n",
    "                        score = \"TELCO_A_LIN\",\n",
    "                        target = col_target,\n",
    "                        weight = col_weight,\n",
    "                        quantiles = 100)\n",
    "print(fill_val)\n",
    "\n",
    "data[\"TELCO_A_LIN_MV\"] = data[\"TELCO_A_LIN\"].copy()\n",
    "data.loc[np.isnan(data[\"TELCO_A_LIN\"]), \"TELCO_A_LIN_MV\"] = fill_val\n",
    "\n",
    "documentation.CalibrationDistribution(\n",
    "        data=data,\n",
    "        sample=\"Train\",\n",
    "        target=col_target,\n",
    "        score=\"TELCO_A_LIN\",\n",
    "        shift=0,\n",
    "        scale=1,\n",
    "        apply_logit=False,\n",
    "        empty_representations=[np.nan],\n",
    "        use_weight=True,\n",
    "        bins=30,\n",
    "        vertical_lines=fill_val,\n",
    "    )"
   ]
  },
  {
   "cell_type": "code",
   "execution_count": 57,
   "metadata": {
    "ExecuteTime": {
     "end_time": "2020-09-09T06:20:22.770743Z",
     "start_time": "2020-09-09T06:20:22.379703Z"
    }
   },
   "outputs": [
    {
     "name": "stdout",
     "output_type": "stream",
     "text": [
      "-2.196286609555555\n"
     ]
    }
   ],
   "source": [
    "fill_val = quantile_imputer(sample_hit = data[train_mask & ~np.isnan(data[\"TELCO_B_LIN\"])],\n",
    "                        sample_nohit = data[train_mask & np.isnan(data[\"TELCO_B_LIN\"])],\n",
    "                        score = \"TELCO_B_LIN\",\n",
    "                        target = col_target,\n",
    "                        quantiles = 100)\n",
    "print(fill_val)\n",
    "\n",
    "data[\"TELCO_B_LIN_MV\"] = data[\"TELCO_B_LIN\"].copy()\n",
    "data.loc[np.isnan(data[\"TELCO_B_LIN\"]), \"TELCO_B_LIN_MV\"] = fill_val\n",
    "\n",
    "documentation.CalibrationDistribution(\n",
    "        data=data,\n",
    "        sample=\"Train\",\n",
    "        target=col_target,\n",
    "        score=\"TELCO_B_LIN\",\n",
    "        shift=0,\n",
    "        scale=1,\n",
    "        apply_logit=False,\n",
    "        empty_representations=[np.nan],\n",
    "        use_weight=True,\n",
    "        bins=30,\n",
    "        vertical_lines=fill_val,\n",
    "    )"
   ]
  },
  {
   "cell_type": "code",
   "execution_count": 58,
   "metadata": {
    "ExecuteTime": {
     "end_time": "2020-09-09T06:20:23.120995Z",
     "start_time": "2020-09-09T06:20:22.771622Z"
    }
   },
   "outputs": [
    {
     "name": "stdout",
     "output_type": "stream",
     "text": [
      "-2.633567738809818\n"
     ]
    }
   ],
   "source": [
    "fill_val = quantile_imputer(sample_hit = data[train_mask & ~np.isnan(data[\"DEVICE_LIN\"])],\n",
    "                        sample_nohit = data[train_mask & np.isnan(data[\"DEVICE_LIN\"])],\n",
    "                        score = \"DEVICE_LIN\",\n",
    "                        target = col_target,\n",
    "                        weight = col_weight,\n",
    "                        quantiles = 100)\n",
    "print(fill_val)\n",
    "\n",
    "data[\"DEVICE_LIN_MV\"] = data[\"DEVICE_LIN\"].copy()\n",
    "data.loc[np.isnan(data[\"DEVICE_LIN\"]), \"DEVICE_LIN_MV\"] = fill_val\n",
    "\n",
    "documentation.CalibrationDistribution(\n",
    "        data=data,\n",
    "        sample=\"Train\",\n",
    "        target=col_target,\n",
    "        score=\"DEVICE_LIN\",\n",
    "        shift=0,\n",
    "        scale=1,\n",
    "        apply_logit=False,\n",
    "        empty_representations=[np.nan],\n",
    "        use_weight=True,\n",
    "        bins=30,\n",
    "        vertical_lines=fill_val,\n",
    "    )"
   ]
  },
  {
   "cell_type": "markdown",
   "metadata": {},
   "source": [
    "### Imputation based on special values\n",
    "\n",
    "Sometimes, we don't want to impute all the missing values together by one imputation values, because there are multiple types of missings (e.g. no-hit and no-ask).\n",
    "\n",
    "We can use various masks to define these populations to be imputed, and call our imputation functions for each one separately"
   ]
  },
  {
   "cell_type": "code",
   "execution_count": 59,
   "metadata": {
    "ExecuteTime": {
     "end_time": "2020-09-09T06:20:23.125983Z",
     "start_time": "2020-09-09T06:20:23.121962Z"
    }
   },
   "outputs": [
    {
     "name": "stdout",
     "output_type": "stream",
     "text": [
      "['NO-ASK', 'HIT', 'NO-HIT']\n",
      "Categories (3, object): ['NO-ASK', 'HIT', 'NO-HIT']\n"
     ]
    }
   ],
   "source": [
    "print(data[\"BUREAU_Y_STATUS\"].unique())"
   ]
  },
  {
   "cell_type": "markdown",
   "metadata": {},
   "source": [
    "#### Basic"
   ]
  },
  {
   "cell_type": "code",
   "execution_count": 60,
   "metadata": {
    "ExecuteTime": {
     "end_time": "2020-09-09T06:20:23.395635Z",
     "start_time": "2020-09-09T06:20:23.126989Z"
    }
   },
   "outputs": [
    {
     "name": "stdout",
     "output_type": "stream",
     "text": [
      "-2.8102218544336677\n",
      "-2.296838072107669\n"
     ]
    }
   ],
   "source": [
    "fill_val_nohit = missing_value(sample_hit = data[train_mask & (data[\"BUREAU_Y_STATUS\"]=='HIT')],\n",
    "                              sample_nohit = data[train_mask & (data[\"BUREAU_Y_STATUS\"]=='NO-HIT')],\n",
    "                              score = \"BUREAU_Y_LIN\",\n",
    "                              target = col_target,\n",
    "                              weight = col_weight,\n",
    "                              ispd = False)\n",
    "print(fill_val_nohit)\n",
    "\n",
    "fill_val_noask = missing_value(sample_hit = data[train_mask & (data[\"BUREAU_Y_STATUS\"]=='HIT')],\n",
    "                              sample_nohit = data[train_mask & (data[\"BUREAU_Y_STATUS\"]=='NO-ASK')],\n",
    "                              score = \"BUREAU_Y_LIN\",\n",
    "                              target = col_target,\n",
    "                              weight = col_weight,\n",
    "                              ispd = False)\n",
    "print(fill_val_noask)\n",
    "\n",
    "data[\"BUREAU_Y_LIN_MV\"] = data[\"BUREAU_Y_LIN\"].copy()\n",
    "data.loc[(data[\"BUREAU_Y_STATUS\"]=='NO-HIT'), \"BUREAU_Y_LIN_MV\"] = fill_val_nohit\n",
    "data.loc[(data[\"BUREAU_Y_STATUS\"]=='NO-ASK'), \"BUREAU_Y_LIN_MV\"] = fill_val_noask\n",
    "\n",
    "documentation.CalibrationDistribution(\n",
    "        data=data,\n",
    "        sample=\"Train\",\n",
    "        target=col_target,\n",
    "        score=\"BUREAU_Y_LIN\",\n",
    "        shift=0,\n",
    "        scale=1,\n",
    "        apply_logit=False,\n",
    "        empty_representations=[np.nan],\n",
    "        use_weight=True,\n",
    "        bins=30,\n",
    "        vertical_lines=[fill_val_nohit, fill_val_noask],\n",
    "    )"
   ]
  },
  {
   "cell_type": "markdown",
   "metadata": {},
   "source": [
    "#### Alternative"
   ]
  },
  {
   "cell_type": "code",
   "execution_count": 61,
   "metadata": {
    "ExecuteTime": {
     "end_time": "2020-09-09T06:20:23.938138Z",
     "start_time": "2020-09-09T06:20:23.396585Z"
    }
   },
   "outputs": [
    {
     "name": "stdout",
     "output_type": "stream",
     "text": [
      "-2.777935864098535\n",
      "-2.4702406797846237\n"
     ]
    }
   ],
   "source": [
    "fill_val_nohit = quantile_imputer(sample_hit = data[train_mask & (data[\"BUREAU_Y_STATUS\"]=='HIT')],\n",
    "                              sample_nohit = data[train_mask & (data[\"BUREAU_Y_STATUS\"]=='NO-HIT')],\n",
    "                              score = \"BUREAU_Y_LIN\",\n",
    "                              target = col_target,\n",
    "                              weight = col_weight,\n",
    "                              quantiles = 100)\n",
    "print(fill_val_nohit)\n",
    "\n",
    "fill_val_noask = quantile_imputer(sample_hit = data[train_mask & (data[\"BUREAU_Y_STATUS\"]=='HIT')],\n",
    "                              sample_nohit = data[train_mask & (data[\"BUREAU_Y_STATUS\"]=='NO-ASK')],\n",
    "                              score = \"BUREAU_Y_LIN\",\n",
    "                              target = col_target,\n",
    "                              weight = col_weight,\n",
    "                              quantiles = 100)\n",
    "print(fill_val_noask)\n",
    "\n",
    "data[\"BUREAU_Y_LIN_MV\"] = data[\"BUREAU_Y_LIN\"].copy()\n",
    "data.loc[(data[\"BUREAU_Y_STATUS\"]=='NO-HIT'), \"BUREAU_Y_LIN_MV\"] = fill_val_nohit\n",
    "data.loc[(data[\"BUREAU_Y_STATUS\"]=='NO-ASK'), \"BUREAU_Y_LIN_MV\"] = fill_val_noask\n",
    "\n",
    "documentation.CalibrationDistribution(\n",
    "        data=data,\n",
    "        sample=\"Train\",\n",
    "        target=col_target,\n",
    "        score=\"BUREAU_Y_LIN\",\n",
    "        shift=0,\n",
    "        scale=1,\n",
    "        apply_logit=False,\n",
    "        empty_representations=[np.nan],\n",
    "        use_weight=True,\n",
    "        bins=30,\n",
    "        vertical_lines=[fill_val_nohit, fill_val_noask],\n",
    "    )"
   ]
  },
  {
   "cell_type": "markdown",
   "metadata": {},
   "source": [
    "### Manual imputation\n",
    "\n",
    "In some cases, we want to impute the missing values by values that we come up with expertly.\n",
    "\n",
    "In the following list of dictionaries, we define:\n",
    "- `fill_variable` - name of variable that should be imputed, i.e. *what*\n",
    "- `nohit_condition` - pandas query defining which rows the variable should be imputed in, i.e. *where*\n",
    "- `manual_value` - value the variable should be imputed by, i.e. *how*"
   ]
  },
  {
   "cell_type": "code",
   "execution_count": 62,
   "metadata": {
    "ExecuteTime": {
     "end_time": "2020-09-09T06:20:23.945310Z",
     "start_time": "2020-09-09T06:20:23.938138Z"
    }
   },
   "outputs": [],
   "source": [
    "mv_manual_imputation_meta = [\n",
    "    {\n",
    "        'fill_variable': 'TELCO_A_LIN',\n",
    "        'nohit_condition': 'TELCO_A_LIN.isnull()',\n",
    "        'manual_value': -2.2,\n",
    "    },\n",
    "    {\n",
    "        'fill_variable': 'TELCO_B_LIN',\n",
    "        'nohit_condition': 'TELCO_B_LIN.isnull()',\n",
    "        'manual_value': -2.2,\n",
    "    },\n",
    "    {\n",
    "        'fill_variable': 'DEVICE_LIN',\n",
    "        'nohit_condition': 'DEVICE.isnull()',\n",
    "        'manual_value': -2.6,\n",
    "    },\n",
    "    {\n",
    "        'fill_variable': 'BUREAU_Y_LIN',\n",
    "        'nohit_condition': 'BUREAU_Y_STATUS==\"NO-HIT\"',\n",
    "        'manual_value': -2.8,\n",
    "    },\n",
    "    {\n",
    "        'fill_variable': 'BUREAU_Y_LIN',\n",
    "        'nohit_condition': 'BUREAU_Y_STATUS==\"NO-ASK\"',\n",
    "        'manual_value': -2.3,\n",
    "    },\n",
    "]"
   ]
  },
  {
   "cell_type": "markdown",
   "metadata": {},
   "source": [
    "Run imputation based on the previously defined list of dictionaries:"
   ]
  },
  {
   "cell_type": "code",
   "execution_count": 63,
   "metadata": {
    "ExecuteTime": {
     "end_time": "2020-09-09T06:20:23.968250Z",
     "start_time": "2020-09-09T06:20:23.946345Z"
    }
   },
   "outputs": [],
   "source": [
    "for imp in mv_manual_imputation_meta:\n",
    "    if imp['fill_variable']+'_MV' not in data.columns:\n",
    "        data[imp['fill_variable']+'_MV'] = data[imp['fill_variable']].copy()\n",
    "    data.loc[data.eval(imp['nohit_condition'],engine='python'), imp['fill_variable']+'_MV'] = imp['manual_value']"
   ]
  },
  {
   "cell_type": "markdown",
   "metadata": {},
   "source": [
    "## Simple logistic regression"
   ]
  },
  {
   "cell_type": "markdown",
   "metadata": {},
   "source": [
    "Define list of transformed and imputed variable that will be used as predictors in logistic regression."
   ]
  },
  {
   "cell_type": "code",
   "execution_count": 64,
   "metadata": {
    "ExecuteTime": {
     "end_time": "2020-09-09T06:20:23.973235Z",
     "start_time": "2020-09-09T06:20:23.969273Z"
    }
   },
   "outputs": [],
   "source": [
    "cols_pred_transformed_mv = ['INTERNAL_LIN',\n",
    "                           'TELCO_A_LIN_MV',\n",
    "                           'TELCO_B_LIN_MV',\n",
    "                           'BUREAU_X_WOE',\n",
    "                           'BUREAU_Y_LIN_MV',\n",
    "                           'UTILITY_WOE',\n",
    "                           'DEVICE_LIN_MV']"
   ]
  },
  {
   "cell_type": "markdown",
   "metadata": {},
   "source": [
    "### Weighted model\n",
    "\n",
    "Logitstic regression model using weights from `col_weight`."
   ]
  },
  {
   "cell_type": "code",
   "execution_count": 65,
   "metadata": {
    "ExecuteTime": {
     "end_time": "2020-09-09T06:20:24.004152Z",
     "start_time": "2020-09-09T06:20:23.974254Z"
    }
   },
   "outputs": [
    {
     "name": "stdout",
     "output_type": "stream",
     "text": [
      "Intercept 6.740351948469789\n",
      "INTERNAL_LIN 0.6945592554287275\n",
      "TELCO_A_LIN_MV 0.45998711303148754\n",
      "TELCO_B_LIN_MV 1.3430740821755718\n",
      "BUREAU_X_WOE -1.2192044620019153\n",
      "BUREAU_Y_LIN_MV 0.6901351696544764\n",
      "UTILITY_WOE -1.1326016918653468\n",
      "DEVICE_LIN_MV 0.6371921153612514\n"
     ]
    }
   ],
   "source": [
    "from sklearn.linear_model import LogisticRegression\n",
    "\n",
    "logreg_simple_w = LogisticRegression(penalty = 'l2', C = 1000, solver = 'liblinear')\n",
    "logreg_simple_w.fit(X=data[train_mask][cols_pred_transformed_mv],\n",
    "                    y=data[train_mask][col_target],\n",
    "                    sample_weight=data[train_mask][col_weight])\n",
    "data['score_weighted'] = logreg_simple_w.predict_proba(X=data[cols_pred_transformed_mv])[:,1]\n",
    "\n",
    "for pred, coef in zip(['Intercept'] + cols_pred_transformed_mv, np.concatenate((logreg_simple_w.intercept_, logreg_simple_w.coef_[0]))):\n",
    "    print (pred, coef)"
   ]
  },
  {
   "cell_type": "markdown",
   "metadata": {},
   "source": [
    "### Unweighted model\n",
    "\n",
    "Logistic regression model not using weights."
   ]
  },
  {
   "cell_type": "code",
   "execution_count": 66,
   "metadata": {
    "ExecuteTime": {
     "end_time": "2020-09-09T06:20:24.034072Z",
     "start_time": "2020-09-09T06:20:24.005150Z"
    }
   },
   "outputs": [
    {
     "name": "stdout",
     "output_type": "stream",
     "text": [
      "Intercept 7.2818003415472425\n",
      "INTERNAL_LIN 0.7570207539207163\n",
      "TELCO_A_LIN_MV 0.5222858490276976\n",
      "TELCO_B_LIN_MV 1.4416417983633576\n",
      "BUREAU_X_WOE -1.1619736372687717\n",
      "BUREAU_Y_LIN_MV 0.7228733812632097\n",
      "UTILITY_WOE -1.223764194319505\n",
      "DEVICE_LIN_MV 0.587954565249234\n"
     ]
    }
   ],
   "source": [
    "from sklearn.linear_model import LogisticRegression\n",
    "\n",
    "logreg_simple = LogisticRegression(penalty = 'l2', C = 1000, solver = 'liblinear')\n",
    "logreg_simple.fit(X=data[train_mask][cols_pred_transformed_mv],\n",
    "                  y=data[train_mask][col_target])\n",
    "data['score_unweighted'] = logreg_simple.predict_proba(X=data[cols_pred_transformed_mv])[:,1]\n",
    "\n",
    "for pred, coef in zip(['Intercept'] + cols_pred_transformed_mv, np.concatenate((logreg_simple.intercept_, logreg_simple.coef_[0]))):\n",
    "    print (pred, coef)"
   ]
  },
  {
   "cell_type": "markdown",
   "metadata": {},
   "source": [
    "### Comparison of both approaches\n",
    "\n",
    "Gini cross-check: comparing Gini of weighted model on weighted and unweighted sample and Gini of unweighted model on these samples to see whether the weights are or are not changing our model and its performance significantly."
   ]
  },
  {
   "cell_type": "code",
   "execution_count": 67,
   "metadata": {
    "ExecuteTime": {
     "end_time": "2020-09-09T06:20:24.087965Z",
     "start_time": "2020-09-09T06:20:24.035070Z"
    }
   },
   "outputs": [
    {
     "data": {
      "text/html": [
       "<div>\n",
       "<style scoped>\n",
       "    .dataframe tbody tr th:only-of-type {\n",
       "        vertical-align: middle;\n",
       "    }\n",
       "\n",
       "    .dataframe tbody tr th {\n",
       "        vertical-align: top;\n",
       "    }\n",
       "\n",
       "    .dataframe thead th {\n",
       "        text-align: right;\n",
       "    }\n",
       "</style>\n",
       "<table border=\"1\" class=\"dataframe\">\n",
       "  <thead>\n",
       "    <tr style=\"text-align: right;\">\n",
       "      <th>measurement</th>\n",
       "      <th>unweighted</th>\n",
       "      <th>weighted</th>\n",
       "    </tr>\n",
       "    <tr>\n",
       "      <th>score</th>\n",
       "      <th></th>\n",
       "      <th></th>\n",
       "    </tr>\n",
       "  </thead>\n",
       "  <tbody>\n",
       "    <tr>\n",
       "      <th>unweighted</th>\n",
       "      <td>0.417783</td>\n",
       "      <td>0.413431</td>\n",
       "    </tr>\n",
       "    <tr>\n",
       "      <th>weighted</th>\n",
       "      <td>0.416150</td>\n",
       "      <td>0.413498</td>\n",
       "    </tr>\n",
       "  </tbody>\n",
       "</table>\n",
       "</div>"
      ],
      "text/plain": [
       "measurement  unweighted  weighted\n",
       "score                            \n",
       "unweighted     0.417783  0.413431\n",
       "weighted       0.416150  0.413498"
      ]
     },
     "metadata": {},
     "output_type": "display_data"
    }
   ],
   "source": [
    "from scoring.metrics import gini\n",
    "approach_ginis = []\n",
    "approach_ginis.append({'gini':gini(data[valid_mask][col_target], data[valid_mask]['score_weighted']),\n",
    "                       'score':'weighted','measurement':'unweighted'})\n",
    "approach_ginis.append({'gini':gini(data[valid_mask][col_target], data[valid_mask]['score_weighted'], data[valid_mask][col_weight]),\n",
    "                       'score':'weighted','measurement':'weighted'})\n",
    "approach_ginis.append({'gini':gini(data[valid_mask][col_target], data[valid_mask]['score_unweighted']),\n",
    "                       'score':'unweighted','measurement':'unweighted'})\n",
    "approach_ginis.append({'gini':gini(data[valid_mask][col_target], data[valid_mask]['score_unweighted'], data[valid_mask][col_weight]),\n",
    "                       'score':'unweighted','measurement':'weighted'})\n",
    "display(pd.DataFrame(approach_ginis).pivot(index='score', columns='measurement', values='gini'))"
   ]
  },
  {
   "cell_type": "markdown",
   "metadata": {},
   "source": [
    "# Building the model using CrossValidatedGeneralModel class\n",
    "\n",
    "Class `CrossValidatedGeneralModel` is able to run most of the previous steps automatically, essentially it is able to:\n",
    "- transform variables which are in PD (probability, expit) form to logit form\n",
    "- interactively define the missing value imputation logic\n",
    "- run cross-validation or basic train/validation model fitting which will do the following:\n",
    "    - impute missing values of variables using chosen algorithm or given constants\n",
    "    - train logistic regression using the variables\n",
    "- measure Gini of the model either in a deterministic way or using bootstrappings\n",
    "- calculate marginal contribution analysis for\n",
    "    - each predictor which is already in the model\n",
    "    - additional predictors given by the user\n",
    "- return tabular outputs with all the values of coefficients, imputation values, gini values etc. from the previous steps\n",
    "- transform the data - calculate the score for each observation\n",
    "- generate python transformation code"
   ]
  },
  {
   "cell_type": "markdown",
   "metadata": {},
   "source": [
    "## Setup"
   ]
  },
  {
   "cell_type": "markdown",
   "metadata": {},
   "source": [
    "### Metadata"
   ]
  },
  {
   "cell_type": "markdown",
   "metadata": {},
   "source": [
    "#### List of predictors\n",
    "\n",
    "List of variables we want to use in the model. These variables can be in form of probability of default (expit), logit or WOE. They don't have to be imputed as the imputation logic is implemented inside CrossValidatedGeneralModel class."
   ]
  },
  {
   "cell_type": "code",
   "execution_count": 68,
   "metadata": {
    "ExecuteTime": {
     "end_time": "2020-09-09T06:20:24.092948Z",
     "start_time": "2020-09-09T06:20:24.088927Z"
    }
   },
   "outputs": [],
   "source": [
    "cols_pred_final = ['INTERNAL',\n",
    "                   'TELCO_A',\n",
    "                   'TELCO_B',\n",
    "                   'BUREAU_X_WOE',\n",
    "                   'BUREAU_Y',\n",
    "                   'UTILITY_WOE',\n",
    "                   'DEVICE',\n",
    "                  ]"
   ]
  },
  {
   "cell_type": "markdown",
   "metadata": {},
   "source": [
    "#### Probability scores to be transformed\n",
    "\n",
    "List of predictors which are in the probability of default (expit) form. Should be subset of the list defined above. Can be empty."
   ]
  },
  {
   "cell_type": "code",
   "execution_count": 69,
   "metadata": {
    "ExecuteTime": {
     "end_time": "2020-09-09T06:20:24.098898Z",
     "start_time": "2020-09-09T06:20:24.093913Z"
    }
   },
   "outputs": [],
   "source": [
    "cols_pd = ['TELCO_A',\n",
    "           'BUREAU_Y',\n",
    "           'DEVICE',\n",
    "          ]"
   ]
  },
  {
   "cell_type": "markdown",
   "metadata": {},
   "source": [
    "#### Imputation metadata\n",
    "\n",
    "Logic for imputing empty values. In the following list of dictionaries, we define:\n",
    "- `fill_variable` - name of variable that should be imputed, i.e. *what*\n",
    "- `nohit_condition` - pandas query defining which rows the variable should be imputed in, i.e. *where*\n",
    "- `manual_value` - value the variable should be imputed by, i.e. *how* - if `None`, this value is computed automatically using the following\n",
    "- `hit_condition` - pandas query defining which rows should be used to calculate the relationship between score and default rate and so the imputation value, i.e. *how*"
   ]
  },
  {
   "cell_type": "code",
   "execution_count": 70,
   "metadata": {
    "ExecuteTime": {
     "end_time": "2020-09-09T06:20:24.107875Z",
     "start_time": "2020-09-09T06:20:24.099897Z"
    }
   },
   "outputs": [],
   "source": [
    "mv_imputation_meta = [\n",
    "    {\n",
    "        'fill_variable': 'TELCO_A_LIN',\n",
    "        'hit_condition': 'TELCO_A_LIN.notnull()',\n",
    "        'nohit_condition': 'TELCO_A_LIN.isnull()',\n",
    "        'manual_value': -2.2,\n",
    "    },\n",
    "    {\n",
    "        'fill_variable': 'TELCO_A',\n",
    "        'hit_condition': 'TELCO_A.notnull()',\n",
    "        'nohit_condition': 'TELCO_A.isnull()',\n",
    "        'manual_value': None,\n",
    "    },\n",
    "    {\n",
    "        'fill_variable': 'TELCO_B_LIN',\n",
    "        'hit_condition': 'TELCO_B_LIN.notnull()',\n",
    "        'nohit_condition': 'TELCO_B_LIN.isnull()',\n",
    "        'manual_value': -2.2,\n",
    "    },\n",
    "    {\n",
    "        'fill_variable': 'TELCO_B',\n",
    "        'hit_condition': 'TELCO_B.notnull()',\n",
    "        'nohit_condition': 'TELCO_B.isnull()',\n",
    "        'manual_value': None,\n",
    "    },\n",
    "    {\n",
    "        'fill_variable': 'DEVICE',\n",
    "        'hit_condition': 'DEVICE.notnull()',\n",
    "        'nohit_condition': 'DEVICE.isnull()',\n",
    "        'manual_value': None,\n",
    "    },\n",
    "    {\n",
    "        'fill_variable': 'BUREAU_Y',\n",
    "        'hit_condition': 'BUREAU_Y_STATUS==\"HIT\"',\n",
    "        'nohit_condition': 'BUREAU_Y_STATUS==\"NO-HIT\"',\n",
    "        'manual_value': None,\n",
    "    },\n",
    "    {\n",
    "        'fill_variable': 'BUREAU_Y',\n",
    "        'hit_condition': 'BUREAU_Y_STATUS==\"HIT\"',\n",
    "        'nohit_condition': 'BUREAU_Y_STATUS==\"NO-ASK\"',\n",
    "        'manual_value': None,\n",
    "    },\n",
    "]"
   ]
  },
  {
   "cell_type": "markdown",
   "metadata": {},
   "source": [
    "### Setting basic parameters\n",
    "\n",
    "Creating new instance of `CrossValidatedGeneralModel`. The parameters are:\n",
    "- `predictors` - list of predictors we want to use in the model\n",
    "- `predictors_pd_form` - list of predictors which are in the probability of default (expit) form\n",
    "- `imputation_dicts` - imputation metadata as defined above\n",
    "- `cv` - boolean whether to use cross validation\n",
    "- `cv_folds` - number of folds for cross validation\n",
    "- `cv_seed` - random seed for cross validation\n",
    "- `imputation_type` - *quantile* to use `quantile_imputer()` or *linear* to use `missing_value()` imputer\n",
    "- `bootstrapped_gini` - boolean whether Gini should be calculated using bootstrap algorithm\n",
    "- `bootstrap_seed` - random seed for Gini bootstrapping"
   ]
  },
  {
   "cell_type": "code",
   "execution_count": 71,
   "metadata": {
    "ExecuteTime": {
     "end_time": "2020-09-09T06:20:24.120841Z",
     "start_time": "2020-09-09T06:20:24.108873Z"
    }
   },
   "outputs": [],
   "source": [
    "# import importlib\n",
    "# importlib.reload(scoring)\n",
    "# importlib.reload(scoring.general_model)\n",
    "\n",
    "from scoring.general_model import CrossValidatedGeneralModel\n",
    "\n",
    "cvgm = CrossValidatedGeneralModel(\n",
    "    predictors = cols_pred_final,\n",
    "    predictors_pd_form = cols_pd,\n",
    "    imputation_dicts = mv_imputation_meta,\n",
    "    cv = True,\n",
    "    cv_folds = 5,\n",
    "    cv_seed = 1111,\n",
    "    imputation_type = 'quantile',\n",
    "    bootstrapped_gini = True,\n",
    "    bootstrap_seed = 2222,\n",
    "           )"
   ]
  },
  {
   "cell_type": "markdown",
   "metadata": {},
   "source": [
    "### Changing metadata in a interactive way\n",
    "\n",
    "Interactive tools using `qgrid` to change the metadata loaded when the instance was created."
   ]
  },
  {
   "cell_type": "markdown",
   "metadata": {},
   "source": [
    "#### Probabilty scores to be trasformed\n",
    "\n",
    "From the `predictors` list, we can choose which of them are in probability form by ticking them in the *ispd* column."
   ]
  },
  {
   "cell_type": "code",
   "execution_count": 72,
   "metadata": {
    "ExecuteTime": {
     "end_time": "2020-09-09T06:20:24.141786Z",
     "start_time": "2020-09-09T06:20:24.121838Z"
    }
   },
   "outputs": [
    {
     "data": {
      "application/vnd.jupyter.widget-view+json": {
       "model_id": "547aefc85d134ac08a554bf422d80e59",
       "version_major": 2,
       "version_minor": 0
      },
      "text/plain": [
       "QgridWidget(grid_options={'fullWidthRows': True, 'syncColumnCellResize': True, 'forceFitColumns': True, 'defau…"
      ]
     },
     "metadata": {},
     "output_type": "display_data"
    }
   ],
   "source": [
    "cvgm.set_colspd_interactive()"
   ]
  },
  {
   "cell_type": "markdown",
   "metadata": {},
   "source": [
    "#### Imputation metadata\n",
    "\n",
    "Change the imputation metadata. You can also add a new row (i.e. new dictionary for missing value imputation) by clicking the *New empty row* button on remove row by deleting the content of its *fill_variable* field."
   ]
  },
  {
   "cell_type": "code",
   "execution_count": 73,
   "metadata": {
    "ExecuteTime": {
     "end_time": "2020-09-09T06:20:24.179683Z",
     "start_time": "2020-09-09T06:20:24.143781Z"
    }
   },
   "outputs": [
    {
     "data": {
      "application/vnd.jupyter.widget-view+json": {
       "model_id": "174989d810d4468c9b52183349ef139c",
       "version_major": 2,
       "version_minor": 0
      },
      "text/plain": [
       "VBox(children=(QgridWidget(grid_options={'fullWidthRows': True, 'syncColumnCellResize': True, 'forceFitColumns…"
      ]
     },
     "metadata": {},
     "output_type": "display_data"
    }
   ],
   "source": [
    "cvgm.set_imputations_interactive()"
   ]
  },
  {
   "cell_type": "markdown",
   "metadata": {},
   "source": [
    "#### Close widgets\n",
    "**This must be done to be able to pickle the model later!**"
   ]
  },
  {
   "cell_type": "code",
   "execution_count": 74,
   "metadata": {
    "ExecuteTime": {
     "end_time": "2020-09-09T06:20:24.185667Z",
     "start_time": "2020-09-09T06:20:24.181678Z"
    }
   },
   "outputs": [],
   "source": [
    "cvgm.close_interactive()"
   ]
  },
  {
   "cell_type": "markdown",
   "metadata": {},
   "source": [
    "## Fitting the model\n",
    "\n",
    "`.fit()` method is used to train the model. The arguments are:\n",
    "- `X` - training dataframe with predictors\n",
    "- `y` - series with targets corresponding to training dataframe\n",
    "- `w` - series with weights corresponding to training dataframe (not mandatory)\n",
    "- `X_valid` - validation dataframe with predictors (not mandatory)\n",
    "- `y_valid` - series with targets corresponding to validation dataframe (not mandatory)\n",
    "- `w_valid` - series with weights corresponding to validation dataframe (not mandatory)\n",
    "- `predictors` - list of predictors from X to be used. Overwrites the list defined in initialization. (not mandatory)\n",
    "\n",
    "In case we don't use cross validation and `X_valid` is defined, the model is trained using `X` dataset and Gini is measured using `X_valid` dataset. If `X_valid` is not defined, Gini is also meaured using `X` dataset.\n",
    "\n",
    "In case we use cross validation and both `X` and `X_valid` are defined, they are first concatenated and then use as base dataset for cross validation data split. If `X_valid` is not defined, `X` is used as base dataset for cross validation data split."
   ]
  },
  {
   "cell_type": "code",
   "execution_count": 75,
   "metadata": {
    "ExecuteTime": {
     "end_time": "2020-09-09T06:20:25.909913Z",
     "start_time": "2020-09-09T06:20:24.187662Z"
    }
   },
   "outputs": [
    {
     "name": "stdout",
     "output_type": "stream",
     "text": [
      "Model predictors: ['INTERNAL', 'TELCO_A', 'TELCO_B', 'BUREAU_X_WOE', 'BUREAU_Y', 'UTILITY_WOE', 'DEVICE']\n",
      "Cross validation will be used for the training sample.\n"
     ]
    }
   ],
   "source": [
    "cvgm.fit(X=data[train_mask],\n",
    "        y=data[train_mask][col_target],\n",
    "        w=data[train_mask][col_weight],\n",
    "       # X_valid=data[valid_mask],\n",
    "       # y_valid=data[valid_mask][col_target],\n",
    "       # w_valid=data[valid_mask][col_weight],\n",
    "        )"
   ]
  },
  {
   "cell_type": "code",
   "execution_count": 76,
   "metadata": {
    "ExecuteTime": {
     "end_time": "2020-09-09T06:20:25.927234Z",
     "start_time": "2020-09-09T06:20:25.909913Z"
    }
   },
   "outputs": [
    {
     "data": {
      "text/html": [
       "<div>\n",
       "<style scoped>\n",
       "    .dataframe tbody tr th:only-of-type {\n",
       "        vertical-align: middle;\n",
       "    }\n",
       "\n",
       "    .dataframe tbody tr th {\n",
       "        vertical-align: top;\n",
       "    }\n",
       "\n",
       "    .dataframe thead th {\n",
       "        text-align: right;\n",
       "    }\n",
       "</style>\n",
       "<table border=\"1\" class=\"dataframe\">\n",
       "  <thead>\n",
       "    <tr style=\"text-align: right;\">\n",
       "      <th></th>\n",
       "      <th>Coefficient</th>\n",
       "      <th>Logit</th>\n",
       "    </tr>\n",
       "  </thead>\n",
       "  <tbody>\n",
       "    <tr>\n",
       "      <th>INTERNAL</th>\n",
       "      <td>-0.698523</td>\n",
       "      <td></td>\n",
       "    </tr>\n",
       "    <tr>\n",
       "      <th>TELCO_A</th>\n",
       "      <td>0.632687</td>\n",
       "      <td>Yes</td>\n",
       "    </tr>\n",
       "    <tr>\n",
       "      <th>TELCO_B</th>\n",
       "      <td>-0.176457</td>\n",
       "      <td></td>\n",
       "    </tr>\n",
       "    <tr>\n",
       "      <th>BUREAU_X_WOE</th>\n",
       "      <td>-1.180068</td>\n",
       "      <td></td>\n",
       "    </tr>\n",
       "    <tr>\n",
       "      <th>BUREAU_Y</th>\n",
       "      <td>-0.786204</td>\n",
       "      <td>Yes</td>\n",
       "    </tr>\n",
       "    <tr>\n",
       "      <th>UTILITY_WOE</th>\n",
       "      <td>-1.155409</td>\n",
       "      <td></td>\n",
       "    </tr>\n",
       "    <tr>\n",
       "      <th>DEVICE</th>\n",
       "      <td>-0.655003</td>\n",
       "      <td>Yes</td>\n",
       "    </tr>\n",
       "    <tr>\n",
       "      <th>Intercept</th>\n",
       "      <td>15.483233</td>\n",
       "      <td></td>\n",
       "    </tr>\n",
       "  </tbody>\n",
       "</table>\n",
       "</div>"
      ],
      "text/plain": [
       "              Coefficient Logit\n",
       "INTERNAL        -0.698523      \n",
       "TELCO_A          0.632687   Yes\n",
       "TELCO_B         -0.176457      \n",
       "BUREAU_X_WOE    -1.180068      \n",
       "BUREAU_Y        -0.786204   Yes\n",
       "UTILITY_WOE     -1.155409      \n",
       "DEVICE          -0.655003   Yes\n",
       "Intercept       15.483233      "
      ]
     },
     "metadata": {},
     "output_type": "display_data"
    }
   ],
   "source": [
    "result_scorecard = cvgm.scorecard_table\n",
    "display(result_scorecard)\n",
    "result_scorecard.to_csv(output_folder+'/model/scorecard.csv')"
   ]
  },
  {
   "cell_type": "code",
   "execution_count": 77,
   "metadata": {
    "ExecuteTime": {
     "end_time": "2020-09-09T06:20:25.949173Z",
     "start_time": "2020-09-09T06:20:25.929227Z"
    }
   },
   "outputs": [
    {
     "data": {
      "text/html": [
       "<div>\n",
       "<style scoped>\n",
       "    .dataframe tbody tr th:only-of-type {\n",
       "        vertical-align: middle;\n",
       "    }\n",
       "\n",
       "    .dataframe tbody tr th {\n",
       "        vertical-align: top;\n",
       "    }\n",
       "\n",
       "    .dataframe thead th {\n",
       "        text-align: right;\n",
       "    }\n",
       "</style>\n",
       "<table border=\"1\" class=\"dataframe\">\n",
       "  <thead>\n",
       "    <tr style=\"text-align: right;\">\n",
       "      <th></th>\n",
       "      <th>fill_variable</th>\n",
       "      <th>hit_condition</th>\n",
       "      <th>nohit_condition</th>\n",
       "      <th>manual_value</th>\n",
       "      <th>fill_value</th>\n",
       "    </tr>\n",
       "  </thead>\n",
       "  <tbody>\n",
       "    <tr>\n",
       "      <th>0</th>\n",
       "      <td>TELCO_A</td>\n",
       "      <td>TELCO_A.notnull()</td>\n",
       "      <td>TELCO_A.isnull()</td>\n",
       "      <td>None</td>\n",
       "      <td>-2.450329</td>\n",
       "    </tr>\n",
       "    <tr>\n",
       "      <th>1</th>\n",
       "      <td>TELCO_B</td>\n",
       "      <td>TELCO_B.notnull()</td>\n",
       "      <td>TELCO_B.isnull()</td>\n",
       "      <td>None</td>\n",
       "      <td>61.262584</td>\n",
       "    </tr>\n",
       "    <tr>\n",
       "      <th>2</th>\n",
       "      <td>DEVICE</td>\n",
       "      <td>DEVICE.notnull()</td>\n",
       "      <td>DEVICE.isnull()</td>\n",
       "      <td>None</td>\n",
       "      <td>2.627103</td>\n",
       "    </tr>\n",
       "    <tr>\n",
       "      <th>3</th>\n",
       "      <td>BUREAU_Y</td>\n",
       "      <td>BUREAU_Y_STATUS==\"HIT\"</td>\n",
       "      <td>BUREAU_Y_STATUS==\"NO-HIT\"</td>\n",
       "      <td>None</td>\n",
       "      <td>2.787476</td>\n",
       "    </tr>\n",
       "    <tr>\n",
       "      <th>4</th>\n",
       "      <td>BUREAU_Y</td>\n",
       "      <td>BUREAU_Y_STATUS==\"HIT\"</td>\n",
       "      <td>BUREAU_Y_STATUS==\"NO-ASK\"</td>\n",
       "      <td>None</td>\n",
       "      <td>2.451939</td>\n",
       "    </tr>\n",
       "  </tbody>\n",
       "</table>\n",
       "</div>"
      ],
      "text/plain": [
       "  fill_variable           hit_condition            nohit_condition  \\\n",
       "0       TELCO_A       TELCO_A.notnull()           TELCO_A.isnull()   \n",
       "1       TELCO_B       TELCO_B.notnull()           TELCO_B.isnull()   \n",
       "2        DEVICE        DEVICE.notnull()            DEVICE.isnull()   \n",
       "3      BUREAU_Y  BUREAU_Y_STATUS==\"HIT\"  BUREAU_Y_STATUS==\"NO-HIT\"   \n",
       "4      BUREAU_Y  BUREAU_Y_STATUS==\"HIT\"  BUREAU_Y_STATUS==\"NO-ASK\"   \n",
       "\n",
       "  manual_value  fill_value  \n",
       "0         None   -2.450329  \n",
       "1         None   61.262584  \n",
       "2         None    2.627103  \n",
       "3         None    2.787476  \n",
       "4         None    2.451939  "
      ]
     },
     "metadata": {},
     "output_type": "display_data"
    }
   ],
   "source": [
    "result_imputations = cvgm.imputation_table\n",
    "display(result_imputations)\n",
    "result_imputations.to_csv(output_folder+'/model/imputations.csv')"
   ]
  },
  {
   "cell_type": "markdown",
   "metadata": {},
   "source": [
    "Gini in form of `(expected Gini, [5% Gini confidence interval border, 95% Gini confidence interval border])`\n",
    "\n",
    "In case we did not use bootatrapping for Gini evaluation, the interval borders are not available."
   ]
  },
  {
   "cell_type": "code",
   "execution_count": 78,
   "metadata": {
    "ExecuteTime": {
     "end_time": "2020-09-09T06:20:26.359200Z",
     "start_time": "2020-09-09T06:20:25.951168Z"
    }
   },
   "outputs": [
    {
     "data": {
      "text/plain": [
       "(0.42528325435107334, [0.39463321666460066, 0.46808099965800987])"
      ]
     },
     "execution_count": 78,
     "metadata": {},
     "output_type": "execute_result"
    }
   ],
   "source": [
    "cvgm.gini_result"
   ]
  },
  {
   "cell_type": "markdown",
   "metadata": {},
   "source": [
    "## Outputs"
   ]
  },
  {
   "cell_type": "markdown",
   "metadata": {},
   "source": [
    "### Marginal contribution\n",
    "\n",
    "`.marginal_contribution()` method is used to measure marginal contribution of individual predictors:\n",
    "- each predictor which is already in the model - we calculate the Gini difference between the base model and model without this predictor\n",
    "- additional predictors given by the user - we calculate the Gini difference between model with a predictor added and the base model\n",
    "\n",
    "Its argument is `predictors_to_add` - list with additional predictors, their marginal contribution to the base model is calculated. Can be empty list. (not mandatory)"
   ]
  },
  {
   "cell_type": "code",
   "execution_count": 79,
   "metadata": {
    "ExecuteTime": {
     "end_time": "2020-09-09T06:20:46.181463Z",
     "start_time": "2020-09-09T06:20:26.360075Z"
    }
   },
   "outputs": [
    {
     "name": "stdout",
     "output_type": "stream",
     "text": [
      "Adding predictors...\n"
     ]
    },
    {
     "data": {
      "application/vnd.jupyter.widget-view+json": {
       "model_id": "7bbd7fef45684460b1d30a6438c22512",
       "version_major": 2,
       "version_minor": 0
      },
      "text/plain": [
       "HBox(children=(FloatProgress(value=0.0, max=1.0), HTML(value='')))"
      ]
     },
     "metadata": {},
     "output_type": "display_data"
    },
    {
     "name": "stdout",
     "output_type": "stream",
     "text": [
      "Model predictors: ['INTERNAL', 'TELCO_A', 'TELCO_B', 'BUREAU_X_WOE', 'BUREAU_Y', 'UTILITY_WOE', 'DEVICE', 'TELCO_B_LIN']\n",
      "Cross validation will be used for the training sample.\n",
      "\n",
      "Removing predictors...\n"
     ]
    },
    {
     "data": {
      "application/vnd.jupyter.widget-view+json": {
       "model_id": "c0850026958f4d378414bbace782c1e6",
       "version_major": 2,
       "version_minor": 0
      },
      "text/plain": [
       "HBox(children=(FloatProgress(value=0.0, max=7.0), HTML(value='')))"
      ]
     },
     "metadata": {},
     "output_type": "display_data"
    },
    {
     "name": "stdout",
     "output_type": "stream",
     "text": [
      "Model predictors: ['TELCO_A', 'TELCO_B', 'BUREAU_X_WOE', 'BUREAU_Y', 'UTILITY_WOE', 'DEVICE']\n",
      "Cross validation will be used for the training sample.\n",
      "Model predictors: ['INTERNAL', 'TELCO_B', 'BUREAU_X_WOE', 'BUREAU_Y', 'UTILITY_WOE', 'DEVICE']\n",
      "Cross validation will be used for the training sample.\n",
      "Model predictors: ['INTERNAL', 'TELCO_A', 'BUREAU_X_WOE', 'BUREAU_Y', 'UTILITY_WOE', 'DEVICE']\n",
      "Cross validation will be used for the training sample.\n",
      "Model predictors: ['INTERNAL', 'TELCO_A', 'TELCO_B', 'BUREAU_Y', 'UTILITY_WOE', 'DEVICE']\n",
      "Cross validation will be used for the training sample.\n",
      "Model predictors: ['INTERNAL', 'TELCO_A', 'TELCO_B', 'BUREAU_X_WOE', 'UTILITY_WOE', 'DEVICE']\n",
      "Cross validation will be used for the training sample.\n",
      "Model predictors: ['INTERNAL', 'TELCO_A', 'TELCO_B', 'BUREAU_X_WOE', 'BUREAU_Y', 'DEVICE']\n",
      "Cross validation will be used for the training sample.\n",
      "Model predictors: ['INTERNAL', 'TELCO_A', 'TELCO_B', 'BUREAU_X_WOE', 'BUREAU_Y', 'UTILITY_WOE']\n",
      "Cross validation will be used for the training sample.\n",
      "\n"
     ]
    },
    {
     "data": {
      "text/html": [
       "<div>\n",
       "<style scoped>\n",
       "    .dataframe tbody tr th:only-of-type {\n",
       "        vertical-align: middle;\n",
       "    }\n",
       "\n",
       "    .dataframe tbody tr th {\n",
       "        vertical-align: top;\n",
       "    }\n",
       "\n",
       "    .dataframe thead th {\n",
       "        text-align: right;\n",
       "    }\n",
       "</style>\n",
       "<table border=\"1\" class=\"dataframe\">\n",
       "  <thead>\n",
       "    <tr style=\"text-align: right;\">\n",
       "      <th></th>\n",
       "      <th>add/remove</th>\n",
       "      <th>gini</th>\n",
       "      <th>diff</th>\n",
       "      <th>gini_5%</th>\n",
       "      <th>gini_95%</th>\n",
       "      <th>hit_gini_base_model</th>\n",
       "      <th>hit_gini</th>\n",
       "      <th>hit_diff</th>\n",
       "    </tr>\n",
       "    <tr>\n",
       "      <th>predictor</th>\n",
       "      <th></th>\n",
       "      <th></th>\n",
       "      <th></th>\n",
       "      <th></th>\n",
       "      <th></th>\n",
       "      <th></th>\n",
       "      <th></th>\n",
       "      <th></th>\n",
       "    </tr>\n",
       "  </thead>\n",
       "  <tbody>\n",
       "    <tr>\n",
       "      <th>base_model</th>\n",
       "      <td></td>\n",
       "      <td>0.425283</td>\n",
       "      <td>0.000000</td>\n",
       "      <td>0.394633</td>\n",
       "      <td>0.468081</td>\n",
       "      <td>NaN</td>\n",
       "      <td>NaN</td>\n",
       "      <td>NaN</td>\n",
       "    </tr>\n",
       "    <tr>\n",
       "      <th>TELCO_B_LIN</th>\n",
       "      <td>+</td>\n",
       "      <td>0.423139</td>\n",
       "      <td>-0.002144</td>\n",
       "      <td>0.391507</td>\n",
       "      <td>0.468506</td>\n",
       "      <td>0.489394</td>\n",
       "      <td>0.485031</td>\n",
       "      <td>-0.004363</td>\n",
       "    </tr>\n",
       "    <tr>\n",
       "      <th>INTERNAL</th>\n",
       "      <td>-</td>\n",
       "      <td>0.214653</td>\n",
       "      <td>-0.210630</td>\n",
       "      <td>0.176887</td>\n",
       "      <td>0.250851</td>\n",
       "      <td>0.425283</td>\n",
       "      <td>0.214653</td>\n",
       "      <td>-0.210630</td>\n",
       "    </tr>\n",
       "    <tr>\n",
       "      <th>TELCO_A</th>\n",
       "      <td>-</td>\n",
       "      <td>0.420556</td>\n",
       "      <td>-0.004727</td>\n",
       "      <td>0.390284</td>\n",
       "      <td>0.464894</td>\n",
       "      <td>0.482489</td>\n",
       "      <td>0.450439</td>\n",
       "      <td>-0.032050</td>\n",
       "    </tr>\n",
       "    <tr>\n",
       "      <th>TELCO_B</th>\n",
       "      <td>-</td>\n",
       "      <td>0.405307</td>\n",
       "      <td>-0.019976</td>\n",
       "      <td>0.371126</td>\n",
       "      <td>0.449507</td>\n",
       "      <td>0.489394</td>\n",
       "      <td>0.422421</td>\n",
       "      <td>-0.066973</td>\n",
       "    </tr>\n",
       "    <tr>\n",
       "      <th>BUREAU_X_WOE</th>\n",
       "      <td>-</td>\n",
       "      <td>0.418435</td>\n",
       "      <td>-0.006848</td>\n",
       "      <td>0.386498</td>\n",
       "      <td>0.461247</td>\n",
       "      <td>0.425283</td>\n",
       "      <td>0.418435</td>\n",
       "      <td>-0.006848</td>\n",
       "    </tr>\n",
       "    <tr>\n",
       "      <th>BUREAU_Y</th>\n",
       "      <td>-</td>\n",
       "      <td>0.417051</td>\n",
       "      <td>-0.008232</td>\n",
       "      <td>0.387649</td>\n",
       "      <td>0.460028</td>\n",
       "      <td>0.460506</td>\n",
       "      <td>0.432983</td>\n",
       "      <td>-0.027523</td>\n",
       "    </tr>\n",
       "    <tr>\n",
       "      <th>UTILITY_WOE</th>\n",
       "      <td>-</td>\n",
       "      <td>0.413409</td>\n",
       "      <td>-0.011875</td>\n",
       "      <td>0.377625</td>\n",
       "      <td>0.456311</td>\n",
       "      <td>0.425283</td>\n",
       "      <td>0.413409</td>\n",
       "      <td>-0.011875</td>\n",
       "    </tr>\n",
       "    <tr>\n",
       "      <th>DEVICE</th>\n",
       "      <td>-</td>\n",
       "      <td>0.408684</td>\n",
       "      <td>-0.016600</td>\n",
       "      <td>0.375447</td>\n",
       "      <td>0.449225</td>\n",
       "      <td>0.372246</td>\n",
       "      <td>0.327106</td>\n",
       "      <td>-0.045140</td>\n",
       "    </tr>\n",
       "  </tbody>\n",
       "</table>\n",
       "</div>"
      ],
      "text/plain": [
       "             add/remove      gini      diff   gini_5%  gini_95%  \\\n",
       "predictor                                                         \n",
       "base_model               0.425283  0.000000  0.394633  0.468081   \n",
       "TELCO_B_LIN           +  0.423139 -0.002144  0.391507  0.468506   \n",
       "INTERNAL              -  0.214653 -0.210630  0.176887  0.250851   \n",
       "TELCO_A               -  0.420556 -0.004727  0.390284  0.464894   \n",
       "TELCO_B               -  0.405307 -0.019976  0.371126  0.449507   \n",
       "BUREAU_X_WOE          -  0.418435 -0.006848  0.386498  0.461247   \n",
       "BUREAU_Y              -  0.417051 -0.008232  0.387649  0.460028   \n",
       "UTILITY_WOE           -  0.413409 -0.011875  0.377625  0.456311   \n",
       "DEVICE                -  0.408684 -0.016600  0.375447  0.449225   \n",
       "\n",
       "              hit_gini_base_model  hit_gini  hit_diff  \n",
       "predictor                                              \n",
       "base_model                    NaN       NaN       NaN  \n",
       "TELCO_B_LIN              0.489394  0.485031 -0.004363  \n",
       "INTERNAL                 0.425283  0.214653 -0.210630  \n",
       "TELCO_A                  0.482489  0.450439 -0.032050  \n",
       "TELCO_B                  0.489394  0.422421 -0.066973  \n",
       "BUREAU_X_WOE             0.425283  0.418435 -0.006848  \n",
       "BUREAU_Y                 0.460506  0.432983 -0.027523  \n",
       "UTILITY_WOE              0.425283  0.413409 -0.011875  \n",
       "DEVICE                   0.372246  0.327106 -0.045140  "
      ]
     },
     "metadata": {},
     "output_type": "display_data"
    }
   ],
   "source": [
    "mc = cvgm.marginal_contribution(X=data[train_mask],\n",
    "        y=data[train_mask][col_target],\n",
    "        w=data[train_mask][col_weight],\n",
    "       # X_valid=data[valid_mask],\n",
    "       # y_valid=data[valid_mask][col_target],\n",
    "       # w_valid=data[valid_mask][col_weight],\n",
    "        predictors_to_add = ['TELCO_B_LIN'])\n",
    "display(mc)\n",
    "mc.to_csv(output_folder+'/model/marginal_contribution.csv')"
   ]
  },
  {
   "cell_type": "markdown",
   "metadata": {},
   "source": [
    "### Scoring code\n",
    "\n",
    "Python code that can be used for calculation of the score. It uses `pandas` dataframe as the source of the predictors and `expit` function for `scipy` library."
   ]
  },
  {
   "cell_type": "code",
   "execution_count": 80,
   "metadata": {
    "ExecuteTime": {
     "end_time": "2020-09-09T06:20:46.188425Z",
     "start_time": "2020-09-09T06:20:46.182430Z"
    }
   },
   "outputs": [
    {
     "name": "stdout",
     "output_type": "stream",
     "text": [
      "import pandas as pd\n",
      "from scipy.special import expit\n",
      "\n",
      "pred_INTERNAL = data[\"INTERNAL\"].copy()\n",
      "pred_TELCO_A = logit(data[\"TELCO_A\"].copy())\n",
      "pred_TELCO_A[data.eval('TELCO_A.isnull()',engine='python')] = -2.450329264770514\n",
      "pred_TELCO_B = data[\"TELCO_B\"].copy()\n",
      "pred_TELCO_B[data.eval('TELCO_B.isnull()',engine='python')] = 61.26258384295953\n",
      "pred_BUREAU_X_WOE = data[\"BUREAU_X_WOE\"].copy()\n",
      "pred_BUREAU_Y = logit(data[\"BUREAU_Y\"].copy())\n",
      "pred_BUREAU_Y[data.eval('BUREAU_Y_STATUS==\"NO-HIT\"',engine='python')] = 2.78747556677341\n",
      "pred_BUREAU_Y[data.eval('BUREAU_Y_STATUS==\"NO-ASK\"',engine='python')] = 2.4519388844438246\n",
      "pred_UTILITY_WOE = data[\"UTILITY_WOE\"].copy()\n",
      "pred_DEVICE = logit(data[\"DEVICE\"].copy())\n",
      "pred_DEVICE[data.eval('DEVICE.isnull()',engine='python')] = 2.6271026419408092\n",
      "\n",
      "score_log = 15.483233189528015 + -0.6985231456744377 * pred_INTERNAL + 0.632687219876047 * pred_TELCO_A + -0.1764570822599315 * pred_TELCO_B + -1.1800684676665052 * pred_BUREAU_X_WOE + -0.7862042306294459 * pred_BUREAU_Y + -1.1554090955122758 * pred_UTILITY_WOE + -0.6550032724917142 * pred_DEVICE\n",
      "\n",
      "score = expit(score_log)\n"
     ]
    }
   ],
   "source": [
    "result_code = cvgm.transformation_code(dataset_name='data')\n",
    "print(result_code)\n",
    "\n",
    "result_code_file = open(output_folder+'/model/scoring_code.py', 'w') \n",
    "print(result_code, file = result_code_file) \n",
    "result_code_file.close() "
   ]
  },
  {
   "cell_type": "markdown",
   "metadata": {},
   "source": [
    "### Add score column to the dataset"
   ]
  },
  {
   "cell_type": "code",
   "execution_count": 81,
   "metadata": {
    "ExecuteTime": {
     "end_time": "2020-09-09T06:20:46.194397Z",
     "start_time": "2020-09-09T06:20:46.190409Z"
    }
   },
   "outputs": [],
   "source": [
    "col_score = 'GM_SCORE'"
   ]
  },
  {
   "cell_type": "code",
   "execution_count": 82,
   "metadata": {
    "ExecuteTime": {
     "end_time": "2020-09-09T06:20:46.221328Z",
     "start_time": "2020-09-09T06:20:46.195396Z"
    }
   },
   "outputs": [
    {
     "name": "stdout",
     "output_type": "stream",
     "text": [
      "0        0.011910\n",
      "1        0.089537\n",
      "2        0.076965\n",
      "3        0.072665\n",
      "4        0.034938\n",
      "           ...   \n",
      "19971    0.138043\n",
      "19972    0.160896\n",
      "19973    0.085820\n",
      "19974    0.025567\n",
      "19975    0.107393\n",
      "Name: GM_SCORE, Length: 19976, dtype: float64\n"
     ]
    }
   ],
   "source": [
    "data[col_score] = cvgm.transform(data)\n",
    "print(data[col_score])"
   ]
  },
  {
   "cell_type": "markdown",
   "metadata": {},
   "source": [
    "### Column with the temporary scores from cross-validation folds\n",
    "\n",
    "If we used cross validation to fit the scorecard, the final score was trained in the whole set, so the scorecard might be overfitted. \n",
    "\n",
    "For such cases, during each iteration of cross-validation process when a temporary scorecard is fitted, the scored testing data set from that iteration is saved. Then all these sets are concatenated to create dataset scored by non-overfitted temporary scorecards."
   ]
  },
  {
   "cell_type": "code",
   "execution_count": 83,
   "metadata": {
    "ExecuteTime": {
     "end_time": "2020-09-09T06:20:46.224349Z",
     "start_time": "2020-09-09T06:20:46.222329Z"
    }
   },
   "outputs": [],
   "source": [
    "col_tmp_cv_score = 'GM_SCORE_TMP_CV'"
   ]
  },
  {
   "cell_type": "code",
   "execution_count": 84,
   "metadata": {
    "ExecuteTime": {
     "end_time": "2020-09-09T06:20:46.236291Z",
     "start_time": "2020-09-09T06:20:46.225326Z"
    }
   },
   "outputs": [
    {
     "data": {
      "text/plain": [
       "0        0.011086\n",
       "1        0.096657\n",
       "2             NaN\n",
       "3             NaN\n",
       "4        0.039589\n",
       "           ...   \n",
       "19971         NaN\n",
       "19972    0.160649\n",
       "19973         NaN\n",
       "19974         NaN\n",
       "19975    0.105539\n",
       "Name: GM_SCORE_TMP_CV, Length: 19976, dtype: float64"
      ]
     },
     "execution_count": 84,
     "metadata": {},
     "output_type": "execute_result"
    }
   ],
   "source": [
    "data[col_tmp_cv_score] = cvgm.validation_prediction\n",
    "eval_mask = data[col_tmp_cv_score].notnull()\n",
    "data[col_tmp_cv_score]"
   ]
  },
  {
   "cell_type": "markdown",
   "metadata": {},
   "source": [
    "## Model Export"
   ]
  },
  {
   "cell_type": "code",
   "execution_count": 85,
   "metadata": {
    "ExecuteTime": {
     "end_time": "2020-09-09T06:20:46.243272Z",
     "start_time": "2020-09-09T06:20:46.237320Z"
    }
   },
   "outputs": [],
   "source": [
    "model_filename = \"myModelGM.model\"\n",
    "pickle.dump(cvgm, open(model_filename, \"wb\"))"
   ]
  },
  {
   "cell_type": "code",
   "execution_count": 86,
   "metadata": {
    "ExecuteTime": {
     "end_time": "2020-09-09T06:20:46.789376Z",
     "start_time": "2020-09-09T06:20:46.244272Z"
    }
   },
   "outputs": [],
   "source": [
    "data.to_csv('demo_data/gm_data_scored.csv')"
   ]
  },
  {
   "cell_type": "markdown",
   "metadata": {},
   "source": [
    "# Subpopulation analyses\n",
    "\n",
    "As General Model is directly used for rejection of clients, we might be curious how it will behave for various subpopulations of clients, e.g. hit populations of some data sources or some special client groups.\n",
    "\n",
    "In the following part, we will measure Gini of the model using observations of these groups only; and we will estimate approval rate of these groups if we base the approval/rejection process just on this score."
   ]
  },
  {
   "cell_type": "markdown",
   "metadata": {},
   "source": [
    "## Hit population Gini\n",
    "\n",
    "For each population of interest, we calculate Gini coefficient of our score.\n",
    "\n",
    "We use the temporary validation score in case cross validation was used to fit the scorecard, so our Gini estimation is not biased."
   ]
  },
  {
   "cell_type": "code",
   "execution_count": 87,
   "metadata": {
    "ExecuteTime": {
     "end_time": "2020-09-09T06:20:46.793353Z",
     "start_time": "2020-09-09T06:20:46.790333Z"
    }
   },
   "outputs": [],
   "source": [
    "populations_of_interest = [\n",
    "    'TELCO_A.notnull()',\n",
    "    'TELCO_B.notnull()',\n",
    "    'BUREAU_X.notnull()',\n",
    "    'BUREAU_Y.notnull()',\n",
    "]\n",
    "\n",
    "analysis_gini_mask = eval_mask"
   ]
  },
  {
   "cell_type": "code",
   "execution_count": 88,
   "metadata": {
    "ExecuteTime": {
     "end_time": "2020-09-09T06:20:47.884179Z",
     "start_time": "2020-09-09T06:20:46.794322Z"
    }
   },
   "outputs": [
    {
     "data": {
      "application/vnd.jupyter.widget-view+json": {
       "model_id": "",
       "version_major": 2,
       "version_minor": 0
      },
      "text/plain": [
       "HBox(children=(FloatProgress(value=0.0), HTML(value='')))"
      ]
     },
     "metadata": {},
     "output_type": "display_data"
    },
    {
     "data": {
      "application/vnd.jupyter.widget-view+json": {
       "model_id": "",
       "version_major": 2,
       "version_minor": 0
      },
      "text/plain": [
       "HBox(children=(FloatProgress(value=0.0), HTML(value='')))"
      ]
     },
     "metadata": {},
     "output_type": "display_data"
    },
    {
     "data": {
      "application/vnd.jupyter.widget-view+json": {
       "model_id": "",
       "version_major": 2,
       "version_minor": 0
      },
      "text/plain": [
       "HBox(children=(FloatProgress(value=0.0), HTML(value='')))"
      ]
     },
     "metadata": {},
     "output_type": "display_data"
    },
    {
     "data": {
      "application/vnd.jupyter.widget-view+json": {
       "model_id": "",
       "version_major": 2,
       "version_minor": 0
      },
      "text/plain": [
       "HBox(children=(FloatProgress(value=0.0), HTML(value='')))"
      ]
     },
     "metadata": {},
     "output_type": "display_data"
    }
   ],
   "source": [
    "from scoring.metrics import gini, bootstrap_gini\n",
    "\n",
    "population_gini = []\n",
    "for pop in populations_of_interest:\n",
    "    pop_mask = data.eval(pop, engine=\"python\")\n",
    "    g, g_std, g_ci = bootstrap_gini(data = data[analysis_gini_mask & pop_mask],\n",
    "                                   col_target=col_target,\n",
    "                                   col_score=col_tmp_cv_score,\n",
    "                                   col_weight=col_weight,\n",
    "                                   n_iter=100,\n",
    "                                   ci_range=5,)\n",
    "    population_gini.append({'Population':pop, 'Gini':g, 'Gini_5%':g_ci[0], 'Gini_95%':g_ci[1]})\n",
    "population_gini = pd.DataFrame(population_gini)\n",
    "population_gini.set_index('Population', inplace=True)"
   ]
  },
  {
   "cell_type": "code",
   "execution_count": 89,
   "metadata": {
    "ExecuteTime": {
     "end_time": "2020-09-09T06:20:47.894157Z",
     "start_time": "2020-09-09T06:20:47.885148Z"
    }
   },
   "outputs": [
    {
     "data": {
      "text/html": [
       "<div>\n",
       "<style scoped>\n",
       "    .dataframe tbody tr th:only-of-type {\n",
       "        vertical-align: middle;\n",
       "    }\n",
       "\n",
       "    .dataframe tbody tr th {\n",
       "        vertical-align: top;\n",
       "    }\n",
       "\n",
       "    .dataframe thead th {\n",
       "        text-align: right;\n",
       "    }\n",
       "</style>\n",
       "<table border=\"1\" class=\"dataframe\">\n",
       "  <thead>\n",
       "    <tr style=\"text-align: right;\">\n",
       "      <th></th>\n",
       "      <th>Gini</th>\n",
       "      <th>Gini_5%</th>\n",
       "      <th>Gini_95%</th>\n",
       "    </tr>\n",
       "    <tr>\n",
       "      <th>Population</th>\n",
       "      <th></th>\n",
       "      <th></th>\n",
       "      <th></th>\n",
       "    </tr>\n",
       "  </thead>\n",
       "  <tbody>\n",
       "    <tr>\n",
       "      <th>TELCO_A.notnull()</th>\n",
       "      <td>0.486084</td>\n",
       "      <td>0.435960</td>\n",
       "      <td>0.538945</td>\n",
       "    </tr>\n",
       "    <tr>\n",
       "      <th>TELCO_B.notnull()</th>\n",
       "      <td>0.490585</td>\n",
       "      <td>0.429395</td>\n",
       "      <td>0.536650</td>\n",
       "    </tr>\n",
       "    <tr>\n",
       "      <th>BUREAU_X.notnull()</th>\n",
       "      <td>0.500197</td>\n",
       "      <td>0.451018</td>\n",
       "      <td>0.548369</td>\n",
       "    </tr>\n",
       "    <tr>\n",
       "      <th>BUREAU_Y.notnull()</th>\n",
       "      <td>0.467355</td>\n",
       "      <td>0.407119</td>\n",
       "      <td>0.529958</td>\n",
       "    </tr>\n",
       "  </tbody>\n",
       "</table>\n",
       "</div>"
      ],
      "text/plain": [
       "                        Gini   Gini_5%  Gini_95%\n",
       "Population                                      \n",
       "TELCO_A.notnull()   0.486084  0.435960  0.538945\n",
       "TELCO_B.notnull()   0.490585  0.429395  0.536650\n",
       "BUREAU_X.notnull()  0.500197  0.451018  0.548369\n",
       "BUREAU_Y.notnull()  0.467355  0.407119  0.529958"
      ]
     },
     "metadata": {},
     "output_type": "display_data"
    }
   ],
   "source": [
    "display(population_gini)\n",
    "population_gini.to_csv(output_folder+'/analysis/subpopulation_gini.csv')"
   ]
  },
  {
   "cell_type": "markdown",
   "metadata": {},
   "source": [
    "## Approval rates\n",
    "\n",
    "For each population of interest we calculate theoretical approval rate. The estimation goes as follows:\n",
    "- We define a reference approval rate for the whole population of incoming customers\n",
    "- We calculate a cutoff value which corresponds to this targetted approval rate\n",
    "- We set the same cutoff for the subpopulation\n",
    "- We evaluate what would the approval rate on just this subpopulation be when the cutoff is applied.\n",
    "\n",
    "If the subpopulation approval rate is different to the reference approval rate, it ususally means that the subpopulation is shifted, i.e. the estimated probability of default of such customers is different from probability of default of a typical customer."
   ]
  },
  {
   "cell_type": "code",
   "execution_count": 90,
   "metadata": {
    "ExecuteTime": {
     "end_time": "2020-09-09T06:20:47.899136Z",
     "start_time": "2020-09-09T06:20:47.895122Z"
    }
   },
   "outputs": [],
   "source": [
    "populations_of_interest_ar = [\n",
    "    'TELCO_A.notnull()',\n",
    "    'TELCO_B.notnull()',\n",
    "    'BUREAU_X.notnull()',\n",
    "    'BUREAU_Y.notnull()',\n",
    "]\n",
    "\n",
    "analysis_ar_sample = \"Everything\"\n",
    "reference_ar = [0.70, 0.80]"
   ]
  },
  {
   "cell_type": "code",
   "execution_count": 91,
   "metadata": {
    "ExecuteTime": {
     "end_time": "2020-09-09T06:20:47.951003Z",
     "start_time": "2020-09-09T06:20:47.900110Z"
    }
   },
   "outputs": [
    {
     "data": {
      "text/html": [
       "<div>\n",
       "<style scoped>\n",
       "    .dataframe tbody tr th:only-of-type {\n",
       "        vertical-align: middle;\n",
       "    }\n",
       "\n",
       "    .dataframe tbody tr th {\n",
       "        vertical-align: top;\n",
       "    }\n",
       "\n",
       "    .dataframe thead th {\n",
       "        text-align: right;\n",
       "    }\n",
       "</style>\n",
       "<table border=\"1\" class=\"dataframe\">\n",
       "  <thead>\n",
       "    <tr style=\"text-align: right;\">\n",
       "      <th></th>\n",
       "      <th>query_subset</th>\n",
       "      <th>reference_ar</th>\n",
       "      <th>cutoff</th>\n",
       "      <th>subset_ar</th>\n",
       "    </tr>\n",
       "  </thead>\n",
       "  <tbody>\n",
       "    <tr>\n",
       "      <th>0</th>\n",
       "      <td>TELCO_A.notnull()</td>\n",
       "      <td>0.7</td>\n",
       "      <td>0.132735</td>\n",
       "      <td>0.732514</td>\n",
       "    </tr>\n",
       "    <tr>\n",
       "      <th>1</th>\n",
       "      <td>TELCO_A.notnull()</td>\n",
       "      <td>0.8</td>\n",
       "      <td>0.165961</td>\n",
       "      <td>0.818731</td>\n",
       "    </tr>\n",
       "    <tr>\n",
       "      <th>2</th>\n",
       "      <td>TELCO_B.notnull()</td>\n",
       "      <td>0.7</td>\n",
       "      <td>0.132735</td>\n",
       "      <td>0.748605</td>\n",
       "    </tr>\n",
       "    <tr>\n",
       "      <th>3</th>\n",
       "      <td>TELCO_B.notnull()</td>\n",
       "      <td>0.8</td>\n",
       "      <td>0.165961</td>\n",
       "      <td>0.831579</td>\n",
       "    </tr>\n",
       "    <tr>\n",
       "      <th>4</th>\n",
       "      <td>BUREAU_X.notnull()</td>\n",
       "      <td>0.7</td>\n",
       "      <td>0.132735</td>\n",
       "      <td>0.741337</td>\n",
       "    </tr>\n",
       "    <tr>\n",
       "      <th>5</th>\n",
       "      <td>BUREAU_X.notnull()</td>\n",
       "      <td>0.8</td>\n",
       "      <td>0.165961</td>\n",
       "      <td>0.822873</td>\n",
       "    </tr>\n",
       "    <tr>\n",
       "      <th>6</th>\n",
       "      <td>BUREAU_Y.notnull()</td>\n",
       "      <td>0.7</td>\n",
       "      <td>0.132735</td>\n",
       "      <td>0.731199</td>\n",
       "    </tr>\n",
       "    <tr>\n",
       "      <th>7</th>\n",
       "      <td>BUREAU_Y.notnull()</td>\n",
       "      <td>0.8</td>\n",
       "      <td>0.165961</td>\n",
       "      <td>0.813416</td>\n",
       "    </tr>\n",
       "  </tbody>\n",
       "</table>\n",
       "</div>"
      ],
      "text/plain": [
       "         query_subset  reference_ar    cutoff  subset_ar\n",
       "0   TELCO_A.notnull()           0.7  0.132735   0.732514\n",
       "1   TELCO_A.notnull()           0.8  0.165961   0.818731\n",
       "2   TELCO_B.notnull()           0.7  0.132735   0.748605\n",
       "3   TELCO_B.notnull()           0.8  0.165961   0.831579\n",
       "4  BUREAU_X.notnull()           0.7  0.132735   0.741337\n",
       "5  BUREAU_X.notnull()           0.8  0.165961   0.822873\n",
       "6  BUREAU_Y.notnull()           0.7  0.132735   0.731199\n",
       "7  BUREAU_Y.notnull()           0.8  0.165961   0.813416"
      ]
     },
     "execution_count": 91,
     "metadata": {},
     "output_type": "execute_result"
    }
   ],
   "source": [
    "documentation.ExpectedApprovalRate(\n",
    "    data = data,\n",
    "    sample = analysis_ar_sample,\n",
    "    score = col_score,\n",
    "    query_subset = populations_of_interest_ar,\n",
    "    reference_ar = reference_ar,\n",
    "    use_weight = True,\n",
    "    def_by_score_ascending = False,\n",
    "    output_folder = output_folder+'/analysis'\n",
    ")"
   ]
  },
  {
   "cell_type": "markdown",
   "metadata": {},
   "source": [
    "# Documentation outputs"
   ]
  },
  {
   "cell_type": "markdown",
   "metadata": {},
   "source": [
    "## Correlation matrix\n",
    "\n",
    "First we transform the data (including filling the missing values) using the outputs from CrossValidatedGeneralModel class and then draw the correlation matrix."
   ]
  },
  {
   "cell_type": "code",
   "execution_count": 92,
   "metadata": {
    "ExecuteTime": {
     "end_time": "2020-09-09T06:20:47.972956Z",
     "start_time": "2020-09-09T06:20:47.951978Z"
    }
   },
   "outputs": [],
   "source": [
    "corr_data = data[cvgm.predictors].copy()\n",
    "for col_pd in set(cvgm.predictors) & set(cvgm.predictors_pd_form):\n",
    "    corr_data.loc[:,col_pd] = logit(corr_data[col_pd])\n",
    "for imp in cvgm.imputation_values:\n",
    "    if imp['fill_variable'] in corr_data.columns:\n",
    "        corr_data.loc[data.eval(imp['nohit_condition'],engine=\"python\"),imp['fill_variable']] = imp['fill_value']"
   ]
  },
  {
   "cell_type": "code",
   "execution_count": 93,
   "metadata": {
    "ExecuteTime": {
     "end_time": "2020-09-09T06:20:48.785324Z",
     "start_time": "2020-09-09T06:20:47.973922Z"
    }
   },
   "outputs": [
    {
     "data": {
      "image/png": "[encoded data removed]",
      "text/plain": [
       "<Figure size 600x500 with 2 Axes>"
      ]
     },
     "metadata": {
      "needs_background": "light"
     },
     "output_type": "display_data"
    }
   ],
   "source": [
    "documentation.Correlations(data=corr_data,\n",
    "                           predictors=corr_data.columns,\n",
    "                           sample=\"All\",\n",
    "                           output_folder=output_folder+\"/analysis/\",\n",
    "                           filename=\"correlation.png\",\n",
    "                           show_plot=True,)"
   ]
  },
  {
   "cell_type": "markdown",
   "metadata": {},
   "source": [
    "## Transition matrices\n",
    "\n",
    "Matrices describing the relationship between deciles of two scores. They show the default rate in each decile-decile combination and shares of observations from one decile of \"old\" score in each decile of \"new\" score.\n",
    "\n",
    "In this example we compare the internal scorecard and the GM that was developed on top of that.\n",
    "\n",
    "The transition matrix is calculated on just the observable rows first (where we have the target) and on all rows of dataset then."
   ]
  },
  {
   "cell_type": "code",
   "execution_count": 94,
   "metadata": {
    "ExecuteTime": {
     "end_time": "2020-09-09T06:20:51.668095Z",
     "start_time": "2020-09-09T06:20:48.787343Z"
    }
   },
   "outputs": [
    {
     "name": "stderr",
     "output_type": "stream",
     "text": [
      "..\\scoring\\plot.py:551: FutureWarning: Indexing with multiple keys (implicitly converted to a tuple of keys) will be deprecated, use a list instead.\n",
      "  dec_data_agg = dec_data.groupby(['oldscore','newscore'])['target','base','obs'].sum()\n"
     ]
    },
    {
     "data": {
      "image/png": "[encoded data removed]",
      "text/plain": [
       "<Figure size 720x720 with 2 Axes>"
      ]
     },
     "metadata": {
      "needs_background": "light"
     },
     "output_type": "display_data"
    },
    {
     "data": {
      "image/png": "[encoded data removed]",
      "text/plain": [
       "<Figure size 720x720 with 2 Axes>"
      ]
     },
     "metadata": {
      "needs_background": "light"
     },
     "output_type": "display_data"
    },
    {
     "name": "stderr",
     "output_type": "stream",
     "text": [
      "..\\scoring\\plot.py:551: FutureWarning: Indexing with multiple keys (implicitly converted to a tuple of keys) will be deprecated, use a list instead.\n",
      "  dec_data_agg = dec_data.groupby(['oldscore','newscore'])['target','base','obs'].sum()\n"
     ]
    },
    {
     "data": {
      "image/png": "[encoded data removed]",
      "text/plain": [
       "<Figure size 720x720 with 2 Axes>"
      ]
     },
     "metadata": {
      "needs_background": "light"
     },
     "output_type": "display_data"
    }
   ],
   "source": [
    "from scoring.plot import transmatrix\n",
    "col_comparison_score = 'INTERNAL'\n",
    "\n",
    "transmatrix(oldscore = data[observable_mask][col_comparison_score],\n",
    "            newscore = data[observable_mask][col_score],\n",
    "            target = data[observable_mask][col_target],\n",
    "            base = data[observable_mask][col_base],\n",
    "            obs = data[observable_mask][col_base],\n",
    "            draw_default_matrix=True,\n",
    "            draw_transition_matrix=True,\n",
    "            savepath=output_folder+'/analysis/devpop_',\n",
    "            quantiles_count = 10)\n",
    "\n",
    "from scoring.plot import transmatrix\n",
    "\n",
    "transmatrix(oldscore = data[col_comparison_score],\n",
    "            newscore = data[col_score],\n",
    "            target = data[col_target],\n",
    "            base = data[col_base],\n",
    "            obs = data[col_base],\n",
    "            draw_default_matrix=False,\n",
    "            draw_transition_matrix=True,\n",
    "            savepath=output_folder+'/analysis/allpop_',\n",
    "            quantiles_count = 10)"
   ]
  },
  {
   "cell_type": "markdown",
   "metadata": {},
   "source": [
    "## Gini and lift curves\n",
    "\n",
    "We can choose for which samples (masks) we want to draw the Lift and Gini curves and calculate the performance metrics.\n",
    "\n",
    "If we used cross validation for development of the model, we want to use the temporary score from the validation part of the cross-validation folds to evaluate the performance which we previously saved to column `col_tmp_cv_score`."
   ]
  },
  {
   "cell_type": "code",
   "execution_count": 95,
   "metadata": {
    "ExecuteTime": {
     "end_time": "2020-09-09T06:20:51.672276Z",
     "start_time": "2020-09-09T06:20:51.670122Z"
    }
   },
   "outputs": [],
   "source": [
    "eval_masks = {\n",
    "    'eval' : eval_mask,\n",
    "}"
   ]
  },
  {
   "cell_type": "code",
   "execution_count": 96,
   "metadata": {
    "ExecuteTime": {
     "end_time": "2020-09-09T06:20:52.563466Z",
     "start_time": "2020-09-09T06:20:51.674102Z"
    }
   },
   "outputs": [
    {
     "name": "stdout",
     "output_type": "stream",
     "text": [
      "Only Gini statistics supports using weights. Other performance metrics use unweighted sample.\n"
     ]
    },
    {
     "data": {
      "text/html": [
       "<div>\n",
       "<style scoped>\n",
       "    .dataframe tbody tr th:only-of-type {\n",
       "        vertical-align: middle;\n",
       "    }\n",
       "\n",
       "    .dataframe tbody tr th {\n",
       "        vertical-align: top;\n",
       "    }\n",
       "\n",
       "    .dataframe thead tr th {\n",
       "        text-align: left;\n",
       "    }\n",
       "\n",
       "    .dataframe thead tr:last-of-type th {\n",
       "        text-align: right;\n",
       "    }\n",
       "</style>\n",
       "<table border=\"1\" class=\"dataframe\">\n",
       "  <thead>\n",
       "    <tr>\n",
       "      <th></th>\n",
       "      <th>gini</th>\n",
       "      <th>lift_10</th>\n",
       "      <th>KS</th>\n",
       "    </tr>\n",
       "    <tr>\n",
       "      <th>score</th>\n",
       "      <th>GM_SCORE_TMP_CV</th>\n",
       "      <th>GM_SCORE_TMP_CV</th>\n",
       "      <th>GM_SCORE_TMP_CV</th>\n",
       "    </tr>\n",
       "    <tr>\n",
       "      <th>sample</th>\n",
       "      <th></th>\n",
       "      <th></th>\n",
       "      <th></th>\n",
       "    </tr>\n",
       "  </thead>\n",
       "  <tbody>\n",
       "    <tr>\n",
       "      <th>eval</th>\n",
       "      <td>0.425617</td>\n",
       "      <td>2.456395</td>\n",
       "      <td>0.358896</td>\n",
       "    </tr>\n",
       "  </tbody>\n",
       "</table>\n",
       "</div>"
      ],
      "text/plain": [
       "                  gini         lift_10              KS\n",
       "score  GM_SCORE_TMP_CV GM_SCORE_TMP_CV GM_SCORE_TMP_CV\n",
       "sample                                                \n",
       "eval          0.425617        2.456395        0.358896"
      ]
     },
     "metadata": {},
     "output_type": "display_data"
    },
    {
     "data": {
      "image/png": "[encoded data removed]",
      "text/plain": [
       "<Figure size 504x504 with 1 Axes>"
      ]
     },
     "metadata": {
      "needs_background": "light"
     },
     "output_type": "display_data"
    },
    {
     "data": {
      "image/png": "[encoded data removed]",
      "text/plain": [
       "<Figure size 720x360 with 1 Axes>"
      ]
     },
     "metadata": {
      "needs_background": "light"
     },
     "output_type": "display_data"
    }
   ],
   "source": [
    "from scoring.metrics import eval_performance_wrapper\n",
    "from scoring.tools import curves_wrapper\n",
    "\n",
    "perf = eval_performance_wrapper(data=data,\n",
    "                                masks=eval_masks,\n",
    "                                col_target=col_target,\n",
    "                                col_score=col_tmp_cv_score,\n",
    "                                col_weight=col_weight,\n",
    "                                lift_perc=10)\n",
    "display(perf)\n",
    "perf.to_csv(output_folder+'/performance/performance.csv')\n",
    "\n",
    "curves_wrapper(data=data,\n",
    "               masks=eval_masks,\n",
    "               col_target=col_target,\n",
    "               col_score=col_tmp_cv_score,\n",
    "               col_weight=col_weight,\n",
    "               output_folder=output_folder+'/performance/')"
   ]
  },
  {
   "cell_type": "markdown",
   "metadata": {},
   "source": [
    "## Score distribution\n",
    "\n",
    "### Histogram of goods/bads\n",
    "\n",
    "Distribution (histogram) of final GM score in its PD and logit form, and distribution of goods and bads in each part of the historgram."
   ]
  },
  {
   "cell_type": "code",
   "execution_count": null,
   "metadata": {
    "ExecuteTime": {
     "start_time": "2020-09-09T06:20:10.294Z"
    }
   },
   "outputs": [],
   "source": [
    "from scoring.plot import plot_score_dist\n",
    "\n",
    "plot_score_dist(data,\n",
    "                score_name = col_score,\n",
    "                target_name = col_target,\n",
    "                weight_name = col_weight,\n",
    "                n_bins = 40,\n",
    "                labels = ['good','bad'],\n",
    "                legend_loc = 'upper right',\n",
    "                savefile = output_folder+'/model/distr_pd.png')"
   ]
  },
  {
   "cell_type": "code",
   "execution_count": null,
   "metadata": {
    "ExecuteTime": {
     "start_time": "2020-09-09T06:20:10.297Z"
    }
   },
   "outputs": [],
   "source": [
    "data[col_score+'_LIN'] = logit(data[col_score])\n",
    "\n",
    "plot_score_dist(data,\n",
    "                score_name = col_score+'_LIN',\n",
    "                target_name = col_target,\n",
    "                weight_name = col_weight,\n",
    "                n_bins = 40,\n",
    "                labels = ['good','bad'],\n",
    "                legend_loc = 'upper right',\n",
    "                savefile = output_folder+'/model/distr_linear.png')"
   ]
  },
  {
   "cell_type": "markdown",
   "metadata": {},
   "source": [
    "### Histogram of hits of certain datasource"
   ]
  },
  {
   "cell_type": "code",
   "execution_count": null,
   "metadata": {
    "ExecuteTime": {
     "start_time": "2020-09-09T06:20:10.301Z"
    }
   },
   "outputs": [],
   "source": [
    "data[col_score+'_LIN'] = logit(data[col_score])\n",
    "\n",
    "for pred in cvgm.predictors:\n",
    "    \n",
    "    data['_hit'] = data[pred].notnull().astype(int)\n",
    "    \n",
    "    if 0<data['_hit'].mean()<1:\n",
    "\n",
    "        plot_score_dist(data,\n",
    "                score_name = col_score+'_LIN',\n",
    "                target_name = '_hit',\n",
    "                weight_name = col_weight,\n",
    "                n_bins = 40,\n",
    "                labels = [f'{pred} no-hit',f'{pred} hit'],\n",
    "                legend_loc = 'upper right',\n",
    "                savefile = output_folder+'/model/distr_linear.png')\n",
    "        \n",
    "    data.drop(['_hit'], axis=1, inplace=True)"
   ]
  },
  {
   "cell_type": "code",
   "execution_count": null,
   "metadata": {
    "ExecuteTime": {
     "start_time": "2020-09-09T06:20:10.305Z"
    }
   },
   "outputs": [],
   "source": [
    "import importlib\n",
    "importlib.reload(scoring)\n",
    "importlib.reload(scoring.plot)\n",
    "\n",
    "from scoring.plot import score_calibration\n",
    "\n",
    "score_calibration(\n",
    "    data=data,\n",
    "    score=col_score+'_LIN',\n",
    "    target=col_target,\n",
    "    weight=col_weight,\n",
    "    savefile=output_folder+'/model/calibration.png'\n",
    ")"
   ]
  },
  {
   "cell_type": "markdown",
   "metadata": {},
   "source": [
    "## Cutoff analysis\n",
    "\n",
    "Simple analyses showing what would cutoff targeting to a given reference approval rate mean for the confusion matrix and bad rate of approved customers.\n",
    "\n",
    "Before we do this analysis, we impute the target of rejected (non-observable) rows using the new GM score. From each of these rows, we create two new rows, one with target value `1`, other one with target value `0`. Weight of these rows equals to weight of the original row times the probability of default and non-default respectively."
   ]
  },
  {
   "cell_type": "code",
   "execution_count": null,
   "metadata": {
    "ExecuteTime": {
     "start_time": "2020-09-09T06:20:10.309Z"
    }
   },
   "outputs": [],
   "source": [
    "# import importlib\n",
    "# importlib.reload(scoring)\n",
    "# importlib.reload(scoring.reject_inference)\n",
    "\n",
    "from scoring.reject_inference import TargetImputer\n",
    "col_reject = 'REJECTED'\n",
    "data[col_reject] = 1 - data['APPROVED']\n",
    "\n",
    "targimp = TargetImputer(imputation_type='weighted')\n",
    "targimp.fit(data = data,\n",
    "            col_probs = col_score,\n",
    "            col_reject = col_reject,\n",
    "            col_weight = col_weight,\n",
    "            prob_of = 1)\n",
    "data_imputed = targimp.transform(data = data,\n",
    "                                col_target = col_target,\n",
    "                                col_weight = col_weight,\n",
    "                                as_new_columns = True,\n",
    "                                reset_index = True)\n",
    "\n",
    "col_target_imputed = col_target + '_IMPUTED'\n",
    "col_weight_imputed = col_weight + '_IMPUTED'"
   ]
  },
  {
   "cell_type": "markdown",
   "metadata": {},
   "source": [
    "`confusion_chart` plots the percentage of false rejects (number of good rejected clients divided by number of all good clients) and percentage of false approves (number of bad approved clients divided by number of all bad clients) in dependence on approval rate.\n",
    "\n",
    "`expected_default_rate` plots the bad rate of rejected clients and bad rate of approved clients in dependence on approval rate."
   ]
  },
  {
   "cell_type": "code",
   "execution_count": null,
   "metadata": {
    "ExecuteTime": {
     "start_time": "2020-09-09T06:20:10.314Z"
    }
   },
   "outputs": [],
   "source": [
    "from scoring.plot import confusion_chart, expected_default_rate\n",
    "reference_ar_cutoff = 0.70\n",
    "\n",
    "false_reject, false_approve = confusion_chart(\n",
    "    data=data_imputed,\n",
    "    col_score=col_score,\n",
    "    col_target=col_target_imputed,\n",
    "    col_weight=col_weight_imputed,\n",
    "    reference_ar=reference_ar_cutoff,\n",
    "    savefile=output_folder+'/analysis/distr_linear.png'\n",
    ")\n",
    "\n",
    "bad_rate_rejected, bad_rate_approved = expected_default_rate(\n",
    "    data=data_imputed,\n",
    "    col_score=col_score,\n",
    "    col_target=col_target_imputed,\n",
    "    col_weight=col_weight_imputed,\n",
    "    reference_ar=reference_ar_cutoff,\n",
    "    savefile=output_folder+'/analysis/distr_linear.png'\n",
    ")"
   ]
  },
  {
   "cell_type": "markdown",
   "metadata": {},
   "source": [
    "---\n",
    "Nice to have todos\n",
    "- Cost analysis of source XY\n",
    "- Autoweighter which also reflects intersection values\n",
    "- WOE part of CVGM\n",
    "- Voting ensemble (avg of subscore weighted by their power), calibration first\n",
    "---"
   ]
  }
 ],
 "metadata": {
  "kernelspec": {
   "display_name": "Python 3",
   "language": "python",
   "name": "python3"
  },
  "language_info": {
   "codemirror_mode": {
    "name": "ipython",
    "version": 3
   },
   "file_extension": ".py",
   "mimetype": "text/x-python",
   "name": "python",
   "nbconvert_exporter": "python",
   "pygments_lexer": "ipython3",
   "version": "3.8.3"
  },
  "toc": {
   "base_numbering": 1,
   "nav_menu": {},
   "number_sections": true,
   "sideBar": true,
   "skip_h1_title": false,
   "title_cell": "Table of Contents",
   "title_sidebar": "Contents",
   "toc_cell": false,
   "toc_position": {
    "height": "calc(100% - 180px)",
    "left": "10px",
    "top": "150px",
    "width": "384px"
   },
   "toc_section_display": true,
   "toc_window_display": true
  },
  "varInspector": {
   "cols": {
    "lenName": 16,
    "lenType": 16,
    "lenVar": 40
   },
   "kernels_config": {
    "python": {
     "delete_cmd_postfix": "",
     "delete_cmd_prefix": "del ",
     "library": "var_list.py",
     "varRefreshCmd": "print(var_dic_list())"
    },
    "r": {
     "delete_cmd_postfix": ") ",
     "delete_cmd_prefix": "rm(",
     "library": "var_list.r",
     "varRefreshCmd": "cat(var_dic_list()) "
    }
   },
   "types_to_exclude": [
    "module",
    "function",
    "builtin_function_or_method",
    "instance",
    "_Feature"
   ],
   "window_display": false
  }
 },
 "nbformat": 4,
 "nbformat_minor": 2
}
