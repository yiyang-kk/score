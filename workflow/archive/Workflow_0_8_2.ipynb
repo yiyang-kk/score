{
 "cells": [
  {
   "cell_type": "markdown",
   "metadata": {},
   "source": [
    "<span style=\"font-size:30pt;font-weight:bold\">Home Credit Python Scoring Workflow v.0.8.2</font>\n",
    "\n",
    "**Copyright:**\n",
    "\n",
    "© 2017-2020, Pavel Sůva, Marek Teller, Martin Kotek, Jan Zeller, Marek Mukenšnabl, Kirill Odintsov, Jan Hynek, Elena Kuchina, Lubor Pacák, Naďa Horká, Kamil Yazigee and Home Credit & Finance Bank Limited Liability Company, Moscow, Russia – all rights reserved\n",
    "\n",
    "Licensed under the Apache License, Version 2.0 (the \"License\");\n",
    "you may not use this file except in compliance with the [License](http://www.apache.org/licenses/LICENSE-2.0)\n",
    "\n",
    "Unless required by applicable law or agreed to in writing, software\n",
    "distributed under the License is distributed on an \"AS IS\" BASIS,\n",
    "WITHOUT WARRANTIES OR CONDITIONS OF ANY KIND, either express or implied.\n",
    "See the License for the specific language governing permissions and\n",
    "limitations under the License.\n",
    "\n",
    "For list of contributors see [Gitlab page](https://git.homecredit.net/risk/python-scoring-workflow) "
   ]
  },
  {
   "cell_type": "markdown",
   "metadata": {},
   "source": [
    "# Import packages\n",
    "\n",
    "## List of packages\n",
    "- `time`, datetime - ability to get current time for logs\n",
    "- `math` - basic mathematical functions (as logarithm etc.))\n",
    "- `random` - generate random selection from probability distributions\n",
    "- `NumPy` - for scientific, mathematical, numerical calculations\n",
    "- `Scipy` - for clustering and correlation calculations\n",
    "- `Pandas` - for efficient work with large data structures (you need pandas **version 0.25.3**)\n",
    "- `cx_Oracle` and sqlalchemy - for loading data from Oracle database (DWH etc.)\n",
    "- `scikit`-learn - all important machine learning (and statistical) algorithms used for training the models\n",
    "- `matplotlib` - for plotting the charts\n",
    "- `seaborn` - for statistical visualisations\n",
    "- `os` - for setting output paths for generated image files\n",
    "- `pickle` - to save models to external files\n",
    "- `tqdm` - intelligent progress bar (**version 4.40.0 or higher**)\n",
    "- `tkinter` - for interactive Interactions tool GUI\n",
    "- `xgboost` - gradient boosting used for feature selection before regression\n",
    "- `lightgbm shap hyperopt` - faster implementations of gradient boosting\n",
    "\n",
    "**If any of these packages is missing, you have to install it from the Anaconda prompt using command *conda install packagename* where *packagename* is the name of the installed package.**\n",
    "\n",
    "There is another package called *scoring*, which is distributed along with this workflow. **The folder *scoring* must be located in the same folder as this workflow for the package to be loaded correctly.** Alternatively, you can locate it somewhere else and then use *sys.path.insert()* to map this location.\n",
    "\n",
    "## Other important prerequisites\n",
    "\n",
    "For the grouping some **extensions for Jupyter must be installed and enabled before Jupyter is started and the notebook is loaded**. These extensions are Javascripts running in the browser, so it is necessary to have a compatibile browser. Generally, Chrome is OK, Internet Explorer 11 is NOT OK. To install the extensions, run this in your Anaconda prompt:\n",
    "\n",
    "- `conda install ipywidgets`\n",
    "- `jupyter nbextension enable --py --sys-prefix widgetsnbextension`\n",
    "- `jupyter nbextension enable --py --sys-prefix qgrid`\n",
    "\n",
    "To be able to connect to Oracle database (to get the data directly from your DWH) you need a compatibile Oracle driver to be installed on your computer. **With 64-bit Python, you need to have 64-bit Oracle driver installed.** Before you install the driver, you need to have Java 8 JDK (JRE is not enough) installed on your computer."
   ]
  },
  {
   "cell_type": "code",
   "execution_count": null,
   "metadata": {},
   "outputs": [],
   "source": [
    "import time\n",
    "import datetime\n",
    "import operator\n",
    "import math\n",
    "import random\n",
    "import numpy as np\n",
    "import pandas as pd\n",
    "\n",
    "# import cx_Oracle\n",
    "import matplotlib\n",
    "import matplotlib.pyplot as plt\n",
    "import seaborn as sns\n",
    "import os.path\n",
    "import pickle\n",
    "import gc\n",
    "import json\n",
    "# check your tqdm version if import fails\n",
    "from tqdm.notebook import tqdm\n",
    "\n",
    "# import tkinter\n",
    "\n",
    "import sys\n",
    "\n",
    "sys.path.insert(0, \"..\")\n",
    "import scoring"
   ]
  },
  {
   "cell_type": "markdown",
   "metadata": {},
   "source": [
    "Set general technical parameters and paths."
   ]
  },
  {
   "cell_type": "code",
   "execution_count": null,
   "metadata": {},
   "outputs": [],
   "source": [
    "sns.set()\n",
    "%matplotlib inline\n",
    "%config InlineBackend.close_figures=True\n",
    "from IPython.display import display, Markdown, HTML\n",
    "pd.options.display.max_columns = None\n",
    "pd.options.display.max_rows = 15\n",
    "output_folder = 'documentation'\n",
    "\n",
    "if not os.path.exists(output_folder): os.makedirs(output_folder)\n",
    "if not os.path.exists(output_folder+'/performance'): os.makedirs(output_folder+'/performance')\n",
    "if not os.path.exists(output_folder+'/predictors'): os.makedirs(output_folder+'/predictors')\n",
    "if not os.path.exists(output_folder+'/stability'): os.makedirs(output_folder+'/stability')\n",
    "if not os.path.exists(output_folder+'/stability_short'): os.makedirs(output_folder+'/stability_short')\n",
    "if not os.path.exists(output_folder+'/analysis'): os.makedirs(output_folder+'/analysis')\n",
    "if not os.path.exists(output_folder+'/model'): os.makedirs(output_folder+'/model')\n",
    "if not os.path.exists(output_folder+'/nan_share'): os.makedirs(output_folder+'/nan_share')\n",
    "scoring.check_version('0.8.2', list_versions=False)"
   ]
  },
  {
   "cell_type": "markdown",
   "metadata": {},
   "source": [
    "# Input data\n",
    "\n",
    "## Import data\n",
    "Importing data from a CSV file. It is important to set the following parameters:\n",
    "\n",
    "encoding: usually 'utf-8' or windows-xxxx on Windows machines, where xxxx is 1250 for Central Europe, 1251 for Cyrilic etc.\n",
    "sep: separator of columns in the file\n",
    "decimal: decimal dot or coma\n",
    "index_col: which columns is used as index - should be the unique credit case identifier\n",
    "\n",
    "**Defining NA values:** In different datasets, there can be different values to be considered *N/A*. By default, we set only blank fields to be considered *N/A*, however you might want to change it and add values like *'NA'*, *'NAN'*, *'null'* to be also considered *N/A*. User parameter `na_values` for this."
   ]
  },
  {
   "cell_type": "code",
   "execution_count": null,
   "metadata": {},
   "outputs": [],
   "source": [
    "from scoring import db\n",
    "\n",
    "data = db.read_csv(\n",
    "    r\"demo_data\\ExampleData8.CSV\",\n",
    "    sep=\",\",\n",
    "    decimal=\".\",\n",
    "    optimize_types=True,\n",
    "    encoding=\"utf-8\",\n",
    "    index_col=\"ID\",\n",
    "    low_memory=False,\n",
    "    keep_default_na=False,\n",
    "    na_values=[\"\"],\n",
    ")\n",
    "print(\"Data loaded on\", datetime.datetime.fromtimestamp(time.time()).strftime(\"%Y-%m-%d %H:%M:%S\"))"
   ]
  },
  {
   "cell_type": "markdown",
   "metadata": {},
   "source": [
    "The data need to have **index column which has unique value per each row**. If not, it can cause some problems later. Run this to deal with such rows:"
   ]
  },
  {
   "cell_type": "code",
   "execution_count": null,
   "metadata": {},
   "outputs": [],
   "source": [
    "# data.info()"
   ]
  },
  {
   "cell_type": "code",
   "execution_count": null,
   "metadata": {},
   "outputs": [],
   "source": [
    "# Option 1: remove rows with duplicated index\n",
    "# data=data[~data.index.duplicated(keep='first')]\n",
    "\n",
    "# #Option 2: reset index\n",
    "# data['INDEX_ORIGINAL'] = data.index\n",
    "# data.reset_index(inplace=True)"
   ]
  },
  {
   "cell_type": "markdown",
   "metadata": {},
   "source": [
    "Optionally the data can be loaded also from a database. The function read_sql uses cache, so the data don't have to be downloaded from the database repeatedly. The cache will be located in a new folder called **db_cache**."
   ]
  },
  {
   "cell_type": "code",
   "execution_count": null,
   "metadata": {
    "code_folding": []
   },
   "outputs": [],
   "source": [
    "# from sqlalchemy import create_engine\n",
    "# engine = create_engine('oracle://PAVELS[GP_HQ_RISK]:xxx@(DESCRIPTION=(ADDRESS=(PROTOCOL=TCP)(HOST=DBDWHRU.HOMECREDIT.RU)(PORT=1521))(CONNECT_DATA=(SERVICE_NAME=DWHRU)))', echo=False)"
   ]
  },
  {
   "cell_type": "code",
   "execution_count": null,
   "metadata": {},
   "outputs": [],
   "source": [
    "# from scoring.db import read_sql\n",
    "# ru_data = read_sql('select * from owner_dwh.f_application_tt where rownum<11',engine, index_col = 'sk_application')\n",
    "# print('Data loaded on',datetime.datetime.fromtimestamp(time.time()).strftime('%Y-%m-%d %H:%M:%S'))"
   ]
  },
  {
   "cell_type": "markdown",
   "metadata": {},
   "source": [
    "If you need to download data from the database again (and not from cache), use the parameter refresh:"
   ]
  },
  {
   "cell_type": "code",
   "execution_count": null,
   "metadata": {},
   "outputs": [],
   "source": [
    "# from scoring.db import read_sql\n",
    "# data = read_sql('select * from owner_dwh.f_application_base_tt where rownum=1',engine, index_col = 'skp_application',refresh=True)\n",
    "# print('Data loaded on',datetime.datetime.fromtimestamp(time.time()).strftime('%Y-%m-%d %H:%M:%S'))"
   ]
  },
  {
   "cell_type": "code",
   "execution_count": null,
   "metadata": {},
   "outputs": [],
   "source": [
    "print(\"Number of rows:\", data.shape[0])\n",
    "print(\"Number of columns:\", data.shape[1])"
   ]
  },
  {
   "cell_type": "markdown",
   "metadata": {},
   "source": [
    "## Metadata definitions\n",
    "Assigning ID column, target column, time column and month column. The month column don't have to exist in the dataset, it will be created later in this workflow."
   ]
  },
  {
   "cell_type": "code",
   "execution_count": null,
   "metadata": {},
   "outputs": [],
   "source": [
    "### THESE COLUMNS MUST BE INCLUDED IN THE DATA SET ###\n",
    "# name of the target column\n",
    "col_target = \"DEF\"\n",
    "# name of the time column\n",
    "col_time = \"TIME\"\n",
    "\n",
    "### THESE COLUMNS DON'T HAVE TO BE INCLUDED IN THE DATA SET AND ARE CREATED AUTOMATICALLY LATER ###\n",
    "# name of the base column\n",
    "col_base = \"BASE\"\n",
    "# name of the month column\n",
    "col_month = \"MONTH\"\n",
    "# name of the day column\n",
    "col_day = \"DAY\"\n",
    "# name of the weight column - CURRENTLY COMMENTED OUT BECAUSE OF REASONS MENTIONED LATER\n",
    "col_weight = \"WEIGHT\"\n",
    "# name of the reject column - only use if exists in your data, used for reject inference analysis\n",
    "col_reject = \"REJECTED\""
   ]
  },
  {
   "cell_type": "markdown",
   "metadata": {},
   "source": [
    "Inicialize doctools object for documentation generation."
   ]
  },
  {
   "cell_type": "code",
   "execution_count": null,
   "metadata": {},
   "outputs": [],
   "source": [
    "from scoring import doctools\n",
    "\n",
    "documentation = doctools.ProjectParameters()"
   ]
  },
  {
   "cell_type": "markdown",
   "metadata": {},
   "source": [
    "Set a list of targets with their respective bases, time variable and rowid variable for plotting."
   ]
  },
  {
   "cell_type": "code",
   "execution_count": null,
   "metadata": {},
   "outputs": [],
   "source": [
    "documentation.targets = [(col_target, col_base)]\n",
    "documentation.time_variable = col_month\n",
    "documentation.rowid_variable = \"ID\""
   ]
  },
  {
   "cell_type": "code",
   "execution_count": null,
   "metadata": {},
   "outputs": [],
   "source": [
    "data[col_target] = data[col_target].astype(np.float)"
   ]
  },
  {
   "cell_type": "markdown",
   "metadata": {},
   "source": [
    "If you don't have base column in your data set, the following code adds it (based on if target is filled)."
   ]
  },
  {
   "cell_type": "code",
   "execution_count": null,
   "metadata": {},
   "outputs": [],
   "source": [
    "if col_base not in data:\n",
    "    data[col_base] = 0\n",
    "    data.loc[data[col_target] == 0, col_base] = 1\n",
    "    data.loc[data[col_target] == 1, col_base] = 1\n",
    "    print(\"Column\", col_base, \"added/modified. Number of columns:\", data.shape[1])\n",
    "else:\n",
    "    print(\"Column\", col_base, \"already exists.\")"
   ]
  },
  {
   "cell_type": "markdown",
   "metadata": {},
   "source": [
    "If you don't have weight column in your data set, the following code adds it, with value = 1 for each row. **The weights are currently supported by Data Exploration, Interactive Grouping and Model Selection (L1 regression and Stepwise) classes, but not by all functions in the workflow. This is why they are commented out now (can be uncommented by the user).**"
   ]
  },
  {
   "cell_type": "code",
   "execution_count": null,
   "metadata": {},
   "outputs": [],
   "source": [
    "# if col_weight not in data:\n",
    "#    data[col_weight] = 1\n",
    "#    print('Column',col_weight,'added/modified. Number of columns:',data.shape[1])\n",
    "# else:\n",
    "#    print('Column',col_weight,'already exists.')"
   ]
  },
  {
   "cell_type": "markdown",
   "metadata": {},
   "source": [
    "Create the month and day column from the time column is doing the following\n",
    "- take the time column and tell in which format the time is saved in - **you need to specify this in variable *dtime_input_format*** (see https://docs.python.org/3/library/time.html#time.strftime for reference)\n",
    "- strip the format just to year, month, day string\n",
    "- convert the string to number\n",
    "- the new column will be added to the dataset as day\n",
    "- truncate this column to just year and month and add it to dataset as month"
   ]
  },
  {
   "cell_type": "code",
   "execution_count": null,
   "metadata": {},
   "outputs": [],
   "source": [
    "dtime_input_format = \"%Y-%m-%d %H:%M:%S\""
   ]
  },
  {
   "cell_type": "code",
   "execution_count": null,
   "metadata": {},
   "outputs": [],
   "source": [
    "data[col_day] = pd.to_numeric(pd.to_datetime(data[col_time], format=dtime_input_format, cache=False).dt.strftime(\"%Y%m%d\"))\n",
    "data[col_month] = data[col_day].apply(lambda x: math.trunc(x / 100))\n",
    "print(\"Columns\", col_day, \"and\", col_month, \"added/modified. Number of columns:\", data.shape[1])"
   ]
  },
  {
   "cell_type": "code",
   "execution_count": null,
   "metadata": {},
   "outputs": [],
   "source": [
    "data.head(5)"
   ]
  },
  {
   "cell_type": "markdown",
   "metadata": {},
   "source": [
    "Load the predictors list from a csv file. The csv should have just one column, without any header, containing the name of the variables that should be used as predictors.\n",
    "\n",
    "Support for boolean predictors in **not** currently implemented. Convert boolean predictors to object to use them.\n",
    "\n",
    "`s = s.apply(lambda value: str(value) if not np.isnan(value) else value).astype('object')`"
   ]
  },
  {
   "cell_type": "code",
   "execution_count": null,
   "metadata": {},
   "outputs": [],
   "source": [
    "from scoring.data_manipulation import split_predictors_bytype\n",
    "\n",
    "cols_pred = list(pd.read_csv(r'demo_data\\ExamplePredList8.CSV', sep = ',', decimal = '.', \n",
    "                   encoding = 'windows-1251', low_memory = False, header = None)[0])\n",
    "\n",
    "cols_pred, cols_pred_num, cols_pred_cat = split_predictors_bytype(data,\n",
    "                                                                  pred_list=cols_pred,\n",
    "                                                                  non_pred_list= [],\n",
    "                                                                  optimize_types=True,\n",
    "                                                                  convert_bool2int=True)"
   ]
  },
  {
   "cell_type": "markdown",
   "metadata": {},
   "source": [
    "**Please check if all predictors were categorized correctly.** \n",
    "`Category` dtype is now used for categorical columns for memory efficiency. This means it will not be editable as *string*. If you need to edit values of a categorical column convert it to *string* using this syntax:\n",
    "\n",
    "`data['Column name'] = data['Column name'].astype(str)`"
   ]
  },
  {
   "cell_type": "markdown",
   "metadata": {},
   "source": [
    "## Data exploration"
   ]
  },
  {
   "cell_type": "code",
   "execution_count": null,
   "metadata": {},
   "outputs": [],
   "source": [
    "descrip = data.describe(include=\"all\").transpose()\n",
    "pd.options.display.max_rows = 1000\n",
    "display(descrip.fillna(\"\"))\n",
    "pd.options.display.max_rows = 15"
   ]
  },
  {
   "cell_type": "markdown",
   "metadata": {},
   "source": [
    "**explore_numerical** and **explore_categorical** functions give graphical data exploratory analyses. They can also output into html files. You just need to specify the folder for output.\n",
    "\n",
    "If you want the detailed legacy HTML output (v0.4.3) comment-out the cell below\n",
    "\n",
    "These functions analyze only the part of data where target is not null even if it is not explicitly specified."
   ]
  },
  {
   "cell_type": "code",
   "execution_count": null,
   "metadata": {},
   "outputs": [],
   "source": [
    "# from scoring.data_exploration import explore_categorical, explore_numerical, join_explorations\n",
    "\n",
    "# explored_columns = list()\n",
    "# for name, column in tqdm(data[cols_pred].iteritems(), total=len(cols_pred), leave=False):\n",
    "#     if name in cols_pred_num[:]:\n",
    "#         if (column.count() > 0) and (column.max() != column.min()):\n",
    "#             explore_numerical(column, data[col_target], weightCol=None, htmlOut=True, ntbOut=False, outFolder=\"exp\")\n",
    "#             explored_columns.append(name)\n",
    "#     if name in cols_pred_cat[:]:\n",
    "#         if (column.count() > 0) and (len(set(column.unique()) - {np.nan}) > 1):\n",
    "#             explore_categorical(column, data[col_target], weightCol=None, htmlOut=True, ntbOut=False, outFolder=\"exp\")\n",
    "#             explored_columns.append(name)\n",
    "\n",
    "# # comment out the line below if you didn't generate html files in this cell\n",
    "# join_explorations(explored_columns, filename=\"_exploration.html\", outFolder=\"exp\", weighted=False)"
   ]
  },
  {
   "cell_type": "markdown",
   "metadata": {},
   "source": [
    "**explore_df** function creates a simple text report about the important variable. The report can be then printed either to the screen or to a file.\n",
    "\n",
    "In the following code, only such part of data that has col_base = 1 is analyzed. You can remove the condition if you wish."
   ]
  },
  {
   "cell_type": "code",
   "execution_count": null,
   "metadata": {},
   "outputs": [],
   "source": [
    "from scoring.data_exploration import explore_df\n",
    "\n",
    "st = explore_df(data[data[col_base] == 1], col_month, col_target, cols_pred)\n",
    "print(st, file=open(\"data_exp.txt\", \"w\", encoding=\"utf-8\"))\n",
    "# print(st)"
   ]
  },
  {
   "cell_type": "markdown",
   "metadata": {},
   "source": [
    "**Default rate in time**: Simple visualisation of observation count and default rate in time"
   ]
  },
  {
   "cell_type": "code",
   "execution_count": null,
   "metadata": {},
   "outputs": [],
   "source": [
    "observable_mask = data[col_base] == 1"
   ]
  },
  {
   "cell_type": "code",
   "execution_count": null,
   "metadata": {},
   "outputs": [],
   "source": [
    "documentation.sample_dict = {\n",
    "    \"Observable\": observable_mask}"
   ]
  },
  {
   "cell_type": "code",
   "execution_count": null,
   "metadata": {},
   "outputs": [],
   "source": [
    "documentation.PlotDataset(\n",
    "    data,\n",
    "    sample=\"Observable\",\n",
    "    target=col_target,\n",
    "#     segment_col=\"Categorical_5\",\n",
    "    output_folder=os.path.join(output_folder, 'analysis'),\n",
    "    \n",
    ")"
   ]
  },
  {
   "cell_type": "markdown",
   "metadata": {},
   "source": [
    "**NaN share by month** for each variable in dataset:"
   ]
  },
  {
   "cell_type": "code",
   "execution_count": null,
   "metadata": {},
   "outputs": [],
   "source": [
    "from scoring.data_exploration import nan_share_development\n",
    "\n",
    "nan_table = nan_share_development(\n",
    "    data[cols_pred + [col_month]],\n",
    "    col_month,\n",
    "    make_images=True,\n",
    "    show_images=False,\n",
    "    output_path=output_folder + \"/nan_share/\",\n",
    ")\n",
    "display(nan_table.replace({0:\"\"}))"
   ]
  },
  {
   "cell_type": "markdown",
   "metadata": {},
   "source": [
    "## Data split\n",
    "\n",
    "- Split data into five parts (in time training, in time validation, in time test, out of time, historical out of time)\n",
    "- Adds a new column indicating to which part the observations belong\n",
    "- The *splitting_points* (first date of train and first date of out of time sample) can be adjusted (there can be any number of such splitting points) - it should correspond to values of column specified by *time_column* parameter\n",
    "- For each time split, you can create multiple random splits (i.e. train/valid/test), the ratio of sizes of these splits is set by parameter *sample_sizes*\n",
    "- The random splits can be stratified by multiple variables, which are specified in a list - argument to *stratify_by_columns* parameter\n",
    "- Set the random seed so the results are replicable\n",
    "\n",
    "**Before you run data split, make sure that index in your dataset in unique!** If not, you need to create new unique index."
   ]
  },
  {
   "cell_type": "code",
   "execution_count": null,
   "metadata": {},
   "outputs": [],
   "source": [
    "# #saving original index to a new column and resetting it\n",
    "# data['INDEX_ORIGINAL'] = data.index\n",
    "# data.reset_index(inplace=True)"
   ]
  },
  {
   "cell_type": "code",
   "execution_count": null,
   "metadata": {
    "code_folding": []
   },
   "outputs": [],
   "source": [
    "from scoring.data_manipulation import data_sample_time_split\n",
    "\n",
    "col_datatype = \"data_type\"\n",
    "\n",
    "data[col_datatype] = data_sample_time_split(\n",
    "    data,\n",
    "    time_column=col_month,\n",
    "    splitting_points=[201702, 201707],\n",
    "    sample_sizes=[[1], [0.4, 0.3, 0.3], [1]],\n",
    "    sample_names=[[\"hoot\"], [\"train\", \"valid\", \"test\"], [\"oot\"]],\n",
    "    stratify_by_columns=[col_month, col_target],\n",
    "    random_seed=1234,\n",
    ")"
   ]
  },
  {
   "cell_type": "markdown",
   "metadata": {},
   "source": [
    "Masks: boolean vectors corresponding to rows in the datasets. True if an row is observable and its data type belongs to given sample."
   ]
  },
  {
   "cell_type": "code",
   "execution_count": null,
   "metadata": {},
   "outputs": [],
   "source": [
    "train_mask = (data[col_datatype] == \"train\") & (data[col_base] == 1)\n",
    "valid_mask = (data[col_datatype] == \"valid\") & (data[col_base] == 1)\n",
    "test_mask = (data[col_datatype] == \"test\") & (data[col_base] == 1)\n",
    "oot_mask = (data[col_datatype] == \"oot\") & (data[col_base] == 1)\n",
    "hoot_mask = (data[col_datatype] == \"hoot\") & (data[col_base] == 1)"
   ]
  },
  {
   "cell_type": "code",
   "execution_count": null,
   "metadata": {},
   "outputs": [],
   "source": [
    "documentation.sample_dict.update(\n",
    "    {\"HOOT\": hoot_mask, \"Train\": train_mask, \"Valid\": valid_mask, \"Test\": test_mask, \"OOT\": oot_mask}\n",
    ")"
   ]
  },
  {
   "cell_type": "markdown",
   "metadata": {},
   "source": [
    "Add masks to _documentation_ object."
   ]
  },
  {
   "cell_type": "markdown",
   "metadata": {},
   "source": [
    "Data summary (number of defaults, number in base, number of observations, default rate) by month and by sample"
   ]
  },
  {
   "cell_type": "code",
   "execution_count": null,
   "metadata": {},
   "outputs": [],
   "source": [
    "# data_summary = data.groupby([col_month, col_datatype]).aggregate({col_target: \"sum\", col_base: [\"sum\", \"count\"]})\n",
    "# data_summary.columns = [col_target, col_base, \"Rows\"]\n",
    "# data_summary[col_target + \" rate\"] = data_summary[col_target] / data_summary[col_base]\n",
    "# # display(data_summary)\n",
    "\n",
    "# data_summary = data_summary.reset_index(level=col_datatype).pivot(columns=col_datatype)\n",
    "# display(data_summary.round(3).fillna(\"\"))\n",
    "# data_summary.to_csv(output_folder + \"/analysis/summary.csv\")"
   ]
  },
  {
   "cell_type": "markdown",
   "metadata": {},
   "source": [
    "## Metadata export\n",
    "\n",
    "Metadata from data preparation can be reused for example in gradient boosting workflow"
   ]
  },
  {
   "cell_type": "code",
   "execution_count": null,
   "metadata": {},
   "outputs": [],
   "source": [
    "metadata_export = {\n",
    "        \"col_time\": col_time,\n",
    "        \"col_month\": col_month,\n",
    "        \"col_day\": col_day,\n",
    "        \"col_target\": col_target,\n",
    "        \"col_base\": col_base,\n",
    "        \"col_weight\": col_weight,\n",
    "        \"col_reject\": col_reject,\n",
    "        \"col_datatype\": col_datatype,\n",
    "        \"col_id\": data.index.name,\n",
    "                  }\n",
    "\n",
    "pd.DataFrame.from_dict(metadata_export, orient='index').to_csv(output_folder + \"/model/metadata.csv\", header=None)"
   ]
  },
  {
   "cell_type": "markdown",
   "metadata": {},
   "source": [
    "# Derived variables\n",
    "\n",
    "## Date differences\n",
    "\n",
    "Function *datetime_difference()* takes name of dataset and names of two variables with datetime strings (the format of those strings can be also specified in parameters) and caluclates their difference in specified time units. We then append names of these difference columns to the list of numerical predictors.\n",
    "\n",
    "First, **please cast your date variables as datetimes.**"
   ]
  },
  {
   "cell_type": "code",
   "execution_count": null,
   "metadata": {},
   "outputs": [],
   "source": [
    "data[\"DateVariable_1\"] = pd.to_datetime(data[\"DateVariable_1\"])\n",
    "data[\"DateVariable_2\"] = pd.to_datetime(data[\"DateVariable_2\"], format=\"%Y-%m-%d %H:%M:%S\")"
   ]
  },
  {
   "cell_type": "markdown",
   "metadata": {},
   "source": [
    "It is handful to check for given variables whether they contain values over current date.  \n",
    "This might indicate so-called **Y2K errors**. \n",
    "When date is in format such as 31/10/68, such date will get interpreted as 31st of October, 2068.\n",
    "\n",
    "If you encounter such variables, there exist function `fix_y2k_errors`.  \n",
    "You are advised to find the root issue of such dates, though."
   ]
  },
  {
   "cell_type": "code",
   "execution_count": null,
   "metadata": {},
   "outputs": [],
   "source": [
    "print(f\"Maximal date in 'DateVariable_1' is {max(data['DateVariable_1'])}\")\n",
    "print(f\"Maximal date in 'DateVariable_2' is {max(data['DateVariable_2'])}\")\n",
    "\n",
    "# from scoring.date_tools import fix_y2k_errors\n",
    "# data['DateVariable_1'] = fix_y2k_errors(data['DateVariable_1'], years=18)\n",
    "# data['DateVariable_2'] = fix_y2k_errors(data['DateVariable_2'], reference_date='2000-01-01')"
   ]
  },
  {
   "cell_type": "markdown",
   "metadata": {},
   "source": [
    "When you are sure that everything is correct, you are free to proceed with calculating datetime differences."
   ]
  },
  {
   "cell_type": "code",
   "execution_count": null,
   "metadata": {},
   "outputs": [],
   "source": [
    "from scoring.date_tools import datetime_difference\n",
    "\n",
    "data[\"AGE\"] = datetime_difference(pd.to_datetime(data[col_time]), data[\"DateVariable_1\"], unit=\"years\", rounding=None)\n",
    "data[\"NEW_TIME_VARIABLE\"] = datetime_difference(\n",
    "    pd.to_datetime(data[col_time]), data[\"DateVariable_2\"], unit=\"months\", rounding=\"floor\"\n",
    ")\n",
    "\n",
    "\n",
    "date_difference_predictors = [\"AGE\", \"NEW_TIME_VARIABLE\"]\n",
    "\n",
    "for predictor in date_difference_predictors:\n",
    "    if predictor not in cols_pred_num:\n",
    "        cols_pred_num.append(predictor)\n",
    "        cols_pred = cols_pred_num + cols_pred_cat\n",
    "        print(f\"predictor {predictor} added to predictor list\")"
   ]
  },
  {
   "cell_type": "markdown",
   "metadata": {},
   "source": [
    "## Brute force interactions\n",
    "\n",
    "**Finding interactions by brute force. Can work with a limitied number of predictors and/or small dataset only as it is testing each combination of any two predictors meaning its complexity is quadratic and can take very long time with more than lower tens of predictors if the dataset is large.**\n",
    "\n",
    "The class has two testing methods to find out whether interaction of two variables makes sense. The method is specified in parameter `test_method`:\n",
    "\n",
    "- *gini*: trains logistic regression model using the two variables and another model using their interaction as the only predictor. Then calculates Gini difference between the model with the interaction and the model using the two original predictors.\n",
    "- *lr*: performs a likelihood ratio test between two logistic regression models: the richer model is using the two original predictors and their interaction, the simpler model just the two original variables. Calculates p-value of the test\n",
    "\n",
    "Before this testing is performed, the variables are transformed to be compatible with the logistic regression, which is given by parameters `use_grouping` and `use_grouping_interactions`:\n",
    "\n",
    "- if `use_grouping` is True, the two original predictors are first grouped and WOE transformed (parameters `groups_per_predictor` and `min_group_size` are taken into account).\n",
    "- otherwise, the two original predictor are transformed using mean target encoding: numerical predictors are first grouped into `groups_per_predictor` quantiles and then mean target encoding with parameter `mean_target_regularization_weight` and logit transformation is applied. Categorical predictors are mean-target encoded without any pre-grouping, again with parameter `mean_target_regularization_weight`, and the logit transformation is applied.\n",
    "- if `use_grouping_interactions` is True, interaction is calculated as cartesian product of the transformed original predictors, then each value of the cartesian product is mean target encoded with parameter `mean_target_regularization_weight` and then logit transformation is applied.\n",
    "- otherwise, interaction is calculated as cartesian product of the transformed original predictors, then grouping and WOE transformation is applied (parameters `groups_per_predictor` and `min_group_size` are taken into account).\n",
    "\n",
    "**As the result of the test, the pairs with highest Gini differences or lowest p-values should be considered as potential candidates for interaction creation.**"
   ]
  },
  {
   "cell_type": "markdown",
   "metadata": {},
   "source": [
    "### Gini method"
   ]
  },
  {
   "cell_type": "code",
   "execution_count": null,
   "metadata": {},
   "outputs": [],
   "source": [
    "from scoring.brute_force_interactions import BruteForceInteractions"
   ]
  },
  {
   "cell_type": "code",
   "execution_count": null,
   "metadata": {},
   "outputs": [],
   "source": [
    "bfinter = BruteForceInteractions(\n",
    "        pred_num=cols_pred_num,\n",
    "        pred_cat=cols_pred_cat,\n",
    "        target=col_target,\n",
    "        base=col_base,\n",
    "        weight=None,\n",
    "        test_method=\"gini\",\n",
    "        use_grouping=False,\n",
    "        use_grouping_interactions=False,\n",
    "        groups_per_predictor=5,\n",
    "        min_group_size=100,\n",
    "        mean_target_regularization_weight=0.1,\n",
    "        grouping_category_limit=100,\n",
    "    )\n",
    "\n",
    "inter_tab_gini = bfinter.test_interactions(data[train_mask])"
   ]
  },
  {
   "cell_type": "code",
   "execution_count": null,
   "metadata": {},
   "outputs": [],
   "source": [
    "display(inter_tab_gini)"
   ]
  },
  {
   "cell_type": "markdown",
   "metadata": {},
   "source": [
    "### Likelihood ratio method"
   ]
  },
  {
   "cell_type": "code",
   "execution_count": null,
   "metadata": {},
   "outputs": [],
   "source": [
    "bfinter = BruteForceInteractions(\n",
    "        pred_num=cols_pred_num,\n",
    "        pred_cat=cols_pred_cat,\n",
    "        target=col_target,\n",
    "        base=col_base,\n",
    "        weight=None,\n",
    "        test_method=\"lr\",\n",
    "        use_grouping=False,\n",
    "        use_grouping_interactions=False,\n",
    "        groups_per_predictor=5,\n",
    "        min_group_size=100,\n",
    "        mean_target_regularization_weight=0.1,\n",
    "        grouping_category_limit=100,\n",
    "    )\n",
    "\n",
    "inter_tab_lr = bfinter.test_interactions(data[train_mask])"
   ]
  },
  {
   "cell_type": "code",
   "execution_count": null,
   "metadata": {},
   "outputs": [],
   "source": [
    "display(inter_tab_lr)"
   ]
  },
  {
   "cell_type": "markdown",
   "metadata": {},
   "source": [
    "## Export to Gradient Boosting Workflow\n",
    "\n",
    "Transformed data can be reused for example in gradient boosting workflow.\n",
    "\n",
    "You can add more columns to the `metadata_export` dictionary if you plan to use them in Gradient Boosting Workflow (e.g. multiple targets)"
   ]
  },
  {
   "cell_type": "code",
   "execution_count": null,
   "metadata": {},
   "outputs": [],
   "source": [
    "data.to_csv('data_prepared.csv')"
   ]
  },
  {
   "cell_type": "code",
   "execution_count": null,
   "metadata": {},
   "outputs": [],
   "source": [
    "metadata_export[\"cols_pred_num\"] = cols_pred_num\n",
    "metadata_export[\"cols_pred_cat\"] = cols_pred_cat\n",
    "\n",
    "json.dump(metadata_export, open(\"metadata.json\", \"w\", encoding=\"utf8\"), indent=4)"
   ]
  },
  {
   "cell_type": "markdown",
   "metadata": {},
   "source": [
    "# Grouping and WOE transformation of variables"
   ]
  },
  {
   "cell_type": "markdown",
   "metadata": {},
   "source": [
    "Don't use such variables which have only 0 or 1 unique levels. Grouping doesn't work for them."
   ]
  },
  {
   "cell_type": "code",
   "execution_count": null,
   "metadata": {},
   "outputs": [],
   "source": [
    "cols_del = list()\n",
    "for name, column in tqdm(data[train_mask][cols_pred].iteritems(), total=len(cols_pred)):\n",
    "    if name in cols_pred_num:\n",
    "        if column.value_counts(dropna=False).shape[0] < 2:\n",
    "            cols_del.append(name)\n",
    "            cols_pred_num.remove(name)\n",
    "    if name in cols_pred_cat:\n",
    "        if column.value_counts(dropna=False).shape[0] < 2:\n",
    "            cols_del.append(name)\n",
    "            cols_pred_cat.remove(name)\n",
    "\n",
    "cols_pred = cols_pred_num + cols_pred_cat\n",
    "\n",
    "if len(cols_del) > 0:\n",
    "    print(\"Variables\", cols_del, \"will not be further used as they have only 1 unique level.\")\n",
    "else:\n",
    "    print(\"All predictors have more than 1 unique level.\")\n",
    "del cols_del"
   ]
  },
  {
   "cell_type": "code",
   "execution_count": null,
   "metadata": {},
   "outputs": [],
   "source": [
    "for name, column in tqdm(data[cols_pred_num].iteritems(), total=len(cols_pred_num), leave=False):\n",
    "    if np.any(np.isinf(column.values)):\n",
    "        print(f\"{name} containes INF values. Please deal with them.\")\n",
    "\n",
    "# data['predictor'].replace(to_replace=np.inf, value=<good idea>, inplace=True)"
   ]
  },
  {
   "cell_type": "markdown",
   "metadata": {},
   "source": [
    "There are two options how to group your variables. \n",
    "1. Automatic grouping groups the variables using a decision tree. User can't change the grouping in any interactive way. The grouping can be saved into external file using its method *save()*. \n",
    "2. Interactive grouping is suitable for smaller numbers of variables. User can control which values of each varible will enter which group. The grouping can be saved into external file using the interactive environment."
   ]
  },
  {
   "cell_type": "markdown",
   "metadata": {},
   "source": [
    "## Stability grouping\n",
    "\n",
    "Automatic binning with optimal stable Gini.\n",
    "    Idea is to make most of the decisions pertaining to design of WOE bins all in one place \n",
    "    from point of view of performance and rank time-stability of the resulting bins.\n",
    "    Aim is to significantly minimize the manual and time consuming interactive binning,\n",
    "    while at the same time preserving compatibility with the interactive binning should\n",
    "    that be still occasionally needed (e.g. for business reasons).\n",
    "\n",
    "**ALGORITHM:**  \n",
    "for each variable, for n_bins in range:\n",
    "1. train a tree model (LGBM - see comment below) M, on training dataset, \n",
    "    with parameters `min_data_in_leaf = 5%` of training data length\n",
    "    (this condition can be released for special variables (e.g. hardchecks) -\n",
    "    in such case the `min_data_in_leaf` is set to 100). \n",
    "2. evaluate Gini of M on each time stamp of validation set (most frequently month):\n",
    "    if we have `k` months, we have `k` ginis. Take average gini of those\n",
    "    `k ginis --> Gini(n_bins)`\n",
    "3. At the same time, calculate Elena's Rank Stability Index - RSI (version 1) \n",
    "    for target rate : the model M defines a certain grouping of variable\n",
    "    (e.g. for `n_bins = 3` we have var partitioned into 3 bins) so calculate target rate\n",
    "    in each bin across the time stamp and  get the RSI as usual. (The RSI for all bins\n",
    "    is the average of RSI of each constituent bin.  The RSI of a constituent bin is 100%\n",
    "    if the rank of its target rate relative to other bins's target rates remained \n",
    "    constant across all time stamps; otherwise, it decreases depending on how many\n",
    "    times did the rank of the bin change)."
   ]
  },
  {
   "cell_type": "code",
   "execution_count": null,
   "metadata": {},
   "outputs": [],
   "source": [
    "from scoring.stability_grouping import StableGrouping\n",
    "\n",
    "sgrouping = StableGrouping(\n",
    "    columns=cols_pred_num,\n",
    "    cat_columns=cols_pred_cat,\n",
    "    bin_stability_threshold=0.10,\n",
    "    max_leaves=10,\n",
    "    important_minorities=[],\n",
    "    must_have_variables=[],\n",
    "    min_data_in_leaf_for_minotirites=100,\n",
    "    min_data_in_leaf_share=0.05,\n",
    "    output_folder='documentation/stability_grouping/',\n",
    "    show_plots=False,\n",
    ")\n",
    "\n",
    "sgrouping.fit(\n",
    "    X_train=data[train_mask][cols_pred_num+cols_pred_cat],\n",
    "    X_valid=data[valid_mask][cols_pred_num+cols_pred_cat],\n",
    "    y_train=data[train_mask][col_target],\n",
    "    y_valid=data[valid_mask][col_target],\n",
    "    t_train=data[train_mask][col_month],\n",
    "    t_valid=data[valid_mask][col_month],\n",
    "#     w_train=data[train_mask][col_weight],\n",
    "#     w_valid=data[valid_mask][col_weight],\n",
    "    progress_bar=True,\n",
    ")"
   ]
  },
  {
   "cell_type": "code",
   "execution_count": null,
   "metadata": {},
   "outputs": [],
   "source": [
    "sgrouping.save(\"stability_grouping.json\")"
   ]
  },
  {
   "cell_type": "markdown",
   "metadata": {},
   "source": [
    "## Automatic Grouping\n",
    "The grouping uses decision tree algorithm and the grouping is supervised based on the target variable. In the following code:\n",
    "\n",
    "A new instance of **Grouping** class is created. There are two important parameters:\n",
    " - *colums*: list of numerical columns to be grouped\n",
    " - *cat_columns*: list of categorical columns to be grouped\n",
    " - *group_count*: (maximal) number of final groups of each variable\n",
    " - *min_samples*: minimal number of observations in each group of each numerical variable\n",
    " - *min_samples_cat*: minimal number of observations in each group of each categorical variable"
   ]
  },
  {
   "cell_type": "code",
   "execution_count": null,
   "metadata": {},
   "outputs": [],
   "source": [
    "from scoring.grouping_new.interactive import NewGrouping\n",
    "\n",
    "grouping = NewGrouping(group_count=5, min_samples=100, min_samples_cat=100, woe_smooth_coef=0.001)"
   ]
  },
  {
   "cell_type": "code",
   "execution_count": null,
   "metadata": {},
   "outputs": [],
   "source": [
    "grouping.fit(\n",
    "    data=data[train_mask][cols_pred],\n",
    "    target=data[train_mask][col_target],\n",
    "    weight=data[train_mask][col_weight],\n",
    "    progress_bar=True,\n",
    "    category_limit=10000,\n",
    ")"
   ]
  },
  {
   "cell_type": "markdown",
   "metadata": {},
   "source": [
    "Load data from stability grouping."
   ]
  },
  {
   "cell_type": "code",
   "execution_count": null,
   "metadata": {},
   "outputs": [],
   "source": [
    "# grouping.load(file=\"stability_grouping.json\", show_loaded=True)"
   ]
  },
  {
   "cell_type": "markdown",
   "metadata": {},
   "source": [
    "## Interactive grouping"
   ]
  },
  {
   "cell_type": "markdown",
   "metadata": {},
   "source": [
    "New Interactive grouping uses these arguments:\n",
    "- *data*: training dataset the grouping should be based on\n",
    " - *target*: as the grouping is supervised and calculates WOE values, you need to specify the target column name\n",
    " - *time_column* time of each observation (usually month) used for stability charts  \n",
    " - *weight*: vector of weights of obervation (if not filled, grouping behaves as there are equal weights)\n",
    "\n",
    "- **Chart section**:\n",
    " - For **numerical variables**, there is chart with equifrequncy fine classing (observations as bars, default rate as line), equidistant fine classing and the final groups.\n",
    " - For **categorical varibles** there is chart with each of the original categorical values and a chart with the final groups.\n",
    " - Stability of default rate and population in time. This uses _time_ column.\n",
    "- **Variable section**: here you can choose tab with varible which you want to edit. \n",
    " - For **numerical variables**, the tab contains of the borders of the final groups. You can edit these borders, add new with [+] button and remove them with [-] button. You can also manually set WOE for nulls. There is also a button to perform automatic grouping on the selected variable.\n",
    " - For **categorical variables**, the tab contains of two tables. In the top table, you can see some statistics for each of the categorical values. In the rightmost column, there is the number of group which is assigned to the category. You can edit this value (doubleclick on it) to change the grouping. In the bottom table you can see statistics for the groups. It is not editable. There is also a button to perform automatic grouping on the selected variable.\n",
    " \n",
    "If this new version does not work for you, the old is still available in scoring library."
   ]
  },
  {
   "cell_type": "code",
   "execution_count": null,
   "metadata": {},
   "outputs": [],
   "source": [
    "sns.reset_orig()\n",
    "%matplotlib inline\n",
    "%config InlineBackend.close_figures=False\n",
    "\n",
    "grouping.interactive(\n",
    "    data=data[train_mask][cols_pred],\n",
    "    target=data[train_mask][col_target],\n",
    "    time_column=data[train_mask][col_month],\n",
    "    weight=data[train_mask][col_weight],\n",
    ")"
   ]
  },
  {
   "cell_type": "markdown",
   "metadata": {},
   "source": [
    "**Don't forget to *Apply and Save* your changes.**"
   ]
  },
  {
   "cell_type": "code",
   "execution_count": null,
   "metadata": {},
   "outputs": [],
   "source": [
    "#reset the graphical environment to be used by the normal non-interactive charts\n",
    "sns.set()\n",
    "%matplotlib inline\n",
    "%config InlineBackend.close_figures=True"
   ]
  },
  {
   "cell_type": "markdown",
   "metadata": {},
   "source": [
    "Load the grouping from a file (don't forget to set the right filename) and add the WOE columns to the original dataset."
   ]
  },
  {
   "cell_type": "markdown",
   "metadata": {},
   "source": [
    "## Apply the grouping to the dataset"
   ]
  },
  {
   "cell_type": "markdown",
   "metadata": {},
   "source": [
    "### WOE transformation"
   ]
  },
  {
   "cell_type": "markdown",
   "metadata": {},
   "source": [
    "Don't forget to apply the grouping to the data. *Grouping.transform()* method now automatically renames columns with proper suffix. If you need to transform just subset of columns use parameter *columns_to_transform=\\[...\\]*."
   ]
  },
  {
   "cell_type": "code",
   "execution_count": null,
   "metadata": {},
   "outputs": [],
   "source": [
    "data_woe = grouping.transform(data, transform_to=\"woe\", progress_bar=True)"
   ]
  },
  {
   "cell_type": "markdown",
   "metadata": {},
   "source": [
    "### Dummy transformation\n",
    "\n",
    "**Optional:** Transformation to dummy variables. Use if you want to use \"full\" regression instead of WOE regression"
   ]
  },
  {
   "cell_type": "code",
   "execution_count": null,
   "metadata": {},
   "outputs": [],
   "source": [
    "data_dummy = grouping.transform(data, transform_to='dummy', progress_bar=True)"
   ]
  },
  {
   "cell_type": "markdown",
   "metadata": {},
   "source": [
    "### Categorical variables transformation\n",
    "\n",
    "**Optional:** Transformation to categorical variables. Name of categories instead of WOE values - not useful for modelling."
   ]
  },
  {
   "cell_type": "code",
   "execution_count": null,
   "metadata": {},
   "outputs": [],
   "source": [
    "# data_shortnames = grouping.transform(data, transform_to='shortnames', progress_bar=True)"
   ]
  },
  {
   "cell_type": "markdown",
   "metadata": {},
   "source": [
    "Plot the fitted WOEs."
   ]
  },
  {
   "cell_type": "code",
   "execution_count": null,
   "metadata": {},
   "outputs": [],
   "source": [
    "documentation.GroupingPlots(\n",
    "    data,\n",
    "    predictors=cols_pred,\n",
    "    sample=\"Train\",\n",
    "    target=col_target,\n",
    "    grouping=grouping.grouping,\n",
    "    output_folder=\"documentation\",\n",
    "    #     weight=col_weight\n",
    ")"
   ]
  },
  {
   "cell_type": "markdown",
   "metadata": {},
   "source": [
    "## Add the transformed variables to the data set"
   ]
  },
  {
   "cell_type": "markdown",
   "metadata": {},
   "source": [
    "### WOE variables\n",
    "\n",
    "Add WOE variabes to the data set."
   ]
  },
  {
   "cell_type": "code",
   "execution_count": null,
   "metadata": {},
   "outputs": [],
   "source": [
    "woe_columns_to_replace = list()\n",
    "for column in data_woe.columns:\n",
    "    if column in data:\n",
    "        woe_columns_to_replace.append(column)\n",
    "        print(\"Column\", column, \"dropped as it already existed in the data set.\")\n",
    "data = data.drop(woe_columns_to_replace, axis=\"columns\")\n",
    "data = data.join(data_woe)\n",
    "\n",
    "del data_woe\n",
    "gc.collect()\n",
    "\n",
    "print(\"Added WOE variables. Number of columns:\", data.shape[1])\n",
    "cols_woe = [s + \"_WOE\" for s in cols_pred]"
   ]
  },
  {
   "cell_type": "markdown",
   "metadata": {},
   "source": [
    "### Dummy variables\n",
    "\n",
    "**Optional.**"
   ]
  },
  {
   "cell_type": "code",
   "execution_count": null,
   "metadata": {},
   "outputs": [],
   "source": [
    "dummy_columns_to_replace = list()\n",
    "for column in data_dummy.columns:\n",
    "    if column in data:\n",
    "        dummy_columns_to_replace.append(column)\n",
    "        print(\"Column\", column, \"dropped as it already existed in the data set.\")\n",
    "data = data.drop(dummy_columns_to_replace, axis=\"columns\")\n",
    "data = data.join(data_dummy)\n",
    "\n",
    "del data_dummy\n",
    "gc.collect()\n",
    "\n",
    "print(\"Added dummy variables. Number of columns:\", data.shape[1])"
   ]
  },
  {
   "cell_type": "markdown",
   "metadata": {},
   "source": [
    "#  Feature selection\n",
    "\n",
    "First remove WOE variables with one WOE value only - they will have no predictive power."
   ]
  },
  {
   "cell_type": "code",
   "execution_count": null,
   "metadata": {},
   "outputs": [],
   "source": [
    "cols_del = list()\n",
    "for name, column in data[train_mask][cols_woe].iteritems():\n",
    "    if (column.count() == 0) or (column.max() == column.min()):\n",
    "        cols_del.append(name)\n",
    "        cols_woe.remove(name)\n",
    "\n",
    "if len(cols_del) > 0:\n",
    "    print(\"Variables\", cols_del, \"will not be further used as they have only 1 unique WOE level.\")\n",
    "else:\n",
    "    print(\"All predictors have more than 1 unique WOE level.\")"
   ]
  },
  {
   "cell_type": "markdown",
   "metadata": {},
   "source": [
    "## Predictor power analysis\n",
    "\n",
    "Calculates IV and Gini of each predictor, sorts the predictors by their power. The power is calculated for each of the samples (train, validate, test, OOT, H.OOT). **If one or more of the samples are empty, comment the according part of the code.**"
   ]
  },
  {
   "cell_type": "code",
   "execution_count": null,
   "metadata": {},
   "outputs": [],
   "source": [
    "from scoring.metrics import iv, gini, lift\n",
    "\n",
    "power_tab = []\n",
    "for j in range(0, len(cols_woe)):\n",
    "    power_tab.append(\n",
    "        {\n",
    "            \"Name\": cols_woe[j],\n",
    "            \"IV Train\": iv(data.loc[train_mask, col_target], data.loc[train_mask, cols_woe[j]]),\n",
    "            \"Gini Train\": gini(data.loc[train_mask, col_target], -data.loc[train_mask, cols_woe[j]]),\n",
    "            \"IV Validate\": iv(data.loc[valid_mask, col_target], data.loc[valid_mask, cols_woe[j]]),\n",
    "            \"Gini Validate\": gini(data.loc[valid_mask, col_target], -data.loc[valid_mask, cols_woe[j]]),\n",
    "            \"IV Test\": iv(data.loc[test_mask, col_target], data.loc[test_mask, cols_woe[j]]),\n",
    "            \"Gini Test\": gini(data.loc[test_mask, col_target], -data.loc[test_mask, cols_woe[j]]),\n",
    "            \"IV OOT\": iv(data.loc[oot_mask, col_target], data.loc[oot_mask, cols_woe[j]]),\n",
    "            \"Gini OOT\": gini(data.loc[oot_mask, col_target], -data.loc[oot_mask, cols_woe[j]]),\n",
    "            \"IV HOOT\": iv(data.loc[hoot_mask, col_target], data.loc[hoot_mask, cols_woe[j]]),\n",
    "            \"Gini HOOT\": gini(data.loc[hoot_mask, col_target], -data.loc[hoot_mask, cols_woe[j]]),\n",
    "        }\n",
    "    )\n",
    "power_out = pd.DataFrame.from_records(power_tab)\n",
    "power_out = power_out.set_index(\"Name\")\n",
    "power_out = power_out.sort_values(\"Gini Train\", ascending=False)\n",
    "\n",
    "pd.options.display.max_rows = 1000\n",
    "display(power_out)\n",
    "pd.options.display.max_rows = 15\n",
    "power_out.to_csv(output_folder + \"/predictors/covariates.csv\")"
   ]
  },
  {
   "cell_type": "markdown",
   "metadata": {},
   "source": [
    "## Correlations"
   ]
  },
  {
   "cell_type": "markdown",
   "metadata": {},
   "source": [
    "Show correlation matrix of all the WOE variables"
   ]
  },
  {
   "cell_type": "code",
   "execution_count": null,
   "metadata": {},
   "outputs": [],
   "source": [
    "documentation.Correlations(\n",
    "    data, predictors=cols_woe, sample=\"All\", output_folder=output_folder + \"/analysis/\", filename=\"correlation_full.png\"\n",
    ")"
   ]
  },
  {
   "cell_type": "markdown",
   "metadata": {},
   "source": [
    "## Hierarchical variable clustering.\n",
    "- Starts with each variable as a separate cluster\n",
    "- Creates clusters based on highest average correlations\n",
    "- The stopping criterion is either parameter *max_cluster_correlation* - once no correlation between clusters is larger than this parameter, the clustering is finished; or *max_clusters* - when this many clusters are created, the clustering is finished. If both specified, the one that makes less clusters is used."
   ]
  },
  {
   "cell_type": "code",
   "execution_count": null,
   "metadata": {},
   "outputs": [],
   "source": [
    "from scoring import variable_clustering\n",
    "\n",
    "clustering_correlation = variable_clustering.CorrVarClus(\n",
    "    max_correlation=0.5,\n",
    "    # max_clusters=9,\n",
    "    standardize=True,\n",
    "    sample_size=50000,\n",
    ")\n",
    "\n",
    "clustering_correlation.fit(data[train_mask][cols_woe], data[train_mask][col_target])"
   ]
  },
  {
   "cell_type": "markdown",
   "metadata": {},
   "source": [
    "Dendrogram (tree scheme of the hierarchical clustering)"
   ]
  },
  {
   "cell_type": "code",
   "execution_count": null,
   "metadata": {},
   "outputs": [],
   "source": [
    "clustering_correlation.draw(output_file=output_folder + \"/analysis/clustering_dendrogram.png\")"
   ]
  },
  {
   "cell_type": "markdown",
   "metadata": {},
   "source": [
    "Table of predictors with number of cluster they are in and order in their respective clusters ranked by gini."
   ]
  },
  {
   "cell_type": "code",
   "execution_count": null,
   "metadata": {},
   "outputs": [],
   "source": [
    "clustering_correlation.display(output_folder + \"/predictors/predictor_clusters.csv\")"
   ]
  },
  {
   "cell_type": "markdown",
   "metadata": {},
   "source": [
    "Subset of WOE variables created that contains only the strongest (based on **training Gini**) variable of each cluster. It's up to the user to choose whether they want to used the full set (in this workflow by default) or such restricted set."
   ]
  },
  {
   "cell_type": "code",
   "execution_count": null,
   "metadata": {},
   "outputs": [],
   "source": [
    "print(\"Best variables based on correlation clustering:\")\n",
    "clustering_correlation.bestVariables()"
   ]
  },
  {
   "cell_type": "markdown",
   "metadata": {},
   "source": [
    "There are two other options for clustering in the scoring library:\n",
    "\n",
    " - Feature agglomeration (`variable_clustering.FeatureAggVarClus`) which is very similar to correlation. It uses cosine distance (which is closely related to correlation) and you can also specify usage of nearest neighbors connectivity constraints there.\n",
    " - k-means with PCA (`variable_clustering.KMeansVarClus`) which uses Euclidean distance between the observations to find the variable clusters. However, Euclidean distance suffers from the curse of dimensionality in high-dimensional spaces, so PCA is applied to the data first. Anyway, this method is not recommended as the dimensionality problem is not solved fully and the results of the previous two methods seems to be much more usable.\n",
    " \n",
    "For reference for these methods, see the classes in scoring library themself (there are docstrings there)."
   ]
  },
  {
   "cell_type": "markdown",
   "metadata": {},
   "source": [
    "## L1 regularized Logistic Regression\n",
    "\n",
    "Efficient way how to select subset of predictors from a very big set of covariate. Uses grid search through value of L1 regularization parameter. We start with no predictor in the model and try to add predictors from list called **cols_shortlist** which is defined below (by default, we put there all the WOE variables). The best model selected based on validation Gini.\n",
    "\n",
    "Interation process can be tuned using various parameters:\n",
    " - *steps*: number of steps of grid search\n",
    " - *grid_length*: length of the grid for grid search\n",
    " - *log_C_init*: initial value of log10 of C parameter for grid search\n",
    " - *max_predictors*: maximal number of predictors to enter the model. Ignored if set to 0.\n",
    " - *max_correlation*: maximal absolute value of correlation of predictors in the model (variable with larger correlation with existing predictors will not be added to the model)\n",
    " - *beta_sgn_criterion*: if this is set to True, all the betas in the model must have the same signature (all positive or all negative)\n",
    " - *stop_when_decr*: if this is set to True, the Gini must increase in each iteration. Models with more predictor having lower Gini than the previous will be considered invalid.\n",
    " - *stop_immediately*: the iteration process will be stopped immediately after a model which is not fulfilling the criteria (max_predictors, max_correlation, beta_sgn_criterion, stop_when_decr) is found. No further models are searched for.\n",
    " - *correlation_sample*: for better performance, correlation matrix is calculated just on a sample of data. The size of the sample is set in this parameter\n",
    " - *use_cv*: boolean if Cross Validation should be used instead of train/validation split. In this case, if both training and validation samples are presented to the fit method, they are concatenated together and are used for CV. Gini is evaluated as average of all CV's folds' validation Gini. **Please, be aware that using CV after automatic grouping which was trained using train/validate split might lead to overfitted model.**\n",
    " - *cv_folds*: parameter for Cross Validation - number of folds\n",
    " - *cv_seed*: parameter for Cross Validation - random seed used to split the folds\n",
    " \n",
    "The *fit* method can be called with two arguments *fit(X,y)* or with four agruments *fit(X_train,y_train,X_valid,y_valid)*. When called with four arguments, the Gini is measured on the validation sample (i.e. validation sample is used for decisions about what steps to be done in stepwise).\n",
    "\n",
    "There are another optional arguments, *sample_weight* and *sample_weight_valid* where you can put the vector (data set column) with weights of the observations for the train and validation samples."
   ]
  },
  {
   "cell_type": "code",
   "execution_count": null,
   "metadata": {},
   "outputs": [],
   "source": [
    "#Define a shortlist of predictors to enter the modelling in the next steps.\n",
    "cols_shortlist = cols_woe\n",
    "#cols_shortlist = list(set(cols_woe) - set(['unwanted1','unwanted2']))"
   ]
  },
  {
   "cell_type": "code",
   "execution_count": null,
   "metadata": {},
   "outputs": [],
   "source": [
    "from scoring.model_selection import L1GiniModelSelection\n",
    "\n",
    "modelL1 = L1GiniModelSelection(\n",
    "    steps=100,\n",
    "    grid_length=5,\n",
    "    log_C_init=None,\n",
    "    max_predictors=200,\n",
    "    max_correlation=1,\n",
    "    beta_sgn_criterion=False,\n",
    "    stop_immediately=False,\n",
    "    stop_when_decr=False,\n",
    "    correlation_sample=10000,\n",
    "    penalty=\"l1\",\n",
    "    use_cv=False,\n",
    "    cv_folds=5,\n",
    "    cv_seed=98765,\n",
    "    n_jobs=2,\n",
    ")\n",
    "\n",
    "modelL1.fit(\n",
    "    data[train_mask][cols_shortlist],\n",
    "    data[train_mask][col_target],\n",
    "    data[valid_mask][cols_shortlist],\n",
    "    data[valid_mask][col_target],\n",
    "    #             sample_weight = data[train_mask][col_weight], sample_weight_valid = data[valid_mask][col_weight],\n",
    "    progress_bar=True,\n",
    ")\n",
    "\n",
    "l1predictors = list(modelL1.predictors)"
   ]
  },
  {
   "cell_type": "code",
   "execution_count": null,
   "metadata": {},
   "outputs": [],
   "source": [
    "modelL1.draw_coeff_progression(cols_shortlist, output_folder + \"/model/l1path.png\")"
   ]
  },
  {
   "cell_type": "code",
   "execution_count": null,
   "metadata": {},
   "outputs": [],
   "source": [
    "modelL1.draw_gini_progression(output_folder + \"/model/l1gini.png\")"
   ]
  },
  {
   "cell_type": "code",
   "execution_count": null,
   "metadata": {},
   "outputs": [],
   "source": [
    "print(\"Predictors in the model:\", list(modelL1.predictors))"
   ]
  },
  {
   "cell_type": "markdown",
   "metadata": {},
   "source": [
    "Save the model to disk."
   ]
  },
  {
   "cell_type": "code",
   "execution_count": null,
   "metadata": {},
   "outputs": [],
   "source": [
    "model_filename1 = \"myModelL1.model\"\n",
    "pickle.dump(modelL1, open(model_filename1, \"wb\"))"
   ]
  },
  {
   "cell_type": "markdown",
   "metadata": {},
   "source": [
    "Load model."
   ]
  },
  {
   "cell_type": "code",
   "execution_count": null,
   "metadata": {},
   "outputs": [],
   "source": [
    "# model_filename1 = 'myModelL1'\n",
    "# modelL1 = pickle.load(open(model_filename1, 'rb'))"
   ]
  },
  {
   "cell_type": "markdown",
   "metadata": {},
   "source": [
    "The drawback of regularized model is that it is not calibrated, so it must be refitted afterwards. In this workflow, there is stepwise regression after this L1 regression which can serve this purpose (i.e. fitting model with the same set or subset of predictors, but without the regularization)."
   ]
  },
  {
   "cell_type": "markdown",
   "metadata": {},
   "source": [
    "## Feature selection using LGBM and SHAP values"
   ]
  },
  {
   "cell_type": "markdown",
   "metadata": {},
   "source": [
    "This sections contains set of methods (functions) that are necessary to develop and fine-tune gradient boosting model.\n",
    "\n",
    "Note: *lgbm*, *shap* and *hyperopt* packages has to be installed in computer.  \n",
    "--    `pip install lightgbm shap hyperopt`"
   ]
  },
  {
   "cell_type": "code",
   "execution_count": null,
   "metadata": {},
   "outputs": [],
   "source": [
    "params = {\n",
    "    \"learning_rate\": 0.05,\n",
    "    \"num_leaves\": 100,\n",
    "    \"colsample_bytree\": 0.75,\n",
    "    \"subsample\": 0.75,\n",
    "    \"subsample_freq\": 1,\n",
    "    \"max_depth\": 3,\n",
    "    \"nthreads\": 3,\n",
    "    \"verbose\": 1,\n",
    "    \"metric\": \"auc\",\n",
    "    \"objective\": \"binary\",\n",
    "    \"early_stopping_rounds\": 100,\n",
    "    \"num_boost_round\": 100000,\n",
    "    \"seed\": 1234,\n",
    "}"
   ]
  },
  {
   "cell_type": "code",
   "execution_count": null,
   "metadata": {},
   "outputs": [],
   "source": [
    "from scoring import lgbm\n",
    "\n",
    "model_lgb = lgbm.LGBM_model(cols_pred, params, use_CV=False, CV_folds=3, CV_seed=9876)"
   ]
  },
  {
   "cell_type": "markdown",
   "metadata": {},
   "source": [
    "### Fit standard or cross-validated model\n",
    "output: List of lgbm boosters (models)"
   ]
  },
  {
   "cell_type": "code",
   "execution_count": null,
   "metadata": {},
   "outputs": [],
   "source": [
    "model1 = model_lgb.fit_model(\n",
    "    data[train_mask], data[valid_mask], data[train_mask][col_target], data[valid_mask][col_target]\n",
    ")"
   ]
  },
  {
   "cell_type": "markdown",
   "metadata": {},
   "source": [
    "**Predict to unseen dataset**\n",
    "\n",
    "In case of CV is chosen, then the predictions are average predictions from each of CV models."
   ]
  },
  {
   "cell_type": "code",
   "execution_count": null,
   "metadata": {},
   "outputs": [],
   "source": [
    "from scoring.metrics import gini\n",
    "\n",
    "predictions = model_lgb.predict(model1, data[test_mask])\n",
    "gini(data[test_mask][col_target], predictions)"
   ]
  },
  {
   "cell_type": "markdown",
   "metadata": {},
   "source": [
    "### Gain or weight variable importances\n",
    "\n",
    "Output: DataFrame with features and chosen importance\n",
    "\n",
    "In case of CV is chosen, then the variable importance is computed as the average variable importance from each CV models.\n"
   ]
  },
  {
   "cell_type": "code",
   "execution_count": null,
   "metadata": {},
   "outputs": [],
   "source": [
    "var_imp = model_lgb.plot_imp(model1, \"importance_gain\", ret=True, show=True, n_predictors=25)"
   ]
  },
  {
   "cell_type": "markdown",
   "metadata": {},
   "source": [
    "**Computing shap values for given dataset**\n",
    "\n",
    "Theoretical background for shap values can be found here https://christophm.github.io/interpretable-ml-book/shapley.html\n",
    "\n",
    "Output: DataFrame with features and its mean absolute shap values that coresponds with second chart\n"
   ]
  },
  {
   "cell_type": "code",
   "execution_count": null,
   "metadata": {},
   "outputs": [],
   "source": [
    "var_imp_shap = model_lgb.print_shap_values(\n",
    "    cols_pred_num,\n",
    "    cols_pred_cat,\n",
    "    data[train_mask],\n",
    "    data[valid_mask],\n",
    "    data[train_mask][col_target],\n",
    "    data[valid_mask][col_target],\n",
    "    data[test_mask],\n",
    ")"
   ]
  },
  {
   "cell_type": "code",
   "execution_count": null,
   "metadata": {},
   "outputs": [],
   "source": [
    "var_imp_shap"
   ]
  },
  {
   "cell_type": "markdown",
   "metadata": {},
   "source": [
    "# Scorecard estimator"
   ]
  },
  {
   "cell_type": "markdown",
   "metadata": {},
   "source": [
    "## Stepwise logistic Regression\n",
    "\n",
    "### Estimate model"
   ]
  },
  {
   "cell_type": "markdown",
   "metadata": {},
   "source": [
    "We run stepwise logistic regression on training data set. We start with no predictor in the model and try to add predictors from list called **cols_shortlist2** which is defined below.\n",
    "\n",
    "We can put there all the WOE variables, but we can also used output of one of the feature selection methods above or some kind of their combination)."
   ]
  },
  {
   "cell_type": "code",
   "execution_count": null,
   "metadata": {},
   "outputs": [],
   "source": [
    "cols_shortlist2 = cols_woe\n",
    "# cols_shortlist2 = clustering_correlation.bestVariables()\n",
    "# cols_shortlist2 = modelL1.final_predictors_"
   ]
  },
  {
   "cell_type": "markdown",
   "metadata": {},
   "source": [
    "Stepwise process can be tuned using various parameters:\n",
    " - *initial_predictors*: set of starting predictors (useful for backward method)\n",
    " - *max_iter*: maximal number of iterations\n",
    " - *min_increase*: minimal marginal Gini contribution for predictor to be added\n",
    " - *max_decrease*: minimal marginal Gini diminution for predictor to be removed\n",
    " - *max_predictors*: maximal number of predictors to enter the model. Ignored if set to 0.\n",
    " - *max_correlation*: maximal absolute value of correlation of predictors in the model (variable with larger correlation with existing predictors will not be added to the model). **This parameter works for \"forward\" selection method only.**\n",
    " - *beta_sgn_criterion*: if this is set to True, all the betas in the model must have the same signature (all positive or all negative). **This parameter works for \"forward\" selection method only.**\n",
    " - *penalty, C*: regularization parameters for logitic regression (sklearn library)\n",
    " - *correlation_sample*: for better performance, correlation matrix is calculated just on a sample of data. The size of the sample is set in this parameter\n",
    " - *selection_method*: stepwise or forward or backward\n",
    " - *use_cv*: boolean if Cross Validation should be used instead of train/validation split. In this case, if both training and validation samples are presented to the fit method, they are concatenated together and are used for CV. Gini is evaluated as average of all CV's folds' validation Gini. **Please, be aware that using CV after automatic grouping which was trained using train/validate split might lead to overfitted model.**\n",
    " - *cv_folds*: parameter for Cross Validation - number of folds\n",
    " - *cv_seed*: parameter for Cross Validation - random seed used to split the folds\n",
    " \n",
    "The *fit* method can be called with two arguments *fit(X,y)* or with four agruments *fit(X_train,y_train,X_valid,y_valid)*. When called with four arguments, the Gini is measured on the validation sample (i.e. validation sample is used for decisions about what steps to be done in stepwise).\n",
    "\n",
    "There are another optional arguments, *sample_weight* and *sample_weight_valid* where you can put the vector (data set column) with weights of the observations for the train and validation samples."
   ]
  },
  {
   "cell_type": "code",
   "execution_count": null,
   "metadata": {},
   "outputs": [],
   "source": [
    "from scoring.model_selection import GiniStepwiseLogit\n",
    "\n",
    "modelSW = GiniStepwiseLogit(\n",
    "    initial_predictors=[],\n",
    "    max_iter=1000,\n",
    "    min_increase=0.1,\n",
    "    max_decrease=0.05,\n",
    "    max_predictors=0,\n",
    "    max_correlation=0.5,\n",
    "    beta_sgn_criterion=False,\n",
    "    penalty=\"l2\",\n",
    "    C=10e10,\n",
    "    correlation_sample=10000,\n",
    "    selection_method=\"forward\",\n",
    "    use_cv=True,\n",
    "    cv_folds=5,\n",
    "    cv_seed=98765,\n",
    "    n_jobs=2,\n",
    ")\n",
    "\n",
    "modelSW.fit(\n",
    "    data[train_mask][cols_shortlist2],\n",
    "    data[train_mask][col_target],\n",
    "    data[valid_mask][cols_shortlist2],\n",
    "    data[valid_mask][col_target]\n",
    "    # ,sample_weight = data[train_mask][col_weight], sample_weight_valid = data[valid_mask][col_weight]\n",
    ")"
   ]
  },
  {
   "cell_type": "code",
   "execution_count": null,
   "metadata": {},
   "outputs": [],
   "source": [
    "pd.options.display.max_rows = 1000\n",
    "modelSW.print_final_model()"
   ]
  },
  {
   "cell_type": "code",
   "execution_count": null,
   "metadata": {},
   "outputs": [],
   "source": [
    "modelSW.draw_gini_progression(output_folder + \"/model/stepwisegini.png\")"
   ]
  },
  {
   "cell_type": "code",
   "execution_count": null,
   "metadata": {},
   "outputs": [],
   "source": [
    "modelSW.progress\n",
    "# to view specific iterations or rows use code below\n",
    "# modelSW.progress[modelSW.progress['iteration']==1]"
   ]
  },
  {
   "cell_type": "markdown",
   "metadata": {},
   "source": [
    "### Full Regression\n",
    "\n",
    "**Optional:** Alternative to WOE logistic regression. Uses dummy variables instead of WOE variables - it is necessary to make Dummy transformation as the output of Grouping instead of WOE variables.\n",
    "\n",
    "As predictor set which is served to the class *GiniStepwiseFullLogit*, list of original variables (i.e. names of variables before dummy transformation) is used.\n",
    "\n",
    "Grouping, which was used to create dummy variables, is served to the class as parameter called *dummy_bindings*. The algorithm then automatically extracts bindings between original and dummy variables and uses it during steps of forward/backward/stepwise regression.\n",
    "\n",
    "The resulting model includes the both the list of final predictors (original variables) and the list of final dummy variables with their coefficients."
   ]
  },
  {
   "cell_type": "code",
   "execution_count": null,
   "metadata": {},
   "outputs": [],
   "source": [
    "all_predictors = cols_pred\n",
    "\n",
    "from scoring.model_selection import GiniStepwiseLogit\n",
    "\n",
    "modelFull = GiniStepwiseLogit(\n",
    "    initial_predictors=set(),\n",
    "    all_predictors=set(all_predictors),\n",
    "    dummy_regression=True,\n",
    "    dummy_bindings=grouping.get_dummy_names(),\n",
    "    max_iter=1000,\n",
    "    min_increase=0.1,\n",
    "    max_decrease=0.05,\n",
    "    max_predictors=0,\n",
    "    selection_method=\"stepwise\",\n",
    "    use_cv=False,\n",
    "    cv_folds=5,\n",
    "    cv_seed=98765,\n",
    "    n_jobs=2,\n",
    ")\n",
    "\n",
    "modelFull.fit(\n",
    "    data[train_mask],\n",
    "    data[train_mask][col_target],\n",
    "    data[valid_mask],\n",
    "    data[valid_mask][col_target]\n",
    "    # ,sample_weight = data[train_mask][col_weight], sample_weight_valid = data[valid_mask][col_weight]\n",
    ")\n",
    "\n",
    "clf = modelFull"
   ]
  },
  {
   "cell_type": "code",
   "execution_count": null,
   "metadata": {},
   "outputs": [],
   "source": [
    "pd.options.display.max_rows = 1000\n",
    "modelFull.print_final_model()\n",
    "pd.options.display.max_rows = 15"
   ]
  },
  {
   "cell_type": "markdown",
   "metadata": {},
   "source": [
    "### Save model"
   ]
  },
  {
   "cell_type": "code",
   "execution_count": null,
   "metadata": {},
   "outputs": [],
   "source": [
    "model_filename2 = \"myModelSW.model\"\n",
    "pickle.dump(modelSW, open(model_filename2, \"wb\"))"
   ]
  },
  {
   "cell_type": "markdown",
   "metadata": {},
   "source": [
    "Load model."
   ]
  },
  {
   "cell_type": "code",
   "execution_count": null,
   "metadata": {},
   "outputs": [],
   "source": [
    "# model_filename2 = 'myModelSW'\n",
    "# modelSW = pickle.load(open(model_filename2, 'rb'))"
   ]
  },
  {
   "cell_type": "code",
   "execution_count": null,
   "metadata": {},
   "outputs": [],
   "source": [
    "print(\"Predictors in the model:\", list(modelSW.predictors))"
   ]
  },
  {
   "cell_type": "markdown",
   "metadata": {},
   "source": [
    "## Time stability of predictors"
   ]
  },
  {
   "cell_type": "markdown",
   "metadata": {},
   "source": [
    "### Stability charts"
   ]
  },
  {
   "cell_type": "markdown",
   "metadata": {},
   "source": [
    "Set metadata for the stability charts. Two types of charts will be drawn:\n",
    "- Stability of default rate, for which the variables with default and with base need to be set\n",
    "- Stability of population, for which the variable with observation count needs to be set"
   ]
  },
  {
   "cell_type": "code",
   "execution_count": null,
   "metadata": {},
   "outputs": [],
   "source": [
    "# data[\"ID\"] = data.index"
   ]
  },
  {
   "cell_type": "code",
   "execution_count": null,
   "metadata": {},
   "outputs": [],
   "source": [
    "clf = modelSW\n",
    "\n",
    "for col in list(clf.final_predictors_):\n",
    "    documentation.GroupedEvaluation(\n",
    "        data,\n",
    "        predictor=col,\n",
    "        sample=\"Observable\",\n",
    "        target=col_target,\n",
    "        grouping=grouping.grouping,\n",
    "        weight=col_weight,\n",
    "        output_folder=output_folder + \"/stability\",\n",
    "    )"
   ]
  },
  {
   "cell_type": "markdown",
   "metadata": {},
   "source": [
    "We should also verify the population stability of the whole time period and stability of shorter target, e.g. FPD30."
   ]
  },
  {
   "cell_type": "code",
   "execution_count": null,
   "metadata": {},
   "outputs": [],
   "source": [
    "# name of the short target column\n",
    "target_for_default_short = \"FPD\"\n",
    "# name of the short target's base column\n",
    "base_for_default_short = \"FPD_BASE\""
   ]
  },
  {
   "cell_type": "code",
   "execution_count": null,
   "metadata": {},
   "outputs": [],
   "source": [
    "documentation.targets.append((target_for_default_short, base_for_default_short))\n",
    "documentation.targets"
   ]
  },
  {
   "cell_type": "markdown",
   "metadata": {},
   "source": [
    "The following code adds base for short target (its name is defined above) if it does not already exist in the data."
   ]
  },
  {
   "cell_type": "code",
   "execution_count": null,
   "metadata": {},
   "outputs": [],
   "source": [
    "if base_for_default_short not in data:\n",
    "    data[base_for_default_short] = 0\n",
    "    data.loc[data[target_for_default_short] == 0, base_for_default_short] = 1\n",
    "    data.loc[data[target_for_default_short] == 1, base_for_default_short] = 1\n",
    "    print(\"Column\", base_for_default_short, \"added/modified. Number of columns:\", data.shape[1])\n",
    "else:\n",
    "    print(\"Column\", base_for_default_short, \"already exists.\")"
   ]
  },
  {
   "cell_type": "code",
   "execution_count": null,
   "metadata": {},
   "outputs": [],
   "source": [
    "documentation.sample_dict[\"Observable short\"] = data[base_for_default_short] == 1\n",
    "documentation.sample_dict.keys()"
   ]
  },
  {
   "cell_type": "code",
   "execution_count": null,
   "metadata": {},
   "outputs": [],
   "source": [
    "for col in list(clf.final_predictors_):\n",
    "    documentation.GroupedEvaluation(\n",
    "        data,\n",
    "        predictor=col,\n",
    "        sample=\"Observable short\",\n",
    "        target=target_for_default_short,\n",
    "        grouping=grouping,\n",
    "        weight=col_weight,\n",
    "        output_folder=output_folder + \"/stability_short\",\n",
    "    )"
   ]
  },
  {
   "cell_type": "markdown",
   "metadata": {},
   "source": [
    "### Stability Index\n",
    "\n",
    "The following code calculates two versions of Elena's Stability Index, which are defined as follows.\n",
    "\n",
    "**v1** \n",
    "1. Compute the bad rates in each category for each month\n",
    "2. Compute the rank of each category within each month based on the bad rate\n",
    "3. Compute the frequency of each position / rank within each category from step 2\n",
    "4. Compute the ratios of the most frequent position / rank within each category from step 3\n",
    "5. Compute average of the ratios from step 4\n",
    "\n",
    "**v2**\n",
    "1. Compute the bad rates in each category for each month\n",
    "2. Compute the rank of each category within each month based on the bad rate\n",
    "3. Compute the frequency of each position / rank through all categories from step 2 and the corresponding ratios\n",
    "4. Compute the product of the ratios within each position / rank from step 3\n",
    "5. Compute average of the products from step 4\n",
    "\n",
    "*Note: Both version can give \"false positives\" (indicating that variable is unstable) for U-shaped variables.*"
   ]
  },
  {
   "cell_type": "code",
   "execution_count": null,
   "metadata": {},
   "outputs": [],
   "source": [
    "from scoring.stability_index import stability_index_value\n",
    "\n",
    "stability_tab = []\n",
    "\n",
    "for pred in clf.final_predictors_:\n",
    "    for mask in [\"train_mask\", \"valid_mask\", \"test_mask\", \"oot_mask\", \"hoot_mask\"]:\n",
    "        for ver in [\"v1\", \"v2\"]:\n",
    "            stability_tab.append(\n",
    "                {\n",
    "                    \"Name\": pred,\n",
    "                    \"Sample\": mask[:-5],\n",
    "                    \"Index version\": ver,\n",
    "                    \"Index value\": stability_index_value(data[eval(mask)], pred, col_target, col_base, col_month)[ver],\n",
    "                }\n",
    "            )\n",
    "\n",
    "stability_tab = pd.DataFrame(stability_tab)\n",
    "stability_tab = stability_tab.groupby([\"Name\", \"Index version\", \"Sample\"])[[\"Index value\"]].mean().unstack(level=[1, 2])\n",
    "\n",
    "pd.options.display.max_rows = 1000\n",
    "display(stability_tab.round(3))\n",
    "stability_tab.to_csv(output_folder + \"/stability/stability_index.csv\")"
   ]
  },
  {
   "cell_type": "markdown",
   "metadata": {},
   "source": [
    "### PSI"
   ]
  },
  {
   "cell_type": "code",
   "execution_count": null,
   "metadata": {},
   "outputs": [],
   "source": [
    "from scoring.stability_index import psi_calc_df\n",
    "\n",
    "monthly_psi, masked_psi = psi_calc_df(data, cols_pred_psi=clf.final_predictors_, col_month=\"MONTH\")\n",
    "display(monthly_psi)"
   ]
  },
  {
   "cell_type": "markdown",
   "metadata": {},
   "source": [
    "## Model with exact set of predictors\n",
    "\n",
    "Use predictors from stepwise model for marginal contribution test\n",
    "\n",
    "### Estimate model"
   ]
  },
  {
   "cell_type": "code",
   "execution_count": null,
   "metadata": {},
   "outputs": [],
   "source": [
    "clf = modelSW\n",
    "cols_mc_shortlist = list(clf.predictors)"
   ]
  },
  {
   "cell_type": "markdown",
   "metadata": {},
   "source": [
    "Fit a model with an exact set of predictors. Set *cols_exactlist* to list of your chosen predictors.\n",
    " - *cols_exactlist*: list of predictors to fit with a model"
   ]
  },
  {
   "cell_type": "code",
   "execution_count": null,
   "metadata": {},
   "outputs": [],
   "source": [
    "%%capture --no-display\n",
    "from scoring.model_selection import GiniStepwiseLogit\n",
    "\n",
    "cols_exactlist = cols_mc_shortlist\n",
    "\n",
    "modelSW1 = GiniStepwiseLogit(\n",
    "    initial_predictors=cols_exactlist,\n",
    "    max_iter=0,\n",
    "    n_jobs=2,\n",
    ")\n",
    "modelSW1.fit(\n",
    "    data[train_mask][cols_exactlist],\n",
    "    data[train_mask][col_target],\n",
    "    data[valid_mask][cols_exactlist],\n",
    "    data[valid_mask][col_target],\n",
    ")\n",
    "m1 = modelSW1.progress.iloc[0][\"Gini\"]\n",
    "display(Markdown(\"Predictors: {}\".format(\",\\n \".join(cols_exactlist))))\n",
    "display(Markdown(\"Gini: **{}**\".format(m1)))"
   ]
  },
  {
   "cell_type": "markdown",
   "metadata": {},
   "source": [
    "### Save model"
   ]
  },
  {
   "cell_type": "code",
   "execution_count": null,
   "metadata": {},
   "outputs": [],
   "source": [
    "model_filename3 = \"myModelSW1.model\"\n",
    "pickle.dump(modelSW1, open(model_filename3, \"wb\"))"
   ]
  },
  {
   "cell_type": "markdown",
   "metadata": {},
   "source": [
    "Load model."
   ]
  },
  {
   "cell_type": "code",
   "execution_count": null,
   "metadata": {},
   "outputs": [],
   "source": [
    "# model_filename3 = 'myModelSW'\n",
    "# modelSW1 = pickle.load(open(model_filename3, 'rb'))"
   ]
  },
  {
   "cell_type": "markdown",
   "metadata": {},
   "source": [
    "## Marginal contribution"
   ]
  },
  {
   "cell_type": "markdown",
   "metadata": {},
   "source": [
    "Calculate marginal contribution for adding and removing predictors to/from a chosen set.\n",
    " - *cols_mc*: base list of predictors\n",
    " - *cols_to_add*: list of predictors to be added"
   ]
  },
  {
   "cell_type": "code",
   "execution_count": null,
   "metadata": {},
   "outputs": [],
   "source": [
    "%%capture --no-display\n",
    "cols_mc_to_add = cols_woe\n",
    "\n",
    "modelSW1.marginal_contribution(\n",
    "    data[train_mask],\n",
    "    data[train_mask][col_target],\n",
    "    data[valid_mask],\n",
    "    data[valid_mask][col_target],\n",
    "    predictors_to_add = cols_mc_to_add,\n",
    "    output_path = output_folder + \"/model/marg_cont.csv\"\n",
    ")"
   ]
  },
  {
   "cell_type": "markdown",
   "metadata": {},
   "source": [
    "## Cluster Surrogates\n",
    "\n",
    "Based on clustering which you ran in the previous parts of workflow (either *hierarchical* or *k-means*), clusters of original variables were established. In this part of workflow, you can check what would happen if you swapped any of the predictors with another variable from the same cluster.\n",
    "This is particulartly useful when you can’t use an originally selected predictor (e.g. there is a business reason why the predictor should not be used).\n",
    "For this object to work, you need list of predictors (from your model), list of all variables and corresponding list of numbers assigning clusters to these variables. In the data set, you need to have all the variables from the list."
   ]
  },
  {
   "cell_type": "code",
   "execution_count": null,
   "metadata": {},
   "outputs": [],
   "source": [
    "from scoring.model_selection import VarClusSurrogates\n",
    "\n",
    "surrogates = VarClusSurrogates(\n",
    "    clustering_correlation.variables_, clustering_correlation.labels_, modelSW.final_predictors_\n",
    ")\n",
    "\n",
    "surrogates.fit(\n",
    "    data[train_mask][cols_woe], data[train_mask][col_target], data[valid_mask][cols_woe], data[valid_mask][col_target]\n",
    ")"
   ]
  },
  {
   "cell_type": "code",
   "execution_count": null,
   "metadata": {},
   "outputs": [],
   "source": [
    "surrogates.displaySurrogates(output_folder + \"/predictors/cluster_surrogates.csv\")"
   ]
  },
  {
   "cell_type": "markdown",
   "metadata": {},
   "source": [
    "## Score the dataset\n",
    "**First choose which model is your final model** (into variable *clf*)!"
   ]
  },
  {
   "cell_type": "code",
   "execution_count": null,
   "metadata": {},
   "outputs": [],
   "source": [
    "# clf = modelL1\n",
    "clf = modelSW1\n",
    "\n",
    "cols_final_predictors = list(clf.predictors)\n",
    "pd.DataFrame(cols_final_predictors).to_csv(output_folder + \"/predictors/predictors.csv\", index=False, header=None)\n",
    "clf.print_final_model()"
   ]
  },
  {
   "cell_type": "markdown",
   "metadata": {},
   "source": [
    "Create a new column with the prediction (probability of default)."
   ]
  },
  {
   "cell_type": "code",
   "execution_count": null,
   "metadata": {},
   "outputs": [],
   "source": [
    "col_score = \"SCORE\"\n",
    "\n",
    "data[col_score] = clf.predict(data)\n",
    "print(\"Column\", col_score, \"with the prediction added/modified. Number of columns:\", data.shape[1])"
   ]
  },
  {
   "cell_type": "markdown",
   "metadata": {},
   "source": [
    "# Scorecard table output\n",
    "Output the scorecard to a table. Stats are calculated on a subset of data given by the mask defined below."
   ]
  },
  {
   "cell_type": "code",
   "execution_count": null,
   "metadata": {},
   "outputs": [],
   "source": [
    "# this mask is an union of masks for training, validation, testing and out of time data sets\n",
    "table_mask = train_mask | valid_mask | test_mask | oot_mask | hoot_mask"
   ]
  },
  {
   "cell_type": "code",
   "execution_count": null,
   "metadata": {},
   "outputs": [],
   "source": [
    "from scoring.scorecard import ScoreCard\n",
    "\n",
    "scorecard_new = ScoreCard(\n",
    "    grouping=grouping.grouping, predictors=clf.predictors, coefficients=clf.coef, intercept=clf.intercept\n",
    ")"
   ]
  },
  {
   "cell_type": "code",
   "execution_count": null,
   "metadata": {},
   "outputs": [],
   "source": [
    "pd.options.display.max_rows = 1000\n",
    "display(scorecard_new.scorecard_table_simple().fillna(\"\"))\n",
    "pd.options.display.max_rows = 15"
   ]
  },
  {
   "cell_type": "code",
   "execution_count": null,
   "metadata": {},
   "outputs": [],
   "source": [
    "pd.options.display.max_rows = 1000\n",
    "scorecard_out = scorecard_new.scorecard_table_full(data, table_mask, col_target, weightcol=None)\n",
    "scorecard_out.to_csv(output_folder + \"/model/scorecard.csv\")\n",
    "display(scorecard_out.fillna(\"\"))\n",
    "pd.options.display.max_rows = 15"
   ]
  },
  {
   "cell_type": "markdown",
   "metadata": {},
   "source": [
    "# Reject inference\n",
    "In case there were many rejects in the approval process, it might happen that for some values of certain predictors, reject rate was much higher than for others. In this case, so called *„cherry picking“* migh have occured: only the best part of certain sub-population (corresponding to some predictor values) is approved resulting in default rate of this subpopulation being seemingly much lower than it would be normally. This might affect the future performance of the new model, as this sub-population would receive overly optimistic score based on training data.\n",
    "\n",
    "## Reject inference analysis\n",
    "\n",
    "In this analysis we see WoE of default rate (based on logarithm of odds „good vs bad“) compared to WoE of reject rate (based on logarithm odds „approve vs reject“). If these two WoEs have opposite trend for a certain predictor, it means that there is potential reject inference issue.\n",
    "\n",
    "**For this object to work properly, you need to include rejected applications in the data and add a new 0-1 variable containing the rejected flag.** This means that the original masks as *train_mask* can't be used as they consist of observations with measureable defaults only, i.e. there are not the rejected observations in them.\n",
    "\n",
    "The reject inference analysis can be peformed on two samples (e.g. train and validation) so you can also compare WoEs of these samples against each other."
   ]
  },
  {
   "cell_type": "code",
   "execution_count": null,
   "metadata": {},
   "outputs": [],
   "source": [
    "from scoring.reject_inference import RejectInferenceCharts\n",
    "\n",
    "rejectinf = RejectInferenceCharts(target=col_target, reject=col_reject, predictors=cols_final_predictors, weight=None)\n",
    "rejectinf.fit(data1=data[data[col_datatype] == \"train\"], data2=data[data[col_datatype] == \"valid\"])\n",
    "rejectinf.display()"
   ]
  },
  {
   "cell_type": "markdown",
   "metadata": {},
   "source": [
    "## Rejected target imputation\n",
    "\n",
    "Sometimes, we have many rejected cases without observed target, however there exist some kind of proxy target, which can be assigned to these observations so the final model can be scored on them as well as on the usual observations.\n",
    "\n",
    "For example: there is a high reject rate, but for the rejected cases we have some external score which can tell us to some extent whether they woul default or not. To avoid reject inference we want to add these observations into our trainig sample.\n",
    "\n",
    "**TargetImputer** is a class for target imputation based on pre-calculated target probabilities. Typical usage is if we want to assign a proxy target to rows where target is unobserved.\n",
    "There are three imputation types that can be used:\n",
    "- *randomized*: for each observation where we want to impute the target, an random number between 0 and 1 is generated. Then this ranom number is compared with the pre-calculated probability and target is assigned based on this comparison.\n",
    "- *cutoff*: for each observation where we want to impute the target, the pre-caluclated probability is compared with this cutoff value and target is assigned based on this comparison.\n",
    "- *weighted*: for each observation where we want to impute the target, two observations are generated. Each of them has a different value of the target, one of the has weight p and the other has weight 1-p, where p is the pre-calculated target probability.\n",
    "\n",
    "When we initiate an instance of this class, we use the following arguments:\n",
    "- imputation_type - Imputation which we want to use, can be 'randomized', 'cutoff' or 'weighted'\n",
    "- cutoff - Cutoff value which is used if 'cutoff' imputation_type is selected (default: 0.5)\n",
    "- random_seed - Random seed which is used if 'randomized' imputation_type is selected (default: 987)\n",
    "\n",
    "Then, *fit* method is called, where the dataset where the target should be imputed is specified. This dataset must contain a column with pre-caluclated target probabilities (floats between 0 and 1) and a column with indicator whether target should be imputed for given row (integers with values 0 or 1). The method then calculates the imputed target using the parameter specified during initialization.\n",
    "\n",
    "And finally, *transform* method add the imputed values into the dataset. We can specify, whether they should rewrite the original values or be added as new columns. For *weighted* imputation method, it is recommended to use optional argument `reset_index=True`, because this method duplicates some rows, and having rows with duplicate index can cause error in other parts of the workflow."
   ]
  },
  {
   "cell_type": "code",
   "execution_count": null,
   "metadata": {},
   "outputs": [],
   "source": [
    "# from scoring.reject_inference import TargetImputer\n",
    "\n",
    "# targetImputer = TargetImputer(imputation_type='randomized', random_seed=987)\n",
    "\n",
    "# targetImputer.fit(data = data,\n",
    "#                   col_probs = col_score,\n",
    "#                   col_reject = col_reject,\n",
    "#                   #col_weight = col_weight,\n",
    "#                   prob_of = 1)\n",
    "\n",
    "# data = targetImputer.transform(data = data,\n",
    "#                                col_target = col_target,\n",
    "#                                #col_weight = col_weight,\n",
    "#                                as_new_columns = True,\n",
    "#                                reset_index = True)"
   ]
  },
  {
   "cell_type": "markdown",
   "metadata": {},
   "source": [
    "# Correlations\n",
    "Calculate and visualise correlation matrix"
   ]
  },
  {
   "cell_type": "code",
   "execution_count": null,
   "metadata": {},
   "outputs": [],
   "source": [
    "documentation.Correlations(\n",
    "    data,\n",
    "    predictors=cols_final_predictors,\n",
    "    sample=\"All\",\n",
    "    output_folder=output_folder + \"/analysis/\",\n",
    "    filename=\"correlation.png\",\n",
    ")"
   ]
  },
  {
   "cell_type": "markdown",
   "metadata": {},
   "source": [
    "Show the list of the highest correlation (restricted to correlations that are, in absolute value, higher than *max_ok_correlation* parameter):"
   ]
  },
  {
   "cell_type": "code",
   "execution_count": null,
   "metadata": {},
   "outputs": [],
   "source": [
    "cormat = data[cols_final_predictors].corr()\n",
    "max_ok_correlation = 0.0\n",
    "\n",
    "# find highest pairwise correlation (correlation greater than .. in absolute value)\n",
    "hicors = []\n",
    "for i in range(0, len(cormat)):\n",
    "    for j in range(0, len(cormat)):\n",
    "        if (cormat.iloc[i][j] > max_ok_correlation or cormat.iloc[i][j] < -max_ok_correlation) and i < j:\n",
    "            hicors.append((i, j, cormat.index[i], cormat.index[j], cormat.iloc[i][j], abs(cormat.iloc[i][j])))\n",
    "hicors.sort(key=lambda tup: tup[5], reverse=True)\n",
    "\n",
    "hicors2 = pd.DataFrame(list(zip(*list(zip(*hicors))[2:5])))\n",
    "\n",
    "# print list of highest correlations\n",
    "hicors2.head(10)"
   ]
  },
  {
   "cell_type": "markdown",
   "metadata": {},
   "source": [
    "# Performance characteristics\n",
    "Performance characteristics of the model (Gini, Lift) and their visualisations."
   ]
  },
  {
   "cell_type": "markdown",
   "metadata": {},
   "source": [
    "## Import from Gradient boosting workflow\n",
    "\n",
    "**If you used the Gradient boosting workflow** to develop the model, here you can import all the metadata from Gradient boosting workflow and continue from here. **PSW will be able to generate all the performance characteristics analysis**, score distribution and also comparison with another score and short target performance.\n",
    "\n",
    "Otherwise, keep this outcommented."
   ]
  },
  {
   "cell_type": "code",
   "execution_count": null,
   "metadata": {},
   "outputs": [],
   "source": [
    "# import time\n",
    "# import datetime\n",
    "# import operator\n",
    "# import math\n",
    "# import random\n",
    "# import numpy as np\n",
    "# import pandas as pd\n",
    "\n",
    "# import matplotlib\n",
    "# import matplotlib.pyplot as plt\n",
    "# import seaborn as sns\n",
    "# import os.path\n",
    "# import pickle\n",
    "# import gc\n",
    "# # check your tqdm version if import fails\n",
    "# from tqdm.notebook import tqdm\n",
    "\n",
    "# import sys\n",
    "\n",
    "# sys.path.insert(0, \"..\")\n",
    "# import scoring\n",
    "\n",
    "# metadata = json.load(open(\"metadata_gb_wfl.json\", \"r\", encoding=\"utf8\"))\n",
    "\n",
    "# col_time = metadata[\"col_time\"]\n",
    "# col_month = metadata[\"col_month\"]\n",
    "# col_day = metadata[\"col_day\"]\n",
    "# col_target = metadata[\"col_target\"]\n",
    "# col_base = metadata[\"col_base\"]\n",
    "# col_weight = metadata[\"col_weight\"]\n",
    "# col_reject = metadata[\"col_reject\"]\n",
    "# col_datatype = metadata[\"col_datatype\"]\n",
    "# col_id = metadata[\"col_id\"]\n",
    "# col_score = metadata[\"col_score\"]\n",
    "\n",
    "# from scoring import db\n",
    "# data = db.read_csv('data_from_gb_wfl.csv', index_col=col_id)\n",
    "# data[col_id] = data.index\n",
    "\n",
    "# train_mask = (data[col_datatype] == 'train') & (data[col_base] == 1)\n",
    "# valid_mask = (data[col_datatype] == 'valid') & (data[col_base] == 1)\n",
    "# test_mask = (data[col_datatype] == 'test') & (data[col_base] == 1)\n",
    "# oot_mask = (data[col_datatype] == 'oot') & (data[col_base] == 1)\n",
    "# hoot_mask = (data[col_datatype] == 'hoot') & (data[col_base] == 1)\n",
    "# observable_mask = (data[col_base] == 1)\n",
    "\n",
    "# sns.set()\n",
    "# %matplotlib inline\n",
    "# %config InlineBackend.close_figures=True\n",
    "# from IPython.display import display, Markdown, HTML\n",
    "# pd.options.display.max_columns = None\n",
    "# pd.options.display.max_rows = 15\n",
    "# output_folder = 'documentation_lgbm'\n",
    "\n",
    "# if not os.path.exists(output_folder): os.makedirs(output_folder)\n",
    "# if not os.path.exists(output_folder+'/performance'): os.makedirs(output_folder+'/performance')\n",
    "# if not os.path.exists(output_folder+'/predictors'): os.makedirs(output_folder+'/predictors')\n",
    "# if not os.path.exists(output_folder+'/stability'): os.makedirs(output_folder+'/stability')\n",
    "# if not os.path.exists(output_folder+'/stability_short'): os.makedirs(output_folder+'/stability_short')\n",
    "# if not os.path.exists(output_folder+'/analysis'): os.makedirs(output_folder+'/analysis')\n",
    "# if not os.path.exists(output_folder+'/model'): os.makedirs(output_folder+'/model')\n",
    "# if not os.path.exists(output_folder+'/nan_share'): os.makedirs(output_folder+'/nan_share')\n",
    "    \n",
    "# from scoring import doctools\n",
    "# documentation = pickle.load(open(\"documentation_gb_wfl.pkl\", \"rb\"))"
   ]
  },
  {
   "cell_type": "markdown",
   "metadata": {},
   "source": [
    "## Performance per sample\n",
    "\n",
    "If some od these samples (train, valid, test, OOT, HOOT) are empty (i.e. you don't use them), **you need to comment their according rows in some of the following cells.** Such rows are marked by short comments at their ends."
   ]
  },
  {
   "cell_type": "code",
   "execution_count": null,
   "metadata": {},
   "outputs": [],
   "source": [
    "from scoring.metrics import gini, lift, kolmogorov_smirnov, eval_performance_wrapper\n",
    "\n",
    "lift_perc = 10\n",
    "\n",
    "eval_masks = {\n",
    "    \"train\": train_mask,\n",
    "    \"valid\": valid_mask,\n",
    "    \"test\": test_mask,\n",
    "    \"oot\": oot_mask,\n",
    "    \"hoot\": hoot_mask,\n",
    "}"
   ]
  },
  {
   "cell_type": "code",
   "execution_count": null,
   "metadata": {},
   "outputs": [],
   "source": [
    "perf = eval_performance_wrapper(\n",
    "    data=data,\n",
    "    masks=eval_masks,\n",
    "    col_target=col_target,\n",
    "    col_score=col_score,\n",
    "    # col_weight=col_weight,\n",
    "    lift_perc=10,\n",
    ")\n",
    "display(perf)\n",
    "perf.to_csv(output_folder + \"/performance/performance.csv\")"
   ]
  },
  {
   "cell_type": "code",
   "execution_count": null,
   "metadata": {},
   "outputs": [],
   "source": [
    "from scoring.tools import curves_wrapper\n",
    "\n",
    "curves_wrapper(\n",
    "    data=data,\n",
    "    masks=eval_masks,\n",
    "    col_target=col_target,\n",
    "    col_score=col_score,\n",
    "    # col_weight=col_weight,\n",
    "    lift_perc=10,\n",
    "    output_folder=output_folder + \"/performance/\",\n",
    ")"
   ]
  },
  {
   "cell_type": "code",
   "execution_count": null,
   "metadata": {},
   "outputs": [],
   "source": [
    "# scoring.plot.plot_kolmogorov_smirnov(data[col_target], data[col_score])"
   ]
  },
  {
   "cell_type": "markdown",
   "metadata": {},
   "source": [
    "## Gini in time"
   ]
  },
  {
   "cell_type": "code",
   "execution_count": null,
   "metadata": {},
   "outputs": [],
   "source": [
    "from sklearn.metrics import roc_curve, auc\n",
    "\n",
    "def proc_gini(x,y,z):\n",
    "    fpr, tpr, _ = roc_curve(x[y], x[z], pos_label=0)\n",
    "    roc_gini = (auc(fpr, tpr)-0.5)*2\n",
    "    return roc_gini\n",
    "%matplotlib inline\n",
    "plt.figure(figsize = (10,7))\n",
    "\n",
    "len1 = 0\n",
    "\n",
    "grouped = data[hoot_mask].groupby(col_month, axis=0) #hoot\n",
    "res_hoot= grouped.apply(proc_gini, col_target ,col_score) #hoot\n",
    "plt.plot(range(len1,len1+len(res_hoot)),-res_hoot, linewidth=2.0,label='hist. OOT', color = 'm', marker='o') #hoot\n",
    "\n",
    "if res_hoot is not None: len1 = len1 + len(res_hoot)\n",
    "\n",
    "grouped = data[train_mask].groupby(col_month, axis=0) #train\n",
    "res_train= grouped.apply(proc_gini, col_target ,col_score) #train\n",
    "plt.plot(range(len1,len1+len(res_train)),-res_train, linewidth=2.0,label='Train', color = 'g', marker='o') #train\n",
    "grouped = data[valid_mask].groupby(col_month, axis=0) #valid\n",
    "res_valid= grouped.apply(proc_gini, col_target ,col_score) #valid\n",
    "plt.plot(range(len1,len1+len(res_valid)),-res_valid, linewidth=2.0,label='Validation', color = 'r', marker='o') #valid\n",
    "grouped = data[test_mask].groupby(col_month, axis=0) #test\n",
    "res_test= grouped.apply(proc_gini, col_target ,col_score) #test\n",
    "plt.plot(range(len1,len1+len(res_test)),-res_test, linewidth=2.0,label='Test', color = 'y', marker='o') #test\n",
    "\n",
    "if res_train is not None: len1 = len1 + len(res_train)\n",
    "\n",
    "grouped = data[oot_mask].groupby(col_month, axis=0) #oot\n",
    "res_oot= grouped.apply(proc_gini, col_target ,col_score) #oot\n",
    "plt.plot(range(len1,len1+len(res_oot)),-res_oot, linewidth=2.0,label='OOT', color = 'b', marker='o') #oot\n",
    "\n",
    "plt.xticks(range(len(res_train)+len(res_oot)), np.sort(data[col_month].unique()), rotation=45)\n",
    "plt.xticks(range(len(data[col_month].unique())), np.sort(data[col_month].unique()), rotation=45)\n",
    "\n",
    "\n",
    "plt.ylim([0,1])\n",
    "plt.title('Gini by months')\n",
    "plt.legend(loc='center left', bbox_to_anchor=(1, 0.5))\n",
    "plt.xlabel('Months')\n",
    "plt.ylabel('Gini')\n",
    "plt.savefig(output_folder+'/performance/ginistability.png', bbox_inches='tight', dpi = 72)\n",
    "plt.show()"
   ]
  },
  {
   "cell_type": "markdown",
   "metadata": {},
   "source": [
    "## Performance - bootstrap\n",
    "\n",
    "In this part, we make bootstrapped sample from the defined dataset `n_iter` times, measure Gini of the score each time and the calculate the (5%, 95%) confidence interval for Gini from it."
   ]
  },
  {
   "cell_type": "code",
   "execution_count": null,
   "metadata": {},
   "outputs": [],
   "source": [
    "# number of iterations for bootstrapping\n",
    "n_iter = 100\n",
    "# confidence interval range in percent (the CI will be calculated as [ci_range, 100-ci_range])\n",
    "ci_range = 5\n",
    "\n",
    "from scoring.metrics import bootstrap_gini\n",
    "\n",
    "bootstrap_results = []\n",
    "\n",
    "for name, mask in tqdm(eval_masks.items(), leave=False):\n",
    "    mean, std, ci = bootstrap_gini(\n",
    "        data=data[mask],\n",
    "        col_target=col_target,\n",
    "        col_score=col_score,\n",
    "        # col_weight=col_weight,\n",
    "        n_iter=n_iter,\n",
    "        ci_range=ci_range,\n",
    "    )\n",
    "    bootstrap_results.append([name, mean, std, ci[0], ci[1]])\n",
    "\n",
    "bootstrap_results = pd.DataFrame(bootstrap_results).set_index(0)\n",
    "bootstrap_results.index.rename(\"Sample\", inplace=True)\n",
    "bootstrap_results.columns = [\"Gini Mean\", \"Gini std\", \"CI 5%\", \"CI 95%\"]"
   ]
  },
  {
   "cell_type": "code",
   "execution_count": null,
   "metadata": {},
   "outputs": [],
   "source": [
    "display(bootstrap_results)\n",
    "bootstrap_results.to_csv(output_folder + \"/performance/bootstrap_performance.csv\")"
   ]
  },
  {
   "cell_type": "markdown",
   "metadata": {},
   "source": [
    "# Score distribution\n",
    "\n",
    "## Distribution charts"
   ]
  },
  {
   "cell_type": "code",
   "execution_count": null,
   "metadata": {},
   "outputs": [],
   "source": [
    "from scoring.plot import plot_score_dist\n",
    "\n",
    "data[\"score_lin\"] = np.log(data[col_score] / (1 - data[col_score]))\n",
    "distr_linear = plot_score_dist(\n",
    "    data[train_mask | valid_mask | test_mask | oot_mask | hoot_mask],\n",
    "    score_name=\"score_lin\",\n",
    "    target_name=col_target,\n",
    "    weight_name=None,\n",
    "    n_bins=25,\n",
    "    savefile=output_folder + \"/model/distr_linear.png\",\n",
    ")\n",
    "\n",
    "distr_pd = plot_score_dist(\n",
    "    data[train_mask | valid_mask | test_mask | oot_mask | hoot_mask],\n",
    "    score_name=col_score,\n",
    "    target_name=col_target,\n",
    "    weight_name=None,\n",
    "    n_bins=100,\n",
    "    min_score=0,\n",
    "    max_score=1,\n",
    "    savefile=output_folder + \"/model/distr_pd.png\",\n",
    ")"
   ]
  },
  {
   "cell_type": "markdown",
   "metadata": {},
   "source": [
    "## Calibration chart"
   ]
  },
  {
   "cell_type": "code",
   "execution_count": null,
   "metadata": {},
   "outputs": [],
   "source": [
    "documentation.ScoreCalibration(\n",
    "    data,\n",
    "    score=col_score,\n",
    "    sample=[\"Train\", \"Valid\", \"Test\", \"OOT\", \"HOOT\"],\n",
    "    target=col_target,\n",
    "    output_folder=output_folder + \"/model/\",\n",
    ")"
   ]
  },
  {
   "cell_type": "markdown",
   "metadata": {},
   "source": [
    "# Comparison with another score\n",
    "\n",
    "## Performance comparison\n",
    "Similar charts to what were already done for the new scorecard are now drawn to compare the new scorecard to another scorecard. The value of the old score should be saved in a special column of original data set."
   ]
  },
  {
   "cell_type": "code",
   "execution_count": null,
   "metadata": {},
   "outputs": [],
   "source": [
    "col_oldscore = \"OLD_SCORE\"\n",
    "\n",
    "# define subset dataOld where old score is not null\n",
    "old_mask = pd.notnull(data[col_oldscore])"
   ]
  },
  {
   "cell_type": "code",
   "execution_count": null,
   "metadata": {},
   "outputs": [],
   "source": [
    "documentation.sample_dict[\"Old comparison\"] = (test_mask | oot_mask | hoot_mask) & old_mask\n",
    "documentation.sample_dict.keys()"
   ]
  },
  {
   "cell_type": "code",
   "execution_count": null,
   "metadata": {},
   "outputs": [],
   "source": [
    "eval_old_masks = {\n",
    "    \"valid\": valid_mask & old_mask,\n",
    "    \"test\": test_mask & old_mask,\n",
    "    \"oot\": oot_mask & old_mask,\n",
    "    \"hoot\": hoot_mask & old_mask,\n",
    "}"
   ]
  },
  {
   "cell_type": "markdown",
   "metadata": {},
   "source": [
    "If the score gives the complementary probability (of non-default), run the following. Otherwise, don't run it."
   ]
  },
  {
   "cell_type": "code",
   "execution_count": null,
   "metadata": {},
   "outputs": [],
   "source": [
    "data[col_oldscore] = 1 - data[col_oldscore]"
   ]
  },
  {
   "cell_type": "code",
   "execution_count": null,
   "metadata": {},
   "outputs": [],
   "source": [
    "lift_perc = 10\n",
    "\n",
    "perf_oldscore = eval_performance_wrapper(\n",
    "    data=data,\n",
    "    masks=eval_old_masks,\n",
    "    col_target=col_target,\n",
    "    col_score=[col_score, col_oldscore],\n",
    "    # col_weight=col_weight,\n",
    "    lift_perc=10,\n",
    ")\n",
    "\n",
    "display(perf_oldscore)\n",
    "perf_oldscore.to_csv(output_folder + \"/performance/comparison_performance.csv\")"
   ]
  },
  {
   "cell_type": "code",
   "execution_count": null,
   "metadata": {},
   "outputs": [],
   "source": [
    "from scoring.tools import curves_wrapper\n",
    "\n",
    "curves_wrapper(\n",
    "    data=data,\n",
    "    masks={\"test & oot\": (test_mask | oot_mask | hoot_mask) & old_mask},\n",
    "    col_target=col_target,\n",
    "    col_score=[col_score, col_oldscore],\n",
    "    # col_weight=col_weight,\n",
    "    lift_perc=10,\n",
    "    output_folder=output_folder + \"/performance/comparison_\",\n",
    ")"
   ]
  },
  {
   "cell_type": "markdown",
   "metadata": {},
   "source": [
    "## Gini in time comparison"
   ]
  },
  {
   "cell_type": "code",
   "execution_count": null,
   "metadata": {},
   "outputs": [],
   "source": [
    "documentation.ScoreComparison(\n",
    "    data,\n",
    "    scores=[col_score, col_oldscore],\n",
    "    sample=\"Old comparison\",\n",
    "    target=col_target,\n",
    "    output_folder=output_folder + \"/performance\",\n",
    "    filename=\"comparison_ginistability.png\",\n",
    ")"
   ]
  },
  {
   "cell_type": "markdown",
   "metadata": {},
   "source": [
    "## Transition matrices"
   ]
  },
  {
   "cell_type": "markdown",
   "metadata": {},
   "source": [
    "Matrices for the observable population"
   ]
  },
  {
   "cell_type": "code",
   "execution_count": null,
   "metadata": {},
   "outputs": [],
   "source": [
    "from scoring.plot import transmatrix\n",
    "\n",
    "transmatrix(\n",
    "    oldscore=data[(valid_mask | test_mask | oot_mask | hoot_mask) & old_mask][col_oldscore],\n",
    "    newscore=data[(valid_mask | test_mask | oot_mask | hoot_mask) & old_mask][col_score],\n",
    "    target=data[(valid_mask | test_mask | oot_mask | hoot_mask) & old_mask][col_target],\n",
    "    base=data[(valid_mask | test_mask | oot_mask | hoot_mask) & old_mask][col_base],\n",
    "    obs=data[(valid_mask | test_mask | oot_mask | hoot_mask) & old_mask][col_base],\n",
    "    draw_default_matrix=True,\n",
    "    draw_transition_matrix=True,\n",
    "    savepath=output_folder + \"/analysis/devpop_\",\n",
    "    quantiles_count=10,\n",
    ")"
   ]
  },
  {
   "cell_type": "markdown",
   "metadata": {},
   "source": [
    "Transition matrix for the whole population (put also the rejected etc. here)"
   ]
  },
  {
   "cell_type": "code",
   "execution_count": null,
   "metadata": {},
   "outputs": [],
   "source": [
    "pop_mask = data[col_datatype] != \"train\"\n",
    "\n",
    "transmatrix(\n",
    "    oldscore=data[pop_mask & old_mask][col_oldscore],\n",
    "    newscore=data[pop_mask & old_mask][col_score],\n",
    "    target=data[pop_mask & old_mask][col_target],\n",
    "    base=data[pop_mask & old_mask][col_base],\n",
    "    obs=data[pop_mask & old_mask][col_base],\n",
    "    draw_default_matrix=False,\n",
    "    draw_transition_matrix=True,\n",
    "    savepath=output_folder + \"/analysis/allpop_\",\n",
    "    quantiles_count=10,\n",
    ")"
   ]
  },
  {
   "cell_type": "markdown",
   "metadata": {},
   "source": [
    "# Performance on short target\n",
    "If there is also a shorter (e.g. FPD30) target in the original dataset, we draw also charts for performance on this target in this part of the workflow."
   ]
  },
  {
   "cell_type": "code",
   "execution_count": null,
   "metadata": {},
   "outputs": [],
   "source": [
    "# name of the short target column\n",
    "col_short = \"FPD\"\n",
    "# name of the short target's base column\n",
    "col_shortbase = \"FPD_BASE\""
   ]
  },
  {
   "cell_type": "markdown",
   "metadata": {},
   "source": [
    "If you don't have base column in your data set, the following code adds it. **Otherwise, don't run it.**"
   ]
  },
  {
   "cell_type": "code",
   "execution_count": null,
   "metadata": {},
   "outputs": [],
   "source": [
    "if col_shortbase not in data:\n",
    "    data[col_shortbase] = 0\n",
    "    data.loc[data[col_short] == 0, col_shortbase] = 1\n",
    "    data.loc[data[col_short] == 1, col_shortbase] = 1\n",
    "    print(\"Column\", col_shortbase, \"added/modified. Number of columns:\", data.shape[1])\n",
    "else:\n",
    "    print(\"Column\", col_base, \"already exists.\")"
   ]
  },
  {
   "cell_type": "code",
   "execution_count": null,
   "metadata": {},
   "outputs": [],
   "source": [
    "shortbase_mask = ((data[col_datatype] == \"test\") | (data[col_datatype] == \"oot\") | (data[col_datatype] == \"hoot\")) & (\n",
    "    data[col_shortbase] == 1\n",
    ")"
   ]
  },
  {
   "cell_type": "code",
   "execution_count": null,
   "metadata": {},
   "outputs": [],
   "source": [
    "lift_perc = 10\n",
    "\n",
    "perf_shorttarget = eval_performance_wrapper(\n",
    "    data=data,\n",
    "    masks={\"short base test & oot\": shortbase_mask},\n",
    "    col_target=col_target,\n",
    "    col_score=col_score,\n",
    "    # col_weight=col_weight,\n",
    "    lift_perc=10,\n",
    ")\n",
    "\n",
    "display(perf_shorttarget)\n",
    "perf_shorttarget.to_csv(output_folder + \"/performance/performance_shorttarget.csv\")"
   ]
  },
  {
   "cell_type": "code",
   "execution_count": null,
   "metadata": {},
   "outputs": [],
   "source": [
    "from sklearn.metrics import roc_curve, auc\n",
    "\n",
    "\n",
    "def proc_gini(x, y, z):\n",
    "    fpr, tpr, _ = roc_curve(x[y], x[z], pos_label=0)\n",
    "    roc_gini = (auc(fpr, tpr) - 0.5) * 2\n",
    "    return roc_gini\n",
    "\n",
    "\n",
    "%matplotlib inline\n",
    "plt.figure(figsize=(10, 7))\n",
    "grouped = data[valid_mask | test_mask | oot_mask | hoot_mask].groupby(col_month, axis=0)\n",
    "res_new = grouped.apply(proc_gini, col_target, col_score)\n",
    "plt.plot(range(len(res_new)), -res_new, linewidth=2.0, label=\"target\", color=\"g\", marker=\"o\")\n",
    "\n",
    "grouped = data[shortbase_mask].groupby(col_month, axis=0)\n",
    "res_short = grouped.apply(proc_gini, col_short, col_score)\n",
    "plt.plot(range(len(res_short)), -res_short, linewidth=2.0, label=\"short target\", color=\"r\", marker=\"o\")\n",
    "\n",
    "plt.xticks(range(len(data[col_month].unique())), np.sort(data[col_month].unique()), rotation=45)\n",
    "\n",
    "plt.ylim([0, 1])\n",
    "plt.title(\"Gini by months\")\n",
    "plt.legend(loc=\"center left\", bbox_to_anchor=(1, 0.5))\n",
    "plt.xlabel(\"Months\")\n",
    "plt.ylabel(\"Gini\")\n",
    "plt.savefig(output_folder + \"/performance/ginistability_shorttarget.png\", bbox_inches=\"tight\", dpi=72)\n",
    "plt.show()"
   ]
  },
  {
   "cell_type": "markdown",
   "metadata": {},
   "source": [
    "# Scorecard code export\n",
    "This uses scorecard table generated above (before reject inference and performance analyses)."
   ]
  },
  {
   "cell_type": "markdown",
   "metadata": {},
   "source": [
    "## SQL code\n",
    "\n",
    "To run the scorecard on Oracle DWH."
   ]
  },
  {
   "cell_type": "code",
   "execution_count": null,
   "metadata": {},
   "outputs": [],
   "source": [
    "print(scorecard_new.to_SQL(ntbOut=False, file=\"scorecard.sql\", output_folder=output_folder))\n",
    "\n",
    "# generate special SQL query with grouping as requested by VN analytical team\n",
    "# scorecard_new.to_SQL_with_grouping(ntbOut=True, file='scorecard_with_grouping.sql', output_folder=output_folder)"
   ]
  },
  {
   "cell_type": "markdown",
   "metadata": {},
   "source": [
    "## Blaze table\n",
    "\n",
    "To be imported using Blaze Remote Desktop *Blaze Tools*."
   ]
  },
  {
   "cell_type": "code",
   "execution_count": null,
   "metadata": {},
   "outputs": [],
   "source": [
    "scorecard_new.to_blaze_rd(ntbOut=False, file=\"my_blaze_scorecard.csv\", output_folder=output_folder)\n",
    "\n",
    "# generate slighly different format of Blaze Table compatible with Russian Blaze tools\n",
    "# scorecard_new.to_blaze(ntbOut=True, file='my_blaze_scorecard.csv', output_folder=output_folder)"
   ]
  },
  {
   "cell_type": "markdown",
   "metadata": {},
   "source": [
    "## Python code\n",
    "\n",
    "To run the scorecard in any Python script independently on this workflow."
   ]
  },
  {
   "cell_type": "code",
   "execution_count": null,
   "metadata": {},
   "outputs": [],
   "source": [
    "print(scorecard_new.to_python(ntbOut=False, file=\"my_python_scorecard.py\", output_folder=output_folder))"
   ]
  },
  {
   "cell_type": "markdown",
   "metadata": {},
   "source": [
    "# HTML documentation\n",
    "\n",
    "Create a basic HTML document with important scorecard characteristics. The results of some of the previous parts of the workflow have to be already created on disk, this part will just wrap them up.\n",
    "\n",
    "If some specific parts (short target analysis, old score comparison) were not done, use the parameters below and set them to *False*."
   ]
  },
  {
   "cell_type": "code",
   "execution_count": null,
   "metadata": {},
   "outputs": [],
   "source": [
    "txt_scorecard_name = \"My PSW model\"\n",
    "txt_author_name = \"John Doe\"\n",
    "short_target_analysis_done = True\n",
    "old_score_comparison_done = True"
   ]
  },
  {
   "cell_type": "code",
   "execution_count": null,
   "metadata": {},
   "outputs": [],
   "source": [
    "with open(output_folder + \"/documentation.html\", \"w\", encoding=\"utf-8\") as f:\n",
    "    f.write(\"<html>\\n<head>\\n<title>\" + txt_scorecard_name + \"</title>\\n\")\n",
    "    f.write('<meta charset=\"utf-8\">\\n')\n",
    "    f.write(\n",
    "        \"<style>\\nbody{font: normal 10pt Helvetica, Arial, sans-serif;}\\n\"\n",
    "        + \".textbold{font-weight:bold;}\\n\"\n",
    "        + \".divcode{font-family:Courier New,Courier,Lucida Sans Typewriter,Lucida Typewriter,monospace;}\\n\"\n",
    "        + \".divpic{padding-bottom: 20pt;}\\n\"\n",
    "        + \".textlabel{font-style:italic;font-size:8pt;}\\n\"\n",
    "        + \"table{border-collapse:collapse;}\\n\"\n",
    "        + \"</style>\\n\"\n",
    "    )\n",
    "    f.write(\"</head>\\n<body>\")\n",
    "    f.write(\"<h1>\" + txt_scorecard_name + \" - documentation</h1>\\n\")\n",
    "    f.write(\"<h2>Document information</h2>\\n\")\n",
    "    f.write('<div class=\"divpar\">\\n')\n",
    "    f.write(' <div class=\"divtext\"><span class=\"textbold\">Author:</span> ' + txt_author_name + \"</div>\\n\")\n",
    "    f.write(\n",
    "        ' <div class=\"divtext\"><span class=\"textbold\">Date:</span> '\n",
    "        + datetime.datetime.now().strftime(\"%Y-%m-%d %H:%M\")\n",
    "        + \"</div>\\n\"\n",
    "    )\n",
    "    f.write(\"</div>\\n\")\n",
    "    f.write(\"<h2>Data sample</h2>\\n\")\n",
    "    f.write(\"<h3>Target</h3>\")\n",
    "    f.write('<div class=\"divpar\">\\n')\n",
    "    f.write(\n",
    "        ' <div class=\"divtext\"><span class=\"textbold\">Target variable:</span> '\n",
    "        + pd.read_csv(output_folder + \"/model/metadata.csv\", header=None, index_col=0).loc[\"col_target\"][1]\n",
    "        + \"</div>\\n\"\n",
    "    )\n",
    "    f.write(\n",
    "        ' <div class=\"divtext\"><span class=\"textbold\">Base variable:</span> '\n",
    "        + pd.read_csv(output_folder + \"/model/metadata.csv\", header=None, index_col=0).loc[\"col_base\"][1]\n",
    "        + \"</div>\\n\"\n",
    "    )\n",
    "    f.write(\"</div>\\n\")\n",
    "    f.write(\"<h3>Sample characteristics</h3>\\n\")\n",
    "    f.write('<div class=\"divpar\">\\n')\n",
    "    f.write(\n",
    "        ' <div class=\"divpic\"><img src=\"analysis/data.png\" />\\n'\n",
    "        + ' <br /><span class=\"textlabel\">Observations and defaults in time</span></div>\\n'\n",
    "    )\n",
    "    f.write(\n",
    "        ' <div class=\"divtab\">\\n'\n",
    "        + pd.read_csv(output_folder + \"/analysis/summary.csv\", header=[0, 1], index_col=0).to_html(na_rep=\"\")\n",
    "        + \"\\n </div>\\n\"\n",
    "    )\n",
    "    f.write(\"</div>\\n\")\n",
    "    f.write(\"<h3>Covariates</h3>\\n\")\n",
    "    f.write('<div class=\"divpar\">\\n')\n",
    "    f.write(\n",
    "        ' <div class=\"divtab\">\\n'\n",
    "        + pd.read_csv(output_folder + \"/predictors/covariates.csv\", header=0, index_col=0).to_html(na_rep=\"\")\n",
    "        + \"\\n </div>\\n\"\n",
    "    )\n",
    "    f.write(\"</div>\\n\")\n",
    "    f.write(\"<h2>Final scorecard</h2>\\n\")\n",
    "    f.write(\"<h3>Scorecard</h3>\\n\")\n",
    "    f.write('<div class=\"divpar\">\\n')\n",
    "    f.write(\n",
    "        ' <div class=\"divtab\">\\n'\n",
    "        + pd.read_csv(\n",
    "            output_folder + \"/model/scorecard.csv\", header=0, index_col=0, keep_default_na=False, na_values=[\"\"]\n",
    "        ).to_html(na_rep=\"\")\n",
    "        + \"\\n </div>\\n\"\n",
    "    )\n",
    "    f.write(\"</div>\\n\")\n",
    "    f.write(\"<h3>Scoring SQL</h3>\\n\")\n",
    "    f.write('<div class=\"divpar\">\\n')\n",
    "    f.write(\n",
    "        ' <div class=\"divcode\">\\n'\n",
    "        + open(output_folder + \"/model/scorecard.sql\", \"r\").read().replace(\" \", \"&nbsp;\").replace(\"\\n\", \"<br />\")\n",
    "        + \"\\n </div>\\n\"\n",
    "    )\n",
    "    f.write(\"</div>\\n\")\n",
    "    f.write(\"<h2>Predictors</h2>\\n\")\n",
    "    for pred in pd.read_csv(output_folder + \"/predictors/predictors.csv\", index_col=None, header=None)[0].tolist():\n",
    "        pred0 = \"\".join(pred.split())[:-4]\n",
    "        f.write(\"<h3>\" + pred0 + \"</h3>\\n\")\n",
    "        f.write(\"<h4>Grouping</h4>\")\n",
    "        f.write('<div class=\"divpar\">\\n')\n",
    "        f.write(' <div class=\"divpic\"><img src=\"predictors/' + pred0 + '_binning.png\" /></div>\\n')\n",
    "        f.write(\"</div>\\n\")\n",
    "        f.write(\"<h4>Stability</h4>\")\n",
    "        f.write('<div class=\"divpar\">\\n')\n",
    "        f.write(' <div class=\"divpic\"><img src=\"stability/' + pred + '.png\" /></div>\\n')\n",
    "        f.write(\"</div>\\n\")\n",
    "    f.write(\"<h2>Correlations</h2>\\n\")\n",
    "    f.write(\"<h3>Correlation matrix between WOE variables</h3>\\n\")\n",
    "    f.write('<div class=\"divpar\">\\n')\n",
    "    f.write(\n",
    "        ' <div class=\"divpic\"><img src=\"analysis/correlation.png\" />\\n'\n",
    "        + ' <br /><span class=\"textlabel\">Correlation of WOE variables</span></div>\\n'\n",
    "    )\n",
    "    f.write(\"</div>\\n\")\n",
    "    f.write(\"<h2>Model evaluation</h2>\\n\")\n",
    "    f.write(\"<h3>Performance</h3>\\n\")\n",
    "    f.write(\"<h4>General performance</h4>\\n\")\n",
    "    f.write('<div class=\"divpar\">\\n')\n",
    "    f.write(\n",
    "        ' <div class=\"divtab\">\\n'\n",
    "        + pd.read_csv(output_folder + \"/performance/performance.csv\", header=0, index_col=0).to_html(na_rep=\"\")\n",
    "        + \"\\n </div>\\n\"\n",
    "    )\n",
    "    f.write(\n",
    "        ' <div class=\"divpic\"><img src=\"performance/roc.png\" />\\n'\n",
    "        + ' <br /><span class=\"textlabel\">ROC curve</span></div>\\n'\n",
    "    )\n",
    "    f.write(\n",
    "        ' <div class=\"divpic\"><img src=\"performance/lift.png\" />\\n'\n",
    "        + ' <br /><span class=\"textlabel\">Lift curve</span></div>\\n'\n",
    "    )\n",
    "    f.write(\"</div>\\n\")\n",
    "    f.write(\"<h4>Performance stability</h4>\\n\")\n",
    "    f.write('<div class=\"divpar\">\\n')\n",
    "    f.write(\n",
    "        ' <div class=\"divpic\"><img src=\"performance/ginistability.png\" />\\n'\n",
    "        + ' <br /><span class=\"textlabel\">Stability of Gini in time</span></div>\\n'\n",
    "    )\n",
    "    f.write(\"</div>\\n\")\n",
    "    f.write(\"<h3>Marginal Contribution</h3>\\n\")\n",
    "    f.write(\"<h4>Adding predictors</h4>\\n\")\n",
    "    f.write(\n",
    "        ' <div class=\"divtab\">\\n'\n",
    "        + pd.read_csv(output_folder + \"/model/marg_cont_add.csv\", header=0, index_col=0).to_html(na_rep=\"\")\n",
    "        + \"\\n </div>\\n\"\n",
    "    )\n",
    "    f.write(\"</div>\\n\")\n",
    "    f.write(\"<h4>Removing predictors</h4>\\n\")\n",
    "    f.write(\n",
    "        ' <div class=\"divtab\">\\n'\n",
    "        + pd.read_csv(output_folder + \"/model/marg_cont_rem.csv\", header=0, index_col=0).to_html(na_rep=\"\")\n",
    "        + \"\\n </div>\\n\"\n",
    "    )\n",
    "    if short_target_analysis_done:\n",
    "        f.write(\"<h3>Performance on shorter target</h3>\\n\")\n",
    "        f.write(\"<h4>General performance</h4>\\n\")\n",
    "        f.write('<div class=\"divpar\">\\n')\n",
    "        f.write(\n",
    "            ' <div class=\"divtab\">\\n'\n",
    "            + pd.read_csv(output_folder + \"/performance/performance_shorttarget.csv\", header=0, index_col=0).to_html(\n",
    "                na_rep=\"\"\n",
    "            )\n",
    "            + \"\\n </div>\\n\"\n",
    "        )\n",
    "        f.write(\"</div>\\n\")\n",
    "        f.write(\"<h4>Performance stability</h4>\\n\")\n",
    "        f.write('<div class=\"divpar\">\\n')\n",
    "        f.write(\n",
    "            ' <div class=\"divpic\"><img src=\"performance/ginistability_shorttarget.png\" />\\n'\n",
    "            + ' <br /><span class=\"textlabel\">Stability of Gini in time</span></div>\\n'\n",
    "        )\n",
    "        f.write(\"</div>\\n\")\n",
    "        f.write(\"<h3>Calibration</h3>\\n\")\n",
    "        f.write('<div class=\"divpar\">\\n')\n",
    "        f.write(\n",
    "            ' <div class=\"divpic\"><img src=\"model/calibration.png\" />\\n'\n",
    "            + ' <br /><span class=\"textlabel\">Model calibration chart</span></div>\\n'\n",
    "        )\n",
    "        f.write(\"</div>\\n\")\n",
    "    if old_score_comparison_done:\n",
    "        f.write(\"<h2>Comparison with current model</h2>\\n\")\n",
    "        f.write(\"<h3>Performance comparison</h3>\\n\")\n",
    "        f.write(\"<h4>General performance</h4>\\n\")\n",
    "        f.write('<div class=\"divpar\">\\n')\n",
    "        f.write(\n",
    "            ' <div class=\"divtab\">\\n'\n",
    "            + pd.read_csv(\n",
    "                output_folder + \"/performance/comparison_performance.csv\", header=[0, 1], index_col=0\n",
    "            ).to_html(na_rep=\"\")\n",
    "            + \"\\n </div>\\n\"\n",
    "        )\n",
    "        f.write(\n",
    "            ' <div class=\"divpic\"><img src=\"performance/comparison_roc.png\" />\\n'\n",
    "            + ' <br /><span class=\"textlabel\">ROC curve</span></div>\\n'\n",
    "        )\n",
    "        f.write(\n",
    "            ' <div class=\"divpic\"><img src=\"performance/comparison_lift.png\" />\\n'\n",
    "            + ' <br /><span class=\"textlabel\">Lift curve</span></div>\\n'\n",
    "        )\n",
    "        f.write(\"</div>\\n\")\n",
    "        f.write(\"<h4>Performance stability</h4>\\n\")\n",
    "        f.write('<div class=\"divpar\">\\n')\n",
    "        f.write(\n",
    "            ' <div class=\"divpic\"><img src=\"performance/comparison_ginistability.png\" />\\n'\n",
    "            + ' <br /><span class=\"textlabel\">Stability of Gini in time</span></div>\\n'\n",
    "        )\n",
    "        f.write(\"</div>\\n\")\n",
    "        f.write(\"<h3>Transition matrices</h3>\\n\")\n",
    "        f.write(\"<h4>Bad rate matrix</h4>\\n\")\n",
    "        f.write('<div class=\"divpar\">\\n')\n",
    "        f.write(\n",
    "            ' <div class=\"divpic\"><img src=\"analysis/devpop_matrix_default.png\" />\\n'\n",
    "            + ' <br /><span class=\"textlabel\">Default rate matrix</span></div>\\n'\n",
    "        )\n",
    "        f.write(\"</div>\\n\")\n",
    "        f.write(\"<h4>Transition matrix - development sample</h4>\\n\")\n",
    "        f.write('<div class=\"divpar\">\\n')\n",
    "        f.write(\n",
    "            ' <div class=\"divpic\"><img src=\"analysis/devpop_matrix_transition.png\" />\\n'\n",
    "            + ' <br /><span class=\"textlabel\">Transition matrix</span></div>\\n'\n",
    "        )\n",
    "        f.write(\"</div>\\n\")\n",
    "        f.write(\"<h4>Transition matrix - whole population</h4>\\n\")\n",
    "        f.write('<div class=\"divpar\">\\n')\n",
    "        f.write(\n",
    "            ' <div class=\"divpic\"><img src=\"analysis/allpop_matrix_transition.png\" />\\n'\n",
    "            + ' <br /><span class=\"textlabel\">Transition matrix</span></div>\\n'\n",
    "        )\n",
    "        f.write(\"</div>\\n\")\n",
    "    f.write(\"</body></html>\")\n",
    "    display(HTML(f\"\"\"<a href=\"{f.name}\" target=\"_blank\">Link to documentation <b>{f.name}</b></a>\"\"\"))\n",
    "    print(\n",
    "        \"Link above might show documentation without pictures due to a bug in Jupyter. In that case please open the file locally.\"\n",
    "    )"
   ]
  }
 ],
 "metadata": {
  "kernelspec": {
   "display_name": "Python 3",
   "language": "python",
   "name": "python3"
  },
  "language_info": {
   "codemirror_mode": {
    "name": "ipython",
    "version": 3
   },
   "file_extension": ".py",
   "mimetype": "text/x-python",
   "name": "python",
   "nbconvert_exporter": "python",
   "pygments_lexer": "ipython3",
   "version": "3.7.7"
  },
  "toc": {
   "base_numbering": 1,
   "nav_menu": {},
   "number_sections": true,
   "sideBar": true,
   "skip_h1_title": false,
   "title_cell": "Table of Contents",
   "title_sidebar": "Contents",
   "toc_cell": false,
   "toc_position": {
    "height": "calc(100% - 180px)",
    "left": "10px",
    "top": "150px",
    "width": "395px"
   },
   "toc_section_display": true,
   "toc_window_display": true
  },
  "varInspector": {
   "cols": {
    "lenName": 16,
    "lenType": 16,
    "lenVar": 40
   },
   "kernels_config": {
    "python": {
     "delete_cmd_postfix": "",
     "delete_cmd_prefix": "del ",
     "library": "var_list.py",
     "varRefreshCmd": "print(var_dic_list())"
    },
    "r": {
     "delete_cmd_postfix": ") ",
     "delete_cmd_prefix": "rm(",
     "library": "var_list.r",
     "varRefreshCmd": "cat(var_dic_list()) "
    }
   },
   "position": {
    "height": "638px",
    "left": "1569px",
    "right": "20px",
    "top": "72px",
    "width": "289px"
   },
   "types_to_exclude": [
    "module",
    "function",
    "builtin_function_or_method",
    "instance",
    "_Feature"
   ],
   "window_display": false
  }
 },
 "nbformat": 4,
 "nbformat_minor": 2
}
