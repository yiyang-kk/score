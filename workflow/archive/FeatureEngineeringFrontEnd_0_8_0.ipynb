{
 "cells": [
  {
   "cell_type": "markdown",
   "metadata": {},
   "source": [
    "# Feature Engineering Front End (FEFE)"
   ]
  },
  {
   "cell_type": "markdown",
   "metadata": {},
   "source": [
    "## Direct import\n",
    "\n",
    "Does not have to be installed, but it will not install the dependencies."
   ]
  },
  {
   "cell_type": "code",
   "execution_count": null,
   "metadata": {
    "ExecuteTime": {
     "end_time": "2020-06-16T13:38:29.368181Z",
     "start_time": "2020-06-16T13:38:27.213947Z"
    }
   },
   "outputs": [],
   "source": [
    "import sys\n",
    "sys.path.insert(0, '../scoring')\n",
    "from fefe import notebook_front_end, FeatureEngineeringAPI"
   ]
  },
  {
   "cell_type": "markdown",
   "metadata": {},
   "source": [
    "# Data import\n",
    "\n",
    "_Do not forget to cast the datetimes!_"
   ]
  },
  {
   "cell_type": "code",
   "execution_count": null,
   "metadata": {
    "ExecuteTime": {
     "end_time": "2020-06-16T13:38:29.419499Z",
     "start_time": "2020-06-16T13:38:29.368181Z"
    }
   },
   "outputs": [],
   "source": [
    "import pandas as pd\n",
    "data = pd.read_csv('../scoring/fefe/tests/toy_data.csv', index_col=0)\n",
    "\n",
    "\n",
    "# cast your datetimes, please!\n",
    "data['TIME'] = pd.to_datetime(data['TIME'])\n",
    "data['TRANSACTION_TIME'] = pd.to_datetime(data['TRANSACTION_TIME'])\n",
    "\n",
    "data.head()"
   ]
  },
  {
   "cell_type": "markdown",
   "metadata": {},
   "source": [
    "# Front End (for new features)\n",
    "\n",
    "This part should ease config creation.\n",
    "\n",
    "However, it is not needed - see next part how to modify config."
   ]
  },
  {
   "cell_type": "code",
   "execution_count": null,
   "metadata": {
    "ExecuteTime": {
     "start_time": "2020-06-16T13:38:26.266Z"
    }
   },
   "outputs": [],
   "source": [
    "notebook_front_end(data, port=8062)"
   ]
  },
  {
   "cell_type": "markdown",
   "metadata": {},
   "source": [
    "# Config (output from front end)"
   ]
  },
  {
   "cell_type": "markdown",
   "metadata": {},
   "source": [
    "The config is made from several parts. If you are not able to open the front end, you can still manipulate with the config manually.  \n",
    "\n",
    "## Config description (tl;dr: look at the example)\n",
    "\n",
    "\n",
    "<details>\n",
    "<summary>\n",
    "Definition of individual parts of the config and individual parameters.  \n",
    "\n",
    "___\n",
    "**\\~\\~\\~ Click to expand \\~\\~\\~**\n",
    "___\n",
    "</summary>\n",
    "\n",
    "\n",
    "### meta:\n",
    "\n",
    "_Definition of global informations, to be applied anywhere._\n",
    "\n",
    "- granularity\n",
    "    - describes the granularity to be used for aggregation.\n",
    "    - possible values:\n",
    "        - 'days' (or 'd', 'day', etc.)\n",
    "        - 'weeks'\n",
    "        - 'months'\n",
    "        - 'years\n",
    "        - 'order' \n",
    "            - takes into account only the order, not the time.\n",
    "            - useful to get last transaction amount (order = 1)\n",
    "            - useful for calculation using `NUM_GROUP` variables\n",
    "- index\n",
    "    - name of the index column in the dataset\n",
    "    - usually 'CUSTOMER_ID', 'SKP_CREDIT_CASE', 'CUID' ...\n",
    "- inf_value\n",
    "    - value to replace infinities, if they appear in data\n",
    "- nan_value\n",
    "    - value to replace nans, if they appear in data\n",
    "- target_time\n",
    "    - time column, which is used as decision time.\n",
    "- transaction_time\n",
    "    - time column, to be used as time of the individual transaction.\n",
    "- order\n",
    "    - specification of column to be used for subsetting of the data using time ranges.\n",
    "    - 'TIME_ORDER' means that column with such name will be created from `target_time` and `transaction_time`\n",
    "    - otherwise FEFE will use this specified column.\n",
    "\n",
    "### simple:\n",
    "\n",
    "_Definition of simple variables._\n",
    "\n",
    "- VARIABLE_NAME:\n",
    "    - name of varibale, on which following transformations will be applied.\n",
    "    - transformations:\n",
    "        - functions\n",
    "            - list of functions\n",
    "            - usually, `pandas.DataFrame.GroupBy.[fun]` is applied\n",
    "        - segmentations\n",
    "            - list of variable names or `str(None)` (None, but as a string)\n",
    "            - values from such variables are used in pd.DataFrame.query like `VARIABLE_NAME == 'value'`\n",
    "        - time_ranges\n",
    "            - list of tuples (which are saved as strings)\n",
    "            - single tuple means from-to, which will be used with `order` column\n",
    "        - queries\n",
    "            - string to be put into `pd.DataFrame.query()` function\n",
    "            - possible inputs:\n",
    "                - `VARIABLE == 'value'` (notice double `=`)\n",
    "                - `VARIABLE < 20`\n",
    "                - `VARIABLE_1 == 'value_1';VARIABLE_1 == 'value_2'`\n",
    "                    - this will iterate over individual queries\n",
    "                - ```VARIABLE_1 == 'value_1';VARIABLE_1 =='value_2';VARIABLE_2 == 'value_a';VARIABLE_2 == 'value_b'```\n",
    "                - ...\n",
    "\n",
    "### ratio:\n",
    "\n",
    "_Definition of ratio variables_\n",
    "\n",
    "- DENOMINATOR_VARIABLE_NAME\n",
    "    - NUMERATOR_VARIABLE_NAME\n",
    "        - transformations:\n",
    "            - similar like in simple case\n",
    "            - functions are defined as tuple of functions\n",
    "            - time_ranges are tuples of tuples of integers (two time ranges together)\n",
    "            - segmentations & queries are applied at the variables at the same time\n",
    "\n",
    "### time_since:\n",
    "\n",
    "- TIME_VARIABLE_NAME\n",
    "    - transformations:\n",
    "        - from - whether take first or last event\n",
    "        - segmentations  - same as in simple\n",
    "        - queries - same as in simple\n",
    "          \n",
    "</details>"
   ]
  },
  {
   "cell_type": "markdown",
   "metadata": {},
   "source": [
    "## Config example"
   ]
  },
  {
   "cell_type": "code",
   "execution_count": null,
   "metadata": {
    "ExecuteTime": {
     "end_time": "2020-06-16T13:07:58.484508Z",
     "start_time": "2020-06-16T13:07:58.463079Z"
    }
   },
   "outputs": [],
   "source": [
    "CONFIG={\n",
    "    'meta': {\n",
    "        'granularity': 'days',\n",
    "        'index': 'CUSTOMER_ID',\n",
    "        'target_time': 'TIME',\n",
    "        'transaction_time': 'TRANSACTION_TIME',\n",
    "        'inf_value': None,\n",
    "        'nan_value': None,\n",
    "        'order': 'TIME_ORDER',\n",
    "\n",
    "    },\n",
    "    'ratio': {\n",
    "        'TRANSACTION_AMOUNT': {\n",
    "            'TRANSACTION_AMOUNT': {\n",
    "                'functions': [\"('min', 'min')\", \"('max', 'max')\", \"('mean', 'mean')\", \"('sum', 'sum')\"],\n",
    "                'segmentations': ['None', 'TRANSACTION_PURPOSE'],\n",
    "                'time_ranges': ['((0, 30), (30, 180))', '((0, 180), (180, 360))'],\n",
    "            },\n",
    "        },\n",
    "    },\n",
    "    'simple': {\n",
    "        'TRANSACTION_AMOUNT': {\n",
    "            'functions': ['min', 'max', 'sum', 'mean'],\n",
    "            'queries': \"TRANSACTION_FEE < 100;TRANSACTION_CLASS == 'ATM'\",\n",
    "            'segmentations': ['None', 'TRANSACTION_PURPOSE', 'TRANSACTION_TYPE', 'TRANSACTION_PLACE'],\n",
    "            'time_ranges': ['(0, 360)', '(0, inf)'],\n",
    "        },\n",
    "        'TRANSACTION_FEE': {\n",
    "            'functions': ['min', 'max', 'sum', 'mean'],\n",
    "            'queries': \"TRANSACTION_FEE < 100;TRANSACTION_CLASS == 'ATM'\",\n",
    "            'segmentations': ['None', 'TRANSACTION_PURPOSE', 'TRANSACTION_TYPE'],\n",
    "            'time_ranges': ['(0, 360)', '(0, inf)'],\n",
    "        },\n",
    "        'TRANSACTION_PURPOSE': {\n",
    "            'functions': ['mode', 'mode_multicolumn'],\n",
    "            'segmentations': ['None'],\n",
    "            'time_ranges': ['(0, 360)'],\n",
    "        }\n",
    "    },\n",
    "    'time_since': {'TRANSACTION_TIME': {'from': ['first', 'last'], 'queries': \"TRANSACTION_PURPOSE=='hazard'\"}},\n",
    "}\n"
   ]
  },
  {
   "cell_type": "markdown",
   "metadata": {},
   "source": [
    "# Initialisation of calculation"
   ]
  },
  {
   "cell_type": "code",
   "execution_count": null,
   "metadata": {
    "ExecuteTime": {
     "end_time": "2020-06-16T13:08:03.527752Z",
     "start_time": "2020-06-16T13:08:03.495506Z"
    }
   },
   "outputs": [],
   "source": [
    "name_shortening_dictionary = {\n",
    "    \"TRANSACTION_FEE\":\"FEE\",\n",
    "    \"TRANSACTION_AMOUNT\": \"AMNT\",\n",
    "    \"TRAVELLING\": \"TRVL\",\n",
    "    \"HAZARD\": \"HZRD\",\n",
    "    \"TRANSACTION_PURPOSE\": \"PRPS\",\n",
    "    \"TRANSACTION\": \"TNX\",\n",
    "    \"_EQ_\": \"_\",\n",
    "    \"_0D_\": \"_\",\n",
    "    \"_INFD\":\"\",   \n",
    "}\n",
    "\n",
    "fe = FeatureEngineeringAPI(\n",
    "    config=CONFIG,\n",
    "    shortening_dictionary=name_shortening_dictionary,\n",
    "    logger_kwargs={\"log_level\": 20})"
   ]
  },
  {
   "cell_type": "markdown",
   "metadata": {},
   "source": [
    "# Calculation of dataframe"
   ]
  },
  {
   "cell_type": "code",
   "execution_count": null,
   "metadata": {
    "ExecuteTime": {
     "end_time": "2020-06-16T13:08:08.580063Z",
     "start_time": "2020-06-16T13:08:06.734843Z"
    }
   },
   "outputs": [],
   "source": [
    "from IPython.display import display\n",
    "with pd.option_context('display.max_columns', 200):\n",
    "    \n",
    "    display(fe.dataframe(data, max_nan_share=0.9))"
   ]
  },
  {
   "cell_type": "markdown",
   "metadata": {},
   "source": [
    "# Output in sql"
   ]
  },
  {
   "cell_type": "code",
   "execution_count": null,
   "metadata": {
    "ExecuteTime": {
     "end_time": "2020-06-16T13:08:23.163383Z",
     "start_time": "2020-06-16T13:08:23.108666Z"
    }
   },
   "outputs": [],
   "source": [
    "print(fe.sql(data,\n",
    "             table_name='data',\n",
    "             feature_subset=[\n",
    "#                  'MAX_TRANSACTION_AMOUNT_0D_INFD',\n",
    "#                  'MIN_TRANSACTION_AMOUNT_0D_INFD'\n",
    "             ]))"
   ]
  }
 ],
 "metadata": {
  "kernel_info": {
   "name": "270d5f6e-d601-4a8b-84c9-a2713463fe4c"
  },
  "kernelspec": {
   "display_name": "Python 3",
   "language": "python",
   "name": "python3"
  },
  "language_info": {
   "codemirror_mode": {
    "name": "ipython",
    "version": 3
   },
   "file_extension": ".py",
   "mimetype": "text/x-python",
   "name": "python",
   "nbconvert_exporter": "python",
   "pygments_lexer": "ipython3",
   "version": "3.8.6rc1"
  },
  "nteract": {
   "version": "0.14.5"
  },
  "toc": {
   "base_numbering": 1,
   "nav_menu": {},
   "number_sections": true,
   "sideBar": true,
   "skip_h1_title": false,
   "title_cell": "Table of Contents",
   "title_sidebar": "Contents",
   "toc_cell": false,
   "toc_position": {},
   "toc_section_display": true,
   "toc_window_display": false
  }
 },
 "nbformat": 4,
 "nbformat_minor": 2
}
