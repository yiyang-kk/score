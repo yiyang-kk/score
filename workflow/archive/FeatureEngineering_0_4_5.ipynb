{
 "cells": [
  {
   "cell_type": "code",
   "execution_count": null,
   "metadata": {},
   "outputs": [],
   "source": [
    "import numpy as np\n",
    "import pandas as pd\n",
    "pd.options.display.max_rows = 30\n",
    "pd.options.display.max_columns = 100"
   ]
  },
  {
   "cell_type": "code",
   "execution_count": null,
   "metadata": {},
   "outputs": [],
   "source": [
    "rawdata = pd.read_csv('fe/rawsim2.csv',sep=',',decimal='.',encoding='ANSI')\n",
    "\n",
    "slicemeta = pd.read_csv('fe/slicemeta2.csv',sep=',',decimal='.',encoding='ANSI')\n",
    "\n",
    "metadata = pd.read_csv('fe/aggregations_metadata4.csv',sep=',',decimal='.',encoding='ANSI')\n",
    "agglist = pd.read_csv('fe/aggregations_agglist3.csv',sep=',',decimal='.',encoding='ANSI')\n",
    "varcomb = pd.read_csv('fe/varcomb.csv',sep=',',decimal='.',encoding='ANSI')\n",
    "\n",
    "metadataR = pd.read_csv('fe/aggregations_metadataR.csv',sep=',',decimal='.',encoding='ANSI')\n",
    "agglistR = pd.read_csv('fe/aggregations_agglistR.csv',sep=',',decimal='.',encoding='ANSI')\n",
    "seglistR = pd.read_csv('fe/aggregations_segmlist.csv',sep=',',decimal='.',encoding='ANSI')\n",
    "\n",
    "timesincemeta = pd.read_csv('fe/timesincemeta2.csv',sep=',',decimal='.',encoding='ANSI')\n",
    "\n",
    "issomemeta = pd.read_csv('fe/issomemeta.csv',sep=',',decimal='.',encoding='ANSI')\n",
    "\n",
    "intermeta = pd.read_csv('fe/intermeta.csv',sep=',',decimal='.',encoding='ANSI')\n",
    "\n",
    "catmeta = pd.read_csv('fe/catmeta.csv',sep=',',decimal='.',encoding='ANSI')\n",
    "catmetab = pd.read_csv('fe/catmetab.csv',sep=',',decimal='.',encoding='ANSI')"
   ]
  },
  {
   "cell_type": "code",
   "execution_count": null,
   "metadata": {},
   "outputs": [],
   "source": [
    "import sys\n",
    "sys.path.insert(0, 'C:/py_src/scoring/hcfsc')\n",
    "import scoring\n",
    "import scoring.feature_engineering"
   ]
  },
  {
   "cell_type": "code",
   "execution_count": null,
   "metadata": {},
   "outputs": [],
   "source": [
    "### RELOADING MODULE FOR TESTING PURPOSES\n",
    "\n",
    "import importlib\n",
    "importlib.reload(scoring)\n",
    "importlib.reload(scoring.feature_engineering)"
   ]
  },
  {
   "cell_type": "code",
   "execution_count": null,
   "metadata": {},
   "outputs": [],
   "source": [
    "display(rawdata)"
   ]
  },
  {
   "cell_type": "code",
   "execution_count": null,
   "metadata": {},
   "outputs": [],
   "source": [
    "from scoring.feature_engineering import OrderAssigner\n",
    "\n",
    "oa = OrderAssigner('TIME', 'TIME_APPLICATION', time_granularity = 'months', history_length = 6, time_format = '%Y-%m-%d %H:%M:%S')\n",
    "oa.fit(rawdata)\n",
    "orderdata = oa.transform(rawdata)"
   ]
  },
  {
   "cell_type": "code",
   "execution_count": null,
   "metadata": {},
   "outputs": [],
   "source": [
    "print(oa.strsql_)\n",
    "display(orderdata)"
   ]
  },
  {
   "cell_type": "code",
   "execution_count": null,
   "metadata": {},
   "outputs": [],
   "source": [
    "from scoring.feature_engineering import FeatureEngineeringFromSlice\n",
    "\n",
    "fe1 = FeatureEngineeringFromSlice('ID_APPLICATION', 'TIME_ORDER', metadata=metadataR, agglist=agglistR, segm=seglistR, max_time = 6)\n",
    "fe1.fit(orderdata)\n",
    "transrawdata = fe1.transform(orderdata)"
   ]
  },
  {
   "cell_type": "code",
   "execution_count": null,
   "metadata": {},
   "outputs": [],
   "source": [
    "print(fe1.strsql_)\n",
    "display(transrawdata)"
   ]
  },
  {
   "cell_type": "code",
   "execution_count": null,
   "metadata": {},
   "outputs": [],
   "source": [
    "importlib.reload(scoring.feature_engineering)\n",
    "from scoring.feature_engineering import Slicer\n",
    "\n",
    "sl = Slicer('ID_APPLICATION', 'TIME', 'TIME_APPLICATION', slicemeta=slicemeta, time_granularity='months', history_length=6,  time_format = '%Y-%m-%d %H:%M:%S')\n",
    "sl.fit(rawdata)\n",
    "newdata = sl.transform(rawdata)"
   ]
  },
  {
   "cell_type": "code",
   "execution_count": null,
   "metadata": {},
   "outputs": [],
   "source": [
    "print(sl.strsql_)\n",
    "display(newdata)"
   ]
  },
  {
   "cell_type": "code",
   "execution_count": null,
   "metadata": {},
   "outputs": [],
   "source": [
    "from scoring.feature_engineering import FeatureEngineeringFromSlice\n",
    "\n",
    "fe2 = FeatureEngineeringFromSlice('ID_APPLICATION', 'TIME_ORDER', metadata=metadata, agglist=agglist, varcomb=varcomb, max_time = 6)\n",
    "fe2.fit(newdata)\n",
    "transdata = fe2.transform(newdata)"
   ]
  },
  {
   "cell_type": "code",
   "execution_count": null,
   "metadata": {},
   "outputs": [],
   "source": [
    "print(fe2.strsql_)\n",
    "display(transdata)"
   ]
  },
  {
   "cell_type": "code",
   "execution_count": null,
   "metadata": {},
   "outputs": [],
   "source": [
    "timesincemeta"
   ]
  },
  {
   "cell_type": "code",
   "execution_count": null,
   "metadata": {},
   "outputs": [],
   "source": [
    "from scoring.feature_engineering import TimeSinceCalc\n",
    "\n",
    "tsc = TimeSinceCalc('ID_APPLICATION','TIME','TIME_APPLICATION',timesincemeta=timesincemeta, time_format='%Y-%m-%d %H:%M:%S', keyword='entry')\n",
    "tsc.fit(rawdata)\n",
    "ds = tsc.transform(rawdata)"
   ]
  },
  {
   "cell_type": "code",
   "execution_count": null,
   "metadata": {},
   "outputs": [],
   "source": [
    "print(tsc.strsql_)\n",
    "display(ds)"
   ]
  },
  {
   "cell_type": "code",
   "execution_count": null,
   "metadata": {},
   "outputs": [],
   "source": [
    "from scoring.feature_engineering import IsSomething\n",
    "\n",
    "iss = IsSomething('ID_APPLICATION','TIME_ORDER',issomemeta)\n",
    "iss.fit(newdata)\n",
    "issomedata = iss.transform(newdata)"
   ]
  },
  {
   "cell_type": "code",
   "execution_count": null,
   "metadata": {},
   "outputs": [],
   "source": [
    "print(iss.strsql_)\n",
    "display(issomedata)"
   ]
  },
  {
   "cell_type": "code",
   "execution_count": null,
   "metadata": {},
   "outputs": [],
   "source": [
    "from scoring.feature_engineering import CategoricalFeatures\n",
    "\n",
    "ct = CategoricalFeatures('ID_APPLICATION', 'raw', catmeta = catmeta, slice_name = 'TIME_ORDER', time_name = 'TIME',\n",
    "                        time_max_name = 'TIME_APPLICATION')\n",
    "ct.fit(orderdata)\n",
    "catdata = ct.transform(orderdata)"
   ]
  },
  {
   "cell_type": "code",
   "execution_count": null,
   "metadata": {},
   "outputs": [],
   "source": [
    "print(ct.strsql_)\n",
    "display(catdata)"
   ]
  },
  {
   "cell_type": "code",
   "execution_count": null,
   "metadata": {},
   "outputs": [],
   "source": [
    "from scoring.feature_engineering import CategoricalFeatures\n",
    "\n",
    "ctb = CategoricalFeatures('ID_APPLICATION', 'slice', catmeta = catmetab, slice_name = 'TIME_ORDER')\n",
    "ctb.fit(newdata)\n",
    "catdatab = ctb.transform(newdata)"
   ]
  },
  {
   "cell_type": "code",
   "execution_count": null,
   "metadata": {},
   "outputs": [],
   "source": [
    "print(ctb.strsql_)\n",
    "display(catdatab)"
   ]
  },
  {
   "cell_type": "code",
   "execution_count": null,
   "metadata": {},
   "outputs": [],
   "source": [
    "from scoring.feature_engineering import Interactions\n",
    "\n",
    "itr = Interactions(intermeta)\n",
    "itr.fit(rawdata)\n",
    "itrdata = itr.transform(rawdata)"
   ]
  },
  {
   "cell_type": "code",
   "execution_count": null,
   "metadata": {},
   "outputs": [],
   "source": [
    "print(itr.strsql_)\n",
    "display(itrdata)"
   ]
  },
  {
   "cell_type": "code",
   "execution_count": null,
   "metadata": {},
   "outputs": [],
   "source": []
  }
 ],
 "metadata": {
  "kernelspec": {
   "display_name": "Python 3",
   "language": "python",
   "name": "python3"
  },
  "language_info": {
   "codemirror_mode": {
    "name": "ipython",
    "version": 3
   },
   "file_extension": ".py",
   "mimetype": "text/x-python",
   "name": "python",
   "nbconvert_exporter": "python",
   "pygments_lexer": "ipython3",
   "version": "3.6.3"
  },
  "toc": {
   "base_numbering": 1,
   "nav_menu": {},
   "number_sections": true,
   "sideBar": true,
   "skip_h1_title": false,
   "title_cell": "Table of Contents",
   "title_sidebar": "Contents",
   "toc_cell": false,
   "toc_position": {},
   "toc_section_display": true,
   "toc_window_display": false
  },
  "varInspector": {
   "cols": {
    "lenName": 16,
    "lenType": 16,
    "lenVar": 40
   },
   "kernels_config": {
    "python": {
     "delete_cmd_postfix": "",
     "delete_cmd_prefix": "del ",
     "library": "var_list.py",
     "varRefreshCmd": "print(var_dic_list())"
    },
    "r": {
     "delete_cmd_postfix": ") ",
     "delete_cmd_prefix": "rm(",
     "library": "var_list.r",
     "varRefreshCmd": "cat(var_dic_list()) "
    }
   },
   "types_to_exclude": [
    "module",
    "function",
    "builtin_function_or_method",
    "instance",
    "_Feature"
   ],
   "window_display": false
  }
 },
 "nbformat": 4,
 "nbformat_minor": 2
}
