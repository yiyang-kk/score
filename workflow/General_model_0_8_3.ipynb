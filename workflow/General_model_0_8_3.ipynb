{
 "cells": [
  {
   "cell_type": "markdown",
   "metadata": {},
   "source": [
    "<span style=\"font-size:30pt;font-weight:bold\">General Model Workflow 0.8.3</font>\n",
    "\n",
    "**Copyright:**\n",
    "\n",
    "© 2017-2020, Pavel Sůva, Marek Teller, Martin Kotek, Jan Zeller, Marek Mukenšnabl, Kirill Odintsov, Jan Hynek, Elena Kuchina and Home Credit & Finance Bank Limited Liability Company, Moscow, Russia – all rights reserved\n",
    "\n",
    "Licensed under the Apache License, Version 2.0 (the \"License\");\n",
    "you may not use this file except in compliance with the [License](http://www.apache.org/licenses/LICENSE-2.0)\n",
    "\n",
    "Unless required by applicable law or agreed to in writing, software\n",
    "distributed under the License is distributed on an \"AS IS\" BASIS,\n",
    "WITHOUT WARRANTIES OR CONDITIONS OF ANY KIND, either express or implied.\n",
    "See the License for the specific language governing permissions and\n",
    "limitations under the License.\n",
    "\n",
    "For list of contributors see [Gitlab page](https://git.homecredit.net/risk/python-scoring-workflow) "
   ]
  },
  {
   "cell_type": "markdown",
   "metadata": {},
   "source": [
    "# Import packages, configure environment\n",
    "\n",
    "For this workflow to work, you need to install some non-standard python packages that are not in standard Anaconda distribution - mainly widgets for GUI of some parts of this workflow:\n",
    "\n",
    "`conda install ipywidgets`\n",
    "\n",
    "`jupyter nbextension enable --py --sys-prefix widgetsnbextension`\n",
    "\n",
    "`conda config --add channels conda-forge`\n",
    "\n",
    "`conda install qgrid` \n",
    "\n",
    "`jupyter nbextension enable --py --sys-prefix qgrid`\n",
    "\n",
    "`conda install tqdm`"
   ]
  },
  {
   "cell_type": "code",
   "execution_count": 1,
   "metadata": {
    "ExecuteTime": {
     "end_time": "2021-05-12T03:50:18.467610Z",
     "start_time": "2021-05-12T03:50:16.446229Z"
    }
   },
   "outputs": [],
   "source": [
    "import time\n",
    "import datetime\n",
    "import math\n",
    "import random\n",
    "import numpy as np\n",
    "import pandas as pd\n",
    "import sklearn\n",
    "import matplotlib\n",
    "import matplotlib.pyplot as plt\n",
    "import seaborn as sns\n",
    "import os.path\n",
    "import pickle\n",
    "import gc\n",
    "from tqdm import tqdm_notebook as tqdm\n",
    "import sys\n",
    "import warnings\n",
    "\n",
    "sys.path.insert(0, '..')\n",
    "import scoring\n",
    "\n",
    "from scipy.special import logit, expit\n",
    "from sklearn.metrics import roc_auc_score\n",
    "from sklearn.model_selection import StratifiedKFold\n",
    "from sklearn.linear_model import LogisticRegression"
   ]
  },
  {
   "cell_type": "code",
   "execution_count": 2,
   "metadata": {
    "ExecuteTime": {
     "end_time": "2021-05-12T03:50:18.570530Z",
     "start_time": "2021-05-12T03:50:18.469424Z"
    }
   },
   "outputs": [],
   "source": [
    "sns.set()\n",
    "%matplotlib inline\n",
    "%config InlineBackend.close_figures=True\n",
    "from IPython.display import display, Markdown\n",
    "pd.options.display.max_columns = None\n",
    "pd.options.display.max_rows = 15\n",
    "\n",
    "# create the documentation folders \n",
    "output_folder = 'documentation'\n",
    "subfolders = [\n",
    "    \"performance\",\n",
    "    \"predictors\",\n",
    "    \"stability\",\n",
    "    \"stability_grouping\",\n",
    "    \"stability_short\",\n",
    "    \"analysis\", \n",
    "    \"model\",\n",
    "    \"nan_share\"\n",
    "]\n",
    "\n",
    "os.makedirs(output_folder, exist_ok=True)\n",
    "    \n",
    "for folder in subfolders:\n",
    "    os.makedirs(os.path.join(output_folder, folder), exist_ok=True)\n",
    "\n",
    "psw_version = '0.9.0'\n",
    "scoring.check_version(psw_version)"
   ]
  },
  {
   "cell_type": "code",
   "execution_count": 3,
   "metadata": {
    "ExecuteTime": {
     "end_time": "2021-05-12T03:50:18.581300Z",
     "start_time": "2021-05-12T03:50:18.578913Z"
    }
   },
   "outputs": [],
   "source": [
    "# import importlib\n",
    "# importlib.reload(scoring.doctools.calculators)\n",
    "# importlib.reload(scoring.doctools)\n",
    "# importlib.reload(scoring)\n",
    "# import scoring"
   ]
  },
  {
   "cell_type": "code",
   "execution_count": 4,
   "metadata": {
    "ExecuteTime": {
     "end_time": "2021-05-12T03:50:18.790697Z",
     "start_time": "2021-05-12T03:50:18.582656Z"
    }
   },
   "outputs": [],
   "source": [
    "from scoring import doctools\n",
    "\n",
    "documentation = doctools.ProjectParameters()"
   ]
  },
  {
   "cell_type": "markdown",
   "metadata": {},
   "source": [
    "# Input data\n",
    "\n",
    "## Import data\n",
    "\n",
    "Importing data from a CSV file. It is important to set the following parameters:\n",
    "\n",
    "encoding: usually 'utf-8' or windows-xxxx on Windows machines, where xxxx is 1250 for Central Europe, 1251 for Cyrilic etc.\n",
    "sep: separator of columns in the file\n",
    "decimal: decimal dot or coma\n",
    "index_col: which columns is used as index - should be the unique credit case identifier\n",
    "\n",
    "**Defining NA values:** In different datasets, there can be different values to be considered *N/A*. By default, we set only blank fields to be considered *N/A*, however you might want to change it and add values like *'NA'*, *'NAN'*, *'null'* to be also considered *N/A*. User parameter `na_values` for this.\n",
    "\n",
    "The data need to have **index column which has unique value per each row**. If not, it will cause problems later."
   ]
  },
  {
   "cell_type": "code",
   "execution_count": 5,
   "metadata": {
    "ExecuteTime": {
     "end_time": "2021-05-12T03:50:19.337568Z",
     "start_time": "2021-05-12T03:50:19.006830Z"
    }
   },
   "outputs": [
    {
     "name": "stdout",
     "output_type": "stream",
     "text": [
      "Data loaded on 2021-05-12 11:50:19\n"
     ]
    }
   ],
   "source": [
    "from scoring import db\n",
    "data = db.read_csv('demo_data/gmdata.csv', sep = ',', decimal = '.',\n",
    "                   optimize_types=True, encoding = 'utf-8', low_memory = False,\n",
    "                   keep_default_na = False, na_values = [''])\n",
    "print('Data loaded on',datetime.datetime.fromtimestamp(time.time()).strftime('%Y-%m-%d %H:%M:%S'))"
   ]
  },
  {
   "cell_type": "code",
   "execution_count": 6,
   "metadata": {
    "ExecuteTime": {
     "end_time": "2021-05-12T03:50:19.540487Z",
     "start_time": "2021-05-12T03:50:19.527475Z"
    }
   },
   "outputs": [
    {
     "name": "stdout",
     "output_type": "stream",
     "text": [
      "Number of rows: 19976\n",
      "Number of columns: 12\n"
     ]
    }
   ],
   "source": [
    "print('Number of rows:',data.shape[0])\n",
    "print('Number of columns:',data.shape[1])"
   ]
  },
  {
   "cell_type": "code",
   "execution_count": 7,
   "metadata": {
    "ExecuteTime": {
     "end_time": "2021-05-12T03:50:19.654580Z",
     "start_time": "2021-05-12T03:50:19.622363Z"
    }
   },
   "outputs": [
    {
     "data": {
      "text/html": [
       "<div>\n",
       "<style scoped>\n",
       "    .dataframe tbody tr th:only-of-type {\n",
       "        vertical-align: middle;\n",
       "    }\n",
       "\n",
       "    .dataframe tbody tr th {\n",
       "        vertical-align: top;\n",
       "    }\n",
       "\n",
       "    .dataframe thead th {\n",
       "        text-align: right;\n",
       "    }\n",
       "</style>\n",
       "<table border=\"1\" class=\"dataframe\">\n",
       "  <thead>\n",
       "    <tr style=\"text-align: right;\">\n",
       "      <th></th>\n",
       "      <th>ID</th>\n",
       "      <th>DATETIME</th>\n",
       "      <th>INTERNAL</th>\n",
       "      <th>TELCO_A</th>\n",
       "      <th>TELCO_B</th>\n",
       "      <th>BUREAU_X</th>\n",
       "      <th>BUREAU_Y</th>\n",
       "      <th>BUREAU_Y_STATUS</th>\n",
       "      <th>UTILITY</th>\n",
       "      <th>DEVICE</th>\n",
       "      <th>APPROVED</th>\n",
       "      <th>FPD30</th>\n",
       "    </tr>\n",
       "  </thead>\n",
       "  <tbody>\n",
       "    <tr>\n",
       "      <th>0</th>\n",
       "      <td>100001</td>\n",
       "      <td>2017-01-01 00:16:26</td>\n",
       "      <td>5.206850</td>\n",
       "      <td>NaN</td>\n",
       "      <td>60.0</td>\n",
       "      <td>-2.0</td>\n",
       "      <td>NaN</td>\n",
       "      <td>NO-ASK</td>\n",
       "      <td>GOOD</td>\n",
       "      <td>NaN</td>\n",
       "      <td>1.0</td>\n",
       "      <td>0.0</td>\n",
       "    </tr>\n",
       "    <tr>\n",
       "      <th>1</th>\n",
       "      <td>100002</td>\n",
       "      <td>2017-01-01 00:21:21</td>\n",
       "      <td>3.128133</td>\n",
       "      <td>0.065593</td>\n",
       "      <td>NaN</td>\n",
       "      <td>NaN</td>\n",
       "      <td>NaN</td>\n",
       "      <td>NO-ASK</td>\n",
       "      <td>DEBTOR</td>\n",
       "      <td>NaN</td>\n",
       "      <td>1.0</td>\n",
       "      <td>0.0</td>\n",
       "    </tr>\n",
       "    <tr>\n",
       "      <th>2</th>\n",
       "      <td>100003</td>\n",
       "      <td>2017-01-01 00:28:48</td>\n",
       "      <td>3.407969</td>\n",
       "      <td>NaN</td>\n",
       "      <td>60.0</td>\n",
       "      <td>301.0</td>\n",
       "      <td>0.912895</td>\n",
       "      <td>HIT</td>\n",
       "      <td>DEBTOR</td>\n",
       "      <td>NaN</td>\n",
       "      <td>1.0</td>\n",
       "      <td>1.0</td>\n",
       "    </tr>\n",
       "    <tr>\n",
       "      <th>3</th>\n",
       "      <td>100004</td>\n",
       "      <td>2017-01-01 00:37:40</td>\n",
       "      <td>3.003826</td>\n",
       "      <td>0.114979</td>\n",
       "      <td>NaN</td>\n",
       "      <td>298.0</td>\n",
       "      <td>0.895788</td>\n",
       "      <td>HIT</td>\n",
       "      <td>N/A</td>\n",
       "      <td>NaN</td>\n",
       "      <td>0.0</td>\n",
       "      <td>NaN</td>\n",
       "    </tr>\n",
       "    <tr>\n",
       "      <th>4</th>\n",
       "      <td>100005</td>\n",
       "      <td>2017-01-01 00:41:02</td>\n",
       "      <td>3.151118</td>\n",
       "      <td>NaN</td>\n",
       "      <td>62.0</td>\n",
       "      <td>NaN</td>\n",
       "      <td>0.940414</td>\n",
       "      <td>HIT</td>\n",
       "      <td>ERROR</td>\n",
       "      <td>NaN</td>\n",
       "      <td>1.0</td>\n",
       "      <td>0.0</td>\n",
       "    </tr>\n",
       "  </tbody>\n",
       "</table>\n",
       "</div>"
      ],
      "text/plain": [
       "       ID             DATETIME  INTERNAL   TELCO_A  TELCO_B  BUREAU_X  \\\n",
       "0  100001  2017-01-01 00:16:26  5.206850       NaN     60.0      -2.0   \n",
       "1  100002  2017-01-01 00:21:21  3.128133  0.065593      NaN       NaN   \n",
       "2  100003  2017-01-01 00:28:48  3.407969       NaN     60.0     301.0   \n",
       "3  100004  2017-01-01 00:37:40  3.003826  0.114979      NaN     298.0   \n",
       "4  100005  2017-01-01 00:41:02  3.151118       NaN     62.0       NaN   \n",
       "\n",
       "   BUREAU_Y BUREAU_Y_STATUS UTILITY  DEVICE  APPROVED  FPD30  \n",
       "0       NaN          NO-ASK    GOOD     NaN       1.0    0.0  \n",
       "1       NaN          NO-ASK  DEBTOR     NaN       1.0    0.0  \n",
       "2  0.912895             HIT  DEBTOR     NaN       1.0    1.0  \n",
       "3  0.895788             HIT     N/A     NaN       0.0    NaN  \n",
       "4  0.940414             HIT   ERROR     NaN       1.0    0.0  "
      ]
     },
     "execution_count": 7,
     "metadata": {},
     "output_type": "execute_result"
    }
   ],
   "source": [
    "data.head()"
   ]
  },
  {
   "cell_type": "markdown",
   "metadata": {},
   "source": [
    "## Metadata definition\n",
    "\n",
    "Assigning target column, time column and ID column (observation identifier) which have to exist within the dataset.\n",
    "\n",
    "All the rest (i.e. base which tells where the target is observable, month and day which are derived from the time, and weight which gives weight - importance - to each row individually) are created automatically later if they don't exist at this moment."
   ]
  },
  {
   "cell_type": "code",
   "execution_count": 8,
   "metadata": {
    "ExecuteTime": {
     "end_time": "2021-05-12T03:50:19.877488Z",
     "start_time": "2021-05-12T03:50:19.866816Z"
    }
   },
   "outputs": [],
   "source": [
    "### THESE COLUMNS MUST BE INCLUDED IN THE DATA SET ###\n",
    "#name of the target column\n",
    "col_target = \"FPD30\"\n",
    "#name of the time column\n",
    "col_time = \"DATETIME\"\n",
    "#name of ID column\n",
    "col_id = \"ID\"\n",
    "\n",
    "### THESE COLUMNS DON'T HAVE TO BE INCLUDED IN THE DATA SET AND ARE CREATED AUTOMATICALLY LATER ###\n",
    "#name of the base column\n",
    "col_base = \"APPROVED\"\n",
    "#name of the month column\n",
    "col_month = \"MONTH\"\n",
    "#name of the day column\n",
    "col_day = \"DAY\"\n",
    "#name of the weight column \n",
    "col_weight = 'WEIGHT'"
   ]
  },
  {
   "cell_type": "code",
   "execution_count": 9,
   "metadata": {
    "ExecuteTime": {
     "end_time": "2021-05-12T03:50:20.809219Z",
     "start_time": "2021-05-12T03:50:20.806188Z"
    }
   },
   "outputs": [],
   "source": [
    "documentation.targets = [(col_target, col_base)]\n",
    "documentation.time_variable = col_month\n",
    "documentation.weight = col_weight"
   ]
  },
  {
   "cell_type": "code",
   "execution_count": 10,
   "metadata": {
    "ExecuteTime": {
     "end_time": "2021-05-12T03:50:21.318219Z",
     "start_time": "2021-05-12T03:50:21.313004Z"
    }
   },
   "outputs": [],
   "source": [
    "documentation.rowid_variable = col_id"
   ]
  },
  {
   "cell_type": "code",
   "execution_count": 11,
   "metadata": {
    "ExecuteTime": {
     "end_time": "2021-05-12T03:50:21.836089Z",
     "start_time": "2021-05-12T03:50:21.415577Z"
    }
   },
   "outputs": [],
   "source": [
    "pd.DataFrame.from_records([['col_time',col_time],['col_month',col_month],['col_day',col_day],['col_target',col_target],['col_base',col_base]]) \\\n",
    ".to_csv(output_folder+'/model/metadata.csv',index=0,header=None)\n",
    "\n",
    "data[col_target] = data[col_target].astype(np.float)"
   ]
  },
  {
   "cell_type": "markdown",
   "metadata": {},
   "source": [
    "If you don't have base column in your data set, the following code adds it (based on if target is filled)."
   ]
  },
  {
   "cell_type": "code",
   "execution_count": 12,
   "metadata": {
    "ExecuteTime": {
     "end_time": "2021-05-12T03:50:21.842629Z",
     "start_time": "2021-05-12T03:50:21.838153Z"
    }
   },
   "outputs": [
    {
     "name": "stdout",
     "output_type": "stream",
     "text": [
      "Column APPROVED already exists.\n"
     ]
    }
   ],
   "source": [
    "if col_base not in data:\n",
    "    data[col_base] = 0\n",
    "    data.loc[data[col_target]==0,col_base] = 1\n",
    "    data.loc[data[col_target]==1,col_base] = 1\n",
    "    print('Column',col_base,'added/modified. Number of columns:',data.shape[1])\n",
    "else:\n",
    "    print('Column',col_base,'already exists.')"
   ]
  },
  {
   "cell_type": "markdown",
   "metadata": {},
   "source": [
    "If you don't have weight column in your data set, the following code adds it, with value = 1 for each row."
   ]
  },
  {
   "cell_type": "code",
   "execution_count": 13,
   "metadata": {
    "ExecuteTime": {
     "end_time": "2021-05-12T03:50:21.856401Z",
     "start_time": "2021-05-12T03:50:21.852185Z"
    }
   },
   "outputs": [
    {
     "name": "stdout",
     "output_type": "stream",
     "text": [
      "Column WEIGHT added/modified. Number of columns: 13\n"
     ]
    }
   ],
   "source": [
    "if col_weight not in data:\n",
    "    data[col_weight] = 1\n",
    "    print('Column',col_weight,'added/modified. Number of columns:',data.shape[1])\n",
    "else:\n",
    "    print('Column',col_weight,'already exists.')"
   ]
  },
  {
   "cell_type": "markdown",
   "metadata": {},
   "source": [
    "Create the month and day column from the time column is doing the following\n",
    "- take the time column and tell in which format the time is saved in - **you need to specify this in variable *dtime_input_format*** (see https://docs.python.org/3/library/time.html#time.strftime for reference)\n",
    "- strip the format just to year, month, day string\n",
    "- convert the string to number\n",
    "- the new column will be added to the dataset as day\n",
    "- truncate this column to just year and month and add it to dataset as month"
   ]
  },
  {
   "cell_type": "code",
   "execution_count": 14,
   "metadata": {
    "ExecuteTime": {
     "end_time": "2021-05-12T03:50:23.314295Z",
     "start_time": "2021-05-12T03:50:23.311369Z"
    }
   },
   "outputs": [],
   "source": [
    "dtime_input_format = '%Y-%m-%d %H:%M:%S'"
   ]
  },
  {
   "cell_type": "code",
   "execution_count": 15,
   "metadata": {
    "ExecuteTime": {
     "end_time": "2021-05-12T03:50:23.635255Z",
     "start_time": "2021-05-12T03:50:23.418295Z"
    }
   },
   "outputs": [
    {
     "name": "stdout",
     "output_type": "stream",
     "text": [
      "Columns DAY and MONTH added/modified. Number of columns: 15\n"
     ]
    }
   ],
   "source": [
    "data[col_day] = pd.to_numeric(pd.to_datetime(data[col_time], format=dtime_input_format).dt.strftime('%Y%m%d'))\n",
    "data[col_month] = data[col_day].apply(lambda x: math.trunc(x/100))\n",
    "print('Columns',col_day,'and',col_month,'added/modified. Number of columns:',data.shape[1])"
   ]
  },
  {
   "cell_type": "code",
   "execution_count": 16,
   "metadata": {
    "ExecuteTime": {
     "end_time": "2021-05-12T03:50:23.659008Z",
     "start_time": "2021-05-12T03:50:23.637313Z"
    }
   },
   "outputs": [
    {
     "data": {
      "text/html": [
       "<div>\n",
       "<style scoped>\n",
       "    .dataframe tbody tr th:only-of-type {\n",
       "        vertical-align: middle;\n",
       "    }\n",
       "\n",
       "    .dataframe tbody tr th {\n",
       "        vertical-align: top;\n",
       "    }\n",
       "\n",
       "    .dataframe thead th {\n",
       "        text-align: right;\n",
       "    }\n",
       "</style>\n",
       "<table border=\"1\" class=\"dataframe\">\n",
       "  <thead>\n",
       "    <tr style=\"text-align: right;\">\n",
       "      <th></th>\n",
       "      <th>ID</th>\n",
       "      <th>DATETIME</th>\n",
       "      <th>INTERNAL</th>\n",
       "      <th>TELCO_A</th>\n",
       "      <th>TELCO_B</th>\n",
       "      <th>BUREAU_X</th>\n",
       "      <th>BUREAU_Y</th>\n",
       "      <th>BUREAU_Y_STATUS</th>\n",
       "      <th>UTILITY</th>\n",
       "      <th>DEVICE</th>\n",
       "      <th>APPROVED</th>\n",
       "      <th>FPD30</th>\n",
       "      <th>WEIGHT</th>\n",
       "      <th>DAY</th>\n",
       "      <th>MONTH</th>\n",
       "    </tr>\n",
       "  </thead>\n",
       "  <tbody>\n",
       "    <tr>\n",
       "      <th>0</th>\n",
       "      <td>100001</td>\n",
       "      <td>2017-01-01 00:16:26</td>\n",
       "      <td>5.206850</td>\n",
       "      <td>NaN</td>\n",
       "      <td>60.0</td>\n",
       "      <td>-2.0</td>\n",
       "      <td>NaN</td>\n",
       "      <td>NO-ASK</td>\n",
       "      <td>GOOD</td>\n",
       "      <td>NaN</td>\n",
       "      <td>1.0</td>\n",
       "      <td>0.0</td>\n",
       "      <td>1</td>\n",
       "      <td>20170101</td>\n",
       "      <td>201701</td>\n",
       "    </tr>\n",
       "    <tr>\n",
       "      <th>1</th>\n",
       "      <td>100002</td>\n",
       "      <td>2017-01-01 00:21:21</td>\n",
       "      <td>3.128133</td>\n",
       "      <td>0.065593</td>\n",
       "      <td>NaN</td>\n",
       "      <td>NaN</td>\n",
       "      <td>NaN</td>\n",
       "      <td>NO-ASK</td>\n",
       "      <td>DEBTOR</td>\n",
       "      <td>NaN</td>\n",
       "      <td>1.0</td>\n",
       "      <td>0.0</td>\n",
       "      <td>1</td>\n",
       "      <td>20170101</td>\n",
       "      <td>201701</td>\n",
       "    </tr>\n",
       "    <tr>\n",
       "      <th>2</th>\n",
       "      <td>100003</td>\n",
       "      <td>2017-01-01 00:28:48</td>\n",
       "      <td>3.407969</td>\n",
       "      <td>NaN</td>\n",
       "      <td>60.0</td>\n",
       "      <td>301.0</td>\n",
       "      <td>0.912895</td>\n",
       "      <td>HIT</td>\n",
       "      <td>DEBTOR</td>\n",
       "      <td>NaN</td>\n",
       "      <td>1.0</td>\n",
       "      <td>1.0</td>\n",
       "      <td>1</td>\n",
       "      <td>20170101</td>\n",
       "      <td>201701</td>\n",
       "    </tr>\n",
       "    <tr>\n",
       "      <th>3</th>\n",
       "      <td>100004</td>\n",
       "      <td>2017-01-01 00:37:40</td>\n",
       "      <td>3.003826</td>\n",
       "      <td>0.114979</td>\n",
       "      <td>NaN</td>\n",
       "      <td>298.0</td>\n",
       "      <td>0.895788</td>\n",
       "      <td>HIT</td>\n",
       "      <td>N/A</td>\n",
       "      <td>NaN</td>\n",
       "      <td>0.0</td>\n",
       "      <td>NaN</td>\n",
       "      <td>1</td>\n",
       "      <td>20170101</td>\n",
       "      <td>201701</td>\n",
       "    </tr>\n",
       "    <tr>\n",
       "      <th>4</th>\n",
       "      <td>100005</td>\n",
       "      <td>2017-01-01 00:41:02</td>\n",
       "      <td>3.151118</td>\n",
       "      <td>NaN</td>\n",
       "      <td>62.0</td>\n",
       "      <td>NaN</td>\n",
       "      <td>0.940414</td>\n",
       "      <td>HIT</td>\n",
       "      <td>ERROR</td>\n",
       "      <td>NaN</td>\n",
       "      <td>1.0</td>\n",
       "      <td>0.0</td>\n",
       "      <td>1</td>\n",
       "      <td>20170101</td>\n",
       "      <td>201701</td>\n",
       "    </tr>\n",
       "  </tbody>\n",
       "</table>\n",
       "</div>"
      ],
      "text/plain": [
       "       ID             DATETIME  INTERNAL   TELCO_A  TELCO_B  BUREAU_X  \\\n",
       "0  100001  2017-01-01 00:16:26  5.206850       NaN     60.0      -2.0   \n",
       "1  100002  2017-01-01 00:21:21  3.128133  0.065593      NaN       NaN   \n",
       "2  100003  2017-01-01 00:28:48  3.407969       NaN     60.0     301.0   \n",
       "3  100004  2017-01-01 00:37:40  3.003826  0.114979      NaN     298.0   \n",
       "4  100005  2017-01-01 00:41:02  3.151118       NaN     62.0       NaN   \n",
       "\n",
       "   BUREAU_Y BUREAU_Y_STATUS UTILITY  DEVICE  APPROVED  FPD30  WEIGHT  \\\n",
       "0       NaN          NO-ASK    GOOD     NaN       1.0    0.0       1   \n",
       "1       NaN          NO-ASK  DEBTOR     NaN       1.0    0.0       1   \n",
       "2  0.912895             HIT  DEBTOR     NaN       1.0    1.0       1   \n",
       "3  0.895788             HIT     N/A     NaN       0.0    NaN       1   \n",
       "4  0.940414             HIT   ERROR     NaN       1.0    0.0       1   \n",
       "\n",
       "        DAY   MONTH  \n",
       "0  20170101  201701  \n",
       "1  20170101  201701  \n",
       "2  20170101  201701  \n",
       "3  20170101  201701  \n",
       "4  20170101  201701  "
      ]
     },
     "execution_count": 16,
     "metadata": {},
     "output_type": "execute_result"
    }
   ],
   "source": [
    "data.head(5)"
   ]
  },
  {
   "cell_type": "markdown",
   "metadata": {},
   "source": [
    "Set of predictor (subscores) to be analyzed. These are the potential elements of the final General Model score."
   ]
  },
  {
   "cell_type": "code",
   "execution_count": 17,
   "metadata": {
    "ExecuteTime": {
     "end_time": "2021-05-12T03:50:23.716574Z",
     "start_time": "2021-05-12T03:50:23.713299Z"
    }
   },
   "outputs": [],
   "source": [
    "cols_pred = [\n",
    "    'INTERNAL',\n",
    "    'TELCO_A',\n",
    "    'TELCO_B',\n",
    "    'BUREAU_X',\n",
    "    'BUREAU_Y',\n",
    "    'UTILITY',\n",
    "    'DEVICE',\n",
    "]"
   ]
  },
  {
   "cell_type": "markdown",
   "metadata": {},
   "source": [
    "## Data exploration"
   ]
  },
  {
   "cell_type": "code",
   "execution_count": 18,
   "metadata": {
    "ExecuteTime": {
     "end_time": "2021-05-12T03:50:24.969615Z",
     "start_time": "2021-05-12T03:50:24.796141Z"
    }
   },
   "outputs": [
    {
     "data": {
      "text/html": [
       "<div>\n",
       "<style scoped>\n",
       "    .dataframe tbody tr th:only-of-type {\n",
       "        vertical-align: middle;\n",
       "    }\n",
       "\n",
       "    .dataframe tbody tr th {\n",
       "        vertical-align: top;\n",
       "    }\n",
       "\n",
       "    .dataframe thead th {\n",
       "        text-align: right;\n",
       "    }\n",
       "</style>\n",
       "<table border=\"1\" class=\"dataframe\">\n",
       "  <thead>\n",
       "    <tr style=\"text-align: right;\">\n",
       "      <th></th>\n",
       "      <th>count</th>\n",
       "      <th>unique</th>\n",
       "      <th>top</th>\n",
       "      <th>freq</th>\n",
       "      <th>mean</th>\n",
       "      <th>std</th>\n",
       "      <th>min</th>\n",
       "      <th>25%</th>\n",
       "      <th>50%</th>\n",
       "      <th>75%</th>\n",
       "      <th>max</th>\n",
       "    </tr>\n",
       "  </thead>\n",
       "  <tbody>\n",
       "    <tr>\n",
       "      <th>ID</th>\n",
       "      <td>19976</td>\n",
       "      <td>NaN</td>\n",
       "      <td>NaN</td>\n",
       "      <td>NaN</td>\n",
       "      <td>112722</td>\n",
       "      <td>9826.92</td>\n",
       "      <td>100001</td>\n",
       "      <td>104995</td>\n",
       "      <td>109988</td>\n",
       "      <td>125902</td>\n",
       "      <td>130896</td>\n",
       "    </tr>\n",
       "    <tr>\n",
       "      <th>DATETIME</th>\n",
       "      <td>19976</td>\n",
       "      <td>19960</td>\n",
       "      <td>2017-06-06 20:18:38</td>\n",
       "      <td>2</td>\n",
       "      <td>NaN</td>\n",
       "      <td>NaN</td>\n",
       "      <td>NaN</td>\n",
       "      <td>NaN</td>\n",
       "      <td>NaN</td>\n",
       "      <td>NaN</td>\n",
       "      <td>NaN</td>\n",
       "    </tr>\n",
       "    <tr>\n",
       "      <th>INTERNAL</th>\n",
       "      <td>19976</td>\n",
       "      <td>NaN</td>\n",
       "      <td>NaN</td>\n",
       "      <td>NaN</td>\n",
       "      <td>2.50194</td>\n",
       "      <td>1.00587</td>\n",
       "      <td>-1.41988</td>\n",
       "      <td>1.81886</td>\n",
       "      <td>2.503</td>\n",
       "      <td>3.17725</td>\n",
       "      <td>7.15196</td>\n",
       "    </tr>\n",
       "    <tr>\n",
       "      <th>TELCO_A</th>\n",
       "      <td>5484</td>\n",
       "      <td>NaN</td>\n",
       "      <td>NaN</td>\n",
       "      <td>NaN</td>\n",
       "      <td>0.0831296</td>\n",
       "      <td>0.0380225</td>\n",
       "      <td>0.0143291</td>\n",
       "      <td>0.0554773</td>\n",
       "      <td>0.0761857</td>\n",
       "      <td>0.102664</td>\n",
       "      <td>0.349384</td>\n",
       "    </tr>\n",
       "    <tr>\n",
       "      <th>TELCO_B</th>\n",
       "      <td>7966</td>\n",
       "      <td>NaN</td>\n",
       "      <td>NaN</td>\n",
       "      <td>NaN</td>\n",
       "      <td>62.0254</td>\n",
       "      <td>2.52587</td>\n",
       "      <td>52</td>\n",
       "      <td>60</td>\n",
       "      <td>62</td>\n",
       "      <td>64</td>\n",
       "      <td>71</td>\n",
       "    </tr>\n",
       "    <tr>\n",
       "      <th>BUREAU_X</th>\n",
       "      <td>8340</td>\n",
       "      <td>NaN</td>\n",
       "      <td>NaN</td>\n",
       "      <td>NaN</td>\n",
       "      <td>165.001</td>\n",
       "      <td>154.232</td>\n",
       "      <td>-2</td>\n",
       "      <td>-2</td>\n",
       "      <td>293</td>\n",
       "      <td>308</td>\n",
       "      <td>338</td>\n",
       "    </tr>\n",
       "    <tr>\n",
       "      <th>BUREAU_Y</th>\n",
       "      <td>5887</td>\n",
       "      <td>NaN</td>\n",
       "      <td>NaN</td>\n",
       "      <td>NaN</td>\n",
       "      <td>0.915938</td>\n",
       "      <td>0.0390964</td>\n",
       "      <td>0.625791</td>\n",
       "      <td>0.895876</td>\n",
       "      <td>0.923401</td>\n",
       "      <td>0.944401</td>\n",
       "      <td>0.984886</td>\n",
       "    </tr>\n",
       "    <tr>\n",
       "      <th>BUREAU_Y_STATUS</th>\n",
       "      <td>19976</td>\n",
       "      <td>3</td>\n",
       "      <td>NO-ASK</td>\n",
       "      <td>12611</td>\n",
       "      <td>NaN</td>\n",
       "      <td>NaN</td>\n",
       "      <td>NaN</td>\n",
       "      <td>NaN</td>\n",
       "      <td>NaN</td>\n",
       "      <td>NaN</td>\n",
       "      <td>NaN</td>\n",
       "    </tr>\n",
       "    <tr>\n",
       "      <th>UTILITY</th>\n",
       "      <td>14976</td>\n",
       "      <td>5</td>\n",
       "      <td>N/A</td>\n",
       "      <td>5595</td>\n",
       "      <td>NaN</td>\n",
       "      <td>NaN</td>\n",
       "      <td>NaN</td>\n",
       "      <td>NaN</td>\n",
       "      <td>NaN</td>\n",
       "      <td>NaN</td>\n",
       "      <td>NaN</td>\n",
       "    </tr>\n",
       "    <tr>\n",
       "      <th>DEVICE</th>\n",
       "      <td>5000</td>\n",
       "      <td>NaN</td>\n",
       "      <td>NaN</td>\n",
       "      <td>NaN</td>\n",
       "      <td>0.917344</td>\n",
       "      <td>0.0388667</td>\n",
       "      <td>0.674121</td>\n",
       "      <td>0.897919</td>\n",
       "      <td>0.924751</td>\n",
       "      <td>0.945081</td>\n",
       "      <td>0.986543</td>\n",
       "    </tr>\n",
       "    <tr>\n",
       "      <th>APPROVED</th>\n",
       "      <td>19976</td>\n",
       "      <td>NaN</td>\n",
       "      <td>NaN</td>\n",
       "      <td>NaN</td>\n",
       "      <td>0.738887</td>\n",
       "      <td>0.439253</td>\n",
       "      <td>0</td>\n",
       "      <td>0</td>\n",
       "      <td>1</td>\n",
       "      <td>1</td>\n",
       "      <td>1</td>\n",
       "    </tr>\n",
       "    <tr>\n",
       "      <th>FPD30</th>\n",
       "      <td>14760</td>\n",
       "      <td>NaN</td>\n",
       "      <td>NaN</td>\n",
       "      <td>NaN</td>\n",
       "      <td>0.0931572</td>\n",
       "      <td>0.290662</td>\n",
       "      <td>0</td>\n",
       "      <td>0</td>\n",
       "      <td>0</td>\n",
       "      <td>0</td>\n",
       "      <td>1</td>\n",
       "    </tr>\n",
       "    <tr>\n",
       "      <th>WEIGHT</th>\n",
       "      <td>19976</td>\n",
       "      <td>NaN</td>\n",
       "      <td>NaN</td>\n",
       "      <td>NaN</td>\n",
       "      <td>1</td>\n",
       "      <td>0</td>\n",
       "      <td>1</td>\n",
       "      <td>1</td>\n",
       "      <td>1</td>\n",
       "      <td>1</td>\n",
       "      <td>1</td>\n",
       "    </tr>\n",
       "    <tr>\n",
       "      <th>DAY</th>\n",
       "      <td>19976</td>\n",
       "      <td>NaN</td>\n",
       "      <td>NaN</td>\n",
       "      <td>NaN</td>\n",
       "      <td>2.01703e+07</td>\n",
       "      <td>187.594</td>\n",
       "      <td>2.01701e+07</td>\n",
       "      <td>2.01701e+07</td>\n",
       "      <td>2.01703e+07</td>\n",
       "      <td>2.01705e+07</td>\n",
       "      <td>2.01706e+07</td>\n",
       "    </tr>\n",
       "    <tr>\n",
       "      <th>MONTH</th>\n",
       "      <td>19976</td>\n",
       "      <td>NaN</td>\n",
       "      <td>NaN</td>\n",
       "      <td>NaN</td>\n",
       "      <td>201703</td>\n",
       "      <td>1.87423</td>\n",
       "      <td>201701</td>\n",
       "      <td>201701</td>\n",
       "      <td>201703</td>\n",
       "      <td>201705</td>\n",
       "      <td>201706</td>\n",
       "    </tr>\n",
       "  </tbody>\n",
       "</table>\n",
       "</div>"
      ],
      "text/plain": [
       "                 count unique                  top   freq         mean  \\\n",
       "ID               19976    NaN                  NaN    NaN       112722   \n",
       "DATETIME         19976  19960  2017-06-06 20:18:38      2          NaN   \n",
       "INTERNAL         19976    NaN                  NaN    NaN      2.50194   \n",
       "TELCO_A           5484    NaN                  NaN    NaN    0.0831296   \n",
       "TELCO_B           7966    NaN                  NaN    NaN      62.0254   \n",
       "BUREAU_X          8340    NaN                  NaN    NaN      165.001   \n",
       "BUREAU_Y          5887    NaN                  NaN    NaN     0.915938   \n",
       "BUREAU_Y_STATUS  19976      3               NO-ASK  12611          NaN   \n",
       "UTILITY          14976      5                  N/A   5595          NaN   \n",
       "DEVICE            5000    NaN                  NaN    NaN     0.917344   \n",
       "APPROVED         19976    NaN                  NaN    NaN     0.738887   \n",
       "FPD30            14760    NaN                  NaN    NaN    0.0931572   \n",
       "WEIGHT           19976    NaN                  NaN    NaN            1   \n",
       "DAY              19976    NaN                  NaN    NaN  2.01703e+07   \n",
       "MONTH            19976    NaN                  NaN    NaN       201703   \n",
       "\n",
       "                       std          min          25%          50%  \\\n",
       "ID                 9826.92       100001       104995       109988   \n",
       "DATETIME               NaN          NaN          NaN          NaN   \n",
       "INTERNAL           1.00587     -1.41988      1.81886        2.503   \n",
       "TELCO_A          0.0380225    0.0143291    0.0554773    0.0761857   \n",
       "TELCO_B            2.52587           52           60           62   \n",
       "BUREAU_X           154.232           -2           -2          293   \n",
       "BUREAU_Y         0.0390964     0.625791     0.895876     0.923401   \n",
       "BUREAU_Y_STATUS        NaN          NaN          NaN          NaN   \n",
       "UTILITY                NaN          NaN          NaN          NaN   \n",
       "DEVICE           0.0388667     0.674121     0.897919     0.924751   \n",
       "APPROVED          0.439253            0            0            1   \n",
       "FPD30             0.290662            0            0            0   \n",
       "WEIGHT                   0            1            1            1   \n",
       "DAY                187.594  2.01701e+07  2.01701e+07  2.01703e+07   \n",
       "MONTH              1.87423       201701       201701       201703   \n",
       "\n",
       "                         75%          max  \n",
       "ID                    125902       130896  \n",
       "DATETIME                 NaN          NaN  \n",
       "INTERNAL             3.17725      7.15196  \n",
       "TELCO_A             0.102664     0.349384  \n",
       "TELCO_B                   64           71  \n",
       "BUREAU_X                 308          338  \n",
       "BUREAU_Y            0.944401     0.984886  \n",
       "BUREAU_Y_STATUS          NaN          NaN  \n",
       "UTILITY                  NaN          NaN  \n",
       "DEVICE              0.945081     0.986543  \n",
       "APPROVED                   1            1  \n",
       "FPD30                      0            1  \n",
       "WEIGHT                     1            1  \n",
       "DAY              2.01705e+07  2.01706e+07  \n",
       "MONTH                 201705       201706  "
      ]
     },
     "metadata": {},
     "output_type": "display_data"
    }
   ],
   "source": [
    "descrip = data.describe(include='all').transpose()\n",
    "pd.options.display.max_rows = 1000\n",
    "display(descrip)\n",
    "pd.options.display.max_rows = 15"
   ]
  },
  {
   "cell_type": "markdown",
   "metadata": {},
   "source": [
    "**Default rate in time**: Simple visualisation of observation count and default rate in time"
   ]
  },
  {
   "cell_type": "code",
   "execution_count": 19,
   "metadata": {
    "ExecuteTime": {
     "end_time": "2021-05-12T03:50:25.521724Z",
     "start_time": "2021-05-12T03:50:25.516775Z"
    }
   },
   "outputs": [],
   "source": [
    "observable_mask = data[col_base] == 1\n",
    "\n",
    "documentation.sample_dict = {\n",
    "    \"Observable\": observable_mask}"
   ]
  },
  {
   "cell_type": "code",
   "execution_count": 20,
   "metadata": {
    "ExecuteTime": {
     "end_time": "2021-05-12T03:50:28.518727Z",
     "start_time": "2021-05-12T03:50:25.739544Z"
    }
   },
   "outputs": [],
   "source": [
    "documentation.PlotDataset(\n",
    "    data,\n",
    "    sample=\"Observable\",\n",
    "    target=col_target,\n",
    "    segment_col=None,\n",
    "    output_folder=os.path.join(output_folder, \"analysis\"),\n",
    "    use_weight=True,\n",
    ")"
   ]
  },
  {
   "cell_type": "markdown",
   "metadata": {},
   "source": [
    "**NaN share by month** for each variable in dataset:"
   ]
  },
  {
   "cell_type": "code",
   "execution_count": 21,
   "metadata": {
    "ExecuteTime": {
     "end_time": "2021-05-12T03:50:36.506867Z",
     "start_time": "2021-05-12T03:50:29.126095Z"
    }
   },
   "outputs": [
    {
     "data": {
      "image/png": "[encoded data removed]",
      "text/plain": [
       "<Figure size 432x288 with 1 Axes>"
      ]
     },
     "metadata": {
      "needs_background": "light"
     },
     "output_type": "display_data"
    },
    {
     "data": {
      "image/png": "[encoded data removed]",
      "text/plain": [
       "<Figure size 432x288 with 1 Axes>"
      ]
     },
     "metadata": {
      "needs_background": "light"
     },
     "output_type": "display_data"
    },
    {
     "data": {
      "image/png": "[encoded data removed]",
      "text/plain": [
       "<Figure size 432x288 with 1 Axes>"
      ]
     },
     "metadata": {
      "needs_background": "light"
     },
     "output_type": "display_data"
    },
    {
     "data": {
      "image/png": "[encoded data removed]",
      "text/plain": [
       "<Figure size 432x288 with 1 Axes>"
      ]
     },
     "metadata": {
      "needs_background": "light"
     },
     "output_type": "display_data"
    },
    {
     "data": {
      "image/png": "[encoded data removed]",
      "text/plain": [
       "<Figure size 432x288 with 1 Axes>"
      ]
     },
     "metadata": {
      "needs_background": "light"
     },
     "output_type": "display_data"
    },
    {
     "data": {
      "image/png": "[encoded data removed]",
      "text/plain": [
       "<Figure size 432x288 with 1 Axes>"
      ]
     },
     "metadata": {
      "needs_background": "light"
     },
     "output_type": "display_data"
    },
    {
     "data": {
      "image/png": "[encoded data removed]",
      "text/plain": [
       "<Figure size 432x288 with 1 Axes>"
      ]
     },
     "metadata": {
      "needs_background": "light"
     },
     "output_type": "display_data"
    },
    {
     "data": {
      "text/html": [
       "<div>\n",
       "<style scoped>\n",
       "    .dataframe tbody tr th:only-of-type {\n",
       "        vertical-align: middle;\n",
       "    }\n",
       "\n",
       "    .dataframe tbody tr th {\n",
       "        vertical-align: top;\n",
       "    }\n",
       "\n",
       "    .dataframe thead th {\n",
       "        text-align: right;\n",
       "    }\n",
       "</style>\n",
       "<table border=\"1\" class=\"dataframe\">\n",
       "  <thead>\n",
       "    <tr style=\"text-align: right;\">\n",
       "      <th>MONTH</th>\n",
       "      <th>201701</th>\n",
       "      <th>201702</th>\n",
       "      <th>201703</th>\n",
       "      <th>201705</th>\n",
       "      <th>201706</th>\n",
       "    </tr>\n",
       "    <tr>\n",
       "      <th>predictor</th>\n",
       "      <th></th>\n",
       "      <th></th>\n",
       "      <th></th>\n",
       "      <th></th>\n",
       "      <th></th>\n",
       "    </tr>\n",
       "  </thead>\n",
       "  <tbody>\n",
       "    <tr>\n",
       "      <th>BUREAU_X</th>\n",
       "      <td>0.443884</td>\n",
       "      <td>0.444574</td>\n",
       "      <td>0.440021</td>\n",
       "      <td>1.0</td>\n",
       "      <td>1.0</td>\n",
       "    </tr>\n",
       "    <tr>\n",
       "      <th>BUREAU_Y</th>\n",
       "      <td>0.606262</td>\n",
       "      <td>0.600350</td>\n",
       "      <td>0.607808</td>\n",
       "      <td>1.0</td>\n",
       "      <td>1.0</td>\n",
       "    </tr>\n",
       "    <tr>\n",
       "      <th>DEVICE</th>\n",
       "      <td>1.000000</td>\n",
       "      <td>1.000000</td>\n",
       "      <td>1.000000</td>\n",
       "      <td>0.0</td>\n",
       "      <td>0.0</td>\n",
       "    </tr>\n",
       "    <tr>\n",
       "      <th>INTERNAL</th>\n",
       "      <td>0.000000</td>\n",
       "      <td>0.000000</td>\n",
       "      <td>0.000000</td>\n",
       "      <td>0.0</td>\n",
       "      <td>0.0</td>\n",
       "    </tr>\n",
       "    <tr>\n",
       "      <th>TELCO_A</th>\n",
       "      <td>0.645264</td>\n",
       "      <td>0.621062</td>\n",
       "      <td>0.633402</td>\n",
       "      <td>1.0</td>\n",
       "      <td>1.0</td>\n",
       "    </tr>\n",
       "    <tr>\n",
       "      <th>TELCO_B</th>\n",
       "      <td>0.456354</td>\n",
       "      <td>0.474329</td>\n",
       "      <td>0.472337</td>\n",
       "      <td>1.0</td>\n",
       "      <td>1.0</td>\n",
       "    </tr>\n",
       "    <tr>\n",
       "      <th>UTILITY</th>\n",
       "      <td>0.000000</td>\n",
       "      <td>0.000000</td>\n",
       "      <td>0.000000</td>\n",
       "      <td>1.0</td>\n",
       "      <td>1.0</td>\n",
       "    </tr>\n",
       "  </tbody>\n",
       "</table>\n",
       "</div>"
      ],
      "text/plain": [
       "MONTH        201701    201702    201703  201705  201706\n",
       "predictor                                              \n",
       "BUREAU_X   0.443884  0.444574  0.440021     1.0     1.0\n",
       "BUREAU_Y   0.606262  0.600350  0.607808     1.0     1.0\n",
       "DEVICE     1.000000  1.000000  1.000000     0.0     0.0\n",
       "INTERNAL   0.000000  0.000000  0.000000     0.0     0.0\n",
       "TELCO_A    0.645264  0.621062  0.633402     1.0     1.0\n",
       "TELCO_B    0.456354  0.474329  0.472337     1.0     1.0\n",
       "UTILITY    0.000000  0.000000  0.000000     1.0     1.0"
      ]
     },
     "execution_count": 21,
     "metadata": {},
     "output_type": "execute_result"
    }
   ],
   "source": [
    "documentation.EmptyInTime(data,\n",
    "                          sample=\"Observable\",\n",
    "                          predictors=cols_pred,\n",
    "                          empty_representations=[np.nan],\n",
    "                          use_weight=False,\n",
    "                          show_plot=True,\n",
    "                          output_folder=output_folder + \"/nan_share/\",\n",
    "                         )"
   ]
  },
  {
   "cell_type": "markdown",
   "metadata": {},
   "source": [
    "## Mask definitions"
   ]
  },
  {
   "cell_type": "markdown",
   "metadata": {},
   "source": [
    "### Split to samples\n",
    "\n",
    "Split data into five parts (training and validation). GM model is usually trained on small and time-limited sample, so test and out of time samples are usually not created.\n",
    "\n",
    "This will add a new column indicating to which part the observations belong.\n",
    "\n",
    "- The *splitting_points* (first date of train and first date of out of time sample) can be adjusted (there can be any number of such splitting points) - it should correspond to values of column specified by *time_column* parameter. If empty list is used, no time splits will be done.\n",
    "- For each time interval, you can create multiple random splits (i.e. train/valid/test), the ratio of sizes of these splits is set by parameter *sample_sizes*. In our case we have just one time interval, so only one list of sample sizes.\n",
    "- The random splits can be stratified by multiple variables, which are specified in a list - argument to *stratify_by_columns* parameter\n",
    "- Set the random seed so the results are replicable\n",
    "\n",
    "**Before you run data split, make sure that index in your dataset in unique!** If not, you need to create new unique index."
   ]
  },
  {
   "cell_type": "code",
   "execution_count": 22,
   "metadata": {
    "ExecuteTime": {
     "end_time": "2021-05-12T03:50:36.530386Z",
     "start_time": "2021-05-12T03:50:36.517667Z"
    }
   },
   "outputs": [],
   "source": [
    "# data['INDEX_ORIGINAL'] = data.index\n",
    "# data.reset_index(inplace=True)"
   ]
  },
  {
   "cell_type": "code",
   "execution_count": 23,
   "metadata": {
    "ExecuteTime": {
     "end_time": "2021-05-12T03:50:36.872023Z",
     "start_time": "2021-05-12T03:50:36.534001Z"
    }
   },
   "outputs": [
    {
     "name": "stdout",
     "output_type": "stream",
     "text": [
      "train   9,988 rows\n",
      "valid   9,988 rows\n"
     ]
    }
   ],
   "source": [
    "from scoring.data_manipulation import data_sample_time_split\n",
    "\n",
    "col_datatype = 'data_type'\n",
    "\n",
    "data[col_datatype] = data_sample_time_split(data, \n",
    "                           time_column = col_month,\n",
    "                           splitting_points = [],\n",
    "                           sample_sizes = [[ 0.5   , 0.5   ]],\n",
    "                           sample_names = [['train','valid']],\n",
    "                           stratify_by_columns = [col_month,col_target],\n",
    "                           random_seed = 1234)"
   ]
  },
  {
   "cell_type": "markdown",
   "metadata": {},
   "source": [
    "Masks: boolean vectors corresponding to rows in the datasets. True if an row is observable and its data type belongs to given sample.\n",
    "\n",
    "`observable_mask` is mask where all observable rows are included (i.e. valid observations from all the samples)\n",
    "\n",
    "`everything_mask` is mask which is True for all rows."
   ]
  },
  {
   "cell_type": "code",
   "execution_count": 24,
   "metadata": {
    "ExecuteTime": {
     "end_time": "2021-05-11T07:48:56.236340Z",
     "start_time": "2021-05-11T07:48:56.225402Z"
    }
   },
   "outputs": [],
   "source": [
    "train_mask = (data[col_datatype] == 'train') & (data[col_base] == 1) \n",
    "valid_mask = (data[col_datatype] == 'valid') & (data[col_base] == 1) \n",
    "observable_mask = data[col_base] == 1\n",
    "everything_mask = pd.notnull(data[col_datatype])"
   ]
  },
  {
   "cell_type": "markdown",
   "metadata": {},
   "source": [
    "Add masks to _documentation_ object."
   ]
  },
  {
   "cell_type": "code",
   "execution_count": 25,
   "metadata": {
    "ExecuteTime": {
     "end_time": "2021-05-11T07:48:57.948348Z",
     "start_time": "2021-05-11T07:48:57.945125Z"
    }
   },
   "outputs": [],
   "source": [
    "documentation.sample_dict = {\n",
    "    \"Train\": train_mask,\n",
    "    \"Valid\": valid_mask,\n",
    "    \"Observable\": observable_mask,\n",
    "    \"Everything\": everything_mask,\n",
    "}"
   ]
  },
  {
   "cell_type": "markdown",
   "metadata": {},
   "source": [
    "Data summary (number of defaults, number in base, number of observations, default rate) by month and by sample"
   ]
  },
  {
   "cell_type": "code",
   "execution_count": 26,
   "metadata": {
    "ExecuteTime": {
     "end_time": "2021-05-11T07:48:58.232651Z",
     "start_time": "2021-05-11T07:48:58.180029Z"
    }
   },
   "outputs": [
    {
     "data": {
      "text/html": [
       "<div>\n",
       "<style scoped>\n",
       "    .dataframe tbody tr th:only-of-type {\n",
       "        vertical-align: middle;\n",
       "    }\n",
       "\n",
       "    .dataframe tbody tr th {\n",
       "        vertical-align: top;\n",
       "    }\n",
       "\n",
       "    .dataframe thead th {\n",
       "        text-align: right;\n",
       "    }\n",
       "</style>\n",
       "<table border=\"1\" class=\"dataframe\">\n",
       "  <thead>\n",
       "    <tr style=\"text-align: right;\">\n",
       "      <th></th>\n",
       "      <th></th>\n",
       "      <th>FPD30</th>\n",
       "      <th>APPROVED</th>\n",
       "      <th>Rows</th>\n",
       "      <th>FPD30 rate</th>\n",
       "    </tr>\n",
       "    <tr>\n",
       "      <th>MONTH</th>\n",
       "      <th>data_type</th>\n",
       "      <th></th>\n",
       "      <th></th>\n",
       "      <th></th>\n",
       "      <th></th>\n",
       "    </tr>\n",
       "  </thead>\n",
       "  <tbody>\n",
       "    <tr>\n",
       "      <th rowspan=\"2\" valign=\"top\">201701</th>\n",
       "      <th>train</th>\n",
       "      <td>169.0</td>\n",
       "      <td>1884.0</td>\n",
       "      <td>2569</td>\n",
       "      <td>0.089703</td>\n",
       "    </tr>\n",
       "    <tr>\n",
       "      <th>valid</th>\n",
       "      <td>169.0</td>\n",
       "      <td>1885.0</td>\n",
       "      <td>2571</td>\n",
       "      <td>0.089655</td>\n",
       "    </tr>\n",
       "    <tr>\n",
       "      <th rowspan=\"2\" valign=\"top\">201702</th>\n",
       "      <th>train</th>\n",
       "      <td>150.0</td>\n",
       "      <td>1714.0</td>\n",
       "      <td>2321</td>\n",
       "      <td>0.087515</td>\n",
       "    </tr>\n",
       "    <tr>\n",
       "      <th>valid</th>\n",
       "      <td>150.0</td>\n",
       "      <td>1714.0</td>\n",
       "      <td>2321</td>\n",
       "      <td>0.087515</td>\n",
       "    </tr>\n",
       "    <tr>\n",
       "      <th rowspan=\"2\" valign=\"top\">201703</th>\n",
       "      <th>train</th>\n",
       "      <td>187.0</td>\n",
       "      <td>1935.0</td>\n",
       "      <td>2598</td>\n",
       "      <td>0.096641</td>\n",
       "    </tr>\n",
       "    <tr>\n",
       "      <th>valid</th>\n",
       "      <td>186.0</td>\n",
       "      <td>1933.0</td>\n",
       "      <td>2596</td>\n",
       "      <td>0.096223</td>\n",
       "    </tr>\n",
       "    <tr>\n",
       "      <th rowspan=\"2\" valign=\"top\">201705</th>\n",
       "      <th>train</th>\n",
       "      <td>0.0</td>\n",
       "      <td>2.0</td>\n",
       "      <td>4</td>\n",
       "      <td>0.000000</td>\n",
       "    </tr>\n",
       "    <tr>\n",
       "      <th>valid</th>\n",
       "      <td>0.0</td>\n",
       "      <td>2.0</td>\n",
       "      <td>3</td>\n",
       "      <td>0.000000</td>\n",
       "    </tr>\n",
       "    <tr>\n",
       "      <th rowspan=\"2\" valign=\"top\">201706</th>\n",
       "      <th>train</th>\n",
       "      <td>182.0</td>\n",
       "      <td>1845.0</td>\n",
       "      <td>2496</td>\n",
       "      <td>0.098645</td>\n",
       "    </tr>\n",
       "    <tr>\n",
       "      <th>valid</th>\n",
       "      <td>182.0</td>\n",
       "      <td>1846.0</td>\n",
       "      <td>2497</td>\n",
       "      <td>0.098592</td>\n",
       "    </tr>\n",
       "  </tbody>\n",
       "</table>\n",
       "</div>"
      ],
      "text/plain": [
       "                  FPD30  APPROVED  Rows  FPD30 rate\n",
       "MONTH  data_type                                   \n",
       "201701 train      169.0    1884.0  2569    0.089703\n",
       "       valid      169.0    1885.0  2571    0.089655\n",
       "201702 train      150.0    1714.0  2321    0.087515\n",
       "       valid      150.0    1714.0  2321    0.087515\n",
       "201703 train      187.0    1935.0  2598    0.096641\n",
       "       valid      186.0    1933.0  2596    0.096223\n",
       "201705 train        0.0       2.0     4    0.000000\n",
       "       valid        0.0       2.0     3    0.000000\n",
       "201706 train      182.0    1845.0  2496    0.098645\n",
       "       valid      182.0    1846.0  2497    0.098592"
      ]
     },
     "metadata": {},
     "output_type": "display_data"
    },
    {
     "data": {
      "text/html": [
       "<div>\n",
       "<style scoped>\n",
       "    .dataframe tbody tr th:only-of-type {\n",
       "        vertical-align: middle;\n",
       "    }\n",
       "\n",
       "    .dataframe tbody tr th {\n",
       "        vertical-align: top;\n",
       "    }\n",
       "\n",
       "    .dataframe thead tr th {\n",
       "        text-align: left;\n",
       "    }\n",
       "\n",
       "    .dataframe thead tr:last-of-type th {\n",
       "        text-align: right;\n",
       "    }\n",
       "</style>\n",
       "<table border=\"1\" class=\"dataframe\">\n",
       "  <thead>\n",
       "    <tr>\n",
       "      <th></th>\n",
       "      <th colspan=\"2\" halign=\"left\">FPD30</th>\n",
       "      <th colspan=\"2\" halign=\"left\">APPROVED</th>\n",
       "      <th colspan=\"2\" halign=\"left\">Rows</th>\n",
       "      <th colspan=\"2\" halign=\"left\">FPD30 rate</th>\n",
       "    </tr>\n",
       "    <tr>\n",
       "      <th>data_type</th>\n",
       "      <th>train</th>\n",
       "      <th>valid</th>\n",
       "      <th>train</th>\n",
       "      <th>valid</th>\n",
       "      <th>train</th>\n",
       "      <th>valid</th>\n",
       "      <th>train</th>\n",
       "      <th>valid</th>\n",
       "    </tr>\n",
       "    <tr>\n",
       "      <th>MONTH</th>\n",
       "      <th></th>\n",
       "      <th></th>\n",
       "      <th></th>\n",
       "      <th></th>\n",
       "      <th></th>\n",
       "      <th></th>\n",
       "      <th></th>\n",
       "      <th></th>\n",
       "    </tr>\n",
       "  </thead>\n",
       "  <tbody>\n",
       "    <tr>\n",
       "      <th>201701</th>\n",
       "      <td>169.0</td>\n",
       "      <td>169.0</td>\n",
       "      <td>1884.0</td>\n",
       "      <td>1885.0</td>\n",
       "      <td>2569</td>\n",
       "      <td>2571</td>\n",
       "      <td>0.089703</td>\n",
       "      <td>0.089655</td>\n",
       "    </tr>\n",
       "    <tr>\n",
       "      <th>201702</th>\n",
       "      <td>150.0</td>\n",
       "      <td>150.0</td>\n",
       "      <td>1714.0</td>\n",
       "      <td>1714.0</td>\n",
       "      <td>2321</td>\n",
       "      <td>2321</td>\n",
       "      <td>0.087515</td>\n",
       "      <td>0.087515</td>\n",
       "    </tr>\n",
       "    <tr>\n",
       "      <th>201703</th>\n",
       "      <td>187.0</td>\n",
       "      <td>186.0</td>\n",
       "      <td>1935.0</td>\n",
       "      <td>1933.0</td>\n",
       "      <td>2598</td>\n",
       "      <td>2596</td>\n",
       "      <td>0.096641</td>\n",
       "      <td>0.096223</td>\n",
       "    </tr>\n",
       "    <tr>\n",
       "      <th>201705</th>\n",
       "      <td>0.0</td>\n",
       "      <td>0.0</td>\n",
       "      <td>2.0</td>\n",
       "      <td>2.0</td>\n",
       "      <td>4</td>\n",
       "      <td>3</td>\n",
       "      <td>0.000000</td>\n",
       "      <td>0.000000</td>\n",
       "    </tr>\n",
       "    <tr>\n",
       "      <th>201706</th>\n",
       "      <td>182.0</td>\n",
       "      <td>182.0</td>\n",
       "      <td>1845.0</td>\n",
       "      <td>1846.0</td>\n",
       "      <td>2496</td>\n",
       "      <td>2497</td>\n",
       "      <td>0.098645</td>\n",
       "      <td>0.098592</td>\n",
       "    </tr>\n",
       "  </tbody>\n",
       "</table>\n",
       "</div>"
      ],
      "text/plain": [
       "           FPD30        APPROVED          Rows       FPD30 rate          \n",
       "data_type  train  valid    train   valid train valid      train     valid\n",
       "MONTH                                                                    \n",
       "201701     169.0  169.0   1884.0  1885.0  2569  2571   0.089703  0.089655\n",
       "201702     150.0  150.0   1714.0  1714.0  2321  2321   0.087515  0.087515\n",
       "201703     187.0  186.0   1935.0  1933.0  2598  2596   0.096641  0.096223\n",
       "201705       0.0    0.0      2.0     2.0     4     3   0.000000  0.000000\n",
       "201706     182.0  182.0   1845.0  1846.0  2496  2497   0.098645  0.098592"
      ]
     },
     "metadata": {},
     "output_type": "display_data"
    }
   ],
   "source": [
    "data_summary = data.groupby([col_month,col_datatype]).aggregate({\n",
    "    col_target:'sum',col_base:['sum','count']\n",
    "})\n",
    "data_summary.columns = [col_target,col_base,'Rows']\n",
    "data_summary[col_target+' rate'] = data_summary[col_target]/data_summary[col_base]\n",
    "display(data_summary)\n",
    "\n",
    "data_summary = data_summary.reset_index(level=col_datatype).pivot(columns=col_datatype)\n",
    "display(data_summary)\n",
    "data_summary.to_csv(output_folder+'/analysis/summary.csv')"
   ]
  },
  {
   "cell_type": "markdown",
   "metadata": {},
   "source": [
    "# Reweighting\n",
    "\n",
    "This part serves to set weights based on hit rates of each score (data source).\n",
    "\n",
    "If we have only limited number of observations for each score, but in production, we expect different hit rates, we can assign weights to each observation to give it such importance that it reflects the expected hit rates.\n",
    "\n",
    "E.g. if we have only 25% of hits in the development population for certain data source, but we expect it to be 50% in production, we assign weight=3 to this hit population, so now the non-hit population and hit population have the same sum of weights."
   ]
  },
  {
   "cell_type": "markdown",
   "metadata": {},
   "source": [
    "## Hit rates\n",
    "\n",
    "Calculates hit rates for each data source in our development data"
   ]
  },
  {
   "cell_type": "code",
   "execution_count": 27,
   "metadata": {
    "ExecuteTime": {
     "end_time": "2021-05-11T07:48:58.553966Z",
     "start_time": "2021-05-11T07:48:58.544952Z"
    }
   },
   "outputs": [],
   "source": [
    "hit_flags = data[[col_weight, col_month]].copy()\n",
    "for col in cols_pred:\n",
    "    hit_flags[col] = data[col].notnull()"
   ]
  },
  {
   "cell_type": "markdown",
   "metadata": {},
   "source": [
    "### Hits by score"
   ]
  },
  {
   "cell_type": "code",
   "execution_count": 28,
   "metadata": {
    "ExecuteTime": {
     "end_time": "2021-05-11T07:48:58.811163Z",
     "start_time": "2021-05-11T07:48:58.784704Z"
    }
   },
   "outputs": [
    {
     "data": {
      "text/html": [
       "<div>\n",
       "<style scoped>\n",
       "    .dataframe tbody tr th:only-of-type {\n",
       "        vertical-align: middle;\n",
       "    }\n",
       "\n",
       "    .dataframe tbody tr th {\n",
       "        vertical-align: top;\n",
       "    }\n",
       "\n",
       "    .dataframe thead th {\n",
       "        text-align: right;\n",
       "    }\n",
       "</style>\n",
       "<table border=\"1\" class=\"dataframe\">\n",
       "  <thead>\n",
       "    <tr style=\"text-align: right;\">\n",
       "      <th></th>\n",
       "      <th>Weighted hit rate %</th>\n",
       "    </tr>\n",
       "    <tr>\n",
       "      <th>Variable</th>\n",
       "      <th></th>\n",
       "    </tr>\n",
       "  </thead>\n",
       "  <tbody>\n",
       "    <tr>\n",
       "      <th>INTERNAL</th>\n",
       "      <td>100.000000</td>\n",
       "    </tr>\n",
       "    <tr>\n",
       "      <th>TELCO_A</th>\n",
       "      <td>27.466125</td>\n",
       "    </tr>\n",
       "    <tr>\n",
       "      <th>TELCO_B</th>\n",
       "      <td>39.918699</td>\n",
       "    </tr>\n",
       "    <tr>\n",
       "      <th>BUREAU_X</th>\n",
       "      <td>41.775068</td>\n",
       "    </tr>\n",
       "    <tr>\n",
       "      <th>BUREAU_Y</th>\n",
       "      <td>29.613821</td>\n",
       "    </tr>\n",
       "    <tr>\n",
       "      <th>UTILITY</th>\n",
       "      <td>74.966125</td>\n",
       "    </tr>\n",
       "    <tr>\n",
       "      <th>DEVICE</th>\n",
       "      <td>25.033875</td>\n",
       "    </tr>\n",
       "  </tbody>\n",
       "</table>\n",
       "</div>"
      ],
      "text/plain": [
       "          Weighted hit rate %\n",
       "Variable                     \n",
       "INTERNAL           100.000000\n",
       "TELCO_A             27.466125\n",
       "TELCO_B             39.918699\n",
       "BUREAU_X            41.775068\n",
       "BUREAU_Y            29.613821\n",
       "UTILITY             74.966125\n",
       "DEVICE              25.033875"
      ]
     },
     "metadata": {},
     "output_type": "display_data"
    }
   ],
   "source": [
    "hit_rates = []\n",
    "for col in cols_pred:\n",
    "    hit_rates.append({'Variable': col,\n",
    "                     'Weighted hit rate %': hit_flags[observable_mask & hit_flags[col]][col_weight].sum()*100 /\n",
    "                                      hit_flags[observable_mask][col_weight].sum(),\n",
    "                     })\n",
    "hit_rates = pd.DataFrame(hit_rates).set_index('Variable')\n",
    "display(hit_rates)\n",
    "hit_rates.to_csv(output_folder+'/predictors/hit_rates_unweighted.csv')"
   ]
  },
  {
   "cell_type": "markdown",
   "metadata": {},
   "source": [
    "### Hits by score in time"
   ]
  },
  {
   "cell_type": "code",
   "execution_count": 29,
   "metadata": {
    "ExecuteTime": {
     "end_time": "2021-05-11T07:48:59.164265Z",
     "start_time": "2021-05-11T07:48:59.002077Z"
    }
   },
   "outputs": [
    {
     "data": {
      "text/html": [
       "<div>\n",
       "<style scoped>\n",
       "    .dataframe tbody tr th:only-of-type {\n",
       "        vertical-align: middle;\n",
       "    }\n",
       "\n",
       "    .dataframe tbody tr th {\n",
       "        vertical-align: top;\n",
       "    }\n",
       "\n",
       "    .dataframe thead th {\n",
       "        text-align: right;\n",
       "    }\n",
       "</style>\n",
       "<table border=\"1\" class=\"dataframe\">\n",
       "  <thead>\n",
       "    <tr style=\"text-align: right;\">\n",
       "      <th>Month</th>\n",
       "      <th>201701</th>\n",
       "      <th>201702</th>\n",
       "      <th>201703</th>\n",
       "      <th>201705</th>\n",
       "      <th>201706</th>\n",
       "    </tr>\n",
       "    <tr>\n",
       "      <th>Variable</th>\n",
       "      <th></th>\n",
       "      <th></th>\n",
       "      <th></th>\n",
       "      <th></th>\n",
       "      <th></th>\n",
       "    </tr>\n",
       "  </thead>\n",
       "  <tbody>\n",
       "    <tr>\n",
       "      <th>INTERNAL</th>\n",
       "      <td>100.000000</td>\n",
       "      <td>100.000000</td>\n",
       "      <td>100.000000</td>\n",
       "      <td>100.0</td>\n",
       "      <td>100.0</td>\n",
       "    </tr>\n",
       "    <tr>\n",
       "      <th>TELCO_A</th>\n",
       "      <td>35.473600</td>\n",
       "      <td>37.893816</td>\n",
       "      <td>36.659772</td>\n",
       "      <td>0.0</td>\n",
       "      <td>0.0</td>\n",
       "    </tr>\n",
       "    <tr>\n",
       "      <th>TELCO_B</th>\n",
       "      <td>54.364553</td>\n",
       "      <td>52.567095</td>\n",
       "      <td>52.766287</td>\n",
       "      <td>0.0</td>\n",
       "      <td>0.0</td>\n",
       "    </tr>\n",
       "    <tr>\n",
       "      <th>BUREAU_X</th>\n",
       "      <td>55.611568</td>\n",
       "      <td>55.542590</td>\n",
       "      <td>55.997932</td>\n",
       "      <td>0.0</td>\n",
       "      <td>0.0</td>\n",
       "    </tr>\n",
       "    <tr>\n",
       "      <th>BUREAU_Y</th>\n",
       "      <td>39.373839</td>\n",
       "      <td>39.964994</td>\n",
       "      <td>39.219235</td>\n",
       "      <td>0.0</td>\n",
       "      <td>0.0</td>\n",
       "    </tr>\n",
       "    <tr>\n",
       "      <th>UTILITY</th>\n",
       "      <td>100.000000</td>\n",
       "      <td>100.000000</td>\n",
       "      <td>100.000000</td>\n",
       "      <td>0.0</td>\n",
       "      <td>0.0</td>\n",
       "    </tr>\n",
       "    <tr>\n",
       "      <th>DEVICE</th>\n",
       "      <td>0.000000</td>\n",
       "      <td>0.000000</td>\n",
       "      <td>0.000000</td>\n",
       "      <td>100.0</td>\n",
       "      <td>100.0</td>\n",
       "    </tr>\n",
       "  </tbody>\n",
       "</table>\n",
       "</div>"
      ],
      "text/plain": [
       "Month         201701      201702      201703  201705  201706\n",
       "Variable                                                    \n",
       "INTERNAL  100.000000  100.000000  100.000000   100.0   100.0\n",
       "TELCO_A    35.473600   37.893816   36.659772     0.0     0.0\n",
       "TELCO_B    54.364553   52.567095   52.766287     0.0     0.0\n",
       "BUREAU_X   55.611568   55.542590   55.997932     0.0     0.0\n",
       "BUREAU_Y   39.373839   39.964994   39.219235     0.0     0.0\n",
       "UTILITY   100.000000  100.000000  100.000000     0.0     0.0\n",
       "DEVICE      0.000000    0.000000    0.000000   100.0   100.0"
      ]
     },
     "metadata": {},
     "output_type": "display_data"
    }
   ],
   "source": [
    "hit_rates_time = []\n",
    "for col in cols_pred:\n",
    "    for month in hit_flags[col_month].unique():\n",
    "        hit_rates_time.append({'Variable': col,\n",
    "                               'Month': month,\n",
    "                               'Weighted hit rate %': hit_flags[observable_mask & hit_flags[col] & (hit_flags[col_month]==month)][col_weight].sum()*100 /\n",
    "                                                hit_flags[observable_mask & (hit_flags[col_month]==month)][col_weight].sum(),\n",
    "                              })\n",
    "hit_rates_time = pd.DataFrame(hit_rates_time).pivot(index='Variable', columns='Month', values='Weighted hit rate %').reindex(cols_pred)\n",
    "display(hit_rates_time)\n",
    "hit_rates_time.to_csv(output_folder+'/predictors/hit_rate_time.csv')"
   ]
  },
  {
   "cell_type": "markdown",
   "metadata": {},
   "source": [
    "### Combined hits\n",
    "\n",
    "Caluclate hit rate interactions, i.e. what are the shares of various data source hits."
   ]
  },
  {
   "cell_type": "code",
   "execution_count": 30,
   "metadata": {
    "ExecuteTime": {
     "end_time": "2021-05-11T07:48:59.302043Z",
     "start_time": "2021-05-11T07:48:59.271174Z"
    }
   },
   "outputs": [
    {
     "data": {
      "text/html": [
       "<div>\n",
       "<style scoped>\n",
       "    .dataframe tbody tr th:only-of-type {\n",
       "        vertical-align: middle;\n",
       "    }\n",
       "\n",
       "    .dataframe tbody tr th {\n",
       "        vertical-align: top;\n",
       "    }\n",
       "\n",
       "    .dataframe thead th {\n",
       "        text-align: right;\n",
       "    }\n",
       "</style>\n",
       "<table border=\"1\" class=\"dataframe\">\n",
       "  <thead>\n",
       "    <tr style=\"text-align: right;\">\n",
       "      <th></th>\n",
       "      <th></th>\n",
       "      <th></th>\n",
       "      <th></th>\n",
       "      <th></th>\n",
       "      <th></th>\n",
       "      <th></th>\n",
       "      <th>Weighted obs %</th>\n",
       "    </tr>\n",
       "    <tr>\n",
       "      <th>INTERNAL</th>\n",
       "      <th>TELCO_A</th>\n",
       "      <th>TELCO_B</th>\n",
       "      <th>BUREAU_X</th>\n",
       "      <th>BUREAU_Y</th>\n",
       "      <th>UTILITY</th>\n",
       "      <th>DEVICE</th>\n",
       "      <th></th>\n",
       "    </tr>\n",
       "  </thead>\n",
       "  <tbody>\n",
       "    <tr>\n",
       "      <th rowspan=\"13\" valign=\"top\">True</th>\n",
       "      <th rowspan=\"9\" valign=\"top\">False</th>\n",
       "      <th rowspan=\"5\" valign=\"top\">False</th>\n",
       "      <th rowspan=\"3\" valign=\"top\">False</th>\n",
       "      <th rowspan=\"2\" valign=\"top\">False</th>\n",
       "      <th>False</th>\n",
       "      <th>True</th>\n",
       "      <td>25.033875</td>\n",
       "    </tr>\n",
       "    <tr>\n",
       "      <th>True</th>\n",
       "      <th>False</th>\n",
       "      <td>2.093496</td>\n",
       "    </tr>\n",
       "    <tr>\n",
       "      <th>True</th>\n",
       "      <th>True</th>\n",
       "      <th>False</th>\n",
       "      <td>1.253388</td>\n",
       "    </tr>\n",
       "    <tr>\n",
       "      <th rowspan=\"2\" valign=\"top\">True</th>\n",
       "      <th>False</th>\n",
       "      <th>True</th>\n",
       "      <th>False</th>\n",
       "      <td>2.682927</td>\n",
       "    </tr>\n",
       "    <tr>\n",
       "      <th>True</th>\n",
       "      <th>True</th>\n",
       "      <th>False</th>\n",
       "      <td>1.551491</td>\n",
       "    </tr>\n",
       "    <tr>\n",
       "      <th rowspan=\"4\" valign=\"top\">True</th>\n",
       "      <th rowspan=\"2\" valign=\"top\">False</th>\n",
       "      <th>False</th>\n",
       "      <th>True</th>\n",
       "      <th>False</th>\n",
       "      <td>10.365854</td>\n",
       "    </tr>\n",
       "    <tr>\n",
       "      <th>True</th>\n",
       "      <th>True</th>\n",
       "      <th>False</th>\n",
       "      <td>7.025745</td>\n",
       "    </tr>\n",
       "    <tr>\n",
       "      <th rowspan=\"2\" valign=\"top\">True</th>\n",
       "      <th>False</th>\n",
       "      <th>True</th>\n",
       "      <th>False</th>\n",
       "      <td>13.482385</td>\n",
       "    </tr>\n",
       "    <tr>\n",
       "      <th>True</th>\n",
       "      <th>True</th>\n",
       "      <th>False</th>\n",
       "      <td>9.044715</td>\n",
       "    </tr>\n",
       "    <tr>\n",
       "      <th rowspan=\"4\" valign=\"top\">True</th>\n",
       "      <th rowspan=\"4\" valign=\"top\">False</th>\n",
       "      <th rowspan=\"2\" valign=\"top\">False</th>\n",
       "      <th>False</th>\n",
       "      <th>True</th>\n",
       "      <th>False</th>\n",
       "      <td>7.567751</td>\n",
       "    </tr>\n",
       "    <tr>\n",
       "      <th>True</th>\n",
       "      <th>True</th>\n",
       "      <th>False</th>\n",
       "      <td>4.884824</td>\n",
       "    </tr>\n",
       "    <tr>\n",
       "      <th rowspan=\"2\" valign=\"top\">True</th>\n",
       "      <th>False</th>\n",
       "      <th>True</th>\n",
       "      <th>False</th>\n",
       "      <td>9.159892</td>\n",
       "    </tr>\n",
       "    <tr>\n",
       "      <th>True</th>\n",
       "      <th>True</th>\n",
       "      <th>False</th>\n",
       "      <td>5.853659</td>\n",
       "    </tr>\n",
       "  </tbody>\n",
       "</table>\n",
       "</div>"
      ],
      "text/plain": [
       "                                                           Weighted obs %\n",
       "INTERNAL TELCO_A TELCO_B BUREAU_X BUREAU_Y UTILITY DEVICE                \n",
       "True     False   False   False    False    False   True         25.033875\n",
       "                                           True    False         2.093496\n",
       "                                  True     True    False         1.253388\n",
       "                         True     False    True    False         2.682927\n",
       "                                  True     True    False         1.551491\n",
       "                 True    False    False    True    False        10.365854\n",
       "                                  True     True    False         7.025745\n",
       "                         True     False    True    False        13.482385\n",
       "                                  True     True    False         9.044715\n",
       "         True    False   False    False    True    False         7.567751\n",
       "                                  True     True    False         4.884824\n",
       "                         True     False    True    False         9.159892\n",
       "                                  True     True    False         5.853659"
      ]
     },
     "metadata": {},
     "output_type": "display_data"
    }
   ],
   "source": [
    "hit_rates_comb = pd.DataFrame(hit_flags[observable_mask].groupby(cols_pred)[col_weight].sum()*100 /\n",
    "                              hit_flags[observable_mask][col_weight].sum()).rename(columns={col_weight:'Weighted obs %'})\n",
    "display(hit_rates_comb)\n",
    "hit_rates_comb.to_csv(output_folder+'/predictors/hit_rate_interactions.csv')"
   ]
  },
  {
   "cell_type": "markdown",
   "metadata": {},
   "source": [
    "## Setting desired situation\n",
    "\n",
    "Now we set what are the hit rates that we expect, i.e. what will be the situation in production."
   ]
  },
  {
   "cell_type": "code",
   "execution_count": 31,
   "metadata": {
    "ExecuteTime": {
     "end_time": "2021-05-11T07:48:59.511043Z",
     "start_time": "2021-05-11T07:48:59.504981Z"
    }
   },
   "outputs": [],
   "source": [
    "hit_desired = hit_rates.copy()\n",
    "hit_desired['Desired hit rate %'] = np.nan"
   ]
  },
  {
   "cell_type": "markdown",
   "metadata": {},
   "source": [
    "### Setting desired hit rates in code\n",
    "\n",
    "Either we can hardcode these numbers into the dataframe with desired hit rates..."
   ]
  },
  {
   "cell_type": "code",
   "execution_count": 32,
   "metadata": {
    "ExecuteTime": {
     "end_time": "2021-05-11T07:48:59.805492Z",
     "start_time": "2021-05-11T07:48:59.790700Z"
    }
   },
   "outputs": [],
   "source": [
    "hit_desired.loc['INTERNAL','Desired hit rate %'] = 100\n",
    "hit_desired.loc['TELCO_A','Desired hit rate %'] = 50\n",
    "hit_desired.loc['TELCO_B','Desired hit rate %'] = 50\n",
    "hit_desired.loc['BUREAU_X','Desired hit rate %'] = 40\n",
    "hit_desired.loc['BUREAU_Y','Desired hit rate %'] = 40\n",
    "hit_desired.loc['UTILITY','Desired hit rate %'] = 65\n",
    "hit_desired.loc['DEVICE','Desired hit rate %'] = 50"
   ]
  },
  {
   "cell_type": "markdown",
   "metadata": {},
   "source": [
    "### Interactive tool\n",
    "\n",
    "...or we can use interactive qgrid table to set it in nicer GUI. **Don't forget to run the piece of code under the table which saves the changed values into the dataframe.**"
   ]
  },
  {
   "cell_type": "code",
   "execution_count": 33,
   "metadata": {
    "ExecuteTime": {
     "end_time": "2021-05-11T07:49:01.183122Z",
     "start_time": "2021-05-11T07:49:01.158287Z"
    }
   },
   "outputs": [
    {
     "data": {
      "application/vnd.jupyter.widget-view+json": {
       "model_id": "c686d22b7e534e028d6ad7d1e9796743",
       "version_major": 2,
       "version_minor": 0
      },
      "text/plain": [
       "QgridWidget(grid_options={'fullWidthRows': True, 'syncColumnCellResize': True, 'forceFitColumns': True, 'defau…"
      ]
     },
     "metadata": {},
     "output_type": "display_data"
    }
   ],
   "source": [
    "import qgrid\n",
    "\n",
    "hit_widget = qgrid.show_grid(hit_desired, \n",
    "                             column_options={'editable':False}, \n",
    "                             column_definitions={'Desired hit rate %':{'editable':True}},\n",
    "                            )\n",
    "hit_widget"
   ]
  },
  {
   "cell_type": "markdown",
   "metadata": {},
   "source": [
    "Save the changed values:"
   ]
  },
  {
   "cell_type": "code",
   "execution_count": 34,
   "metadata": {
    "ExecuteTime": {
     "end_time": "2021-05-11T07:49:01.368513Z",
     "start_time": "2021-05-11T07:49:01.365011Z"
    }
   },
   "outputs": [],
   "source": [
    "hit_desired = hit_widget.get_changed_df()"
   ]
  },
  {
   "cell_type": "markdown",
   "metadata": {},
   "source": [
    "## Assign weights to reflect desired situation\n",
    "\n",
    "The weights are caluclated, so the weighted hit rates (i.e. hit rates when each observation's importance is multiplied by the newly calculated weights) reflect the desired (expected production) hit rates from `hit_desired` dataframe.\n",
    "\n",
    "**Assumptions:** Hit rates of individual scores are mutually independent and time consistent."
   ]
  },
  {
   "cell_type": "code",
   "execution_count": 35,
   "metadata": {
    "ExecuteTime": {
     "end_time": "2021-05-11T07:49:06.199510Z",
     "start_time": "2021-05-11T07:49:06.197234Z"
    }
   },
   "outputs": [],
   "source": [
    "# data[col_weight] = 1"
   ]
  },
  {
   "cell_type": "code",
   "execution_count": 36,
   "metadata": {
    "ExecuteTime": {
     "end_time": "2021-05-11T07:49:07.473489Z",
     "start_time": "2021-05-11T07:49:07.442861Z"
    }
   },
   "outputs": [],
   "source": [
    "for var_name, hit_row in hit_desired.iterrows():\n",
    "    if (hit_row['Desired hit rate %'] == 100) or (hit_row['Weighted hit rate %'] == 100):\n",
    "        coef = 1\n",
    "    else:\n",
    "        coef = (hit_row['Desired hit rate %'] * data.loc[observable_mask & pd.isnull(data[var_name]), col_weight].sum()) /\\\n",
    "               ((100-hit_row['Desired hit rate %']) * data.loc[observable_mask & pd.notnull(data[var_name]), col_weight].sum())\n",
    "    data.loc[pd.notnull(data[var_name]), col_weight] = \\\n",
    "        data.loc[pd.notnull(data[var_name]), col_weight] * coef\n",
    "weight_calib_coef = data[col_weight].count() / data[col_weight].sum()\n",
    "data[col_weight] = data[col_weight] * weight_calib_coef"
   ]
  },
  {
   "cell_type": "code",
   "execution_count": 37,
   "metadata": {
    "ExecuteTime": {
     "end_time": "2021-05-11T07:49:07.852910Z",
     "start_time": "2021-05-11T07:49:07.819966Z"
    }
   },
   "outputs": [
    {
     "data": {
      "text/html": [
       "<div>\n",
       "<style scoped>\n",
       "    .dataframe tbody tr th:only-of-type {\n",
       "        vertical-align: middle;\n",
       "    }\n",
       "\n",
       "    .dataframe tbody tr th {\n",
       "        vertical-align: top;\n",
       "    }\n",
       "\n",
       "    .dataframe thead th {\n",
       "        text-align: right;\n",
       "    }\n",
       "</style>\n",
       "<table border=\"1\" class=\"dataframe\">\n",
       "  <thead>\n",
       "    <tr style=\"text-align: right;\">\n",
       "      <th></th>\n",
       "      <th>Weighted hit rate %</th>\n",
       "    </tr>\n",
       "    <tr>\n",
       "      <th>Variable</th>\n",
       "      <th></th>\n",
       "    </tr>\n",
       "  </thead>\n",
       "  <tbody>\n",
       "    <tr>\n",
       "      <th>INTERNAL</th>\n",
       "      <td>100.000000</td>\n",
       "    </tr>\n",
       "    <tr>\n",
       "      <th>TELCO_A</th>\n",
       "      <td>19.623555</td>\n",
       "    </tr>\n",
       "    <tr>\n",
       "      <th>TELCO_B</th>\n",
       "      <td>28.345226</td>\n",
       "    </tr>\n",
       "    <tr>\n",
       "      <th>BUREAU_X</th>\n",
       "      <td>23.255337</td>\n",
       "    </tr>\n",
       "    <tr>\n",
       "      <th>BUREAU_Y</th>\n",
       "      <td>22.929610</td>\n",
       "    </tr>\n",
       "    <tr>\n",
       "      <th>UTILITY</th>\n",
       "      <td>50.000000</td>\n",
       "    </tr>\n",
       "    <tr>\n",
       "      <th>DEVICE</th>\n",
       "      <td>50.000000</td>\n",
       "    </tr>\n",
       "  </tbody>\n",
       "</table>\n",
       "</div>"
      ],
      "text/plain": [
       "          Weighted hit rate %\n",
       "Variable                     \n",
       "INTERNAL           100.000000\n",
       "TELCO_A             19.623555\n",
       "TELCO_B             28.345226\n",
       "BUREAU_X            23.255337\n",
       "BUREAU_Y            22.929610\n",
       "UTILITY             50.000000\n",
       "DEVICE              50.000000"
      ]
     },
     "metadata": {},
     "output_type": "display_data"
    }
   ],
   "source": [
    "hit_flags = data[[col_weight, col_month]].copy()\n",
    "for col in cols_pred:\n",
    "    hit_flags[col] = data[col].notnull()\n",
    "\n",
    "hit_rates_w = []\n",
    "for col in cols_pred:\n",
    "    hit_rates_w.append({'Variable': col,\n",
    "                     'Weighted hit rate %': hit_flags[observable_mask & hit_flags[col]][col_weight].sum()*100 /\n",
    "                                      hit_flags[observable_mask][col_weight].sum(),\n",
    "                     })\n",
    "hit_rates_w = pd.DataFrame(hit_rates_w).set_index('Variable')\n",
    "display(hit_rates_w)\n",
    "hit_rates_w.to_csv(output_folder+'/predictors/hit_rates_weighted.csv')"
   ]
  },
  {
   "cell_type": "markdown",
   "metadata": {},
   "source": [
    "*In the demo data that we have here, the assumptions of independence and time consistency are not fullfiled. Variable DEVICE is observable only in a month when no other variable is observable. This means that the final weights are not able to mimick the desired hit rates*"
   ]
  },
  {
   "cell_type": "markdown",
   "metadata": {},
   "source": [
    "# Datasources analysis\n",
    "\n",
    "We will analyze each score which can potentially enter the General Model. These scores were defined in list `cols_pred` above."
   ]
  },
  {
   "cell_type": "markdown",
   "metadata": {},
   "source": [
    "## Univariate power of raw scores\n",
    "\n",
    "For each score, we calculate its Gini on such subset, where the target is observable and that particular score is not null. We then see what is the power of the score when we have it (i.e. on its *\"hit\" population*, where hit means that the datasource which returns the score was queried and valid score was returned)"
   ]
  },
  {
   "cell_type": "code",
   "execution_count": 38,
   "metadata": {
    "ExecuteTime": {
     "end_time": "2021-05-11T07:49:09.887833Z",
     "start_time": "2021-05-11T07:49:09.827097Z"
    }
   },
   "outputs": [
    {
     "data": {
      "text/html": [
       "<div>\n",
       "<style scoped>\n",
       "    .dataframe tbody tr th:only-of-type {\n",
       "        vertical-align: middle;\n",
       "    }\n",
       "\n",
       "    .dataframe tbody tr th {\n",
       "        vertical-align: top;\n",
       "    }\n",
       "\n",
       "    .dataframe thead th {\n",
       "        text-align: right;\n",
       "    }\n",
       "</style>\n",
       "<table border=\"1\" class=\"dataframe\">\n",
       "  <thead>\n",
       "    <tr style=\"text-align: right;\">\n",
       "      <th></th>\n",
       "      <th>Variable</th>\n",
       "      <th>Gini</th>\n",
       "    </tr>\n",
       "  </thead>\n",
       "  <tbody>\n",
       "    <tr>\n",
       "      <th>0</th>\n",
       "      <td>INTERNAL</td>\n",
       "      <td>0.352798</td>\n",
       "    </tr>\n",
       "    <tr>\n",
       "      <th>1</th>\n",
       "      <td>TELCO_A</td>\n",
       "      <td>0.119879</td>\n",
       "    </tr>\n",
       "    <tr>\n",
       "      <th>2</th>\n",
       "      <td>TELCO_B</td>\n",
       "      <td>0.182054</td>\n",
       "    </tr>\n",
       "    <tr>\n",
       "      <th>3</th>\n",
       "      <td>BUREAU_X</td>\n",
       "      <td>0.066478</td>\n",
       "    </tr>\n",
       "    <tr>\n",
       "      <th>4</th>\n",
       "      <td>BUREAU_Y</td>\n",
       "      <td>0.161644</td>\n",
       "    </tr>\n",
       "    <tr>\n",
       "      <th>5</th>\n",
       "      <td>DEVICE</td>\n",
       "      <td>0.194205</td>\n",
       "    </tr>\n",
       "  </tbody>\n",
       "</table>\n",
       "</div>"
      ],
      "text/plain": [
       "   Variable      Gini\n",
       "0  INTERNAL  0.352798\n",
       "1   TELCO_A  0.119879\n",
       "2   TELCO_B  0.182054\n",
       "3  BUREAU_X  0.066478\n",
       "4  BUREAU_Y  0.161644\n",
       "5    DEVICE  0.194205"
      ]
     },
     "metadata": {},
     "output_type": "display_data"
    }
   ],
   "source": [
    "from scoring.metrics import gini\n",
    "\n",
    "uni_ginis = []\n",
    "for col in cols_pred:\n",
    "    if pd.api.types.is_numeric_dtype(data[col].dtype):\n",
    "        col_gini = np.abs(gini(data[pd.notnull(data[col]) & observable_mask][col_target],\n",
    "                               data[pd.notnull(data[col]) & observable_mask][col],\n",
    "                               data[pd.notnull(data[col]) & observable_mask][col_weight]))\n",
    "        uni_ginis.append({'Variable':col,\n",
    "                          'Gini': col_gini,\n",
    "                        })\n",
    "uni_ginis = pd.DataFrame(uni_ginis)[['Variable','Gini']]\n",
    "display(uni_ginis)\n",
    "uni_ginis.to_csv(output_folder+'/predictors/univariate_gini.csv')"
   ]
  },
  {
   "cell_type": "markdown",
   "metadata": {},
   "source": [
    "## Score transformation\n",
    "\n",
    "Each datasource can return score in a different format. \n",
    "- Sometimes it is probability of default or non-default (and these can have various definitions for each source).\n",
    "- Sometimes it is logit, i.e. real number which after expit transformation becomes the probability.\n",
    "- Sometimes it is logit, but linearly transformed to fit into a specific scale.\n",
    "- Sometimes the logic is not known but the score is somehow correlated with defaults.\n",
    "- Sometimes there are specific \"special values\" which are out of standard score scale and which are telling us that something non-standard occured (e.g. error codes)."
   ]
  },
  {
   "cell_type": "markdown",
   "metadata": {},
   "source": [
    "### Inverted logit to logit\n",
    "\n",
    "`logit(Probability of default) = -logit(Probability of non-default)`"
   ]
  },
  {
   "cell_type": "code",
   "execution_count": 39,
   "metadata": {
    "ExecuteTime": {
     "end_time": "2021-05-11T07:49:16.269271Z",
     "start_time": "2021-05-11T07:49:16.265673Z"
    }
   },
   "outputs": [],
   "source": [
    "for col in [\n",
    "    'INTERNAL'\n",
    "]:\n",
    "    data[col+'_LIN'] = -data[col]"
   ]
  },
  {
   "cell_type": "markdown",
   "metadata": {},
   "source": [
    "### Logit from PD"
   ]
  },
  {
   "cell_type": "code",
   "execution_count": 40,
   "metadata": {
    "ExecuteTime": {
     "end_time": "2021-05-11T07:49:16.713556Z",
     "start_time": "2021-05-11T07:49:16.701411Z"
    }
   },
   "outputs": [],
   "source": [
    "for col in [\n",
    "    'TELCO_A',\n",
    "]:\n",
    "    data[col+'_LIN'] = logit(data[col])"
   ]
  },
  {
   "cell_type": "markdown",
   "metadata": {},
   "source": [
    "### Logit from inverted PD"
   ]
  },
  {
   "cell_type": "code",
   "execution_count": 41,
   "metadata": {
    "ExecuteTime": {
     "end_time": "2021-05-11T07:49:17.107185Z",
     "start_time": "2021-05-11T07:49:17.062369Z"
    }
   },
   "outputs": [],
   "source": [
    "for col in [\n",
    "    'BUREAU_Y',\n",
    "    'DEVICE',\n",
    "]:\n",
    "    data[col+'_LIN'] = logit(1-data[col])"
   ]
  },
  {
   "cell_type": "markdown",
   "metadata": {},
   "source": [
    "### Logit by linear scaling\n",
    "\n",
    "when the score is logit of PD, but linearly shifted, we run logistic regression with just this score as sole predictor to calculate proper intercept and slope to shift it back to calibrate it to our default"
   ]
  },
  {
   "cell_type": "code",
   "execution_count": 42,
   "metadata": {
    "ExecuteTime": {
     "end_time": "2021-05-11T07:49:17.455257Z",
     "start_time": "2021-05-11T07:49:17.429466Z"
    }
   },
   "outputs": [
    {
     "name": "stdout",
     "output_type": "stream",
     "text": [
      "Intercept: 5.770106157572125, Slope: -0.13059660273979767\n"
     ]
    }
   ],
   "source": [
    "for col in [\n",
    "    'TELCO_B',\n",
    "]:\n",
    "    telco_b_scaler = LogisticRegression(penalty = 'l2', C = 1000, solver='liblinear')\n",
    "    telco_b_scaler.fit(data[(data[col].notnull()) & observable_mask][[col]],\n",
    "                       data[(data[col].notnull()) & observable_mask][col_target])\n",
    "    print(f'Intercept: {telco_b_scaler.intercept_[0]}, Slope: {telco_b_scaler.coef_[0][0]}')\n",
    "    data[col+'_LIN'] = telco_b_scaler.intercept_[0] + telco_b_scaler.coef_[0][0] * data[col]"
   ]
  },
  {
   "cell_type": "markdown",
   "metadata": {},
   "source": [
    "### WOE for unknown scale and categorical\n",
    "\n",
    "If the score has unknown scale or is categorical, we can calculate Weight of Evidence as with common predictors. We will use the Interactive grouping for this.\n",
    "\n",
    "A new instance of **InteractiveGrouping** class is created. There are two important parameters:\n",
    " - *colums*: list of numerical columns to be grouped\n",
    " - *cat_columns*: list of categorical columns to be grouped\n",
    " - *group_count*: (maximal) number of final groups of each variable\n",
    " - *min_samples*: minimal number of observations in each group of each numerical variable\n",
    " - *min_samples_cat*: minimal number of observations in each group of each categorical variable\n",
    "\n",
    "Then you open the interactive environment using **display** method. The important parameters are:\n",
    " - *train_t*: training dataset the grouping should be based on\n",
    " - *colums*: list of numerical columns to be grouped and displayed\n",
    " - *cat_columns*: list of categorical columns to be grouped and displayed\n",
    " - *target_column*: as the grouping is supervised and calculates WOE values, you need to specify the target column name\n",
    " - *w_column*: vector of weights of obervation (if not filled, grouping behaves as there are equal weights)\n",
    " - *filename*: use only if you want to load a grouping that you created and saved previously\n",
    " - *group_count*: (maximal) number of final groups of each variable\n",
    " - *min_samples*: minimal number of observations in each group of each numerical variable\n",
    " - *min_samples_cat*: minimal number of observations in each group of each categorical variable\n",
    "\n",
    "In the interactive environment, you can see four sections. From top to bottom:\n",
    "- **Chart section**: \n",
    " - For **numerical variables**, there is chart with equifrequncy fine classing (observations as bars, default rate as line), equidistant fine classing and the final groups.\n",
    " - For **categorical varibles** there is chart with each of the original categorical values and a chart with the final groups.\n",
    "- **Variable section**: here you can choose tab with varible which you want to edit. \n",
    " - For **numerical variables**, the tab contains of the borders of the final groups. You can edit these borders, add new with [+] button and remove them with [-] button. You can also manually set WOE for nulls. There is also a button to perform automatic grouping on the selected variable.\n",
    " - For **categorical variables**, the tab contains of two tables. In the top table, you can see some statistics for each of the categorical values. In the rightmost column, there is the number of group which is assigned to the category. You can edit this value (doubleclick on it) to change the grouping. In the bottom table you can see statistics for the groups. It is not editable. There is also a button to perform automatic grouping on the selected variable.\n",
    "- **Save section**: here you can save the grouping. Edit the file name and click the [Apply and Save] button.\n",
    "- **Settings section**: If you perform automatic grouping on some varible, the grouping algorithm uses some parameters. These parameters can be set here. You can set how many final groups do you want to have and what is their minimal size."
   ]
  },
  {
   "cell_type": "code",
   "execution_count": 45,
   "metadata": {
    "ExecuteTime": {
     "end_time": "2021-05-11T07:49:37.176126Z",
     "start_time": "2021-05-11T07:49:35.713638Z"
    }
   },
   "outputs": [
    {
     "name": "stderr",
     "output_type": "stream",
     "text": [
      "/opt/anaconda2/envs/py36/lib/python3.6/_collections_abc.py:841: MatplotlibDeprecationWarning: \n",
      "The examples.directory rcparam was deprecated in Matplotlib 3.0 and will be removed in 3.2. In the future, examples will be found relative to the 'datapath' directory.\n",
      "  self[key] = other[key]\n",
      "/opt/anaconda2/envs/py36/lib/python3.6/_collections_abc.py:841: MatplotlibDeprecationWarning: \n",
      "The savefig.frameon rcparam was deprecated in Matplotlib 3.1 and will be removed in 3.3.\n",
      "  self[key] = other[key]\n",
      "/opt/anaconda2/envs/py36/lib/python3.6/_collections_abc.py:841: MatplotlibDeprecationWarning: \n",
      "The text.latex.unicode rcparam was deprecated in Matplotlib 3.0 and will be removed in 3.2.\n",
      "  self[key] = other[key]\n",
      "/opt/anaconda2/envs/py36/lib/python3.6/_collections_abc.py:841: MatplotlibDeprecationWarning: \n",
      "The verbose.fileo rcparam was deprecated in Matplotlib 3.1 and will be removed in 3.3.\n",
      "  self[key] = other[key]\n",
      "/opt/anaconda2/envs/py36/lib/python3.6/_collections_abc.py:841: MatplotlibDeprecationWarning: \n",
      "The verbose.level rcparam was deprecated in Matplotlib 3.1 and will be removed in 3.3.\n",
      "  self[key] = other[key]\n"
     ]
    },
    {
     "data": {
      "text/html": [
       "\n",
       "        <style>\n",
       "        .output_wrapper button.btn.btn-default,\n",
       "        .output_wrapper .ui-dialog-titlebar {\n",
       "          display: none;\n",
       "        }\n",
       "        </style>"
      ],
      "text/plain": [
       "<IPython.core.display.HTML object>"
      ]
     },
     "metadata": {},
     "output_type": "display_data"
    },
    {
     "data": {
      "application/javascript": [
       "/* Put everything inside the global mpl namespace */\n",
       "window.mpl = {};\n",
       "\n",
       "\n",
       "mpl.get_websocket_type = function() {\n",
       "    if (typeof(WebSocket) !== 'undefined') {\n",
       "        return WebSocket;\n",
       "    } else if (typeof(MozWebSocket) !== 'undefined') {\n",
       "        return MozWebSocket;\n",
       "    } else {\n",
       "        alert('Your browser does not have WebSocket support. ' +\n",
       "              'Please try Chrome, Safari or Firefox ≥ 6. ' +\n",
       "              'Firefox 4 and 5 are also supported but you ' +\n",
       "              'have to enable WebSockets in about:config.');\n",
       "    };\n",
       "}\n",
       "\n",
       "mpl.figure = function(figure_id, websocket, ondownload, parent_element) {\n",
       "    this.id = figure_id;\n",
       "\n",
       "    this.ws = websocket;\n",
       "\n",
       "    this.supports_binary = (this.ws.binaryType != undefined);\n",
       "\n",
       "    if (!this.supports_binary) {\n",
       "        var warnings = document.getElementById(\"mpl-warnings\");\n",
       "        if (warnings) {\n",
       "            warnings.style.display = 'block';\n",
       "            warnings.textContent = (\n",
       "                \"This browser does not support binary websocket messages. \" +\n",
       "                    \"Performance may be slow.\");\n",
       "        }\n",
       "    }\n",
       "\n",
       "    this.imageObj = new Image();\n",
       "\n",
       "    this.context = undefined;\n",
       "    this.message = undefined;\n",
       "    this.canvas = undefined;\n",
       "    this.rubberband_canvas = undefined;\n",
       "    this.rubberband_context = undefined;\n",
       "    this.format_dropdown = undefined;\n",
       "\n",
       "    this.image_mode = 'full';\n",
       "\n",
       "    this.root = $('<div/>');\n",
       "    this._root_extra_style(this.root)\n",
       "    this.root.attr('style', 'display: inline-block');\n",
       "\n",
       "    $(parent_element).append(this.root);\n",
       "\n",
       "    this._init_header(this);\n",
       "    this._init_canvas(this);\n",
       "    this._init_toolbar(this);\n",
       "\n",
       "    var fig = this;\n",
       "\n",
       "    this.waiting = false;\n",
       "\n",
       "    this.ws.onopen =  function () {\n",
       "            fig.send_message(\"supports_binary\", {value: fig.supports_binary});\n",
       "            fig.send_message(\"send_image_mode\", {});\n",
       "            if (mpl.ratio != 1) {\n",
       "                fig.send_message(\"set_dpi_ratio\", {'dpi_ratio': mpl.ratio});\n",
       "            }\n",
       "            fig.send_message(\"refresh\", {});\n",
       "        }\n",
       "\n",
       "    this.imageObj.onload = function() {\n",
       "            if (fig.image_mode == 'full') {\n",
       "                // Full images could contain transparency (where diff images\n",
       "                // almost always do), so we need to clear the canvas so that\n",
       "                // there is no ghosting.\n",
       "                fig.context.clearRect(0, 0, fig.canvas.width, fig.canvas.height);\n",
       "            }\n",
       "            fig.context.drawImage(fig.imageObj, 0, 0);\n",
       "        };\n",
       "\n",
       "    this.imageObj.onunload = function() {\n",
       "        fig.ws.close();\n",
       "    }\n",
       "\n",
       "    this.ws.onmessage = this._make_on_message_function(this);\n",
       "\n",
       "    this.ondownload = ondownload;\n",
       "}\n",
       "\n",
       "mpl.figure.prototype._init_header = function() {\n",
       "    var titlebar = $(\n",
       "        '<div class=\"ui-dialog-titlebar ui-widget-header ui-corner-all ' +\n",
       "        'ui-helper-clearfix\"/>');\n",
       "    var titletext = $(\n",
       "        '<div class=\"ui-dialog-title\" style=\"width: 100%; ' +\n",
       "        'text-align: center; padding: 3px;\"/>');\n",
       "    titlebar.append(titletext)\n",
       "    this.root.append(titlebar);\n",
       "    this.header = titletext[0];\n",
       "}\n",
       "\n",
       "\n",
       "\n",
       "mpl.figure.prototype._canvas_extra_style = function(canvas_div) {\n",
       "\n",
       "}\n",
       "\n",
       "\n",
       "mpl.figure.prototype._root_extra_style = function(canvas_div) {\n",
       "\n",
       "}\n",
       "\n",
       "mpl.figure.prototype._init_canvas = function() {\n",
       "    var fig = this;\n",
       "\n",
       "    var canvas_div = $('<div/>');\n",
       "\n",
       "    canvas_div.attr('style', 'position: relative; clear: both; outline: 0');\n",
       "\n",
       "    function canvas_keyboard_event(event) {\n",
       "        return fig.key_event(event, event['data']);\n",
       "    }\n",
       "\n",
       "    canvas_div.keydown('key_press', canvas_keyboard_event);\n",
       "    canvas_div.keyup('key_release', canvas_keyboard_event);\n",
       "    this.canvas_div = canvas_div\n",
       "    this._canvas_extra_style(canvas_div)\n",
       "    this.root.append(canvas_div);\n",
       "\n",
       "    var canvas = $('<canvas/>');\n",
       "    canvas.addClass('mpl-canvas');\n",
       "    canvas.attr('style', \"left: 0; top: 0; z-index: 0; outline: 0\")\n",
       "\n",
       "    this.canvas = canvas[0];\n",
       "    this.context = canvas[0].getContext(\"2d\");\n",
       "\n",
       "    var backingStore = this.context.backingStorePixelRatio ||\n",
       "\tthis.context.webkitBackingStorePixelRatio ||\n",
       "\tthis.context.mozBackingStorePixelRatio ||\n",
       "\tthis.context.msBackingStorePixelRatio ||\n",
       "\tthis.context.oBackingStorePixelRatio ||\n",
       "\tthis.context.backingStorePixelRatio || 1;\n",
       "\n",
       "    mpl.ratio = (window.devicePixelRatio || 1) / backingStore;\n",
       "\n",
       "    var rubberband = $('<canvas/>');\n",
       "    rubberband.attr('style', \"position: absolute; left: 0; top: 0; z-index: 1;\")\n",
       "\n",
       "    var pass_mouse_events = true;\n",
       "\n",
       "    canvas_div.resizable({\n",
       "        start: function(event, ui) {\n",
       "            pass_mouse_events = false;\n",
       "        },\n",
       "        resize: function(event, ui) {\n",
       "            fig.request_resize(ui.size.width, ui.size.height);\n",
       "        },\n",
       "        stop: function(event, ui) {\n",
       "            pass_mouse_events = true;\n",
       "            fig.request_resize(ui.size.width, ui.size.height);\n",
       "        },\n",
       "    });\n",
       "\n",
       "    function mouse_event_fn(event) {\n",
       "        if (pass_mouse_events)\n",
       "            return fig.mouse_event(event, event['data']);\n",
       "    }\n",
       "\n",
       "    rubberband.mousedown('button_press', mouse_event_fn);\n",
       "    rubberband.mouseup('button_release', mouse_event_fn);\n",
       "    // Throttle sequential mouse events to 1 every 20ms.\n",
       "    rubberband.mousemove('motion_notify', mouse_event_fn);\n",
       "\n",
       "    rubberband.mouseenter('figure_enter', mouse_event_fn);\n",
       "    rubberband.mouseleave('figure_leave', mouse_event_fn);\n",
       "\n",
       "    canvas_div.on(\"wheel\", function (event) {\n",
       "        event = event.originalEvent;\n",
       "        event['data'] = 'scroll'\n",
       "        if (event.deltaY < 0) {\n",
       "            event.step = 1;\n",
       "        } else {\n",
       "            event.step = -1;\n",
       "        }\n",
       "        mouse_event_fn(event);\n",
       "    });\n",
       "\n",
       "    canvas_div.append(canvas);\n",
       "    canvas_div.append(rubberband);\n",
       "\n",
       "    this.rubberband = rubberband;\n",
       "    this.rubberband_canvas = rubberband[0];\n",
       "    this.rubberband_context = rubberband[0].getContext(\"2d\");\n",
       "    this.rubberband_context.strokeStyle = \"#000000\";\n",
       "\n",
       "    this._resize_canvas = function(width, height) {\n",
       "        // Keep the size of the canvas, canvas container, and rubber band\n",
       "        // canvas in synch.\n",
       "        canvas_div.css('width', width)\n",
       "        canvas_div.css('height', height)\n",
       "\n",
       "        canvas.attr('width', width * mpl.ratio);\n",
       "        canvas.attr('height', height * mpl.ratio);\n",
       "        canvas.attr('style', 'width: ' + width + 'px; height: ' + height + 'px;');\n",
       "\n",
       "        rubberband.attr('width', width);\n",
       "        rubberband.attr('height', height);\n",
       "    }\n",
       "\n",
       "    // Set the figure to an initial 600x600px, this will subsequently be updated\n",
       "    // upon first draw.\n",
       "    this._resize_canvas(600, 600);\n",
       "\n",
       "    // Disable right mouse context menu.\n",
       "    $(this.rubberband_canvas).bind(\"contextmenu\",function(e){\n",
       "        return false;\n",
       "    });\n",
       "\n",
       "    function set_focus () {\n",
       "        canvas.focus();\n",
       "        canvas_div.focus();\n",
       "    }\n",
       "\n",
       "    window.setTimeout(set_focus, 100);\n",
       "}\n",
       "\n",
       "mpl.figure.prototype._init_toolbar = function() {\n",
       "    var fig = this;\n",
       "\n",
       "    var nav_element = $('<div/>');\n",
       "    nav_element.attr('style', 'width: 100%');\n",
       "    this.root.append(nav_element);\n",
       "\n",
       "    // Define a callback function for later on.\n",
       "    function toolbar_event(event) {\n",
       "        return fig.toolbar_button_onclick(event['data']);\n",
       "    }\n",
       "    function toolbar_mouse_event(event) {\n",
       "        return fig.toolbar_button_onmouseover(event['data']);\n",
       "    }\n",
       "\n",
       "    for(var toolbar_ind in mpl.toolbar_items) {\n",
       "        var name = mpl.toolbar_items[toolbar_ind][0];\n",
       "        var tooltip = mpl.toolbar_items[toolbar_ind][1];\n",
       "        var image = mpl.toolbar_items[toolbar_ind][2];\n",
       "        var method_name = mpl.toolbar_items[toolbar_ind][3];\n",
       "\n",
       "        if (!name) {\n",
       "            // put a spacer in here.\n",
       "            continue;\n",
       "        }\n",
       "        var button = $('<button/>');\n",
       "        button.addClass('ui-button ui-widget ui-state-default ui-corner-all ' +\n",
       "                        'ui-button-icon-only');\n",
       "        button.attr('role', 'button');\n",
       "        button.attr('aria-disabled', 'false');\n",
       "        button.click(method_name, toolbar_event);\n",
       "        button.mouseover(tooltip, toolbar_mouse_event);\n",
       "\n",
       "        var icon_img = $('<span/>');\n",
       "        icon_img.addClass('ui-button-icon-primary ui-icon');\n",
       "        icon_img.addClass(image);\n",
       "        icon_img.addClass('ui-corner-all');\n",
       "\n",
       "        var tooltip_span = $('<span/>');\n",
       "        tooltip_span.addClass('ui-button-text');\n",
       "        tooltip_span.html(tooltip);\n",
       "\n",
       "        button.append(icon_img);\n",
       "        button.append(tooltip_span);\n",
       "\n",
       "        nav_element.append(button);\n",
       "    }\n",
       "\n",
       "    var fmt_picker_span = $('<span/>');\n",
       "\n",
       "    var fmt_picker = $('<select/>');\n",
       "    fmt_picker.addClass('mpl-toolbar-option ui-widget ui-widget-content');\n",
       "    fmt_picker_span.append(fmt_picker);\n",
       "    nav_element.append(fmt_picker_span);\n",
       "    this.format_dropdown = fmt_picker[0];\n",
       "\n",
       "    for (var ind in mpl.extensions) {\n",
       "        var fmt = mpl.extensions[ind];\n",
       "        var option = $(\n",
       "            '<option/>', {selected: fmt === mpl.default_extension}).html(fmt);\n",
       "        fmt_picker.append(option);\n",
       "    }\n",
       "\n",
       "    // Add hover states to the ui-buttons\n",
       "    $( \".ui-button\" ).hover(\n",
       "        function() { $(this).addClass(\"ui-state-hover\");},\n",
       "        function() { $(this).removeClass(\"ui-state-hover\");}\n",
       "    );\n",
       "\n",
       "    var status_bar = $('<span class=\"mpl-message\"/>');\n",
       "    nav_element.append(status_bar);\n",
       "    this.message = status_bar[0];\n",
       "}\n",
       "\n",
       "mpl.figure.prototype.request_resize = function(x_pixels, y_pixels) {\n",
       "    // Request matplotlib to resize the figure. Matplotlib will then trigger a resize in the client,\n",
       "    // which will in turn request a refresh of the image.\n",
       "    this.send_message('resize', {'width': x_pixels, 'height': y_pixels});\n",
       "}\n",
       "\n",
       "mpl.figure.prototype.send_message = function(type, properties) {\n",
       "    properties['type'] = type;\n",
       "    properties['figure_id'] = this.id;\n",
       "    this.ws.send(JSON.stringify(properties));\n",
       "}\n",
       "\n",
       "mpl.figure.prototype.send_draw_message = function() {\n",
       "    if (!this.waiting) {\n",
       "        this.waiting = true;\n",
       "        this.ws.send(JSON.stringify({type: \"draw\", figure_id: this.id}));\n",
       "    }\n",
       "}\n",
       "\n",
       "\n",
       "mpl.figure.prototype.handle_save = function(fig, msg) {\n",
       "    var format_dropdown = fig.format_dropdown;\n",
       "    var format = format_dropdown.options[format_dropdown.selectedIndex].value;\n",
       "    fig.ondownload(fig, format);\n",
       "}\n",
       "\n",
       "\n",
       "mpl.figure.prototype.handle_resize = function(fig, msg) {\n",
       "    var size = msg['size'];\n",
       "    if (size[0] != fig.canvas.width || size[1] != fig.canvas.height) {\n",
       "        fig._resize_canvas(size[0], size[1]);\n",
       "        fig.send_message(\"refresh\", {});\n",
       "    };\n",
       "}\n",
       "\n",
       "mpl.figure.prototype.handle_rubberband = function(fig, msg) {\n",
       "    var x0 = msg['x0'] / mpl.ratio;\n",
       "    var y0 = (fig.canvas.height - msg['y0']) / mpl.ratio;\n",
       "    var x1 = msg['x1'] / mpl.ratio;\n",
       "    var y1 = (fig.canvas.height - msg['y1']) / mpl.ratio;\n",
       "    x0 = Math.floor(x0) + 0.5;\n",
       "    y0 = Math.floor(y0) + 0.5;\n",
       "    x1 = Math.floor(x1) + 0.5;\n",
       "    y1 = Math.floor(y1) + 0.5;\n",
       "    var min_x = Math.min(x0, x1);\n",
       "    var min_y = Math.min(y0, y1);\n",
       "    var width = Math.abs(x1 - x0);\n",
       "    var height = Math.abs(y1 - y0);\n",
       "\n",
       "    fig.rubberband_context.clearRect(\n",
       "        0, 0, fig.canvas.width / mpl.ratio, fig.canvas.height / mpl.ratio);\n",
       "\n",
       "    fig.rubberband_context.strokeRect(min_x, min_y, width, height);\n",
       "}\n",
       "\n",
       "mpl.figure.prototype.handle_figure_label = function(fig, msg) {\n",
       "    // Updates the figure title.\n",
       "    fig.header.textContent = msg['label'];\n",
       "}\n",
       "\n",
       "mpl.figure.prototype.handle_cursor = function(fig, msg) {\n",
       "    var cursor = msg['cursor'];\n",
       "    switch(cursor)\n",
       "    {\n",
       "    case 0:\n",
       "        cursor = 'pointer';\n",
       "        break;\n",
       "    case 1:\n",
       "        cursor = 'default';\n",
       "        break;\n",
       "    case 2:\n",
       "        cursor = 'crosshair';\n",
       "        break;\n",
       "    case 3:\n",
       "        cursor = 'move';\n",
       "        break;\n",
       "    }\n",
       "    fig.rubberband_canvas.style.cursor = cursor;\n",
       "}\n",
       "\n",
       "mpl.figure.prototype.handle_message = function(fig, msg) {\n",
       "    fig.message.textContent = msg['message'];\n",
       "}\n",
       "\n",
       "mpl.figure.prototype.handle_draw = function(fig, msg) {\n",
       "    // Request the server to send over a new figure.\n",
       "    fig.send_draw_message();\n",
       "}\n",
       "\n",
       "mpl.figure.prototype.handle_image_mode = function(fig, msg) {\n",
       "    fig.image_mode = msg['mode'];\n",
       "}\n",
       "\n",
       "mpl.figure.prototype.updated_canvas_event = function() {\n",
       "    // Called whenever the canvas gets updated.\n",
       "    this.send_message(\"ack\", {});\n",
       "}\n",
       "\n",
       "// A function to construct a web socket function for onmessage handling.\n",
       "// Called in the figure constructor.\n",
       "mpl.figure.prototype._make_on_message_function = function(fig) {\n",
       "    return function socket_on_message(evt) {\n",
       "        if (evt.data instanceof Blob) {\n",
       "            /* FIXME: We get \"Resource interpreted as Image but\n",
       "             * transferred with MIME type text/plain:\" errors on\n",
       "             * Chrome.  But how to set the MIME type?  It doesn't seem\n",
       "             * to be part of the websocket stream */\n",
       "            evt.data.type = \"image/png\";\n",
       "\n",
       "            /* Free the memory for the previous frames */\n",
       "            if (fig.imageObj.src) {\n",
       "                (window.URL || window.webkitURL).revokeObjectURL(\n",
       "                    fig.imageObj.src);\n",
       "            }\n",
       "\n",
       "            fig.imageObj.src = (window.URL || window.webkitURL).createObjectURL(\n",
       "                evt.data);\n",
       "            fig.updated_canvas_event();\n",
       "            fig.waiting = false;\n",
       "            return;\n",
       "        }\n",
       "        else if (typeof evt.data === 'string' && evt.data.slice(0, 21) == \"data:image/png;base64\") {\n",
       "            fig.imageObj.src = evt.data;\n",
       "            fig.updated_canvas_event();\n",
       "            fig.waiting = false;\n",
       "            return;\n",
       "        }\n",
       "\n",
       "        var msg = JSON.parse(evt.data);\n",
       "        var msg_type = msg['type'];\n",
       "\n",
       "        // Call the  \"handle_{type}\" callback, which takes\n",
       "        // the figure and JSON message as its only arguments.\n",
       "        try {\n",
       "            var callback = fig[\"handle_\" + msg_type];\n",
       "        } catch (e) {\n",
       "            console.log(\"No handler for the '\" + msg_type + \"' message type: \", msg);\n",
       "            return;\n",
       "        }\n",
       "\n",
       "        if (callback) {\n",
       "            try {\n",
       "                // console.log(\"Handling '\" + msg_type + \"' message: \", msg);\n",
       "                callback(fig, msg);\n",
       "            } catch (e) {\n",
       "                console.log(\"Exception inside the 'handler_\" + msg_type + \"' callback:\", e, e.stack, msg);\n",
       "            }\n",
       "        }\n",
       "    };\n",
       "}\n",
       "\n",
       "// from http://stackoverflow.com/questions/1114465/getting-mouse-location-in-canvas\n",
       "mpl.findpos = function(e) {\n",
       "    //this section is from http://www.quirksmode.org/js/events_properties.html\n",
       "    var targ;\n",
       "    if (!e)\n",
       "        e = window.event;\n",
       "    if (e.target)\n",
       "        targ = e.target;\n",
       "    else if (e.srcElement)\n",
       "        targ = e.srcElement;\n",
       "    if (targ.nodeType == 3) // defeat Safari bug\n",
       "        targ = targ.parentNode;\n",
       "\n",
       "    // jQuery normalizes the pageX and pageY\n",
       "    // pageX,Y are the mouse positions relative to the document\n",
       "    // offset() returns the position of the element relative to the document\n",
       "    var x = e.pageX - $(targ).offset().left;\n",
       "    var y = e.pageY - $(targ).offset().top;\n",
       "\n",
       "    return {\"x\": x, \"y\": y};\n",
       "};\n",
       "\n",
       "/*\n",
       " * return a copy of an object with only non-object keys\n",
       " * we need this to avoid circular references\n",
       " * http://stackoverflow.com/a/24161582/3208463\n",
       " */\n",
       "function simpleKeys (original) {\n",
       "  return Object.keys(original).reduce(function (obj, key) {\n",
       "    if (typeof original[key] !== 'object')\n",
       "        obj[key] = original[key]\n",
       "    return obj;\n",
       "  }, {});\n",
       "}\n",
       "\n",
       "mpl.figure.prototype.mouse_event = function(event, name) {\n",
       "    var canvas_pos = mpl.findpos(event)\n",
       "\n",
       "    if (name === 'button_press')\n",
       "    {\n",
       "        this.canvas.focus();\n",
       "        this.canvas_div.focus();\n",
       "    }\n",
       "\n",
       "    var x = canvas_pos.x * mpl.ratio;\n",
       "    var y = canvas_pos.y * mpl.ratio;\n",
       "\n",
       "    this.send_message(name, {x: x, y: y, button: event.button,\n",
       "                             step: event.step,\n",
       "                             guiEvent: simpleKeys(event)});\n",
       "\n",
       "    /* This prevents the web browser from automatically changing to\n",
       "     * the text insertion cursor when the button is pressed.  We want\n",
       "     * to control all of the cursor setting manually through the\n",
       "     * 'cursor' event from matplotlib */\n",
       "    event.preventDefault();\n",
       "    return false;\n",
       "}\n",
       "\n",
       "mpl.figure.prototype._key_event_extra = function(event, name) {\n",
       "    // Handle any extra behaviour associated with a key event\n",
       "}\n",
       "\n",
       "mpl.figure.prototype.key_event = function(event, name) {\n",
       "\n",
       "    // Prevent repeat events\n",
       "    if (name == 'key_press')\n",
       "    {\n",
       "        if (event.which === this._key)\n",
       "            return;\n",
       "        else\n",
       "            this._key = event.which;\n",
       "    }\n",
       "    if (name == 'key_release')\n",
       "        this._key = null;\n",
       "\n",
       "    var value = '';\n",
       "    if (event.ctrlKey && event.which != 17)\n",
       "        value += \"ctrl+\";\n",
       "    if (event.altKey && event.which != 18)\n",
       "        value += \"alt+\";\n",
       "    if (event.shiftKey && event.which != 16)\n",
       "        value += \"shift+\";\n",
       "\n",
       "    value += 'k';\n",
       "    value += event.which.toString();\n",
       "\n",
       "    this._key_event_extra(event, name);\n",
       "\n",
       "    this.send_message(name, {key: value,\n",
       "                             guiEvent: simpleKeys(event)});\n",
       "    return false;\n",
       "}\n",
       "\n",
       "mpl.figure.prototype.toolbar_button_onclick = function(name) {\n",
       "    if (name == 'download') {\n",
       "        this.handle_save(this, null);\n",
       "    } else {\n",
       "        this.send_message(\"toolbar_button\", {name: name});\n",
       "    }\n",
       "};\n",
       "\n",
       "mpl.figure.prototype.toolbar_button_onmouseover = function(tooltip) {\n",
       "    this.message.textContent = tooltip;\n",
       "};\n",
       "mpl.toolbar_items = [[\"Home\", \"Reset original view\", \"fa fa-home icon-home\", \"home\"], [\"Back\", \"Back to previous view\", \"fa fa-arrow-left icon-arrow-left\", \"back\"], [\"Forward\", \"Forward to next view\", \"fa fa-arrow-right icon-arrow-right\", \"forward\"], [\"\", \"\", \"\", \"\"], [\"Pan\", \"Pan axes with left mouse, zoom with right\", \"fa fa-arrows icon-move\", \"pan\"], [\"Zoom\", \"Zoom to rectangle\", \"fa fa-square-o icon-check-empty\", \"zoom\"], [\"\", \"\", \"\", \"\"], [\"Download\", \"Download plot\", \"fa fa-floppy-o icon-save\", \"download\"]];\n",
       "\n",
       "mpl.extensions = [\"eps\", \"jpeg\", \"pdf\", \"png\", \"ps\", \"raw\", \"svg\", \"tif\"];\n",
       "\n",
       "mpl.default_extension = \"png\";var comm_websocket_adapter = function(comm) {\n",
       "    // Create a \"websocket\"-like object which calls the given IPython comm\n",
       "    // object with the appropriate methods. Currently this is a non binary\n",
       "    // socket, so there is still some room for performance tuning.\n",
       "    var ws = {};\n",
       "\n",
       "    ws.close = function() {\n",
       "        comm.close()\n",
       "    };\n",
       "    ws.send = function(m) {\n",
       "        //console.log('sending', m);\n",
       "        comm.send(m);\n",
       "    };\n",
       "    // Register the callback with on_msg.\n",
       "    comm.on_msg(function(msg) {\n",
       "        //console.log('receiving', msg['content']['data'], msg);\n",
       "        // Pass the mpl event to the overridden (by mpl) onmessage function.\n",
       "        ws.onmessage(msg['content']['data'])\n",
       "    });\n",
       "    return ws;\n",
       "}\n",
       "\n",
       "mpl.mpl_figure_comm = function(comm, msg) {\n",
       "    // This is the function which gets called when the mpl process\n",
       "    // starts-up an IPython Comm through the \"matplotlib\" channel.\n",
       "\n",
       "    var id = msg.content.data.id;\n",
       "    // Get hold of the div created by the display call when the Comm\n",
       "    // socket was opened in Python.\n",
       "    var element = $(\"#\" + id);\n",
       "    var ws_proxy = comm_websocket_adapter(comm)\n",
       "\n",
       "    function ondownload(figure, format) {\n",
       "        window.open(figure.imageObj.src);\n",
       "    }\n",
       "\n",
       "    var fig = new mpl.figure(id, ws_proxy,\n",
       "                           ondownload,\n",
       "                           element.get(0));\n",
       "\n",
       "    // Call onopen now - mpl needs it, as it is assuming we've passed it a real\n",
       "    // web socket which is closed, not our websocket->open comm proxy.\n",
       "    ws_proxy.onopen();\n",
       "\n",
       "    fig.parent_element = element.get(0);\n",
       "    fig.cell_info = mpl.find_output_cell(\"<div id='\" + id + \"'></div>\");\n",
       "    if (!fig.cell_info) {\n",
       "        console.error(\"Failed to find cell for figure\", id, fig);\n",
       "        return;\n",
       "    }\n",
       "\n",
       "    var output_index = fig.cell_info[2]\n",
       "    var cell = fig.cell_info[0];\n",
       "\n",
       "};\n",
       "\n",
       "mpl.figure.prototype.handle_close = function(fig, msg) {\n",
       "    var width = fig.canvas.width/mpl.ratio\n",
       "    fig.root.unbind('remove')\n",
       "\n",
       "    // Update the output cell to use the data from the current canvas.\n",
       "    fig.push_to_output();\n",
       "    var dataURL = fig.canvas.toDataURL();\n",
       "    // Re-enable the keyboard manager in IPython - without this line, in FF,\n",
       "    // the notebook keyboard shortcuts fail.\n",
       "    IPython.keyboard_manager.enable()\n",
       "    $(fig.parent_element).html('<img src=\"' + dataURL + '\" width=\"' + width + '\">');\n",
       "    fig.close_ws(fig, msg);\n",
       "}\n",
       "\n",
       "mpl.figure.prototype.close_ws = function(fig, msg){\n",
       "    fig.send_message('closing', msg);\n",
       "    // fig.ws.close()\n",
       "}\n",
       "\n",
       "mpl.figure.prototype.push_to_output = function(remove_interactive) {\n",
       "    // Turn the data on the canvas into data in the output cell.\n",
       "    var width = this.canvas.width/mpl.ratio\n",
       "    var dataURL = this.canvas.toDataURL();\n",
       "    this.cell_info[1]['text/html'] = '<img src=\"' + dataURL + '\" width=\"' + width + '\">';\n",
       "}\n",
       "\n",
       "mpl.figure.prototype.updated_canvas_event = function() {\n",
       "    // Tell IPython that the notebook contents must change.\n",
       "    IPython.notebook.set_dirty(true);\n",
       "    this.send_message(\"ack\", {});\n",
       "    var fig = this;\n",
       "    // Wait a second, then push the new image to the DOM so\n",
       "    // that it is saved nicely (might be nice to debounce this).\n",
       "    setTimeout(function () { fig.push_to_output() }, 1000);\n",
       "}\n",
       "\n",
       "mpl.figure.prototype._init_toolbar = function() {\n",
       "    var fig = this;\n",
       "\n",
       "    var nav_element = $('<div/>');\n",
       "    nav_element.attr('style', 'width: 100%');\n",
       "    this.root.append(nav_element);\n",
       "\n",
       "    // Define a callback function for later on.\n",
       "    function toolbar_event(event) {\n",
       "        return fig.toolbar_button_onclick(event['data']);\n",
       "    }\n",
       "    function toolbar_mouse_event(event) {\n",
       "        return fig.toolbar_button_onmouseover(event['data']);\n",
       "    }\n",
       "\n",
       "    for(var toolbar_ind in mpl.toolbar_items){\n",
       "        var name = mpl.toolbar_items[toolbar_ind][0];\n",
       "        var tooltip = mpl.toolbar_items[toolbar_ind][1];\n",
       "        var image = mpl.toolbar_items[toolbar_ind][2];\n",
       "        var method_name = mpl.toolbar_items[toolbar_ind][3];\n",
       "\n",
       "        if (!name) { continue; };\n",
       "\n",
       "        var button = $('<button class=\"btn btn-default\" href=\"#\" title=\"' + name + '\"><i class=\"fa ' + image + ' fa-lg\"></i></button>');\n",
       "        button.click(method_name, toolbar_event);\n",
       "        button.mouseover(tooltip, toolbar_mouse_event);\n",
       "        nav_element.append(button);\n",
       "    }\n",
       "\n",
       "    // Add the status bar.\n",
       "    var status_bar = $('<span class=\"mpl-message\" style=\"text-align:right; float: right;\"/>');\n",
       "    nav_element.append(status_bar);\n",
       "    this.message = status_bar[0];\n",
       "\n",
       "    // Add the close button to the window.\n",
       "    var buttongrp = $('<div class=\"btn-group inline pull-right\"></div>');\n",
       "    var button = $('<button class=\"btn btn-mini btn-primary\" href=\"#\" title=\"Stop Interaction\"><i class=\"fa fa-power-off icon-remove icon-large\"></i></button>');\n",
       "    button.click(function (evt) { fig.handle_close(fig, {}); } );\n",
       "    button.mouseover('Stop Interaction', toolbar_mouse_event);\n",
       "    buttongrp.append(button);\n",
       "    var titlebar = this.root.find($('.ui-dialog-titlebar'));\n",
       "    titlebar.prepend(buttongrp);\n",
       "}\n",
       "\n",
       "mpl.figure.prototype._root_extra_style = function(el){\n",
       "    var fig = this\n",
       "    el.on(\"remove\", function(){\n",
       "\tfig.close_ws(fig, {});\n",
       "    });\n",
       "}\n",
       "\n",
       "mpl.figure.prototype._canvas_extra_style = function(el){\n",
       "    // this is important to make the div 'focusable\n",
       "    el.attr('tabindex', 0)\n",
       "    // reach out to IPython and tell the keyboard manager to turn it's self\n",
       "    // off when our div gets focus\n",
       "\n",
       "    // location in version 3\n",
       "    if (IPython.notebook.keyboard_manager) {\n",
       "        IPython.notebook.keyboard_manager.register_events(el);\n",
       "    }\n",
       "    else {\n",
       "        // location in version 2\n",
       "        IPython.keyboard_manager.register_events(el);\n",
       "    }\n",
       "\n",
       "}\n",
       "\n",
       "mpl.figure.prototype._key_event_extra = function(event, name) {\n",
       "    var manager = IPython.notebook.keyboard_manager;\n",
       "    if (!manager)\n",
       "        manager = IPython.keyboard_manager;\n",
       "\n",
       "    // Check for shift+enter\n",
       "    if (event.shiftKey && event.which == 13) {\n",
       "        this.canvas_div.blur();\n",
       "        event.shiftKey = false;\n",
       "        // Send a \"J\" for go to next cell\n",
       "        event.which = 74;\n",
       "        event.keyCode = 74;\n",
       "        manager.command_mode();\n",
       "        manager.handle_keydown(event);\n",
       "    }\n",
       "}\n",
       "\n",
       "mpl.figure.prototype.handle_save = function(fig, msg) {\n",
       "    fig.ondownload(fig, null);\n",
       "}\n",
       "\n",
       "\n",
       "mpl.find_output_cell = function(html_output) {\n",
       "    // Return the cell and output element which can be found *uniquely* in the notebook.\n",
       "    // Note - this is a bit hacky, but it is done because the \"notebook_saving.Notebook\"\n",
       "    // IPython event is triggered only after the cells have been serialised, which for\n",
       "    // our purposes (turning an active figure into a static one), is too late.\n",
       "    var cells = IPython.notebook.get_cells();\n",
       "    var ncells = cells.length;\n",
       "    for (var i=0; i<ncells; i++) {\n",
       "        var cell = cells[i];\n",
       "        if (cell.cell_type === 'code'){\n",
       "            for (var j=0; j<cell.output_area.outputs.length; j++) {\n",
       "                var data = cell.output_area.outputs[j];\n",
       "                if (data.data) {\n",
       "                    // IPython >= 3 moved mimebundle to data attribute of output\n",
       "                    data = data.data;\n",
       "                }\n",
       "                if (data['text/html'] == html_output) {\n",
       "                    return [cell, data, j];\n",
       "                }\n",
       "            }\n",
       "        }\n",
       "    }\n",
       "}\n",
       "\n",
       "// Register the function which deals with the matplotlib target/channel.\n",
       "// The kernel may be null if the page has been refreshed.\n",
       "if (IPython.notebook.kernel != null) {\n",
       "    IPython.notebook.kernel.comm_manager.register_target('matplotlib', mpl.mpl_figure_comm);\n",
       "}\n"
      ],
      "text/plain": [
       "<IPython.core.display.Javascript object>"
      ]
     },
     "metadata": {},
     "output_type": "display_data"
    },
    {
     "data": {
      "text/html": [
       "<img src=\"data:image/png;base64,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\" width=\"952\">"
      ],
      "text/plain": [
       "<IPython.core.display.HTML object>"
      ]
     },
     "metadata": {},
     "output_type": "display_data"
    },
    {
     "data": {
      "text/html": [
       "\n",
       "            <style>\n",
       "            .widget-valid-readout.widget-readout {\n",
       "                max-width: 450px\n",
       "            }\n",
       "            </style>\n",
       "            "
      ],
      "text/plain": [
       "<IPython.core.display.HTML object>"
      ]
     },
     "metadata": {},
     "output_type": "display_data"
    },
    {
     "data": {
      "application/vnd.jupyter.widget-view+json": {
       "model_id": "d20c69ee184a4a6bae7cf2955dad8fe5",
       "version_major": 2,
       "version_minor": 0
      },
      "text/plain": [
       "VBox(children=(Dropdown(options={'BUREAU_X': 0, 'UTILITY': 1}, value=0), Tab(children=(VBox(children=(Text(val…"
      ]
     },
     "metadata": {},
     "output_type": "display_data"
    }
   ],
   "source": [
    "from scoring.grouping import Grouping, InteractiveGrouping\n",
    "\n",
    "cols_togroup_num = [\n",
    "                       'BUREAU_X',\n",
    "]\n",
    "cols_togroup_cat = [\n",
    "                       'UTILITY',\n",
    "]\n",
    "\n",
    "grouping = InteractiveGrouping(columns = cols_togroup_num,\n",
    "                               cat_columns = cols_togroup_cat,\n",
    "                               group_count=5,\n",
    "                               min_samples=100, \n",
    "                               min_samples_cat=100,\n",
    "                               woe_smooth_coef=0.001)\n",
    "\n",
    "sns.reset_orig()\n",
    "%matplotlib notebook\n",
    "%config InlineBackend.close_figures=False\n",
    "\n",
    "grouping.display(#train_t = data[train_mask][cols_togroup_num+cols_togroup_cat+[col_target]],\n",
    "                 train_t = data[train_mask][cols_togroup_num+cols_togroup_cat+[col_target]+[col_weight]], #for call with weight\n",
    "                 columns = cols_togroup_num,\n",
    "                 cat_columns = cols_togroup_cat,\n",
    "                 target_column = col_target,\n",
    "                 w_column = col_weight,\n",
    "                 #filename = 'myIntGrouping',\n",
    "                 bin_count=20,\n",
    "                 woe_smooth_coef=0.001,\n",
    "                 group_count=5,\n",
    "                 min_samples=100,\n",
    "                 min_samples_cat=100)"
   ]
  },
  {
   "cell_type": "code",
   "execution_count": 47,
   "metadata": {
    "ExecuteTime": {
     "end_time": "2021-05-11T07:50:52.460906Z",
     "start_time": "2021-05-11T07:50:52.456774Z"
    }
   },
   "outputs": [
    {
     "data": {
      "text/plain": [
       "'1.3.1'"
      ]
     },
     "execution_count": 47,
     "metadata": {},
     "output_type": "execute_result"
    }
   ],
   "source": [
    "qgrid.__version__"
   ]
  },
  {
   "cell_type": "markdown",
   "metadata": {},
   "source": [
    "Don't forget to *Apply and Save* your changes."
   ]
  },
  {
   "cell_type": "code",
   "execution_count": null,
   "metadata": {
    "ExecuteTime": {
     "end_time": "2020-12-08T16:42:02.991326Z",
     "start_time": "2020-12-08T16:42:02.975670Z"
    }
   },
   "outputs": [],
   "source": [
    "#reset the graphical environment to be used by the normal non-interactive charts\n",
    "sns.set()\n",
    "%matplotlib inline\n",
    "%config InlineBackend.close_figures=True"
   ]
  },
  {
   "cell_type": "markdown",
   "metadata": {},
   "source": [
    "Load the grouping from a file (don't forget to set the right filename) and add the WOE columns to the original dataset."
   ]
  },
  {
   "cell_type": "code",
   "execution_count": null,
   "metadata": {
    "ExecuteTime": {
     "end_time": "2020-12-08T16:42:03.008307Z",
     "start_time": "2020-12-08T16:42:02.992335Z"
    }
   },
   "outputs": [],
   "source": [
    "# from scoring.grouping import Grouping\n",
    "# grouping = Grouping(columns = cols_togroup_num,\n",
    "#                     cat_columns = cols_togroup_cat,\n",
    "#                     group_count=5, \n",
    "#                     min_samples=100, \n",
    "#                     min_samples_cat=100,\n",
    "#                     woe_smooth_coef=0.001) \n",
    "# g_filename = 'myIntGrouping'\n",
    "# grouping.load(g_filename)"
   ]
  },
  {
   "cell_type": "markdown",
   "metadata": {},
   "source": [
    "Apply the grouping to the data. *Grouping.transform()* method now automatically renames columns with proper suffix. If you need to transform just subset of columns use parameter *columns_to_transform=\\[...\\]*."
   ]
  },
  {
   "cell_type": "code",
   "execution_count": null,
   "metadata": {
    "ExecuteTime": {
     "end_time": "2020-12-08T16:42:03.058153Z",
     "start_time": "2020-12-08T16:42:03.008850Z"
    }
   },
   "outputs": [],
   "source": [
    "data_woe = grouping.transform(data, transform_to='woe', progress_bar=True)"
   ]
  },
  {
   "cell_type": "markdown",
   "metadata": {},
   "source": [
    "Add WOE variabes to the data set."
   ]
  },
  {
   "cell_type": "code",
   "execution_count": null,
   "metadata": {
    "ExecuteTime": {
     "end_time": "2020-12-08T16:42:03.325284Z",
     "start_time": "2020-12-08T16:42:03.058700Z"
    }
   },
   "outputs": [],
   "source": [
    "woe_columns_to_replace = list()\n",
    "for column in data_woe.columns:\n",
    "    if column in data:\n",
    "        woe_columns_to_replace.append(column)\n",
    "        print('Column', column ,'dropped as it already existed in the data set.')\n",
    "data = data.drop(woe_columns_to_replace, axis='columns')\n",
    "data = data.join(data_woe)\n",
    "\n",
    "del data_woe\n",
    "gc.collect()\n",
    "\n",
    "print('Added WOE variables. Number of columns:',data.shape[1])\n",
    "cols_woe = [s + '_WOE' for s in cols_pred]"
   ]
  },
  {
   "cell_type": "markdown",
   "metadata": {},
   "source": [
    "## Score distribution and calibration\n",
    "\n",
    "Once we transformed all the scores to form which is after expit transformation linearly dependent on default rate, we can draw charts of its distribution and also compare the predicted probability in each quantile with predicted default rate."
   ]
  },
  {
   "cell_type": "code",
   "execution_count": null,
   "metadata": {
    "ExecuteTime": {
     "end_time": "2020-12-08T16:42:03.342372Z",
     "start_time": "2020-12-08T16:42:03.326789Z"
    }
   },
   "outputs": [],
   "source": [
    "from scoring.plot import score_calibration"
   ]
  },
  {
   "cell_type": "markdown",
   "metadata": {},
   "source": [
    "List of *transformed* scores (i.e. each score must be in its logit form)."
   ]
  },
  {
   "cell_type": "code",
   "execution_count": null,
   "metadata": {
    "ExecuteTime": {
     "end_time": "2020-12-08T16:42:03.359031Z",
     "start_time": "2020-12-08T16:42:03.342372Z"
    }
   },
   "outputs": [],
   "source": [
    "cols_pred_transformed = [\n",
    "    'INTERNAL_LIN',\n",
    "    'TELCO_A_LIN',\n",
    "    'TELCO_B_LIN',\n",
    "    'BUREAU_X_WOE',\n",
    "    'BUREAU_Y_LIN',\n",
    "    'UTILITY_WOE',\n",
    "    'DEVICE_LIN',\n",
    "]"
   ]
  },
  {
   "cell_type": "markdown",
   "metadata": {},
   "source": [
    "Each of the following charts consists of:\n",
    "- red columns: histogram of score - number of observations in each quantile, tied to the left y axis\n",
    "- black dashed line: predicted probability of default (i.e. `exp(x)/1+exp(x)`) of x axis\n",
    "- blue line: acutal default rate in each quantile, tied to the right y axis, should correspond to the black dashed line\n",
    "- green dashed line: actual default rate of observations where the score is null, tied to the right y axis\n",
    "\n",
    "The numbers under each chart are:\n",
    "- average predicted default rate (i.e. average of values of black dashed line of the whole population where the score is not null)\n",
    "- average hit default rate (i.e. average of values of blue line of the whole population where the score is not null)\n",
    "- average non-hit default rate (i.e. value of the green dashed line)\n",
    "- hit gini (metric of quality of prediction for population where the score is not null)"
   ]
  },
  {
   "cell_type": "code",
   "execution_count": null,
   "metadata": {
    "ExecuteTime": {
     "end_time": "2020-12-08T16:42:08.358139Z",
     "start_time": "2020-12-08T16:42:03.359031Z"
    }
   },
   "outputs": [],
   "source": [
    "for col in cols_pred_transformed:\n",
    "    if col[-3:] == 'WOE':\n",
    "        shift, scale = np.log(data[observable_mask][col_target].sum() / (1-data[observable_mask][col_target]).sum()), -1\n",
    "    else:\n",
    "        shift, scale = 0, 1\n",
    "    documentation.CalibrationDistribution(\n",
    "        data=data,\n",
    "        sample=\"Observable\",\n",
    "        target=col_target,\n",
    "        score=col,\n",
    "        shift=shift,\n",
    "        scale=scale,\n",
    "        apply_logit=False,\n",
    "        empty_representations=[np.nan],\n",
    "        use_weight=True,\n",
    "        bins=30,\n",
    "        vertical_lines=None,\n",
    "        output_folder=output_folder+'/predictors/'\n",
    "    )"
   ]
  },
  {
   "cell_type": "markdown",
   "metadata": {},
   "source": [
    "# Building the model step by step\n",
    "\n",
    "In this part, we will build the model step by setp, so after transformation all variables to logit, we have to:\n",
    "- impute the missing values of the subscores by valid numbers. These numbers should be based on relationship of score and default from the observations where the score is known\n",
    "- fit the model using these imputed variables"
   ]
  },
  {
   "cell_type": "markdown",
   "metadata": {},
   "source": [
    "## Missing value imputation"
   ]
  },
  {
   "cell_type": "markdown",
   "metadata": {},
   "source": [
    "### Imputation based on missing\n",
    "\n",
    "In case we have a certain data source available only for certain observations, we need to fill the data source's score with some placeholder values to be able to fit the regression model correctly.\n",
    "\n",
    "This placeholder value should correspond to the average default rate of this group in such way that there is the same relationship between default rate and score as the observations where the score is known.\n",
    "\n",
    "After each imputation, we draw a chart of the score distribution with a vertical reference line corresponding to the imputed value as a sanity check whether the makes sense to us."
   ]
  },
  {
   "cell_type": "markdown",
   "metadata": {},
   "source": [
    "#### Basic imputation assuming linear dependency of score expit and target\n",
    "\n",
    "Calculates imputation value for score that is missing for some observations. Based on default rate in hit sample, average score in hit sample and default rate in no-hit sample, it caluclates score for no-hit sample (using simple proportion formula - \"trojčlenka\"). The score is taken in its logit form, then converted to probability of default and then the calculation is done (or, if parameter `ispd=True`, it is assumed that score already is in probability of default form).\n",
    "\n",
    "$$\\text{Imputation score (PD)} = \\frac{ \\text{Avg non-hit default rate}}{\\text{Avg hit default rate}}\\times\\text{Avg hit score (PD)}$$"
   ]
  },
  {
   "cell_type": "code",
   "execution_count": null,
   "metadata": {
    "ExecuteTime": {
     "end_time": "2020-12-08T16:42:08.378607Z",
     "start_time": "2020-12-08T16:42:08.358139Z"
    }
   },
   "outputs": [],
   "source": [
    "from scoring.score_imputation import missing_value"
   ]
  },
  {
   "cell_type": "code",
   "execution_count": null,
   "metadata": {
    "ExecuteTime": {
     "end_time": "2020-12-08T16:42:08.644296Z",
     "start_time": "2020-12-08T16:42:08.378607Z"
    }
   },
   "outputs": [],
   "source": [
    "fill_val = missing_value(sample_hit = data[train_mask & ~np.isnan(data[\"TELCO_A_LIN\"])],\n",
    "                        sample_nohit = data[train_mask & np.isnan(data[\"TELCO_A_LIN\"])],\n",
    "                        score = \"TELCO_A_LIN\",\n",
    "                        target = col_target,\n",
    "                        weight = col_weight,\n",
    "                        ispd = False)\n",
    "print(f'Imputation value: {fill_val}')\n",
    "\n",
    "data[\"TELCO_A_LIN_MV\"] = data[\"TELCO_A_LIN\"].copy()\n",
    "data.loc[np.isnan(data[\"TELCO_A_LIN\"]), \"TELCO_A_LIN_MV\"] = fill_val\n",
    "\n",
    "documentation.CalibrationDistribution(\n",
    "        data=data,\n",
    "        sample=\"Train\",\n",
    "        target=col_target,\n",
    "        score=\"TELCO_A_LIN\",\n",
    "        shift=0,\n",
    "        scale=1,\n",
    "        apply_logit=False,\n",
    "        empty_representations=[np.nan],\n",
    "        use_weight=True,\n",
    "        bins=30,\n",
    "        vertical_lines=fill_val,\n",
    "    )"
   ]
  },
  {
   "cell_type": "code",
   "execution_count": null,
   "metadata": {
    "ExecuteTime": {
     "end_time": "2020-12-08T16:42:08.908862Z",
     "start_time": "2020-12-08T16:42:08.645307Z"
    }
   },
   "outputs": [],
   "source": [
    "fill_val = missing_value(sample_hit = data[train_mask & ~np.isnan(data[\"TELCO_B_LIN\"])],\n",
    "                        sample_nohit = data[train_mask & np.isnan(data[\"TELCO_B_LIN\"])],\n",
    "                        score = \"TELCO_B_LIN\",\n",
    "                        target = col_target,\n",
    "                        ispd = False)\n",
    "print(fill_val)\n",
    "\n",
    "data[\"TELCO_B_LIN_MV\"] = data[\"TELCO_B_LIN\"].copy()\n",
    "data.loc[np.isnan(data[\"TELCO_B_LIN\"]), \"TELCO_B_LIN_MV\"] = fill_val\n",
    "\n",
    "documentation.CalibrationDistribution(\n",
    "        data=data,\n",
    "        sample=\"Train\",\n",
    "        target=col_target,\n",
    "        score=\"TELCO_B_LIN\",\n",
    "        shift=0,\n",
    "        scale=1,\n",
    "        apply_logit=False,\n",
    "        empty_representations=[np.nan],\n",
    "        use_weight=True,\n",
    "        bins=30,\n",
    "        vertical_lines=fill_val,\n",
    "    )"
   ]
  },
  {
   "cell_type": "code",
   "execution_count": null,
   "metadata": {
    "ExecuteTime": {
     "end_time": "2020-12-08T16:42:09.275512Z",
     "start_time": "2020-12-08T16:42:08.908862Z"
    }
   },
   "outputs": [],
   "source": [
    "fill_val = missing_value(sample_hit = data[train_mask & ~np.isnan(data[\"DEVICE_LIN\"])],\n",
    "                        sample_nohit = data[train_mask & np.isnan(data[\"DEVICE_LIN\"])],\n",
    "                        score = \"DEVICE_LIN\",\n",
    "                        target = col_target,\n",
    "                        weight = col_weight,\n",
    "                        ispd = False)\n",
    "print(fill_val)\n",
    "\n",
    "data[\"DEVICE_LIN_MV\"] = data[\"DEVICE_LIN\"].copy()\n",
    "data.loc[np.isnan(data[\"DEVICE_LIN\"]), \"DEVICE_LIN_MV\"] = fill_val\n",
    "\n",
    "documentation.CalibrationDistribution(\n",
    "        data=data,\n",
    "        sample=\"Train\",\n",
    "        target=col_target,\n",
    "        score=\"DEVICE_LIN\",\n",
    "        shift=0,\n",
    "        scale=1,\n",
    "        apply_logit=False,\n",
    "        empty_representations=[np.nan],\n",
    "        use_weight=True,\n",
    "        bins=30,\n",
    "        vertical_lines=fill_val,\n",
    "    )"
   ]
  },
  {
   "cell_type": "markdown",
   "metadata": {},
   "source": [
    "#### Alternative imputer using not assuming linear dependence of score expit and target\n",
    "\n",
    "Calculates imputation value for score that is missing for some observations. It divides hit sample into certain number of quantiles (sorted by score) and smoothens them (by joining neighbors together) to be monotonic in average default rate. Then, it finds the quantile whose average target value is closest to average target of no-hit sample. Average score of this quantile is then used as imputation value.\n",
    "```   \n",
    "Imputation score = Avg score of quantile which is argmin(|Avg default in quantile - default of non-hits|)\n",
    "```"
   ]
  },
  {
   "cell_type": "code",
   "execution_count": null,
   "metadata": {
    "ExecuteTime": {
     "end_time": "2020-12-08T16:42:09.292224Z",
     "start_time": "2020-12-08T16:42:09.279097Z"
    }
   },
   "outputs": [],
   "source": [
    "from scoring.score_imputation import quantile_imputer"
   ]
  },
  {
   "cell_type": "code",
   "execution_count": null,
   "metadata": {
    "ExecuteTime": {
     "end_time": "2020-12-08T16:42:09.656896Z",
     "start_time": "2020-12-08T16:42:09.292224Z"
    }
   },
   "outputs": [],
   "source": [
    "fill_val = quantile_imputer(sample_hit = data[train_mask & ~np.isnan(data[\"TELCO_A_LIN\"])],\n",
    "                        sample_nohit = data[train_mask & np.isnan(data[\"TELCO_A_LIN\"])],\n",
    "                        score = \"TELCO_A_LIN\",\n",
    "                        target = col_target,\n",
    "                        weight = col_weight,\n",
    "                        quantiles = 100)\n",
    "print(fill_val)\n",
    "\n",
    "data[\"TELCO_A_LIN_MV\"] = data[\"TELCO_A_LIN\"].copy()\n",
    "data.loc[np.isnan(data[\"TELCO_A_LIN\"]), \"TELCO_A_LIN_MV\"] = fill_val\n",
    "\n",
    "documentation.CalibrationDistribution(\n",
    "        data=data,\n",
    "        sample=\"Train\",\n",
    "        target=col_target,\n",
    "        score=\"TELCO_A_LIN\",\n",
    "        shift=0,\n",
    "        scale=1,\n",
    "        apply_logit=False,\n",
    "        empty_representations=[np.nan],\n",
    "        use_weight=True,\n",
    "        bins=30,\n",
    "        vertical_lines=fill_val,\n",
    "    )"
   ]
  },
  {
   "cell_type": "code",
   "execution_count": null,
   "metadata": {
    "ExecuteTime": {
     "end_time": "2020-12-08T16:42:10.057776Z",
     "start_time": "2020-12-08T16:42:09.656896Z"
    }
   },
   "outputs": [],
   "source": [
    "fill_val = quantile_imputer(sample_hit = data[train_mask & ~np.isnan(data[\"TELCO_B_LIN\"])],\n",
    "                        sample_nohit = data[train_mask & np.isnan(data[\"TELCO_B_LIN\"])],\n",
    "                        score = \"TELCO_B_LIN\",\n",
    "                        target = col_target,\n",
    "                        quantiles = 100)\n",
    "print(fill_val)\n",
    "\n",
    "data[\"TELCO_B_LIN_MV\"] = data[\"TELCO_B_LIN\"].copy()\n",
    "data.loc[np.isnan(data[\"TELCO_B_LIN\"]), \"TELCO_B_LIN_MV\"] = fill_val\n",
    "\n",
    "documentation.CalibrationDistribution(\n",
    "        data=data,\n",
    "        sample=\"Train\",\n",
    "        target=col_target,\n",
    "        score=\"TELCO_B_LIN\",\n",
    "        shift=0,\n",
    "        scale=1,\n",
    "        apply_logit=False,\n",
    "        empty_representations=[np.nan],\n",
    "        use_weight=True,\n",
    "        bins=30,\n",
    "        vertical_lines=fill_val,\n",
    "    )"
   ]
  },
  {
   "cell_type": "code",
   "execution_count": null,
   "metadata": {
    "ExecuteTime": {
     "end_time": "2020-12-08T16:42:10.458011Z",
     "start_time": "2020-12-08T16:42:10.058782Z"
    }
   },
   "outputs": [],
   "source": [
    "fill_val = quantile_imputer(sample_hit = data[train_mask & ~np.isnan(data[\"DEVICE_LIN\"])],\n",
    "                        sample_nohit = data[train_mask & np.isnan(data[\"DEVICE_LIN\"])],\n",
    "                        score = \"DEVICE_LIN\",\n",
    "                        target = col_target,\n",
    "                        weight = col_weight,\n",
    "                        quantiles = 100)\n",
    "print(fill_val)\n",
    "\n",
    "data[\"DEVICE_LIN_MV\"] = data[\"DEVICE_LIN\"].copy()\n",
    "data.loc[np.isnan(data[\"DEVICE_LIN\"]), \"DEVICE_LIN_MV\"] = fill_val\n",
    "\n",
    "documentation.CalibrationDistribution(\n",
    "        data=data,\n",
    "        sample=\"Train\",\n",
    "        target=col_target,\n",
    "        score=\"DEVICE_LIN\",\n",
    "        shift=0,\n",
    "        scale=1,\n",
    "        apply_logit=False,\n",
    "        empty_representations=[np.nan],\n",
    "        use_weight=True,\n",
    "        bins=30,\n",
    "        vertical_lines=fill_val,\n",
    "    )"
   ]
  },
  {
   "cell_type": "markdown",
   "metadata": {},
   "source": [
    "### Imputation based on special values\n",
    "\n",
    "Sometimes, we don't want to impute all the missing values together by one imputation values, because there are multiple types of missings (e.g. no-hit and no-ask).\n",
    "\n",
    "We can use various masks to define these populations to be imputed, and call our imputation functions for each one separately"
   ]
  },
  {
   "cell_type": "code",
   "execution_count": null,
   "metadata": {
    "ExecuteTime": {
     "end_time": "2020-12-08T16:42:10.469113Z",
     "start_time": "2020-12-08T16:42:10.459045Z"
    }
   },
   "outputs": [],
   "source": [
    "print(data[\"BUREAU_Y_STATUS\"].unique())"
   ]
  },
  {
   "cell_type": "markdown",
   "metadata": {},
   "source": [
    "#### Basic"
   ]
  },
  {
   "cell_type": "code",
   "execution_count": null,
   "metadata": {
    "ExecuteTime": {
     "end_time": "2020-12-08T16:42:10.741940Z",
     "start_time": "2020-12-08T16:42:10.470111Z"
    }
   },
   "outputs": [],
   "source": [
    "fill_val_nohit = missing_value(sample_hit = data[train_mask & (data[\"BUREAU_Y_STATUS\"]=='HIT')],\n",
    "                              sample_nohit = data[train_mask & (data[\"BUREAU_Y_STATUS\"]=='NO-HIT')],\n",
    "                              score = \"BUREAU_Y_LIN\",\n",
    "                              target = col_target,\n",
    "                              weight = col_weight,\n",
    "                              ispd = False)\n",
    "print(fill_val_nohit)\n",
    "\n",
    "fill_val_noask = missing_value(sample_hit = data[train_mask & (data[\"BUREAU_Y_STATUS\"]=='HIT')],\n",
    "                              sample_nohit = data[train_mask & (data[\"BUREAU_Y_STATUS\"]=='NO-ASK')],\n",
    "                              score = \"BUREAU_Y_LIN\",\n",
    "                              target = col_target,\n",
    "                              weight = col_weight,\n",
    "                              ispd = False)\n",
    "print(fill_val_noask)\n",
    "\n",
    "data[\"BUREAU_Y_LIN_MV\"] = data[\"BUREAU_Y_LIN\"].copy()\n",
    "data.loc[(data[\"BUREAU_Y_STATUS\"]=='NO-HIT'), \"BUREAU_Y_LIN_MV\"] = fill_val_nohit\n",
    "data.loc[(data[\"BUREAU_Y_STATUS\"]=='NO-ASK'), \"BUREAU_Y_LIN_MV\"] = fill_val_noask\n",
    "\n",
    "documentation.CalibrationDistribution(\n",
    "        data=data,\n",
    "        sample=\"Train\",\n",
    "        target=col_target,\n",
    "        score=\"BUREAU_Y_LIN\",\n",
    "        shift=0,\n",
    "        scale=1,\n",
    "        apply_logit=False,\n",
    "        empty_representations=[np.nan],\n",
    "        use_weight=True,\n",
    "        bins=30,\n",
    "        vertical_lines=[fill_val_nohit, fill_val_noask],\n",
    "    )"
   ]
  },
  {
   "cell_type": "markdown",
   "metadata": {},
   "source": [
    "#### Alternative"
   ]
  },
  {
   "cell_type": "code",
   "execution_count": null,
   "metadata": {
    "ExecuteTime": {
     "end_time": "2020-12-08T16:42:11.258810Z",
     "start_time": "2020-12-08T16:42:10.741940Z"
    }
   },
   "outputs": [],
   "source": [
    "fill_val_nohit = quantile_imputer(sample_hit = data[train_mask & (data[\"BUREAU_Y_STATUS\"]=='HIT')],\n",
    "                              sample_nohit = data[train_mask & (data[\"BUREAU_Y_STATUS\"]=='NO-HIT')],\n",
    "                              score = \"BUREAU_Y_LIN\",\n",
    "                              target = col_target,\n",
    "                              weight = col_weight,\n",
    "                              quantiles = 100)\n",
    "print(fill_val_nohit)\n",
    "\n",
    "fill_val_noask = quantile_imputer(sample_hit = data[train_mask & (data[\"BUREAU_Y_STATUS\"]=='HIT')],\n",
    "                              sample_nohit = data[train_mask & (data[\"BUREAU_Y_STATUS\"]=='NO-ASK')],\n",
    "                              score = \"BUREAU_Y_LIN\",\n",
    "                              target = col_target,\n",
    "                              weight = col_weight,\n",
    "                              quantiles = 100)\n",
    "print(fill_val_noask)\n",
    "\n",
    "data[\"BUREAU_Y_LIN_MV\"] = data[\"BUREAU_Y_LIN\"].copy()\n",
    "data.loc[(data[\"BUREAU_Y_STATUS\"]=='NO-HIT'), \"BUREAU_Y_LIN_MV\"] = fill_val_nohit\n",
    "data.loc[(data[\"BUREAU_Y_STATUS\"]=='NO-ASK'), \"BUREAU_Y_LIN_MV\"] = fill_val_noask\n",
    "\n",
    "documentation.CalibrationDistribution(\n",
    "        data=data,\n",
    "        sample=\"Train\",\n",
    "        target=col_target,\n",
    "        score=\"BUREAU_Y_LIN\",\n",
    "        shift=0,\n",
    "        scale=1,\n",
    "        apply_logit=False,\n",
    "        empty_representations=[np.nan],\n",
    "        use_weight=True,\n",
    "        bins=30,\n",
    "        vertical_lines=[fill_val_nohit, fill_val_noask],\n",
    "    )"
   ]
  },
  {
   "cell_type": "markdown",
   "metadata": {},
   "source": [
    "### Manual imputation\n",
    "\n",
    "In some cases, we want to impute the missing values by values that we come up with expertly.\n",
    "\n",
    "In the following list of dictionaries, we define:\n",
    "- `fill_variable` - name of variable that should be imputed, i.e. *what*\n",
    "- `nohit_condition` - pandas query defining which rows the variable should be imputed in, i.e. *where*\n",
    "- `manual_value` - value the variable should be imputed by, i.e. *how*"
   ]
  },
  {
   "cell_type": "code",
   "execution_count": null,
   "metadata": {
    "ExecuteTime": {
     "end_time": "2020-12-08T16:42:11.274480Z",
     "start_time": "2020-12-08T16:42:11.258810Z"
    }
   },
   "outputs": [],
   "source": [
    "mv_manual_imputation_meta = [\n",
    "    {\n",
    "        'fill_variable': 'TELCO_A_LIN',\n",
    "        'nohit_condition': 'TELCO_A_LIN.isnull()',\n",
    "        'manual_value': -2.2,\n",
    "    },\n",
    "    {\n",
    "        'fill_variable': 'TELCO_B_LIN',\n",
    "        'nohit_condition': 'TELCO_B_LIN.isnull()',\n",
    "        'manual_value': -2.2,\n",
    "    },\n",
    "    {\n",
    "        'fill_variable': 'DEVICE_LIN',\n",
    "        'nohit_condition': 'DEVICE.isnull()',\n",
    "        'manual_value': -2.6,\n",
    "    },\n",
    "    {\n",
    "        'fill_variable': 'BUREAU_Y_LIN',\n",
    "        'nohit_condition': 'BUREAU_Y_STATUS==\"NO-HIT\"',\n",
    "        'manual_value': -2.8,\n",
    "    },\n",
    "    {\n",
    "        'fill_variable': 'BUREAU_Y_LIN',\n",
    "        'nohit_condition': 'BUREAU_Y_STATUS==\"NO-ASK\"',\n",
    "        'manual_value': -2.3,\n",
    "    },\n",
    "]"
   ]
  },
  {
   "cell_type": "markdown",
   "metadata": {},
   "source": [
    "Run imputation based on the previously defined list of dictionaries:"
   ]
  },
  {
   "cell_type": "code",
   "execution_count": null,
   "metadata": {
    "ExecuteTime": {
     "end_time": "2020-12-08T16:42:11.307847Z",
     "start_time": "2020-12-08T16:42:11.275491Z"
    }
   },
   "outputs": [],
   "source": [
    "for imp in mv_manual_imputation_meta:\n",
    "    if imp['fill_variable']+'_MV' not in data.columns:\n",
    "        data[imp['fill_variable']+'_MV'] = data[imp['fill_variable']].copy()\n",
    "    data.loc[data.eval(imp['nohit_condition'],engine='python'), imp['fill_variable']+'_MV'] = imp['manual_value']"
   ]
  },
  {
   "cell_type": "markdown",
   "metadata": {},
   "source": [
    "## Simple logistic regression"
   ]
  },
  {
   "cell_type": "markdown",
   "metadata": {},
   "source": [
    "Define list of transformed and imputed variable that will be used as predictors in logistic regression."
   ]
  },
  {
   "cell_type": "code",
   "execution_count": null,
   "metadata": {
    "ExecuteTime": {
     "end_time": "2020-12-08T16:42:11.324542Z",
     "start_time": "2020-12-08T16:42:11.308885Z"
    }
   },
   "outputs": [],
   "source": [
    "cols_pred_transformed_mv = ['INTERNAL_LIN',\n",
    "                           'TELCO_A_LIN_MV',\n",
    "                           'TELCO_B_LIN_MV',\n",
    "                           'BUREAU_X_WOE',\n",
    "                           'BUREAU_Y_LIN_MV',\n",
    "                           'UTILITY_WOE',\n",
    "                           'DEVICE_LIN_MV']"
   ]
  },
  {
   "cell_type": "markdown",
   "metadata": {},
   "source": [
    "### Weighted model\n",
    "\n",
    "Logitstic regression model using weights from `col_weight`."
   ]
  },
  {
   "cell_type": "code",
   "execution_count": null,
   "metadata": {
    "ExecuteTime": {
     "end_time": "2020-12-08T16:42:11.358752Z",
     "start_time": "2020-12-08T16:42:11.325553Z"
    }
   },
   "outputs": [],
   "source": [
    "from sklearn.linear_model import LogisticRegression\n",
    "\n",
    "logreg_simple_w = LogisticRegression(penalty = 'l2', C = 1000, solver = 'liblinear')\n",
    "logreg_simple_w.fit(X=data[train_mask][cols_pred_transformed_mv],\n",
    "                    y=data[train_mask][col_target],\n",
    "                    sample_weight=data[train_mask][col_weight])\n",
    "data['score_weighted'] = logreg_simple_w.predict_proba(X=data[cols_pred_transformed_mv])[:,1]\n",
    "\n",
    "for pred, coef in zip(['Intercept'] + cols_pred_transformed_mv, np.concatenate((logreg_simple_w.intercept_, logreg_simple_w.coef_[0]))):\n",
    "    print (pred, coef)"
   ]
  },
  {
   "cell_type": "markdown",
   "metadata": {},
   "source": [
    "### Unweighted model\n",
    "\n",
    "Logistic regression model not using weights."
   ]
  },
  {
   "cell_type": "code",
   "execution_count": null,
   "metadata": {
    "ExecuteTime": {
     "end_time": "2020-12-08T16:42:11.392220Z",
     "start_time": "2020-12-08T16:42:11.358752Z"
    }
   },
   "outputs": [],
   "source": [
    "from sklearn.linear_model import LogisticRegression\n",
    "\n",
    "logreg_simple = LogisticRegression(penalty = 'l2', C = 1000, solver = 'liblinear')\n",
    "logreg_simple.fit(X=data[train_mask][cols_pred_transformed_mv],\n",
    "                  y=data[train_mask][col_target])\n",
    "data['score_unweighted'] = logreg_simple.predict_proba(X=data[cols_pred_transformed_mv])[:,1]\n",
    "\n",
    "for pred, coef in zip(['Intercept'] + cols_pred_transformed_mv, np.concatenate((logreg_simple.intercept_, logreg_simple.coef_[0]))):\n",
    "    print (pred, coef)"
   ]
  },
  {
   "cell_type": "markdown",
   "metadata": {},
   "source": [
    "### Comparison of both approaches\n",
    "\n",
    "Gini cross-check: comparing Gini of weighted model on weighted and unweighted sample and Gini of unweighted model on these samples to see whether the weights are or are not changing our model and its performance significantly."
   ]
  },
  {
   "cell_type": "code",
   "execution_count": null,
   "metadata": {
    "ExecuteTime": {
     "end_time": "2020-12-08T16:42:11.437418Z",
     "start_time": "2020-12-08T16:42:11.392220Z"
    }
   },
   "outputs": [],
   "source": [
    "from scoring.metrics import gini\n",
    "approach_ginis = []\n",
    "approach_ginis.append({'gini':gini(data[valid_mask][col_target], data[valid_mask]['score_weighted']),\n",
    "                       'score':'weighted','measurement':'unweighted'})\n",
    "approach_ginis.append({'gini':gini(data[valid_mask][col_target], data[valid_mask]['score_weighted'], data[valid_mask][col_weight]),\n",
    "                       'score':'weighted','measurement':'weighted'})\n",
    "approach_ginis.append({'gini':gini(data[valid_mask][col_target], data[valid_mask]['score_unweighted']),\n",
    "                       'score':'unweighted','measurement':'unweighted'})\n",
    "approach_ginis.append({'gini':gini(data[valid_mask][col_target], data[valid_mask]['score_unweighted'], data[valid_mask][col_weight]),\n",
    "                       'score':'unweighted','measurement':'weighted'})\n",
    "display(pd.DataFrame(approach_ginis).pivot(index='score', columns='measurement', values='gini'))"
   ]
  },
  {
   "cell_type": "markdown",
   "metadata": {},
   "source": [
    "# Building the model using CrossValidatedGeneralModel class\n",
    "\n",
    "Class `CrossValidatedGeneralModel` is able to run most of the previous steps automatically, essentially it is able to:\n",
    "- transform variables which are in PD (probability, expit) form to logit form\n",
    "- interactively define the missing value imputation logic\n",
    "- run cross-validation or basic train/validation model fitting which will do the following:\n",
    "    - impute missing values of variables using chosen algorithm or given constants\n",
    "    - train logistic regression using the variables\n",
    "- measure Gini of the model either in a deterministic way or using bootstrappings\n",
    "- calculate marginal contribution analysis for\n",
    "    - each predictor which is already in the model\n",
    "    - additional predictors given by the user\n",
    "- return tabular outputs with all the values of coefficients, imputation values, gini values etc. from the previous steps\n",
    "- transform the data - calculate the score for each observation\n",
    "- generate python transformation code"
   ]
  },
  {
   "cell_type": "markdown",
   "metadata": {},
   "source": [
    "## Setup"
   ]
  },
  {
   "cell_type": "markdown",
   "metadata": {},
   "source": [
    "### Metadata"
   ]
  },
  {
   "cell_type": "markdown",
   "metadata": {},
   "source": [
    "#### List of predictors\n",
    "\n",
    "List of variables we want to use in the model. These variables can be in form of probability of default (expit), logit or WOE. They don't have to be imputed as the imputation logic is implemented inside CrossValidatedGeneralModel class."
   ]
  },
  {
   "cell_type": "code",
   "execution_count": null,
   "metadata": {
    "ExecuteTime": {
     "end_time": "2020-12-08T16:42:11.442404Z",
     "start_time": "2020-12-08T16:42:11.438453Z"
    }
   },
   "outputs": [],
   "source": [
    "cols_pred_final = ['INTERNAL',\n",
    "                   'TELCO_A',\n",
    "                   'TELCO_B',\n",
    "                   'BUREAU_X_WOE',\n",
    "                   'BUREAU_Y',\n",
    "                   'UTILITY_WOE',\n",
    "                   'DEVICE',\n",
    "                  ]"
   ]
  },
  {
   "cell_type": "markdown",
   "metadata": {},
   "source": [
    "#### Probability scores to be transformed\n",
    "\n",
    "List of predictors which are in the probability of default (expit) form. Should be subset of the list defined above. Can be empty."
   ]
  },
  {
   "cell_type": "code",
   "execution_count": null,
   "metadata": {
    "ExecuteTime": {
     "end_time": "2020-12-08T16:42:11.447391Z",
     "start_time": "2020-12-08T16:42:11.444399Z"
    }
   },
   "outputs": [],
   "source": [
    "cols_pd = ['TELCO_A',\n",
    "           'BUREAU_Y',\n",
    "           'DEVICE',\n",
    "          ]"
   ]
  },
  {
   "cell_type": "markdown",
   "metadata": {},
   "source": [
    "#### Imputation metadata\n",
    "\n",
    "Logic for imputing empty values. In the following list of dictionaries, we define:\n",
    "- `fill_variable` - name of variable that should be imputed, i.e. *what*\n",
    "- `nohit_condition` - pandas query defining which rows the variable should be imputed in, i.e. *where*\n",
    "- `manual_value` - value the variable should be imputed by, i.e. *how* - if `None`, this value is computed automatically using the following\n",
    "- `hit_condition` - pandas query defining which rows should be used to calculate the relationship between score and default rate and so the imputation value, i.e. *how*"
   ]
  },
  {
   "cell_type": "code",
   "execution_count": null,
   "metadata": {
    "ExecuteTime": {
     "end_time": "2020-12-08T16:42:11.454372Z",
     "start_time": "2020-12-08T16:42:11.449387Z"
    }
   },
   "outputs": [],
   "source": [
    "mv_imputation_meta = [\n",
    "    {\n",
    "        'fill_variable': 'TELCO_A_LIN',\n",
    "        'hit_condition': 'TELCO_A_LIN.notnull()',\n",
    "        'nohit_condition': 'TELCO_A_LIN.isnull()',\n",
    "        'manual_value': -2.2,\n",
    "    },\n",
    "    {\n",
    "        'fill_variable': 'TELCO_A',\n",
    "        'hit_condition': 'TELCO_A.notnull()',\n",
    "        'nohit_condition': 'TELCO_A.isnull()',\n",
    "        'manual_value': None,\n",
    "    },\n",
    "    {\n",
    "        'fill_variable': 'TELCO_B_LIN',\n",
    "        'hit_condition': 'TELCO_B_LIN.notnull()',\n",
    "        'nohit_condition': 'TELCO_B_LIN.isnull()',\n",
    "        'manual_value': -2.2,\n",
    "    },\n",
    "    {\n",
    "        'fill_variable': 'TELCO_B',\n",
    "        'hit_condition': 'TELCO_B.notnull()',\n",
    "        'nohit_condition': 'TELCO_B.isnull()',\n",
    "        'manual_value': None,\n",
    "    },\n",
    "    {\n",
    "        'fill_variable': 'DEVICE',\n",
    "        'hit_condition': 'DEVICE.notnull()',\n",
    "        'nohit_condition': 'DEVICE.isnull()',\n",
    "        'manual_value': None,\n",
    "    },\n",
    "    {\n",
    "        'fill_variable': 'BUREAU_Y',\n",
    "        'hit_condition': 'BUREAU_Y_STATUS==\"HIT\"',\n",
    "        'nohit_condition': 'BUREAU_Y_STATUS==\"NO-HIT\"',\n",
    "        'manual_value': None,\n",
    "    },\n",
    "    {\n",
    "        'fill_variable': 'BUREAU_Y',\n",
    "        'hit_condition': 'BUREAU_Y_STATUS==\"HIT\"',\n",
    "        'nohit_condition': 'BUREAU_Y_STATUS==\"NO-ASK\"',\n",
    "        'manual_value': None,\n",
    "    },\n",
    "]"
   ]
  },
  {
   "cell_type": "markdown",
   "metadata": {},
   "source": [
    "### Setting basic parameters\n",
    "\n",
    "Creating new instance of `CrossValidatedGeneralModel`. The parameters are:\n",
    "- `predictors` - list of predictors we want to use in the model\n",
    "- `predictors_pd_form` - list of predictors which are in the probability of default (expit) form\n",
    "- `imputation_dicts` - imputation metadata as defined above\n",
    "- `cv` - boolean whether to use cross validation\n",
    "- `cv_folds` - number of folds for cross validation\n",
    "- `cv_seed` - random seed for cross validation\n",
    "- `imputation_type` - *quantile* to use `quantile_imputer()` or *linear* to use `missing_value()` imputer\n",
    "- `bootstrapped_gini` - boolean whether Gini should be calculated using bootstrap algorithm\n",
    "- `bootstrap_seed` - random seed for Gini bootstrapping"
   ]
  },
  {
   "cell_type": "code",
   "execution_count": null,
   "metadata": {
    "ExecuteTime": {
     "end_time": "2020-12-08T16:42:11.460356Z",
     "start_time": "2020-12-08T16:42:11.455369Z"
    }
   },
   "outputs": [],
   "source": [
    "# import importlib\n",
    "# importlib.reload(scoring)\n",
    "# importlib.reload(scoring.general_model)\n",
    "\n",
    "from scoring.general_model import CrossValidatedGeneralModel\n",
    "\n",
    "cvgm = CrossValidatedGeneralModel(\n",
    "    predictors = cols_pred_final,\n",
    "    predictors_pd_form = cols_pd,\n",
    "    imputation_dicts = mv_imputation_meta,\n",
    "    cv = True,\n",
    "    cv_folds = 5,\n",
    "    cv_seed = 1111,\n",
    "    imputation_type = 'quantile',\n",
    "    bootstrapped_gini = True,\n",
    "    bootstrap_seed = 2222,\n",
    "           )"
   ]
  },
  {
   "cell_type": "markdown",
   "metadata": {},
   "source": [
    "### Changing metadata in a interactive way\n",
    "\n",
    "Interactive tools using `qgrid` to change the metadata loaded when the instance was created."
   ]
  },
  {
   "cell_type": "markdown",
   "metadata": {},
   "source": [
    "#### Probabilty scores to be trasformed\n",
    "\n",
    "From the `predictors` list, we can choose which of them are in probability form by ticking them in the *ispd* column."
   ]
  },
  {
   "cell_type": "code",
   "execution_count": null,
   "metadata": {
    "ExecuteTime": {
     "end_time": "2020-12-08T16:42:11.480303Z",
     "start_time": "2020-12-08T16:42:11.461730Z"
    }
   },
   "outputs": [],
   "source": [
    "cvgm.set_colspd_interactive()"
   ]
  },
  {
   "cell_type": "markdown",
   "metadata": {},
   "source": [
    "#### Imputation metadata\n",
    "\n",
    "Change the imputation metadata. You can also add a new row (i.e. new dictionary for missing value imputation) by clicking the *New empty row* button on remove row by deleting the content of its *fill_variable* field."
   ]
  },
  {
   "cell_type": "code",
   "execution_count": null,
   "metadata": {
    "ExecuteTime": {
     "end_time": "2020-12-08T16:42:11.508943Z",
     "start_time": "2020-12-08T16:42:11.482299Z"
    }
   },
   "outputs": [],
   "source": [
    "cvgm.set_imputations_interactive()"
   ]
  },
  {
   "cell_type": "markdown",
   "metadata": {},
   "source": [
    "#### Close widgets\n",
    "**This must be done to be able to pickle the model later!**"
   ]
  },
  {
   "cell_type": "code",
   "execution_count": null,
   "metadata": {
    "ExecuteTime": {
     "end_time": "2020-12-08T16:42:11.524568Z",
     "start_time": "2020-12-08T16:42:11.508943Z"
    }
   },
   "outputs": [],
   "source": [
    "cvgm.close_interactive()"
   ]
  },
  {
   "cell_type": "markdown",
   "metadata": {},
   "source": [
    "## Fitting the model\n",
    "\n",
    "`.fit()` method is used to train the model. The arguments are:\n",
    "- `X` - training dataframe with predictors\n",
    "- `y` - series with targets corresponding to training dataframe\n",
    "- `w` - series with weights corresponding to training dataframe (not mandatory)\n",
    "- `X_valid` - validation dataframe with predictors (not mandatory)\n",
    "- `y_valid` - series with targets corresponding to validation dataframe (not mandatory)\n",
    "- `w_valid` - series with weights corresponding to validation dataframe (not mandatory)\n",
    "- `predictors` - list of predictors from X to be used. Overwrites the list defined in initialization. (not mandatory)\n",
    "\n",
    "In case we don't use cross validation and `X_valid` is defined, the model is trained using `X` dataset and Gini is measured using `X_valid` dataset. If `X_valid` is not defined, Gini is also meaured using `X` dataset.\n",
    "\n",
    "In case we use cross validation and both `X` and `X_valid` are defined, they are first concatenated and then use as base dataset for cross validation data split. If `X_valid` is not defined, `X` is used as base dataset for cross validation data split."
   ]
  },
  {
   "cell_type": "code",
   "execution_count": null,
   "metadata": {
    "ExecuteTime": {
     "end_time": "2020-12-08T16:42:12.857836Z",
     "start_time": "2020-12-08T16:42:11.525620Z"
    }
   },
   "outputs": [],
   "source": [
    "cvgm.fit(X=data[train_mask],\n",
    "        y=data[train_mask][col_target],\n",
    "        w=data[train_mask][col_weight],\n",
    "       # X_valid=data[valid_mask],\n",
    "       # y_valid=data[valid_mask][col_target],\n",
    "       # w_valid=data[valid_mask][col_weight],\n",
    "        )"
   ]
  },
  {
   "cell_type": "code",
   "execution_count": null,
   "metadata": {
    "ExecuteTime": {
     "end_time": "2020-12-08T16:42:12.875349Z",
     "start_time": "2020-12-08T16:42:12.858886Z"
    }
   },
   "outputs": [],
   "source": [
    "result_scorecard = cvgm.scorecard_table\n",
    "display(result_scorecard)\n",
    "result_scorecard.to_csv(output_folder+'/model/scorecard.csv')"
   ]
  },
  {
   "cell_type": "code",
   "execution_count": null,
   "metadata": {
    "ExecuteTime": {
     "end_time": "2020-12-08T16:42:12.892481Z",
     "start_time": "2020-12-08T16:42:12.877853Z"
    }
   },
   "outputs": [],
   "source": [
    "result_imputations = cvgm.imputation_table\n",
    "display(result_imputations)\n",
    "result_imputations.to_csv(output_folder+'/model/imputations.csv')"
   ]
  },
  {
   "cell_type": "markdown",
   "metadata": {},
   "source": [
    "Gini in form of `(expected Gini, [5% Gini confidence interval border, 95% Gini confidence interval border])`\n",
    "\n",
    "In case we did not use bootatrapping for Gini evaluation, the interval borders are not available."
   ]
  },
  {
   "cell_type": "code",
   "execution_count": null,
   "metadata": {
    "ExecuteTime": {
     "end_time": "2020-12-08T16:42:13.208717Z",
     "start_time": "2020-12-08T16:42:12.894848Z"
    }
   },
   "outputs": [],
   "source": [
    "cvgm.gini_result"
   ]
  },
  {
   "cell_type": "markdown",
   "metadata": {},
   "source": [
    "## Outputs"
   ]
  },
  {
   "cell_type": "markdown",
   "metadata": {},
   "source": [
    "### Marginal contribution\n",
    "\n",
    "`.marginal_contribution()` method is used to measure marginal contribution of individual predictors:\n",
    "- each predictor which is already in the model - we calculate the Gini difference between the base model and model without this predictor\n",
    "- additional predictors given by the user - we calculate the Gini difference between model with a predictor added and the base model\n",
    "\n",
    "Its argument is `predictors_to_add` - list with additional predictors, their marginal contribution to the base model is calculated. Can be empty list. (not mandatory)"
   ]
  },
  {
   "cell_type": "code",
   "execution_count": null,
   "metadata": {
    "ExecuteTime": {
     "end_time": "2020-12-08T16:42:28.644662Z",
     "start_time": "2020-12-08T16:42:13.210232Z"
    }
   },
   "outputs": [],
   "source": [
    "mc = cvgm.marginal_contribution(X=data[train_mask],\n",
    "        y=data[train_mask][col_target],\n",
    "        w=data[train_mask][col_weight],\n",
    "       # X_valid=data[valid_mask],\n",
    "       # y_valid=data[valid_mask][col_target],\n",
    "       # w_valid=data[valid_mask][col_weight],\n",
    "        predictors_to_add = ['TELCO_B_LIN'])\n",
    "display(mc)\n",
    "mc.to_csv(output_folder+'/model/marginal_contribution.csv')"
   ]
  },
  {
   "cell_type": "markdown",
   "metadata": {},
   "source": [
    "### Scoring code\n",
    "\n",
    "Python code that can be used for calculation of the score. It uses `pandas` dataframe as the source of the predictors and `expit` function for `scipy` library."
   ]
  },
  {
   "cell_type": "code",
   "execution_count": null,
   "metadata": {
    "ExecuteTime": {
     "end_time": "2020-12-08T16:42:28.651643Z",
     "start_time": "2020-12-08T16:42:28.645659Z"
    }
   },
   "outputs": [],
   "source": [
    "result_code = cvgm.transformation_code(dataset_name='data')\n",
    "print(result_code)\n",
    "\n",
    "result_code_file = open(output_folder+'/model/scoring_code.py', 'w') \n",
    "print(result_code, file = result_code_file) \n",
    "result_code_file.close() "
   ]
  },
  {
   "cell_type": "markdown",
   "metadata": {},
   "source": [
    "### Add score column to the dataset"
   ]
  },
  {
   "cell_type": "code",
   "execution_count": null,
   "metadata": {
    "ExecuteTime": {
     "end_time": "2020-12-08T16:42:28.656630Z",
     "start_time": "2020-12-08T16:42:28.652640Z"
    }
   },
   "outputs": [],
   "source": [
    "col_score = 'GM_SCORE'"
   ]
  },
  {
   "cell_type": "code",
   "execution_count": null,
   "metadata": {
    "ExecuteTime": {
     "end_time": "2020-12-08T16:42:28.686550Z",
     "start_time": "2020-12-08T16:42:28.657640Z"
    }
   },
   "outputs": [],
   "source": [
    "data[col_score] = cvgm.transform(data)\n",
    "print(data[col_score])"
   ]
  },
  {
   "cell_type": "markdown",
   "metadata": {},
   "source": [
    "### Column with the temporary scores from cross-validation folds\n",
    "\n",
    "If we used cross validation to fit the scorecard, the final score was trained in the whole set, so the scorecard might be overfitted. \n",
    "\n",
    "For such cases, during each iteration of cross-validation process when a temporary scorecard is fitted, the scored testing data set from that iteration is saved. Then all these sets are concatenated to create dataset scored by non-overfitted temporary scorecards."
   ]
  },
  {
   "cell_type": "code",
   "execution_count": null,
   "metadata": {
    "ExecuteTime": {
     "end_time": "2020-12-08T16:42:28.691537Z",
     "start_time": "2020-12-08T16:42:28.687547Z"
    }
   },
   "outputs": [],
   "source": [
    "col_tmp_cv_score = 'GM_SCORE_TMP_CV'"
   ]
  },
  {
   "cell_type": "code",
   "execution_count": null,
   "metadata": {
    "ExecuteTime": {
     "end_time": "2020-12-08T16:42:28.700513Z",
     "start_time": "2020-12-08T16:42:28.693532Z"
    }
   },
   "outputs": [],
   "source": [
    "data[col_tmp_cv_score] = cvgm.validation_prediction\n",
    "eval_mask = data[col_tmp_cv_score].notnull()\n",
    "data[col_tmp_cv_score]"
   ]
  },
  {
   "cell_type": "markdown",
   "metadata": {},
   "source": [
    "## Model Export"
   ]
  },
  {
   "cell_type": "code",
   "execution_count": null,
   "metadata": {
    "ExecuteTime": {
     "end_time": "2020-12-08T16:42:28.707494Z",
     "start_time": "2020-12-08T16:42:28.701510Z"
    }
   },
   "outputs": [],
   "source": [
    "model_filename = \"myModelGM.model\"\n",
    "pickle.dump(cvgm, open(model_filename, \"wb\"))"
   ]
  },
  {
   "cell_type": "code",
   "execution_count": null,
   "metadata": {
    "ExecuteTime": {
     "end_time": "2020-12-08T16:42:29.319752Z",
     "start_time": "2020-12-08T16:42:28.708491Z"
    }
   },
   "outputs": [],
   "source": [
    "data.to_csv('demo_data/gm_data_scored.csv')"
   ]
  },
  {
   "cell_type": "markdown",
   "metadata": {},
   "source": [
    "# Subpopulation analyses\n",
    "\n",
    "As General Model is directly used for rejection of clients, we might be curious how it will behave for various subpopulations of clients, e.g. hit populations of some data sources or some special client groups.\n",
    "\n",
    "In the following part, we will measure Gini of the model using observations of these groups only; and we will estimate approval rate of these groups if we base the approval/rejection process just on this score."
   ]
  },
  {
   "cell_type": "markdown",
   "metadata": {},
   "source": [
    "## Hit population Gini\n",
    "\n",
    "For each population of interest, we calculate Gini coefficient of our score.\n",
    "\n",
    "We use the temporary validation score in case cross validation was used to fit the scorecard, so our Gini estimation is not biased."
   ]
  },
  {
   "cell_type": "code",
   "execution_count": null,
   "metadata": {
    "ExecuteTime": {
     "end_time": "2020-12-08T16:42:29.340167Z",
     "start_time": "2020-12-08T16:42:29.319752Z"
    }
   },
   "outputs": [],
   "source": [
    "populations_of_interest = [\n",
    "    'TELCO_A.notnull()',\n",
    "    'TELCO_B.notnull()',\n",
    "    'BUREAU_X.notnull()',\n",
    "    'BUREAU_Y.notnull()',\n",
    "]\n",
    "\n",
    "analysis_gini_mask = eval_mask"
   ]
  },
  {
   "cell_type": "code",
   "execution_count": null,
   "metadata": {
    "ExecuteTime": {
     "end_time": "2020-12-08T16:42:30.472857Z",
     "start_time": "2020-12-08T16:42:29.340167Z"
    }
   },
   "outputs": [],
   "source": [
    "from scoring.metrics import gini, bootstrap_gini\n",
    "\n",
    "population_gini = []\n",
    "for pop in populations_of_interest:\n",
    "    pop_mask = data.eval(pop, engine=\"python\")\n",
    "    g, g_std, g_ci = bootstrap_gini(data = data[analysis_gini_mask & pop_mask],\n",
    "                                   col_target=col_target,\n",
    "                                   col_score=col_tmp_cv_score,\n",
    "                                   col_weight=col_weight,\n",
    "                                   n_iter=100,\n",
    "                                   ci_range=5,)\n",
    "    population_gini.append({'Population':pop, 'Gini':g, 'Gini_5%':g_ci[0], 'Gini_95%':g_ci[1]})\n",
    "population_gini = pd.DataFrame(population_gini)\n",
    "population_gini.set_index('Population', inplace=True)"
   ]
  },
  {
   "cell_type": "code",
   "execution_count": null,
   "metadata": {
    "ExecuteTime": {
     "end_time": "2020-12-08T16:42:30.485204Z",
     "start_time": "2020-12-08T16:42:30.472857Z"
    }
   },
   "outputs": [],
   "source": [
    "display(population_gini)\n",
    "population_gini.to_csv(output_folder+'/analysis/subpopulation_gini.csv')"
   ]
  },
  {
   "cell_type": "markdown",
   "metadata": {},
   "source": [
    "## Approval rates\n",
    "\n",
    "For each population of interest we calculate theoretical approval rate. The estimation goes as follows:\n",
    "- We define a reference approval rate for the whole population of incoming customers\n",
    "- We calculate a cutoff value which corresponds to this targetted approval rate\n",
    "- We set the same cutoff for the subpopulation\n",
    "- We evaluate what would the approval rate on just this subpopulation be when the cutoff is applied.\n",
    "\n",
    "If the subpopulation approval rate is different to the reference approval rate, it ususally means that the subpopulation is shifted, i.e. the estimated probability of default of such customers is different from probability of default of a typical customer."
   ]
  },
  {
   "cell_type": "code",
   "execution_count": null,
   "metadata": {
    "ExecuteTime": {
     "end_time": "2020-12-08T16:42:30.490192Z",
     "start_time": "2020-12-08T16:42:30.486202Z"
    }
   },
   "outputs": [],
   "source": [
    "populations_of_interest_ar = [\n",
    "    'TELCO_A.notnull()',\n",
    "    'TELCO_B.notnull()',\n",
    "    'BUREAU_X.notnull()',\n",
    "    'BUREAU_Y.notnull()',\n",
    "]\n",
    "\n",
    "analysis_ar_sample = \"Everything\"\n",
    "reference_ar = [0.70, 0.80]"
   ]
  },
  {
   "cell_type": "code",
   "execution_count": null,
   "metadata": {
    "ExecuteTime": {
     "end_time": "2020-12-08T16:42:30.544221Z",
     "start_time": "2020-12-08T16:42:30.491189Z"
    }
   },
   "outputs": [],
   "source": [
    "documentation.ExpectedApprovalRate(\n",
    "    data = data,\n",
    "    sample = analysis_ar_sample,\n",
    "    score = col_score,\n",
    "    query_subset = populations_of_interest_ar,\n",
    "    reference_ar = reference_ar,\n",
    "    use_weight = True,\n",
    "    def_by_score_ascending = False,\n",
    "    output_folder = output_folder+'/analysis'\n",
    ")"
   ]
  },
  {
   "cell_type": "markdown",
   "metadata": {},
   "source": [
    "# Documentation outputs"
   ]
  },
  {
   "cell_type": "markdown",
   "metadata": {},
   "source": [
    "## Correlation matrix\n",
    "\n",
    "First we transform the data (including filling the missing values) using the outputs from CrossValidatedGeneralModel class and then draw the correlation matrix."
   ]
  },
  {
   "cell_type": "code",
   "execution_count": null,
   "metadata": {
    "ExecuteTime": {
     "end_time": "2020-12-08T16:42:30.569189Z",
     "start_time": "2020-12-08T16:42:30.545266Z"
    }
   },
   "outputs": [],
   "source": [
    "corr_data = data[cvgm.predictors].copy()\n",
    "for col_pd in set(cvgm.predictors) & set(cvgm.predictors_pd_form):\n",
    "    corr_data.loc[:,col_pd] = logit(corr_data[col_pd])\n",
    "for imp in cvgm.imputation_values:\n",
    "    if imp['fill_variable'] in corr_data.columns:\n",
    "        corr_data.loc[data.eval(imp['nohit_condition'],engine=\"python\"),imp['fill_variable']] = imp['fill_value']"
   ]
  },
  {
   "cell_type": "code",
   "execution_count": null,
   "metadata": {
    "ExecuteTime": {
     "end_time": "2020-12-08T16:42:31.923028Z",
     "start_time": "2020-12-08T16:42:30.570152Z"
    }
   },
   "outputs": [],
   "source": [
    "documentation.Correlations(data=corr_data,\n",
    "                           predictors=corr_data.columns,\n",
    "                           sample=\"All\",\n",
    "                           output_folder=output_folder+\"/analysis/\",\n",
    "                           filename=\"correlation.png\",\n",
    "                           show_plot=True,)"
   ]
  },
  {
   "cell_type": "markdown",
   "metadata": {},
   "source": [
    "## Transition matrices\n",
    "\n",
    "Matrices describing the relationship between deciles of two scores. They show the default rate in each decile-decile combination and shares of observations from one decile of \"old\" score in each decile of \"new\" score.\n",
    "\n",
    "In this example we compare the internal scorecard and the GM that was developed on top of that.\n",
    "\n",
    "The transition matrix is calculated on just the observable rows first (where we have the target) and on all rows of dataset then."
   ]
  },
  {
   "cell_type": "code",
   "execution_count": null,
   "metadata": {
    "ExecuteTime": {
     "end_time": "2020-12-08T16:42:37.599212Z",
     "start_time": "2020-12-08T16:42:31.924061Z"
    }
   },
   "outputs": [],
   "source": [
    "from scoring.plot import transmatrix\n",
    "col_comparison_score = 'INTERNAL'\n",
    "\n",
    "transmatrix(oldscore = data[observable_mask][col_comparison_score],\n",
    "            newscore = data[observable_mask][col_score],\n",
    "            target = data[observable_mask][col_target],\n",
    "            base = data[observable_mask][col_base],\n",
    "            obs = data[observable_mask][col_base],\n",
    "            draw_default_matrix=True,\n",
    "            draw_transition_matrix=True,\n",
    "            savepath=output_folder+'/analysis/devpop_',\n",
    "            quantiles_count = 10)\n",
    "\n",
    "from scoring.plot import transmatrix\n",
    "\n",
    "transmatrix(oldscore = data[col_comparison_score],\n",
    "            newscore = data[col_score],\n",
    "            target = data[col_target],\n",
    "            base = data[col_base],\n",
    "            obs = data[col_base],\n",
    "            draw_default_matrix=False,\n",
    "            draw_transition_matrix=True,\n",
    "            savepath=output_folder+'/analysis/allpop_',\n",
    "            quantiles_count = 10)"
   ]
  },
  {
   "cell_type": "markdown",
   "metadata": {},
   "source": [
    "## Gini and lift curves\n",
    "\n",
    "We can choose for which samples (masks) we want to draw the Lift and Gini curves and calculate the performance metrics.\n",
    "\n",
    "If we used cross validation for development of the model, we want to use the temporary score from the validation part of the cross-validation folds to evaluate the performance which we previously saved to column `col_tmp_cv_score`."
   ]
  },
  {
   "cell_type": "code",
   "execution_count": null,
   "metadata": {
    "ExecuteTime": {
     "end_time": "2020-12-08T16:42:37.603201Z",
     "start_time": "2020-12-08T16:42:37.600247Z"
    }
   },
   "outputs": [],
   "source": [
    "eval_masks = {\n",
    "    'eval' : eval_mask,\n",
    "}"
   ]
  },
  {
   "cell_type": "code",
   "execution_count": null,
   "metadata": {
    "ExecuteTime": {
     "end_time": "2020-12-08T16:42:38.334507Z",
     "start_time": "2020-12-08T16:42:37.604198Z"
    }
   },
   "outputs": [],
   "source": [
    "from scoring.metrics import eval_performance_wrapper\n",
    "from scoring.tools import curves_wrapper\n",
    "\n",
    "perf = eval_performance_wrapper(data=data,\n",
    "                                masks=eval_masks,\n",
    "                                col_target=col_target,\n",
    "                                col_score=col_tmp_cv_score,\n",
    "                                col_weight=col_weight,\n",
    "                                lift_perc=10)\n",
    "display(perf)\n",
    "perf.to_csv(output_folder+'/performance/performance.csv')\n",
    "\n",
    "curves_wrapper(data=data,\n",
    "               masks=eval_masks,\n",
    "               col_target=col_target,\n",
    "               col_score=col_tmp_cv_score,\n",
    "               col_weight=col_weight,\n",
    "               output_folder=output_folder+'/performance/')"
   ]
  },
  {
   "cell_type": "markdown",
   "metadata": {},
   "source": [
    "## Score distribution\n",
    "\n",
    "### Histogram of goods/bads\n",
    "\n",
    "Distribution (histogram) of final GM score in its PD and logit form, and distribution of goods and bads in each part of the historgram."
   ]
  },
  {
   "cell_type": "code",
   "execution_count": null,
   "metadata": {
    "ExecuteTime": {
     "end_time": "2020-12-08T16:42:40.574958Z",
     "start_time": "2020-12-08T16:42:38.335531Z"
    }
   },
   "outputs": [],
   "source": [
    "from scoring.plot import plot_score_dist\n",
    "\n",
    "plot_score_dist(data,\n",
    "                score_name = col_score,\n",
    "                target_name = col_target,\n",
    "                weight_name = col_weight,\n",
    "                n_bins = 40,\n",
    "                labels = ['good','bad'],\n",
    "                legend_loc = 'upper right',\n",
    "                savefile = output_folder+'/model/distr_pd.png')"
   ]
  },
  {
   "cell_type": "code",
   "execution_count": null,
   "metadata": {
    "ExecuteTime": {
     "end_time": "2020-12-08T16:42:43.005436Z",
     "start_time": "2020-12-08T16:42:40.575465Z"
    }
   },
   "outputs": [],
   "source": [
    "data[col_score+'_LIN'] = logit(data[col_score])\n",
    "\n",
    "plot_score_dist(data,\n",
    "                score_name = col_score+'_LIN',\n",
    "                target_name = col_target,\n",
    "                weight_name = col_weight,\n",
    "                n_bins = 40,\n",
    "                labels = ['good','bad'],\n",
    "                legend_loc = 'upper right',\n",
    "                savefile = output_folder+'/model/distr_linear.png')"
   ]
  },
  {
   "cell_type": "markdown",
   "metadata": {},
   "source": [
    "### Histogram of hits of certain datasource"
   ]
  },
  {
   "cell_type": "code",
   "execution_count": null,
   "metadata": {
    "ExecuteTime": {
     "end_time": "2020-12-08T16:42:52.450977Z",
     "start_time": "2020-12-08T16:42:43.006474Z"
    }
   },
   "outputs": [],
   "source": [
    "data[col_score+'_LIN'] = logit(data[col_score])\n",
    "\n",
    "for pred in cvgm.predictors:\n",
    "    \n",
    "    data['_hit'] = data[pred].notnull().astype(int)\n",
    "    \n",
    "    if 0<data['_hit'].mean()<1:\n",
    "\n",
    "        plot_score_dist(data,\n",
    "                score_name = col_score+'_LIN',\n",
    "                target_name = '_hit',\n",
    "                weight_name = col_weight,\n",
    "                n_bins = 40,\n",
    "                labels = [f'{pred} no-hit',f'{pred} hit'],\n",
    "                legend_loc = 'upper right',\n",
    "                savefile = output_folder+'/model/distr_linear.png')\n",
    "        \n",
    "    data.drop(['_hit'], axis=1, inplace=True)"
   ]
  },
  {
   "cell_type": "code",
   "execution_count": null,
   "metadata": {
    "ExecuteTime": {
     "end_time": "2020-12-08T16:42:53.400911Z",
     "start_time": "2020-12-08T16:42:52.451974Z"
    }
   },
   "outputs": [],
   "source": [
    "import importlib\n",
    "importlib.reload(scoring)\n",
    "importlib.reload(scoring.plot)\n",
    "\n",
    "from scoring.plot import score_calibration\n",
    "\n",
    "score_calibration(\n",
    "    data=data,\n",
    "    score=col_score+'_LIN',\n",
    "    target=col_target,\n",
    "    weight=col_weight,\n",
    "    savefile=output_folder+'/model/calibration.png'\n",
    ")"
   ]
  },
  {
   "cell_type": "markdown",
   "metadata": {},
   "source": [
    "## Cutoff analysis\n",
    "\n",
    "Simple analyses showing what would cutoff targeting to a given reference approval rate mean for the confusion matrix and bad rate of approved customers.\n",
    "\n",
    "Before we do this analysis, we impute the target of rejected (non-observable) rows using the new GM score. From each of these rows, we create two new rows, one with target value `1`, other one with target value `0`. Weight of these rows equals to weight of the original row times the probability of default and non-default respectively."
   ]
  },
  {
   "cell_type": "code",
   "execution_count": null,
   "metadata": {
    "ExecuteTime": {
     "end_time": "2020-12-08T16:42:53.447265Z",
     "start_time": "2020-12-08T16:42:53.401908Z"
    }
   },
   "outputs": [],
   "source": [
    "# import importlib\n",
    "# importlib.reload(scoring)\n",
    "# importlib.reload(scoring.reject_inference)\n",
    "\n",
    "from scoring.reject_inference import TargetImputer\n",
    "col_reject = 'REJECTED'\n",
    "data[col_reject] = 1 - data['APPROVED']\n",
    "\n",
    "targimp = TargetImputer(imputation_type='weighted')\n",
    "targimp.fit(data = data,\n",
    "            col_probs = col_score,\n",
    "            col_reject = col_reject,\n",
    "            col_weight = col_weight,\n",
    "            prob_of = 1)\n",
    "data_imputed = targimp.transform(data = data,\n",
    "                                col_target = col_target,\n",
    "                                col_weight = col_weight,\n",
    "                                as_new_columns = True,\n",
    "                                reset_index = True)\n",
    "\n",
    "col_target_imputed = col_target + '_IMPUTED'\n",
    "col_weight_imputed = col_weight + '_IMPUTED'"
   ]
  },
  {
   "cell_type": "markdown",
   "metadata": {},
   "source": [
    "`confusion_chart` plots the percentage of false rejects (number of good rejected clients divided by number of all good clients) and percentage of false approves (number of bad approved clients divided by number of all bad clients) in dependence on approval rate.\n",
    "\n",
    "`expected_default_rate` plots the bad rate of rejected clients and bad rate of approved clients in dependence on approval rate."
   ]
  },
  {
   "cell_type": "code",
   "execution_count": null,
   "metadata": {
    "ExecuteTime": {
     "end_time": "2020-12-08T16:42:54.101647Z",
     "start_time": "2020-12-08T16:42:53.448262Z"
    }
   },
   "outputs": [],
   "source": [
    "from scoring.plot import confusion_chart, expected_default_rate\n",
    "reference_ar_cutoff = 0.70\n",
    "\n",
    "false_reject, false_approve = confusion_chart(\n",
    "    data=data_imputed,\n",
    "    col_score=col_score,\n",
    "    col_target=col_target_imputed,\n",
    "    col_weight=col_weight_imputed,\n",
    "    reference_ar=reference_ar_cutoff,\n",
    "    savefile=output_folder+'/analysis/distr_linear.png'\n",
    ")\n",
    "\n",
    "bad_rate_rejected, bad_rate_approved = expected_default_rate(\n",
    "    data=data_imputed,\n",
    "    col_score=col_score,\n",
    "    col_target=col_target_imputed,\n",
    "    col_weight=col_weight_imputed,\n",
    "    reference_ar=reference_ar_cutoff,\n",
    "    savefile=output_folder+'/analysis/distr_linear.png'\n",
    ")"
   ]
  },
  {
   "cell_type": "markdown",
   "metadata": {},
   "source": [
    "# DOCX documentation (Alpha)\n",
    "\n",
    "Fill in the metadata carefuly. Especially list of predictors, path to exported grouping and scorecard, names of important columns etc."
   ]
  },
  {
   "cell_type": "code",
   "execution_count": null,
   "metadata": {
    "ExecuteTime": {
     "end_time": "2020-12-08T16:42:54.106634Z",
     "start_time": "2020-12-08T16:42:54.102613Z"
    }
   },
   "outputs": [],
   "source": [
    "data.columns"
   ]
  },
  {
   "cell_type": "code",
   "execution_count": null,
   "metadata": {
    "ExecuteTime": {
     "end_time": "2020-12-08T15:34:09.066672Z",
     "start_time": "2020-12-08T15:34:09.057665Z"
    }
   },
   "outputs": [],
   "source": [
    "#####################################################################################\n",
    "# DEFINE METADATA VARIABLES THAT HAVE NOT BEEN DEFINED AND USED IN THE WORKFLOW YET #\n",
    "#####################################################################################\n",
    "col_short = 'FPD10'\n",
    "data[col_short] = data[col_target] # in demo data, we don't have short target, co we just simulate it\n",
    "col_shortbase = 'APPROVED'\n",
    "col_oldscore = 'INTERNAL'\n",
    "old_mask = pd.notnull(data[col_oldscore])\n",
    "cols_rescale = ['TELCO_B']\n",
    "#####################################################################################\n",
    "\n",
    "documentator_metadata = {\n",
    "    \n",
    "    ##################################\n",
    "    ### BASIC BUSINESS INFORMATION ###\n",
    "    ##################################\n",
    "    \"scorecard_name\": \"POS existing\",\n",
    "    \"author_name\": \"Triss Merigold\",\n",
    "    \"country\": \"Indonesia\",\n",
    "    \"area\": \"Underwriting\",\n",
    "    \"segment\": \"POS, Existing clients\",\n",
    "    \n",
    "    ###################################\n",
    "    ### BASIC TECHNICAL INFORMATION ###\n",
    "    ###################################\n",
    "    \"PSW_version\": psw_version,\n",
    "    \"use_weight\": True,\n",
    "    \n",
    "    ######################################\n",
    "    ### COLUMNS METADATA FROM WORKFLOW ###\n",
    "    ######################################\n",
    "    \"columns\": {\n",
    "        \"target\": col_target,\n",
    "        \"base\": col_base,\n",
    "        \"short_target\": col_short,\n",
    "        \"short_base\": col_shortbase,\n",
    "        \"time\": col_month,\n",
    "        \"row_id\": col_id,\n",
    "        \"score\": col_score,\n",
    "        \"old_score\": col_oldscore,\n",
    "        \"data_type\": col_datatype,\n",
    "        \"weight\": col_weight,\n",
    "    },\n",
    "    \n",
    "    #####################################################\n",
    "    ### SAMPLE MASKS                                  ###\n",
    "    ### ALL OF THE MASKS MUST EXIST, BUT CAN BE EMPTY ###\n",
    "    #####################################################\n",
    "    \"samples\": {\n",
    "        \"Train\": train_mask,\n",
    "        \"Validation\": valid_mask,\n",
    "        \"Test\": pd.Series(False, index=data.index),\n",
    "        \"Out of Time\": pd.Series(False, index=data.index),\n",
    "        \"Historical Out of Time\": pd.Series(False, index=data.index),\n",
    "        \"Observable\": observable_mask,\n",
    "        \"All\": pd.Series(True, index=data.index),\n",
    "        \"Old comparison\": old_mask & (valid_mask),\n",
    "        \"Old comparison with rejected\": (data[col_datatype].isin([\"valid\"])) & (pd.notnull(data[col_oldscore])),\n",
    "        },\n",
    "    \n",
    "    ##############################################\n",
    "    ### PREDICTORS (BEFORE WOE TRANSFORMATION) ###\n",
    "    ##############################################\n",
    "    \"predictors\": [var_name for var_name in cvgm.predictors],\n",
    "    ######################################################\n",
    "    ### PREDICTORS SUBSETS THAT EITHER                 ###\n",
    "    ### - LINEARLY CORRESPOND TO PROB. OF DEFAULT      ###\n",
    "    ### - NEED TO BE RESCALED (HAVE PROPRIETARY SCALE) ###\n",
    "    ######################################################\n",
    "    \"predictors_pd\": cols_pd,\n",
    "    \"predictors_rescale\": cols_rescale,\n",
    "    \n",
    "    ########################################################################\n",
    "    ### COVARIATES (ALL CONSIDERED VARIABLES, BEFORE WOE TRANSFORMATION) ###\n",
    "    ########################################################################\n",
    "    \"covariates\": [var_name for var_name in cols_pred_final],\n",
    "    \n",
    "    ##############################################\n",
    "    ### PATH TO EXPORTED FINAL STEPWISE OBJECT ###\n",
    "    ##############################################\n",
    "    \"model_path\": \"myModelGM.model\",\n",
    "    \n",
    "    ########################################\n",
    "    ### METADATA FOR SUBSEGMENT ANALYSIS ###\n",
    "    ########################################\n",
    "    \"subsegments_ar\": populations_of_interest_ar,\n",
    "    \"reference_ar\": reference_ar,\n",
    "    \n",
    "}"
   ]
  },
  {
   "cell_type": "code",
   "execution_count": null,
   "metadata": {
    "ExecuteTime": {
     "end_time": "2020-12-08T16:27:45.704955Z",
     "start_time": "2020-12-08T16:26:45.719421Z"
    },
    "scrolled": true
   },
   "outputs": [],
   "source": [
    "from scoring.documentation import orchestrator\n",
    "\n",
    "output_docx = \"documentation_docx\"\n",
    "os.makedirs(output_docx, exist_ok=True)\n",
    "\n",
    "o = orchestrator.Orchestrator(\n",
    "    data=data,\n",
    "    metadata=documentator_metadata,\n",
    "    file=os.path.join(output_docx, \"documentator_gm_export\"),\n",
    "    output_folder=output_docx\n",
    ")\n",
    "\n",
    "o.load_structure(\"../scoring/documentation/gmscorecard.structure\")\n",
    "\n",
    "o.export()"
   ]
  },
  {
   "cell_type": "markdown",
   "metadata": {},
   "source": [
    "---\n",
    "Nice to have todos\n",
    "- Cost analysis of source XY\n",
    "- Autoweighter which also reflects intersection values\n",
    "- WOE part of CVGM\n",
    "- Voting ensemble (avg of subscore weighted by their power), calibration first\n",
    "---"
   ]
  }
 ],
 "metadata": {
  "kernelspec": {
   "display_name": "Python 3",
   "language": "python",
   "name": "python3"
  },
  "language_info": {
   "codemirror_mode": {
    "name": "ipython",
    "version": 3
   },
   "file_extension": ".py",
   "mimetype": "text/x-python",
   "name": "python",
   "nbconvert_exporter": "python",
   "pygments_lexer": "ipython3",
   "version": "3.6.7"
  },
  "toc": {
   "base_numbering": 1,
   "nav_menu": {},
   "number_sections": true,
   "sideBar": true,
   "skip_h1_title": false,
   "title_cell": "Table of Contents",
   "title_sidebar": "Contents",
   "toc_cell": false,
   "toc_position": {
    "height": "calc(100% - 180px)",
    "left": "10px",
    "top": "150px",
    "width": "384px"
   },
   "toc_section_display": true,
   "toc_window_display": true
  },
  "varInspector": {
   "cols": {
    "lenName": 16,
    "lenType": 16,
    "lenVar": 40
   },
   "kernels_config": {
    "python": {
     "delete_cmd_postfix": "",
     "delete_cmd_prefix": "del ",
     "library": "var_list.py",
     "varRefreshCmd": "print(var_dic_list())"
    },
    "r": {
     "delete_cmd_postfix": ") ",
     "delete_cmd_prefix": "rm(",
     "library": "var_list.r",
     "varRefreshCmd": "cat(var_dic_list()) "
    }
   },
   "types_to_exclude": [
    "module",
    "function",
    "builtin_function_or_method",
    "instance",
    "_Feature"
   ],
   "window_display": false
  }
 },
 "nbformat": 4,
 "nbformat_minor": 2
}
