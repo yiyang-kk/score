{
 "cells": [
  {
   "cell_type": "markdown",
   "metadata": {},
   "source": [
    "# Import Libraries"
   ]
  },
  {
   "cell_type": "code",
   "execution_count": null,
   "metadata": {},
   "outputs": [],
   "source": [
    "import numpy as np\n",
    "import pandas as pd\n",
    "import gc\n",
    "import os\n",
    "\n",
    "import sys\n",
    "sys.path.insert(0, '../')\n",
    "import scoring\n",
    "#import importlib\n",
    "#importlib.reload(scoring.data_exploration)"
   ]
  },
  {
   "cell_type": "markdown",
   "metadata": {},
   "source": [
    "# Import Datasets"
   ]
  },
  {
   "cell_type": "markdown",
   "metadata": {},
   "source": [
    "## Dictionary of Datasets to Import"
   ]
  },
  {
   "cell_type": "code",
   "execution_count": null,
   "metadata": {},
   "outputs": [],
   "source": [
    "datasources = {'df_main': 'demo_data/prep1_df_main.csv',\n",
    "               'df_static': 'demo_data/prep1_df_static.csv',\n",
    "               'df_person_features': 'demo_data/DemoVct_features_persons.csv',\n",
    "               'df_prevappl_features': 'demo_data/DemoVct_features_prevappl.csv',\n",
    "               'df_features_documents': 'demo_data/DemoVct_features_documents.csv'\n",
    "              }"
   ]
  },
  {
   "cell_type": "markdown",
   "metadata": {},
   "source": [
    "## Iterative Import"
   ]
  },
  {
   "cell_type": "code",
   "execution_count": null,
   "metadata": {},
   "outputs": [],
   "source": [
    "dataframes = {}\n",
    "for df_name, df_source in datasources.items():\n",
    "    dataframes[df_name] = pd.read_csv(df_source, sep = ',', decimal = '.', encoding = 'utf-8',\n",
    "                                      low_memory=False, keep_default_na=False, na_values = [''])"
   ]
  },
  {
   "cell_type": "markdown",
   "metadata": {},
   "source": [
    "## Join All Data"
   ]
  },
  {
   "cell_type": "code",
   "execution_count": null,
   "metadata": {},
   "outputs": [],
   "source": [
    "join_on_column = 'SKP_CREDIT_CASE'"
   ]
  },
  {
   "cell_type": "code",
   "execution_count": null,
   "metadata": {},
   "outputs": [],
   "source": [
    "for df_index, df_name in enumerate(dataframes):\n",
    "    if df_index == 0:\n",
    "        df_all = dataframes[df_name]\n",
    "    else:\n",
    "        df_all = df_all.merge(dataframes[df_name], on=join_on_column, how='outer')"
   ]
  },
  {
   "cell_type": "markdown",
   "metadata": {},
   "source": [
    "## Delete Original Dataframes"
   ]
  },
  {
   "cell_type": "code",
   "execution_count": null,
   "metadata": {},
   "outputs": [],
   "source": [
    "del dataframes\n",
    "gc.collect()"
   ]
  },
  {
   "cell_type": "markdown",
   "metadata": {},
   "source": [
    "# Date Diffs"
   ]
  },
  {
   "cell_type": "code",
   "execution_count": null,
   "metadata": {},
   "outputs": [],
   "source": [
    "col_time = 'DATE_DECISION'"
   ]
  },
  {
   "cell_type": "code",
   "execution_count": null,
   "metadata": {},
   "outputs": [],
   "source": [
    "cols_datediff = [\"AGE\", \"APPL_DATE_MAX_diff\", \"SELLERPLACEDATECREATE_diff\"]\n",
    "\n",
    "from scoring.date_tools import datetime_difference\n",
    "\n",
    "df_all[\"AGE\"] = datetime_difference(\n",
    "    pd.to_datetime(df_all[col_time], format=\"%Y-%m-%d\"),\n",
    "    pd.to_datetime(df_all[\"DATE_BIRTH\"], format=\"%d-%b-%y\"),\n",
    "    unit=\"years\",\n",
    "    rounding=\"floor\",\n",
    "    show_warnings=True,\n",
    "    fix_y2k=True,\n",
    ")\n",
    "\n",
    "df_all[\"APPL_DATE_MAX_diff\"] = datetime_difference(\n",
    "    pd.to_datetime(df_all[col_time], format=\"%Y-%m-%d\"),\n",
    "    pd.to_datetime(df_all[\"APPL_DATE_MAX\"], format=\"%Y-%m-%d\"),\n",
    "    unit=\"days\",\n",
    "    rounding=\"floor\",\n",
    "    show_warnings=True,\n",
    "    fix_y2k=True,\n",
    ")\n",
    "\n",
    "df_all[\"SELLERPLACEDATECREATE_diff\"] = datetime_difference(\n",
    "    pd.to_datetime(df_all[col_time], format=\"%Y-%m-%d\"),\n",
    "    pd.to_datetime(df_all[\"SELLERPLACEDATECREATE\"], format=\"%d-%b-%y\"),\n",
    "    unit=\"months\",\n",
    "    rounding=\"floor\",\n",
    "    show_warnings=True,\n",
    "    fix_y2k=True,\n",
    ")"
   ]
  },
  {
   "cell_type": "markdown",
   "metadata": {},
   "source": [
    "# Missing and Distinct Values"
   ]
  },
  {
   "cell_type": "code",
   "execution_count": null,
   "metadata": {},
   "outputs": [],
   "source": [
    "from scoring.data_exploration import metadata_table\n",
    "\n",
    "dq_missing_distinct_features = metadata_table(df_all)"
   ]
  },
  {
   "cell_type": "code",
   "execution_count": null,
   "metadata": {},
   "outputs": [],
   "source": [
    "dq_missing_distinct_features.to_csv('dq_missing_distinct_features.csv', encoding='utf-8')\n",
    "display(dq_missing_distinct_features)"
   ]
  },
  {
   "cell_type": "markdown",
   "metadata": {},
   "source": [
    "# Deleting Variables"
   ]
  },
  {
   "cell_type": "markdown",
   "metadata": {},
   "source": [
    "## Set Variables with Metadata"
   ]
  },
  {
   "cell_type": "code",
   "execution_count": null,
   "metadata": {},
   "outputs": [],
   "source": [
    "metadata_variables = ['SKP_APPLICATION',\n",
    "                      'SKP_CREDIT_CASE',\n",
    "                      'SKP_CLIENT',\n",
    "                      'DATE_DECISION',\n",
    "                      'MONTH_DECISION',\n",
    "                      'FLAG_FPD_30',\n",
    "                      'FLAG_SPD_30',\n",
    "                     ]"
   ]
  },
  {
   "cell_type": "code",
   "execution_count": null,
   "metadata": {},
   "outputs": [],
   "source": [
    "date_variables = [\n",
    "]"
   ]
  },
  {
   "cell_type": "markdown",
   "metadata": {},
   "source": [
    "## Too Many Missing Values"
   ]
  },
  {
   "cell_type": "code",
   "execution_count": null,
   "metadata": {},
   "outputs": [],
   "source": [
    "min_fill_percentage = 5"
   ]
  },
  {
   "cell_type": "code",
   "execution_count": null,
   "metadata": {},
   "outputs": [],
   "source": [
    "for _, entry in dq_missing_distinct_features.iterrows():\n",
    "    if entry['name'] not in metadata_variables:\n",
    "        if entry['fill pct'] < min_fill_percentage:\n",
    "            if entry['name'] in df_all.columns:\n",
    "                df_all.drop(entry['name'], axis=1, inplace=True)\n",
    "                print('Column '+entry['name']+' dropped.')"
   ]
  },
  {
   "cell_type": "markdown",
   "metadata": {},
   "source": [
    "## Not Enough Distinct Values"
   ]
  },
  {
   "cell_type": "code",
   "execution_count": null,
   "metadata": {},
   "outputs": [],
   "source": [
    "min_distinct_values = 2"
   ]
  },
  {
   "cell_type": "code",
   "execution_count": null,
   "metadata": {},
   "outputs": [],
   "source": [
    "for _, entry in dq_missing_distinct_features.iterrows():\n",
    "    if entry['name'] not in metadata_variables:\n",
    "        if entry['nunique'] < min_distinct_values:\n",
    "            if entry['name'] in df_all.columns:\n",
    "                df_all.drop(entry['name'], axis=1, inplace=True)\n",
    "                print('Column '+entry['name']+' dropped.')"
   ]
  },
  {
   "cell_type": "markdown",
   "metadata": {},
   "source": [
    "## Too Many Distinct Values (Categorical)"
   ]
  },
  {
   "cell_type": "code",
   "execution_count": null,
   "metadata": {},
   "outputs": [],
   "source": [
    "max_distinct_categories = 20"
   ]
  },
  {
   "cell_type": "code",
   "execution_count": null,
   "metadata": {},
   "outputs": [],
   "source": [
    "for _, entry in dq_missing_distinct_features.iterrows():\n",
    "    if (entry['name'] not in metadata_variables) \\\n",
    "    and (entry['name'] not in date_variables) \\\n",
    "    and (entry['type'] in ('object', 'str', 'category')):\n",
    "        if entry['nunique'] > max_distinct_categories:\n",
    "            if entry['name'] in df_all.columns:\n",
    "                df_all.drop(entry['name'], axis=1, inplace=True)\n",
    "                print('Column '+entry['name']+' dropped.')"
   ]
  },
  {
   "cell_type": "markdown",
   "metadata": {},
   "source": [
    "## Manual Drop"
   ]
  },
  {
   "cell_type": "code",
   "execution_count": null,
   "metadata": {},
   "outputs": [],
   "source": [
    "cols_to_drop = [\n",
    "    'DATE_BIRTH',\n",
    "    'APPL_DATE_MAX',\n",
    "    'SELLERPLACEDATECREATE',\n",
    "]"
   ]
  },
  {
   "cell_type": "code",
   "execution_count": null,
   "metadata": {},
   "outputs": [],
   "source": [
    "for col in cols_to_drop:\n",
    "    if col in df_all.columns:\n",
    "        df_all.drop(col, axis=1, inplace=True)\n",
    "        print('Column '+col+' dropped.')"
   ]
  },
  {
   "cell_type": "markdown",
   "metadata": {},
   "source": [
    "# NaN by Date"
   ]
  },
  {
   "cell_type": "code",
   "execution_count": null,
   "metadata": {},
   "outputs": [],
   "source": [
    "month_column = 'MONTH_DECISION'"
   ]
  },
  {
   "cell_type": "code",
   "execution_count": null,
   "metadata": {},
   "outputs": [],
   "source": [
    "from scoring.data_exploration import nan_share_development\n",
    "dq_nan_by_month = pd.DataFrame()\n",
    "\n",
    "if not os.path.exists('df_all'):\n",
    "    os.makedirs('df_all')\n",
    "dq_nan_by_month_features = nan_share_development(df_all, month_column, make_images=True, show_images=False,\n",
    "                                           output_path = 'df_all/')"
   ]
  },
  {
   "cell_type": "code",
   "execution_count": null,
   "metadata": {},
   "outputs": [],
   "source": [
    "dq_nan_by_month_features.to_csv('dq_nan_by_month_features.csv', encoding='utf-8')\n",
    "display(dq_nan_by_month_features)"
   ]
  },
  {
   "cell_type": "markdown",
   "metadata": {},
   "source": [
    "# Create Targets from DM_UWI Flags"
   ]
  },
  {
   "cell_type": "code",
   "execution_count": null,
   "metadata": {},
   "outputs": [],
   "source": [
    "target_lengths = ['30', '60', '90']\n",
    "target_instalments = ['F', 'S', 'T', 'Q']"
   ]
  },
  {
   "cell_type": "code",
   "execution_count": null,
   "metadata": {},
   "outputs": [],
   "source": [
    "for t_len in target_lengths:\n",
    "    flag_names_cache = []\n",
    "    for inst_idx, t_inst in enumerate(target_instalments):\n",
    "        flag_name = 'FLAG_'+t_inst+'PD_'+t_len\n",
    "        if flag_name in df_all.columns:\n",
    "            flag_names_cache.append(flag_name)\n",
    "            base_name = 'BASE_' + ''.join(target_instalments[:inst_idx+1]) + 'PD_' + t_len\n",
    "            target_name = 'TARGET_' + ''.join(target_instalments[:inst_idx+1]) + 'PD_' + t_len\n",
    "            base_condition = ''\n",
    "            target_condition = ''\n",
    "            for flag_idx, cached_flag in enumerate(flag_names_cache):\n",
    "                if flag_idx > 0:\n",
    "                    base_condition = base_condition + ' & '\n",
    "                    target_condition = target_condition + ' | '\n",
    "                base_condition = base_condition + '(pd.notnull(df_all[\"' + cached_flag + '\"]))'\n",
    "                target_condition = target_condition + '(df_all[\"' + cached_flag + '\"] > 0)'\n",
    "            df_all[base_name] = 0\n",
    "            df_all[target_name] = 0\n",
    "            df_all.loc[eval(base_condition), base_name] = 1\n",
    "            df_all.loc[eval('(' + base_condition + ') & (' + target_condition + ')'), target_name] = 1\n",
    "            print(target_name+', '+base_name+' created.')"
   ]
  },
  {
   "cell_type": "markdown",
   "metadata": {},
   "source": [
    "# Data Sample Split"
   ]
  },
  {
   "cell_type": "code",
   "execution_count": null,
   "metadata": {},
   "outputs": [],
   "source": [
    "main_target = 'TARGET_FSPD_30'"
   ]
  },
  {
   "cell_type": "code",
   "execution_count": null,
   "metadata": {},
   "outputs": [],
   "source": [
    "from scoring.data_manipulation import data_sample_time_split\n",
    "\n",
    "df_all['data_type'] = data_sample_time_split(df_all, \n",
    "                           time_column = month_column,\n",
    "                           splitting_points = [201805, 201806],\n",
    "                           sample_sizes = [[ 1    ],[ 0.4   , 0.3   , 0.3  ],[ 1   ]],\n",
    "                           sample_names = [['hoot'],['train','valid','test'],['oot']],\n",
    "                           stratify_by_columns = [month_column,main_target],\n",
    "                           random_seed = 1234)"
   ]
  },
  {
   "cell_type": "markdown",
   "metadata": {},
   "source": [
    "# Export Data"
   ]
  },
  {
   "cell_type": "code",
   "execution_count": null,
   "metadata": {},
   "outputs": [],
   "source": [
    "df_all.to_csv('prep2_df_all.csv', encoding='utf-8', index=False)"
   ]
  }
 ],
 "metadata": {
  "kernelspec": {
   "display_name": "Python 3",
   "language": "python",
   "name": "python3"
  },
  "language_info": {
   "codemirror_mode": {
    "name": "ipython",
    "version": 3
   },
   "file_extension": ".py",
   "mimetype": "text/x-python",
   "name": "python",
   "nbconvert_exporter": "python",
   "pygments_lexer": "ipython3",
   "version": "3.7.7"
  },
  "toc": {
   "base_numbering": 1,
   "nav_menu": {},
   "number_sections": true,
   "sideBar": true,
   "skip_h1_title": false,
   "title_cell": "Table of Contents",
   "title_sidebar": "Contents",
   "toc_cell": false,
   "toc_position": {},
   "toc_section_display": true,
   "toc_window_display": false
  },
  "varInspector": {
   "cols": {
    "lenName": 16,
    "lenType": 16,
    "lenVar": 40
   },
   "kernels_config": {
    "python": {
     "delete_cmd_postfix": "",
     "delete_cmd_prefix": "del ",
     "library": "var_list.py",
     "varRefreshCmd": "print(var_dic_list())"
    },
    "r": {
     "delete_cmd_postfix": ") ",
     "delete_cmd_prefix": "rm(",
     "library": "var_list.r",
     "varRefreshCmd": "cat(var_dic_list()) "
    }
   },
   "types_to_exclude": [
    "module",
    "function",
    "builtin_function_or_method",
    "instance",
    "_Feature"
   ],
   "window_display": false
  }
 },
 "nbformat": 4,
 "nbformat_minor": 2
}
