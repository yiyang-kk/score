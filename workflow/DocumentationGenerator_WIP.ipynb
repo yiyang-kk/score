{
 "cells": [
  {
   "cell_type": "markdown",
   "metadata": {
    "ExecuteTime": {
     "end_time": "2020-07-22T14:59:46.914970Z",
     "start_time": "2020-07-22T14:59:46.911996Z"
    }
   },
   "source": [
    "# Imports"
   ]
  },
  {
   "cell_type": "code",
   "execution_count": 1,
   "metadata": {
    "ExecuteTime": {
     "end_time": "2020-09-08T14:12:15.410330Z",
     "start_time": "2020-09-08T14:12:15.406341Z"
    }
   },
   "outputs": [],
   "source": [
    "import sys\n",
    "sys.path.insert(0, \"..\")"
   ]
  },
  {
   "cell_type": "code",
   "execution_count": 2,
   "metadata": {
    "ExecuteTime": {
     "end_time": "2020-09-08T14:12:17.129548Z",
     "start_time": "2020-09-08T14:12:15.412506Z"
    }
   },
   "outputs": [],
   "source": [
    "import docx\n",
    "\n",
    "from abc import ABC, abstractmethod\n",
    "import importlib\n",
    "import os.path\n",
    "import pandas as pd\n",
    "import numpy as np\n",
    "\n",
    "from tqdm.notebook import tqdm\n",
    "\n",
    "from scoring import doctools\n",
    "import scoring.documentation.generators as generators_module\n",
    "\n",
    "\n",
    "from inspect import getmembers, isclass, isabstract\n",
    "\n",
    "from scoring.documentation import orchestrator"
   ]
  },
  {
   "cell_type": "markdown",
   "metadata": {},
   "source": [
    "# Data"
   ]
  },
  {
   "cell_type": "code",
   "execution_count": 3,
   "metadata": {
    "ExecuteTime": {
     "end_time": "2020-09-08T14:12:17.318562Z",
     "start_time": "2020-09-08T14:12:17.130493Z"
    },
    "scrolled": true
   },
   "outputs": [],
   "source": [
    "# data should contain the calculated score\n",
    "data = pd.read_csv(\"demo_data/ExampleDocumetationData.csv\")\n",
    "data[\"SCORE\"] = np.random.random(size=data.shape[0])\n",
    "data.head()\n",
    "gm_data = pd.read_csv(\"demo_data/gm_data_scored.csv\",low_memory=False)\n",
    "gm_data['OLD_GM_SCORE'] = np.random.random(size=gm_data.shape[0])\n",
    "gm_data['OLD_GM_SCORE'] = gm_data['OLD_GM_SCORE'] + (gm_data['FPD30']-gm_data['OLD_GM_SCORE'])*0.1\n",
    "gm_data['FPD10'] = gm_data['FPD30']"
   ]
  },
  {
   "cell_type": "markdown",
   "metadata": {},
   "source": [
    "In case that Old Score is defined as a positive outcome: "
   ]
  },
  {
   "cell_type": "code",
   "execution_count": 4,
   "metadata": {
    "ExecuteTime": {
     "end_time": "2020-09-08T14:12:17.327539Z",
     "start_time": "2020-09-08T14:12:17.321555Z"
    }
   },
   "outputs": [],
   "source": [
    "data['OLD_SCORE'] = 1 - data['OLD_SCORE']"
   ]
  },
  {
   "cell_type": "code",
   "execution_count": 5,
   "metadata": {
    "ExecuteTime": {
     "end_time": "2020-09-08T14:12:17.335518Z",
     "start_time": "2020-09-08T14:12:17.329534Z"
    },
    "scrolled": true
   },
   "outputs": [
    {
     "data": {
      "text/plain": [
       "Index(['ID', 'TIME', 'Numerical_1', 'Numerical_2', 'Numerical_3',\n",
       "       'Numerical_4', 'Numerical_5', 'Numerical_6', 'Numerical_7',\n",
       "       'Categorical_1', 'Categorical_2', 'Categorical_3', 'Categorical_4',\n",
       "       'Categorical_5', 'DateVariable_1', 'DateVariable_2', 'OLD_SCORE',\n",
       "       'WEIGHT', 'REJECTED', 'DEF', 'FPD', 'BASE', 'DAY', 'MONTH', 'data_type',\n",
       "       'SCORE'],\n",
       "      dtype='object')"
      ]
     },
     "execution_count": 5,
     "metadata": {},
     "output_type": "execute_result"
    }
   ],
   "source": [
    "data.columns"
   ]
  },
  {
   "cell_type": "markdown",
   "metadata": {
    "ExecuteTime": {
     "end_time": "2020-07-29T15:12:35.557178Z",
     "start_time": "2020-07-29T15:12:35.553190Z"
    }
   },
   "source": [
    "## Reload generators"
   ]
  },
  {
   "cell_type": "code",
   "execution_count": 6,
   "metadata": {
    "ExecuteTime": {
     "end_time": "2020-09-08T14:12:17.394362Z",
     "start_time": "2020-09-08T14:12:17.337512Z"
    }
   },
   "outputs": [],
   "source": [
    "importlib.reload(generators_module);\n",
    "importlib.reload(orchestrator);"
   ]
  },
  {
   "cell_type": "markdown",
   "metadata": {},
   "source": [
    "# Define metadata"
   ]
  },
  {
   "cell_type": "code",
   "execution_count": 7,
   "metadata": {
    "ExecuteTime": {
     "end_time": "2020-09-08T14:12:17.415304Z",
     "start_time": "2020-09-08T14:12:17.396356Z"
    }
   },
   "outputs": [],
   "source": [
    "### REGRESSION ###\n",
    "\n",
    "metadata = {\n",
    "    \"scorecard_name\": \"POS existing\",\n",
    "    \"author_name\": \"Triss Merigold\",\n",
    "    \"country\": \"Indonesia\",\n",
    "    \"PSW_version\": \"0.8.0\",\n",
    "    \"area\": \"Underwriting\",\n",
    "    \"segment\": \"POS, Existing clients\",\n",
    "    \"columns\": {\n",
    "        \"target\": \"DEF\",\n",
    "        \"base\": \"BASE\",\n",
    "        \"short_target\": \"FPD\",\n",
    "        \"short_base\": \"BASE\",\n",
    "        \"time\": \"MONTH\",\n",
    "        \"row_id\": \"ID\",\n",
    "        \"score\": \"SCORE\", \n",
    "        \"old_score\": \"OLD_SCORE\",\n",
    "        \"data_type\": \"data_type\",\n",
    "        \"weight\": \"WEIGHT\"\n",
    "    },\n",
    "    \"samples\": {\n",
    "        \"Train\": (data[\"data_type\"] == \"train\") & (data[\"BASE\"] == 1),\n",
    "        \"Validation\": (data[\"data_type\"] == \"valid\") & (data[\"BASE\"] == 1),\n",
    "        \"Test\": (data[\"data_type\"] == \"test\") & (data[\"BASE\"] == 1),\n",
    "        \"Out of Time\": (data[\"data_type\"] == \"oot\") & (data[\"BASE\"] == 1),\n",
    "        \"Historical Out of Time\": (data[\"data_type\"] == \"hoot\") & (data[\"BASE\"] == 1),\n",
    "        \"Observable\": (data[\"BASE\"] == 1),\n",
    "        \"All\": pd.Series(True, index=data.index),\n",
    "        \"Old comparison\": (data[\"data_type\"].isin([\"test\", \"oot\", \"hoot\"])) & (pd.notnull(data[\"OLD_SCORE\"])) & (data[\"BASE\"] == 1),\n",
    "        \"Old comparison with rejected\": (data[\"data_type\"].isin([\"test\", \"oot\", \"hoot\"])) & (pd.notnull(data[\"OLD_SCORE\"])),\n",
    "        },\n",
    "    \"predictors\": ['Numerical_1', 'Numerical_2', 'Numerical_4', 'Categorical_1'],\n",
    "    \"covariates\": ['Numerical_1', 'Numerical_2', 'Numerical_4', 'Categorical_1', 'Numerical_7'],\n",
    "    \"grouping_path\": \"myGrouping.json\", #REGRESSION\n",
    "    \"model_path\": \"myModelSW1.model\", #REGRESSION\n",
    "    \"use_weight\": True,\n",
    "}"
   ]
  },
  {
   "cell_type": "code",
   "execution_count": 8,
   "metadata": {
    "ExecuteTime": {
     "end_time": "2020-09-08T14:12:17.429294Z",
     "start_time": "2020-09-08T14:12:17.417299Z"
    }
   },
   "outputs": [],
   "source": [
    "o = orchestrator.Orchestrator(data=data, metadata=metadata, file=\"demo_orche\")\n",
    "o.load_structure(\"../scoring/documentation/regressionscorecard.structure\")"
   ]
  },
  {
   "cell_type": "code",
   "execution_count": 9,
   "metadata": {
    "ExecuteTime": {
     "end_time": "2020-09-08T14:12:17.449239Z",
     "start_time": "2020-09-08T14:12:17.431261Z"
    }
   },
   "outputs": [],
   "source": [
    "### LGBM ###\n",
    "\n",
    "metadata = {\n",
    "    \"scorecard_name\": \"POS existing\",\n",
    "    \"author_name\": \"Triss Merigold\",\n",
    "    \"country\": \"Indonesia\",\n",
    "    \"PSW_version\": \"0.8.0\",\n",
    "    \"area\": \"Underwriting\",\n",
    "    \"segment\": \"POS, Existing clients\",\n",
    "    \"columns\": {\n",
    "        \"target\": \"DEF\",\n",
    "        \"base\": \"BASE\",\n",
    "        \"short_target\": \"FPD\",\n",
    "        \"short_base\": \"BASE\",\n",
    "        \"time\": \"MONTH\",\n",
    "        \"row_id\": \"ID\",\n",
    "        \"score\": \"SCORE\", \n",
    "        \"old_score\": \"OLD_SCORE\",\n",
    "        \"data_type\": \"data_type\",\n",
    "        \"weight\": \"WEIGHT\"\n",
    "    },\n",
    "    \"samples\": {\n",
    "        \"Train\": (data[\"data_type\"] == \"train\") & (data[\"BASE\"] == 1),\n",
    "        \"Validation\": (data[\"data_type\"] == \"valid\") & (data[\"BASE\"] == 1),\n",
    "        \"Test\": (data[\"data_type\"] == \"test\") & (data[\"BASE\"] == 1),\n",
    "        \"Out of Time\": (data[\"data_type\"] == \"oot\") & (data[\"BASE\"] == 1),\n",
    "        \"Historical Out of Time\": (data[\"data_type\"] == \"hoot\") & (data[\"BASE\"] == 1),\n",
    "        \"Observable\": (data[\"BASE\"] == 1),\n",
    "        \"All\": pd.Series(True, index=data.index),\n",
    "        \"Old comparison\": (data[\"data_type\"].isin([\"test\", \"oot\", \"hoot\"])) & (pd.notnull(data[\"OLD_SCORE\"])) & (data[\"BASE\"] == 1),\n",
    "        \"Old comparison with rejected\": (data[\"data_type\"].isin([\"test\", \"oot\", \"hoot\"])) & (pd.notnull(data[\"OLD_SCORE\"])),\n",
    "        },\n",
    "    \"predictors\": ['Numerical_1', 'Numerical_2', 'Numerical_4', 'Categorical_1'],\n",
    "    \"covariates\": ['Numerical_1', 'Numerical_2', 'Numerical_4', 'Categorical_1', 'Numerical_7'],\n",
    "    \"model_path\": \"myModelLGBM.model\", #LGBM\n",
    "    \"use_weight\": True,\n",
    "}"
   ]
  },
  {
   "cell_type": "code",
   "execution_count": 10,
   "metadata": {
    "ExecuteTime": {
     "end_time": "2020-09-08T14:12:17.456196Z",
     "start_time": "2020-09-08T14:12:17.450212Z"
    }
   },
   "outputs": [],
   "source": [
    "o = orchestrator.Orchestrator(data=data, metadata=metadata, file=\"demo_orche\")\n",
    "o.load_structure(\"../scoring/documentation/boostingscorecard.structure\")"
   ]
  },
  {
   "cell_type": "code",
   "execution_count": 11,
   "metadata": {
    "ExecuteTime": {
     "end_time": "2020-09-08T14:12:17.476172Z",
     "start_time": "2020-09-08T14:12:17.458192Z"
    }
   },
   "outputs": [],
   "source": [
    "### GM ###\n",
    "\n",
    "metadata = {\n",
    "    \"scorecard_name\": \"POS existing\",\n",
    "    \"author_name\": \"Triss Merigold\",\n",
    "    \"country\": \"Indonesia\",\n",
    "    \"PSW_version\": \"0.8.0\",\n",
    "    \"area\": \"Underwriting\",\n",
    "    \"segment\": \"GM POS, Existing clients\",\n",
    "    \"columns\": {\n",
    "        \"target\": \"FPD30\",\n",
    "        \"base\": \"APPROVED\",\n",
    "        \"short_target\": \"FPD10\",\n",
    "        \"short_base\": \"APPROVED\",\n",
    "        \"time\": \"MONTH\",\n",
    "        \"row_id\": \"ID\",\n",
    "        \"score\": \"GM_SCORE\", \n",
    "        \"old_score\": \"OLD_GM_SCORE\",\n",
    "        \"data_type\": \"data_type\",\n",
    "        \"weight\": \"WEIGHT\",\n",
    "    },\n",
    "    \"samples\": {\n",
    "        \"Train\": (gm_data[\"data_type\"] == \"train\") & (gm_data[\"APPROVED\"] == 1),\n",
    "        \"Validation\": (gm_data[\"data_type\"] == \"valid\") & (gm_data[\"APPROVED\"] == 1),\n",
    "        \"Test\": (gm_data[\"data_type\"] == \"test\") & (gm_data[\"APPROVED\"] == 1),\n",
    "        \"Out of Time\": (gm_data[\"data_type\"] == \"oot\") & (gm_data[\"APPROVED\"] == 1),\n",
    "        \"Historical Out of Time\": (gm_data[\"data_type\"] == \"hoot\") & (gm_data[\"APPROVED\"] == 1),\n",
    "        \"Observable\": (gm_data[\"APPROVED\"] == 1),\n",
    "        \"All\": pd.Series(True, index=gm_data.index),\n",
    "        \"Old comparison\": (gm_data[\"data_type\"].isin([\"valid\"])) & (pd.notnull(gm_data[\"OLD_GM_SCORE\"])) & (gm_data[\"APPROVED\"] == 1),\n",
    "        \"Old comparison with rejected\": (gm_data[\"data_type\"].isin([\"valid\"])) & (pd.notnull(gm_data[\"OLD_GM_SCORE\"])),\n",
    "        },\n",
    "    \"predictors\": ['INTERNAL', 'TELCO_A', 'TELCO_B', 'BUREAU_X_WOE', 'BUREAU_Y', 'UTILITY_WOE', 'DEVICE',],\n",
    "    \"model_path\": \"myModelGM.model\",\n",
    "    \"use_weight\": True,\n",
    "}"
   ]
  },
  {
   "cell_type": "code",
   "execution_count": 12,
   "metadata": {
    "ExecuteTime": {
     "end_time": "2020-09-08T14:12:17.483155Z",
     "start_time": "2020-09-08T14:12:17.477139Z"
    }
   },
   "outputs": [],
   "source": [
    "o = orchestrator.Orchestrator(data=gm_data, metadata=metadata, file=\"demo_orche_gm\")\n",
    "o.load_structure(\"../scoring/documentation/gmscorecard.structure\")"
   ]
  },
  {
   "cell_type": "markdown",
   "metadata": {
    "ExecuteTime": {
     "end_time": "2020-07-22T15:00:27.732506Z",
     "start_time": "2020-07-22T15:00:27.729500Z"
    }
   },
   "source": [
    "# Disable output to notebook and export"
   ]
  },
  {
   "cell_type": "code",
   "execution_count": 13,
   "metadata": {
    "ExecuteTime": {
     "end_time": "2020-09-08T14:12:42.620225Z",
     "start_time": "2020-09-08T14:12:17.484119Z"
    },
    "scrolled": false
   },
   "outputs": [
    {
     "data": {
      "text/html": [
       "<div class=\"alert alert-block alert-danger\">    <b>WARNING</b>: <br />Your pandas module is version 1.1.0. PSW requires exactly 0.25.3</div>"
      ],
      "text/plain": [
       "<IPython.core.display.HTML object>"
      ]
     },
     "metadata": {},
     "output_type": "display_data"
    },
    {
     "name": "stderr",
     "output_type": "stream",
     "text": [
      "Indexing with multiple keys (implicitly converted to a tuple of keys) will be deprecated, use a list instead.\n",
      "Indexing with multiple keys (implicitly converted to a tuple of keys) will be deprecated, use a list instead.\n",
      "Indexing with multiple keys (implicitly converted to a tuple of keys) will be deprecated, use a list instead.\n",
      "Indexing with multiple keys (implicitly converted to a tuple of keys) will be deprecated, use a list instead.\n"
     ]
    }
   ],
   "source": [
    "o.export()"
   ]
  },
  {
   "cell_type": "code",
   "execution_count": null,
   "metadata": {},
   "outputs": [],
   "source": []
  },
  {
   "cell_type": "code",
   "execution_count": null,
   "metadata": {},
   "outputs": [],
   "source": []
  }
 ],
 "metadata": {
  "kernelspec": {
   "display_name": "Python 3",
   "language": "python",
   "name": "python3"
  },
  "language_info": {
   "codemirror_mode": {
    "name": "ipython",
    "version": 3
   },
   "file_extension": ".py",
   "mimetype": "text/x-python",
   "name": "python",
   "nbconvert_exporter": "python",
   "pygments_lexer": "ipython3",
   "version": "3.8.3"
  },
  "toc": {
   "base_numbering": 1,
   "nav_menu": {},
   "number_sections": true,
   "sideBar": true,
   "skip_h1_title": false,
   "title_cell": "Table of Contents",
   "title_sidebar": "Contents",
   "toc_cell": false,
   "toc_position": {
    "height": "calc(100% - 180px)",
    "left": "10px",
    "top": "150px",
    "width": "271px"
   },
   "toc_section_display": true,
   "toc_window_display": true
  },
  "varInspector": {
   "cols": {
    "lenName": 16,
    "lenType": 16,
    "lenVar": 40
   },
   "kernels_config": {
    "python": {
     "delete_cmd_postfix": "",
     "delete_cmd_prefix": "del ",
     "library": "var_list.py",
     "varRefreshCmd": "print(var_dic_list())"
    },
    "r": {
     "delete_cmd_postfix": ") ",
     "delete_cmd_prefix": "rm(",
     "library": "var_list.r",
     "varRefreshCmd": "cat(var_dic_list()) "
    }
   },
   "types_to_exclude": [
    "module",
    "function",
    "builtin_function_or_method",
    "instance",
    "_Feature"
   ],
   "window_display": false
  }
 },
 "nbformat": 4,
 "nbformat_minor": 4
}
