{
 "cells": [
  {
   "cell_type": "markdown",
   "metadata": {},
   "source": [
    "# Easing the Scorecard Data Download\n",
    "\n",
    "- _Author: [Jan Hynek](jan.hynek@homecredit.eu)_  \n",
    "- _TESTED ON:_\n",
    "   - India\n",
    "   - Indonesia\n",
    "\n",
    "# Vision:\n",
    " __Make the data download as seamless (and thus easy) as possible.__\n",
    "# Mission:\n",
    "- Connect Python with Oracle SQL database.\n",
    "- Create tables from the __vector__ master table in several Python commands. \n",
    "- Provide a fast way to download them.\n",
    "\n",
    "# Explanation:\n",
    "__DataCreator__ is the class that orchestrates the data creation (duuh).\n",
    "\n",
    "The old way to download the data was to use SQL scripts, which are more or less standardised.  You needed to change dates on several places, change the data families, change the dates from-to, for which you need to download.\n",
    "\n",
    "However, these scripts are run several times, with some small, slight changes.  \n",
    "And all these small changes had to be inputted by hand, and it was easy to miss all the spots, where all the changes should be. \n"
   ]
  },
  {
   "cell_type": "markdown",
   "metadata": {},
   "source": [
    "# Requirements\n",
    " - Python:\n",
    "     ```\n",
    "     pandas\n",
    "     sqlalchemy\n",
    "     xlrd\n",
    "     cx_Oracle\n",
    "     ```\n",
    " - Oracle SQL __64-bit__ Instant Client\n",
    "     - I know, I know. It is a pain.\n",
    "     - However most of our infrastructure is running Oracle.\n",
    "     - And this step needs to be solved only once.\n",
    "  \n",
    "     \n",
    "\n",
    "\n",
    "<!-- \n",
    "\n",
    "# Easter Egg:\n",
    "![](https://media1.tenor.com/images/6987362b140a83a2cba19942a48ddb20/tenor.gif?itemid=9258253)\n",
    "\n",
    "-->\n",
    "\n",
    "\n",
    "<details><summary>\n",
    "    \n",
    "## Install Oracle SQL __64-bit__ Instant Client:\n",
    "(click to expand)\n",
    "</summary>\n",
    "    \n",
    "  - [Download from here.](https://www.oracle.com/database/technologies/instant-client/winx64-64-downloads.html)\n",
    "  - TESTED: 11.2 and 19.3 works on WIN10. 19.3 does not need oracle registration.\n",
    "  - TESTED: ONLY 11.2 works on WIN7.\n",
    "  - __Installation:__\n",
    "    - Unzip folder on some convenient place, _which you will not change in near future_\n",
    "    - Open start, and look up 'Environment Variables' Click on Environment Variables.\n",
    "    - If possible, edit system variable 'Path' (requires admin account). \n",
    "    - If not, edit user variable 'Path'.\n",
    "    - __IMPORTANT__: DO NOT DELETE ANYTHING FROM THIS 'Path' VARIABLE. APPEND ONLY.\n",
    "    - Add to the 'Path' the folder where you unzipped the Oracle SQL Instant client. Separate it using semicolon.\n",
    "    - to test the installation: open commandline (start -> cmd)\n",
    "    - run `sqlplus`\n",
    "    - you should see something like this:\n",
    "    \n",
    "```\n",
    "SQL*Plus: Release 11.2.0.2.0 Production on Wed Apr 15 13:56:54 2020\n",
    "\n",
    "Copyright (c) 1982, 2010, Oracle.  All rights reserved.\n",
    "```\n",
    "</details>\n",
    "\n",
    "<details><summary>\n",
    "    \n",
    "# Quick run\n",
    "(click to expand)\n",
    "\n",
    "</summary>\n",
    "    \n",
    "- modify `config/db_config.cfg` with your info\n",
    "   - input your username, password, database name\n",
    "- modify `config/script_config.cfg\n",
    "   - input base table (which does have column `SKP_CREDIT_CASE`)\n",
    "   - input from/to dates\n",
    "- run following:\n",
    "    ```\n",
    "    dc = DataCreator(\n",
    "        db_config=r\"config\\db_config_template.cfg\",\n",
    "        script_config=r\"config\\script_config.cfg\",\n",
    "        log_level=10\n",
    "    )\n",
    "    dc.create_attributes()\n",
    "    ```\n",
    "  and get all attributes in `attributes.xlsx`.\n",
    "- but wait, there is more - just follow the code here.\n",
    "    \n",
    "</details>\n",
    "\n",
    "<details><summary>\n",
    "\n",
    "# __DataCreator__ structure & documentation\n",
    "(click to expand)\n",
    "\n",
    "</summary>\n",
    "\n",
    "## Templates\n",
    "It consists from `templates`. These templates are the original SQL scripts, with _placeholders_. You can find them in the folder of the same name.\n",
    "\n",
    "## Configs\n",
    "However, __IMPORTANT__ are configs.\n",
    "\n",
    "There are two mandatory configs.  \n",
    "One is optional, if you have [tnsnames.ora](http://oradmin.homecredit.net/tnsnames.ora) correctly specified in your PC.  \n",
    "All of them can be found in folder `configs`.\n",
    "\n",
    "___\n",
    "\n",
    "### __DATABASE CONFIG__: `config/db_config.cfg` <a class=\"anchor\" id=\"db-config\"></a>\n",
    "\n",
    "#### Example:\n",
    "```\n",
    "[db]\n",
    "user = MY_USERNAME[AP_UWI]\n",
    "pw = mY_sECRET_pASSWORD\n",
    "database = HDWIN.HOMECREDIT.IN\n",
    "schema = ap_uwi\n",
    "```\n",
    "\n",
    "#### Individual config elements:\n",
    "- `user`\n",
    "    - the user name used for logging in the database.\n",
    "    - can have the prespecified schema as well.\n",
    "- `pw`\n",
    "    - your database password.\n",
    "- `database`\n",
    "    - if you have `tnsnames.ora` correctly specified:\n",
    "        - just input the name of the database.\n",
    "    - if you don't:\n",
    "        - either install `tnsnames.ora` from here: [tnsnames.ora](http://oradmin.homecredit.net/tnsnames.ora)\n",
    "            - and ask EmbedIT for help\n",
    "        - or [add a new connection string](#new-connection-string-addition).\n",
    "\n",
    " - `schema`\n",
    "     - schema where should all final tables be stored. \n",
    "     - usually `ap_risk`, `ap_uwi`\n",
    "\n",
    "___\n",
    "\n",
    "\n",
    "### __CONNECTION STRINGS__: `config/connection_strings.py`\n",
    " - There should be no need to modify the connection strings, as they are downloaded automatically, from internal page.\n",
    " - optional with correctly specified `tnsnames.ora`\n",
    " - see README.md for further details\n",
    "___\n",
    "\n",
    "### __SCRIPT CONFIG__: `config/script_config.cfg` <a class=\"anchor\" id=\"script-config\"></a>\n",
    " \n",
    "#### Example:\n",
    "     \n",
    "```\n",
    "[predefined]\n",
    "base = ap_uwi.jh_super_new_scorecard_base\n",
    "attribute_selection_date_decision_start = 2020-01-15\n",
    "attribute_selection_date_decision_end = 2020-01-30\n",
    "prefix = qx_\n",
    "\n",
    "[dataset]\n",
    "date_decision_start = 2020-01-15\n",
    "date_decision_end = 2020-01-30\n",
    "\n",
    "[definitions]\n",
    "families = {'static': 'vector_depth == 0',\n",
    "    'prevAppl': '(path_0 == \"applicantData\") & path_1 == \"previousApplicationDetails[]\"',\n",
    "    'credit': 'path_0 == \"credit\"',\n",
    "    'other': 'family.isna()'}\n",
    "name_replacements = {\"\\[]\": \"\",\n",
    "    \"\\.\": \"_\",\n",
    "    \"address\": \"addr\",\n",
    "    \"utility\": \"util\",\n",
    "    \"employment\": \"empl\",\n",
    "    \"registered\": \"regist\",\n",
    "    \"payment\": \"pmt\",\n",
    "    }\n",
    "```\n",
    "#### Individual config elements:\n",
    "- __predefined__\n",
    "    - `base`\n",
    "        - name of the base table, which defines for which credit cases will data be downloaded.\n",
    "        - must contain following columns\n",
    "            - `SKP_CREDIT_CASE`\n",
    "            - `DATE_DECISION`\n",
    "    - `attribute_selection_date_decision_start`\n",
    "        - date limiting the dataset for the attribute list - start\n",
    "    - `attribute_selection_date_decision_end`\n",
    "        - date limiting the dataset for the attribute list - end\n",
    "        - NOTE\n",
    "            - this is to define such attributes which are currently used in the vector.\n",
    "            - one month of data is usually enough\n",
    "    - `prefix`\n",
    "        - prefix to be used in the names of individual SQL tables.\n",
    "        - should be initials.\n",
    "- __dataset__\n",
    "    - `date_decision_start`\n",
    "    - `date_decision_end`\n",
    "        - limits of the data. from - to\n",
    "- __definitions__\n",
    "    - `families`\n",
    "        - specification of individual families\n",
    "        - Python dictionary\n",
    "        - using [pandas `query` method](https://pandas.pydata.org/pandas-docs/stable/reference/api/pandas.DataFrame.query.html)\n",
    "        - these queries are used upon [import_table](#import-table)\n",
    "    - `name_replacements`\n",
    "        - replacements of the names which are too long for the database\n",
    "        - Python dictionary\n",
    "        - `<part_of_name_that_is_long>` : `<replacement>`\n",
    "        - as this dictionary is parsed as a text, some characters need escaping.\n",
    "            - i.e. \n",
    "                - `[` must be written as `\\[`\n",
    "                - `.` -> `\\.`\n",
    "                \n",
    "</details>"
   ]
  },
  {
   "cell_type": "markdown",
   "metadata": {},
   "source": [
    "# Running the script\n"
   ]
  },
  {
   "cell_type": "code",
   "execution_count": null,
   "metadata": {},
   "outputs": [],
   "source": [
    "import os\n",
    "import sys\n",
    "sys.path.insert(0, \"..\")\n",
    "from data_download.data_creator import DataCreator"
   ]
  },
  {
   "cell_type": "markdown",
   "metadata": {},
   "source": [
    "In folder `config`, we have two configuration files created.  \n",
    "These need to be modified to access the correct database, and where we can specify correct handling of individual attributes.\n",
    "\n",
    "Let's see, what config files we can use:"
   ]
  },
  {
   "cell_type": "code",
   "execution_count": null,
   "metadata": {},
   "outputs": [],
   "source": [
    "os.listdir(\"./config_data_creator\")"
   ]
  },
  {
   "cell_type": "markdown",
   "metadata": {},
   "source": [
    "## Class initialisation (OFFLINE)\n",
    "\n",
    "Arguments:\n",
    "- `db_config` - path to [db_config](#db-config)\n",
    "- `script_config` - path to [script_config](#script-config)\n",
    "- logger arguments\n",
    "     - log_name {str} -- name of the logging object \n",
    "     - log_filename {str} -- file address where the log should be saved \n",
    "     - log_level {int} -- logger level which should be stored (default: logging.DEBUG)\n",
    "     - log_format {str} -- formatting of the logging entries \n",
    "     - handlers {str} -- 'both', 'file', 'stream' - which handlers should be added\n",
    "     \n",
    "We initialize the class with configuration files."
   ]
  },
  {
   "cell_type": "code",
   "execution_count": null,
   "metadata": {},
   "outputs": [],
   "source": [
    "dc = DataCreator(\n",
    "    db_config=\"./config_data_creator/sc_data_db_config_template.cfg\",\n",
    "    script_config=\"./config_data_creator/sc_data_script_config_template.cfg\",\n",
    "    log_level=10,\n",
    "    download_tnsnames_ora=True\n",
    ")"
   ]
  },
  {
   "cell_type": "markdown",
   "metadata": {},
   "source": [
    "## Attribute loading (OFFLINE)\n",
    "__You are now advised to modify the attributes xlsx - column IMPORT_THIS_ATTRIBUTE__\n",
    "\n",
    "This `attributes.xlsx` have following columns:  \n",
    "```\n",
    "skp_scoring_vector_attribute\n",
    "text_vector_attr_full_path\n",
    "flag_array\n",
    "name_vector_attr_datatype\n",
    "cnt_cred_with_val\n",
    "cnt_cred_all\n",
    "max_dist_vals\n",
    "cnt_bod1\n",
    "cnt_bod2\n",
    "scoring_phase\n",
    "IMPORT_THIS_ATTRIBUTE\n",
    "```\n",
    "\n",
    "Afterwards, you can just run the next attribute. **No need to specify address - it is inside the class**\n",
    "\n",
    "Arguments:\n",
    "- excel - address of the excel file (if saved ase xlsx, on some other place than default)\n",
    "- csv - adress of the csv file (if saved as the csv, on some other place than default)"
   ]
  },
  {
   "cell_type": "code",
   "execution_count": null,
   "metadata": {},
   "outputs": [],
   "source": [
    "dc.create_attributes(attributes_path='attributes.xlsx')"
   ]
  },
  {
   "cell_type": "code",
   "execution_count": null,
   "metadata": {
    "ExecuteTime": {
     "end_time": "2020-06-15T15:25:11.388473Z",
     "start_time": "2020-06-15T15:25:10.615277Z"
    }
   },
   "outputs": [],
   "source": [
    "attributes = dc.load_attributes()\n",
    "attributes"
   ]
  },
  {
   "cell_type": "markdown",
   "metadata": {},
   "source": [
    "## Creation of import table\n",
    "\n",
    "We modify the `attributes` table to create `import_table`.  \n",
    "We create the table and we get whether column names are too long for further work.\n",
    "\n",
    "\n",
    "If yes: modify the `\"../config/sc_data_script_config_template.cfg\"`,  \n",
    "part `name_replacements` to get correct column names."
   ]
  },
  {
   "cell_type": "code",
   "execution_count": null,
   "metadata": {
    "ExecuteTime": {
     "end_time": "2020-06-15T15:25:14.622109Z",
     "start_time": "2020-06-15T15:25:14.443787Z"
    }
   },
   "outputs": [],
   "source": [
    "import_table = dc.get_import_table()\n",
    "import_table"
   ]
  },
  {
   "cell_type": "markdown",
   "metadata": {},
   "source": [
    "We need to send several columns from the import table to the database.  \n",
    "Luckily, we have a command prepared for that."
   ]
  },
  {
   "cell_type": "code",
   "execution_count": null,
   "metadata": {
    "ExecuteTime": {
     "end_time": "2020-06-15T14:19:50.334003Z",
     "start_time": "2020-06-15T14:19:43.717Z"
    }
   },
   "outputs": [],
   "source": [
    "dc.send_import_table_to_db()"
   ]
  },
  {
   "cell_type": "markdown",
   "metadata": {},
   "source": [
    "## Temp table creation\n",
    "\n",
    "We are ready to go.  \n",
    "First, we create the temp table with vector subset"
   ]
  },
  {
   "cell_type": "code",
   "execution_count": null,
   "metadata": {
    "ExecuteTime": {
     "end_time": "2020-06-15T15:23:42.836116Z",
     "start_time": "2020-06-15T14:54:20.543401Z"
    },
    "scrolled": true
   },
   "outputs": [],
   "source": [
    "dc.create_temp_table_db()"
   ]
  },
  {
   "cell_type": "markdown",
   "metadata": {},
   "source": [
    "## Creation of tables needed for scorecard development\n",
    "Now, we create all individual tables specified in `\"../config/sc_data_script_config_template.cfg\"`"
   ]
  },
  {
   "cell_type": "code",
   "execution_count": null,
   "metadata": {
    "ExecuteTime": {
     "end_time": "2020-06-15T15:26:23.080457Z",
     "start_time": "2020-06-15T15:25:21.864309Z"
    },
    "scrolled": false
   },
   "outputs": [],
   "source": [
    "dc.orchestrate_data_table_creation()"
   ]
  },
  {
   "cell_type": "markdown",
   "metadata": {},
   "source": [
    "... Tadaaa.\n",
    "\n",
    "Now you can download these tables from the database, just as before, or you can download them here"
   ]
  },
  {
   "cell_type": "markdown",
   "metadata": {},
   "source": [
    "## Data Download"
   ]
  },
  {
   "cell_type": "code",
   "execution_count": null,
   "metadata": {
    "ExecuteTime": {
     "start_time": "2020-06-15T15:26:50.025Z"
    }
   },
   "outputs": [],
   "source": [
    "final_data = dc.orchestrate_data_download(\n",
    "    tables=None,\n",
    "    limit=None,\n",
    "    chunksize=1000,\n",
    "    save_to=\"C:/Data/\"\n",
    ")\n",
    "\n",
    "for name, table in final_data.items():\n",
    "    print(name)\n",
    "    print(table.head())"
   ]
  }
 ],
 "metadata": {
  "kernelspec": {
   "display_name": "Python 3",
   "language": "python",
   "name": "python3"
  },
  "language_info": {
   "codemirror_mode": {
    "name": "ipython",
    "version": 3
   },
   "file_extension": ".py",
   "mimetype": "text/x-python",
   "name": "python",
   "nbconvert_exporter": "python",
   "pygments_lexer": "ipython3",
   "version": "3.6.7"
  },
  "toc": {
   "base_numbering": 1,
   "nav_menu": {},
   "number_sections": true,
   "sideBar": true,
   "skip_h1_title": false,
   "title_cell": "Table of Contents",
   "title_sidebar": "Contents",
   "toc_cell": false,
   "toc_position": {},
   "toc_section_display": true,
   "toc_window_display": false
  }
 },
 "nbformat": 4,
 "nbformat_minor": 2
}
